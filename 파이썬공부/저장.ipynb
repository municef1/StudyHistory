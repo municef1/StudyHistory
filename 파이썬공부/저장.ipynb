{
 "cells": [
  {
   "cell_type": "code",
   "execution_count": 3,
   "metadata": {},
   "outputs": [],
   "source": [
    "import threading"
   ]
  },
  {
   "cell_type": "code",
   "execution_count": 5,
   "metadata": {},
   "outputs": [
    {
     "name": "stdout",
     "output_type": "stream",
     "text": [
      "1\n"
     ]
    },
    {
     "ename": "TypeError",
     "evalue": "Timer.__init__() missing 2 required positional arguments: 'interval' and 'function'",
     "output_type": "error",
     "traceback": [
      "\u001b[1;31m---------------------------------------------------------------------------\u001b[0m",
      "\u001b[1;31mTypeError\u001b[0m                                 Traceback (most recent call last)",
      "\u001b[1;32mc:\\Users\\esee\\Desktop\\study\\이어드림\\파이썬공부\\저장.ipynb Cell 2'\u001b[0m in \u001b[0;36m<module>\u001b[1;34m\u001b[0m\n\u001b[0;32m     <a href='vscode-notebook-cell:/c%3A/Users/esee/Desktop/study/%EC%9D%B4%EC%96%B4%EB%93%9C%EB%A6%BC/%ED%8C%8C%EC%9D%B4%EC%8D%AC%EA%B3%B5%EB%B6%80/%EC%A0%80%EC%9E%A5.ipynb#ch0000000?line=17'>18</a>\u001b[0m 변수\u001b[39m.\u001b[39m\u001b[39m__init__\u001b[39m()\n\u001b[0;32m     <a href='vscode-notebook-cell:/c%3A/Users/esee/Desktop/study/%EC%9D%B4%EC%96%B4%EB%93%9C%EB%A6%BC/%ED%8C%8C%EC%9D%B4%EC%8D%AC%EA%B3%B5%EB%B6%80/%EC%A0%80%EC%9E%A5.ipynb#ch0000000?line=18'>19</a>\u001b[0m 변수\u001b[39m.\u001b[39m노화() \u001b[39m## 나이먹기 줄을 시작하면 재시작할때까지 나이는 계속 먹는다\u001b[39;00m\n\u001b[1;32m---> <a href='vscode-notebook-cell:/c%3A/Users/esee/Desktop/study/%EC%9D%B4%EC%96%B4%EB%93%9C%EB%A6%BC/%ED%8C%8C%EC%9D%B4%EC%8D%AC%EA%B3%B5%EB%B6%80/%EC%A0%80%EC%9E%A5.ipynb#ch0000000?line=19'>20</a>\u001b[0m 변수\u001b[39m.\u001b[39;49m안늙음()\n",
      "\u001b[1;32mc:\\Users\\esee\\Desktop\\study\\이어드림\\파이썬공부\\저장.ipynb Cell 2'\u001b[0m in \u001b[0;36m속성.안늙음\u001b[1;34m(self)\u001b[0m\n\u001b[0;32m     <a href='vscode-notebook-cell:/c%3A/Users/esee/Desktop/study/%EC%9D%B4%EC%96%B4%EB%93%9C%EB%A6%BC/%ED%8C%8C%EC%9D%B4%EC%8D%AC%EA%B3%B5%EB%B6%80/%EC%A0%80%EC%9E%A5.ipynb#ch0000000?line=13'>14</a>\u001b[0m \u001b[39mdef\u001b[39;00m \u001b[39m안늙음\u001b[39m(\u001b[39mself\u001b[39m):\n\u001b[1;32m---> <a href='vscode-notebook-cell:/c%3A/Users/esee/Desktop/study/%EC%9D%B4%EC%96%B4%EB%93%9C%EB%A6%BC/%ED%8C%8C%EC%9D%B4%EC%8D%AC%EA%B3%B5%EB%B6%80/%EC%A0%80%EC%9E%A5.ipynb#ch0000000?line=14'>15</a>\u001b[0m     threading\u001b[39m.\u001b[39;49mTimer()\u001b[39m.\u001b[39mcancel(\u001b[39mself\u001b[39m)\n",
      "\u001b[1;31mTypeError\u001b[0m: Timer.__init__() missing 2 required positional arguments: 'interval' and 'function'"
     ]
    },
    {
     "name": "stdout",
     "output_type": "stream",
     "text": [
      "2\n",
      "3\n",
      "4\n",
      "5\n",
      "6\n",
      "7\n",
      "8\n",
      "9\n",
      "10\n"
     ]
    }
   ],
   "source": [
    "## 1초마다 나이 1먹기!\n",
    "\n",
    "class 속성():\n",
    "    def __init__(self):\n",
    "        self.나이 = 0\n",
    "\n",
    "    def 노화(self): \n",
    "        self.나이 = self.나이 + 1\n",
    "        \n",
    "        # 1초마다 이 위에 있는 함수들(노화 함수)을 반복 수행\n",
    "        threading.Timer(2, self.노화).start()\n",
    "        print(self.나이)\n",
    "\n",
    "    def 안늙음(self):\n",
    "        threading.Timer().cancel(self)\n",
    "\n",
    "변수 = 속성()\n",
    "변수.__init__()\n",
    "변수.노화() ## 나이먹기 줄을 시작하면 재시작할때까지 나이는 계속 먹는다\n",
    "변수.안늙음()"
   ]
  },
  {
   "cell_type": "code",
   "execution_count": 1,
   "metadata": {},
   "outputs": [
    {
     "ename": "NameError",
     "evalue": "name 'threading' is not defined",
     "output_type": "error",
     "traceback": [
      "\u001b[1;31m---------------------------------------------------------------------------\u001b[0m",
      "\u001b[1;31mNameError\u001b[0m                                 Traceback (most recent call last)",
      "\u001b[1;32mc:\\Users\\esee\\Desktop\\study\\이어드림\\파이썬공부\\저장.ipynb Cell 3'\u001b[0m in \u001b[0;36m<module>\u001b[1;34m\u001b[0m\n\u001b[1;32m----> <a href='vscode-notebook-cell:/c%3A/Users/esee/Desktop/study/%EC%9D%B4%EC%96%B4%EB%93%9C%EB%A6%BC/%ED%8C%8C%EC%9D%B4%EC%8D%AC%EA%B3%B5%EB%B6%80/%EC%A0%80%EC%9E%A5.ipynb#ch0000001?line=0'>1</a>\u001b[0m threading\u001b[39m.\u001b[39mTimer\u001b[39m.\u001b[39mcancel(\u001b[39mself\u001b[39m)\n",
      "\u001b[1;31mNameError\u001b[0m: name 'threading' is not defined"
     ]
    }
   ],
   "source": [
    "threading.Timer.cancel(self)"
   ]
  },
  {
   "cell_type": "code",
   "execution_count": null,
   "metadata": {},
   "outputs": [],
   "source": []
  }
 ],
 "metadata": {
  "interpreter": {
   "hash": "dd2804289114bac196bbbccb1f2e22a889e4b2a68389578eea953a8416f9cf52"
  },
  "kernelspec": {
   "display_name": "Python 3.10.1 64-bit",
   "language": "python",
   "name": "python3"
  },
  "language_info": {
   "codemirror_mode": {
    "name": "ipython",
    "version": 3
   },
   "file_extension": ".py",
   "mimetype": "text/x-python",
   "name": "python",
   "nbconvert_exporter": "python",
   "pygments_lexer": "ipython3",
   "version": "3.10.1"
  },
  "orig_nbformat": 4
 },
 "nbformat": 4,
 "nbformat_minor": 2
}
