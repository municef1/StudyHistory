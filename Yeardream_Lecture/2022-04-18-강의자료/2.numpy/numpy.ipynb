{
 "cells": [
  {
   "cell_type": "markdown",
   "metadata": {},
   "source": [
    "# Numpy - 2"
   ]
  },
  {
   "cell_type": "markdown",
   "metadata": {},
   "source": [
    "numpy는 수치 연산과 관련된 모듈로, 숫자형 데이터를 보다 세분화된 형태로 저장합니다.\n",
    "- 크게 정수/실수/복소수/Boolean형으로 구분합니다.\n",
    "- 데이터형 뒤에는 비트수를 표기합니다. \n",
    "\n",
    "https://numpy.org/devdocs/user/basics.types.html"
   ]
  },
  {
   "cell_type": "markdown",
   "metadata": {},
   "source": [
    "인스턴스 변수 `dtype`에는 데이터 타입이 저장돼 있습니다. `int32`는 정수 (`integer`) 값을 저장할 수 있는 32 bits 자료형이라는 뜻입니다. 숫자가 커질 수록 더욱 큰 수를 저장할 수 있는 반면 더 많은 저장 공간을 필요로 합니다. "
   ]
  },
  {
   "cell_type": "code",
   "execution_count": 102,
   "metadata": {},
   "outputs": [
    {
     "name": "stdout",
     "output_type": "stream",
     "text": [
      "int32\n"
     ]
    }
   ],
   "source": [
    "import numpy as np\n",
    "a = np.arange(4)\n",
    "print(a.dtype)"
   ]
  },
  {
   "cell_type": "markdown",
   "metadata": {},
   "source": [
    "데이터 타입을 변경할 때는 `astype` 메서드를 사용합니다. `int8`은 `int32` 보다 적은 숫자를 저장할 수 있겠죠?"
   ]
  },
  {
   "cell_type": "code",
   "execution_count": 122,
   "metadata": {},
   "outputs": [
    {
     "name": "stdout",
     "output_type": "stream",
     "text": [
      "int8\n",
      "[ 127 -128    2    3]\n"
     ]
    }
   ],
   "source": [
    "a = a.astype('int8')\n",
    "print(a.dtype)\n",
    "\n",
    "a[0] = 127\n",
    "a[1] = 128\n",
    "print(a)"
   ]
  },
  {
   "cell_type": "markdown",
   "metadata": {},
   "source": [
    "`uint8`은 부호없는 정수를 저장하며 `int8`보다 조금 더(2배) 큰 숫자를 저장할 수 있습니다. "
   ]
  },
  {
   "cell_type": "code",
   "execution_count": 121,
   "metadata": {},
   "outputs": [
    {
     "name": "stdout",
     "output_type": "stream",
     "text": [
      "uint8\n",
      "[255   0   2   3]\n"
     ]
    }
   ],
   "source": [
    "a = a.astype('uint8')\n",
    "print(a.dtype)\n",
    "\n",
    "a[0] = 255\n",
    "a[1] = 256\n",
    "print(a)"
   ]
  },
  {
   "cell_type": "markdown",
   "metadata": {},
   "source": [
    "## 넘파이의 연산\n",
    "넘파이의 사칙연산은 전체 데이터에 적용되는데, 이를 브로드 캐스팅 (broadcasting)이라고 합니다. \n",
    "### 사칙연산\n",
    "곱셈 연산이 `ndarray`에 저장된 모든 데이터에 적용됐음을 알 수 있습니다. "
   ]
  },
  {
   "cell_type": "code",
   "execution_count": 4,
   "metadata": {},
   "outputs": [
    {
     "name": "stdout",
     "output_type": "stream",
     "text": [
      "[0 1 2 3]\n",
      "[0 3 6 9]\n"
     ]
    }
   ],
   "source": [
    "import numpy as np\n",
    "\n",
    "a = np.arange(4)\n",
    "print(a)\n",
    "print( a * 3 )"
   ]
  },
  {
   "cell_type": "markdown",
   "metadata": {},
   "source": [
    "곱셈 뿐만 아니라 덧셈/뺄셈/나눗셈에 대해서도 모두 동작합니다."
   ]
  },
  {
   "cell_type": "code",
   "execution_count": 36,
   "metadata": {},
   "outputs": [
    {
     "name": "stdout",
     "output_type": "stream",
     "text": [
      "[10 11 12 13]\n",
      "[-10  -9  -8  -7]\n",
      "[0.         0.33333333 0.66666667 1.        ]\n"
     ]
    }
   ],
   "source": [
    "print( a + 10 )\n",
    "print( a - 10 )\n",
    "print( a / 3 )"
   ]
  },
  {
   "cell_type": "markdown",
   "metadata": {},
   "source": [
    "ndarray와의 연산"
   ]
  },
  {
   "cell_type": "code",
   "execution_count": 38,
   "metadata": {},
   "outputs": [
    {
     "name": "stdout",
     "output_type": "stream",
     "text": [
      "[2 4 6 8]\n"
     ]
    }
   ],
   "source": [
    "a = np.arange(4)\n",
    "b = np.arange(2, 6)\n",
    "print(a+b)"
   ]
  },
  {
   "cell_type": "markdown",
   "metadata": {},
   "source": [
    "Q. 중간고사 성적의 분산을 출력하라\n",
    "- v𝑎𝑟(𝑋)=𝐸((𝑋−𝜇)2)"
   ]
  },
  {
   "cell_type": "markdown",
   "metadata": {},
   "source": [
    "<img src=\"https://i.ibb.co/SfVzf0Z/image.png\" width=\"250\" style=\"float:left\" />"
   ]
  },
  {
   "cell_type": "code",
   "execution_count": 33,
   "metadata": {},
   "outputs": [],
   "source": [
    "점수 = np.array([            ])"
   ]
  },
  {
   "cell_type": "markdown",
   "metadata": {},
   "source": [
    "Q. 중간/기말고사 성적의 분산을 출력하라"
   ]
  },
  {
   "cell_type": "code",
   "execution_count": 34,
   "metadata": {},
   "outputs": [],
   "source": [
    "점수 = np.array([            ])"
   ]
  },
  {
   "cell_type": "code",
   "execution_count": null,
   "metadata": {},
   "outputs": [],
   "source": []
  },
  {
   "cell_type": "markdown",
   "metadata": {},
   "source": [
    "### 비교연산\n",
    "넘파이는 크다/작다/같다/다르다 등의 비교 연산을 지원합니다. 연산의 결과는 Boolean형 데이터 타입이며, 사칙연산과 같이 모든 데이터에 비교 연산이 적용됩니다. 연산의 결괏값은 `ndarray` 입니다. "
   ]
  },
  {
   "cell_type": "code",
   "execution_count": 29,
   "metadata": {},
   "outputs": [
    {
     "name": "stdout",
     "output_type": "stream",
     "text": [
      "[False False False False  True]\n"
     ]
    }
   ],
   "source": [
    "a = np.arange(5)\n",
    "결과 = a > 3 \n",
    "print(결과)"
   ]
  },
  {
   "cell_type": "markdown",
   "metadata": {},
   "source": [
    "<img src=\"https://i.ibb.co/HTpkqfW/1.png\" width=\"600\" style=\"float:left\" />"
   ]
  },
  {
   "cell_type": "markdown",
   "metadata": {},
   "source": [
    "불린형 데이터 타입이 저장된 `ndarray`를 사용해서 값을 filtering할 수 있습니다. 조건을 충족하는 4가 출력됩니다. "
   ]
  },
  {
   "cell_type": "code",
   "execution_count": 30,
   "metadata": {},
   "outputs": [
    {
     "name": "stdout",
     "output_type": "stream",
     "text": [
      "[4]\n"
     ]
    }
   ],
   "source": [
    "a = np.arange(5)\n",
    "조건 = a > 3 \n",
    "print(a[조건])"
   ]
  },
  {
   "cell_type": "markdown",
   "metadata": {},
   "source": [
    "위 코드는 간단하기 때문에 조건 비교와 인덱싱을 한 번에 표현할 수 있습니다. "
   ]
  },
  {
   "cell_type": "code",
   "execution_count": null,
   "metadata": {},
   "outputs": [],
   "source": []
  },
  {
   "cell_type": "markdown",
   "metadata": {},
   "source": [
    "`np.where` 구문을 사용하면 데이터를 쉽게 변경할 수 있습니다. "
   ]
  },
  {
   "cell_type": "code",
   "execution_count": 36,
   "metadata": {},
   "outputs": [
    {
     "data": {
      "text/plain": [
       "array([ 0,  1, 44,  3, 44])"
      ]
     },
     "execution_count": 36,
     "metadata": {},
     "output_type": "execute_result"
    }
   ],
   "source": []
  },
  {
   "cell_type": "markdown",
   "metadata": {},
   "source": [
    "비교할 조건이 다수라면 `&` 기호로 조건을 구분하며, 각각의 조건 역시 괄호 `( )`로 구분해저야 합니다. "
   ]
  },
  {
   "cell_type": "code",
   "execution_count": null,
   "metadata": {},
   "outputs": [],
   "source": []
  },
  {
   "cell_type": "markdown",
   "metadata": {},
   "source": [
    "Q. LG전자의 종가 데이터가 ndarray 형태로 저장되어 있다. LG 전자의 주가가 85000원 보다 작을 때의 가격을 출력하라."
   ]
  },
  {
   "cell_type": "code",
   "execution_count": 43,
   "metadata": {},
   "outputs": [],
   "source": [
    "lge = np.array([93000, 82400, 99100, 81000, 72300])"
   ]
  },
  {
   "cell_type": "code",
   "execution_count": null,
   "metadata": {},
   "outputs": [],
   "source": []
  },
  {
   "cell_type": "markdown",
   "metadata": {},
   "source": [
    "Q. LG 전자의 주가가 85000원 이하로 떨어진 횟수는?"
   ]
  },
  {
   "cell_type": "code",
   "execution_count": null,
   "metadata": {},
   "outputs": [],
   "source": []
  },
  {
   "cell_type": "markdown",
   "metadata": {},
   "source": [
    "Q. 종가가 80000원 이상  90000원 미만인 값을 출력하라"
   ]
  },
  {
   "cell_type": "code",
   "execution_count": null,
   "metadata": {},
   "outputs": [],
   "source": []
  }
 ],
 "metadata": {
  "kernelspec": {
   "display_name": "Python 3",
   "language": "python",
   "name": "python3"
  },
  "language_info": {
   "codemirror_mode": {
    "name": "ipython",
    "version": 3
   },
   "file_extension": ".py",
   "mimetype": "text/x-python",
   "name": "python",
   "nbconvert_exporter": "python",
   "pygments_lexer": "ipython3",
   "version": "3.8.8"
  },
  "toc": {
   "base_numbering": 1,
   "nav_menu": {},
   "number_sections": true,
   "sideBar": true,
   "skip_h1_title": false,
   "title_cell": "Table of Contents",
   "title_sidebar": "Contents",
   "toc_cell": false,
   "toc_position": {},
   "toc_section_display": true,
   "toc_window_display": false
  }
 },
 "nbformat": 4,
 "nbformat_minor": 4
}
