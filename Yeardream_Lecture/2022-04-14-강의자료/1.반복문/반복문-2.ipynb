{
 "cells": [
  {
   "cell_type": "markdown",
   "metadata": {},
   "source": [
    "## 반복문 - 응용형\n",
    "반복문의 자료구조 자리에 인덱스를 넣어주고 인덱싱으로 원하는 값을 출력할 수 있습니다. "
   ]
  },
  {
   "cell_type": "markdown",
   "metadata": {},
   "source": [
    "<img src=\"https://i.ibb.co/xYbWFpK/for-1.png\" width=\"450\" style=\"float:left\" />"
   ]
  },
  {
   "cell_type": "markdown",
   "metadata": {},
   "source": [
    "`i`는 변수이기 때문에 이름을 변경해도 같은 결과를 출력합니다. 가독성에 좋은 변수를 사용하는게 좋겠죠?"
   ]
  },
  {
   "cell_type": "code",
   "execution_count": 6,
   "metadata": {},
   "outputs": [
    {
     "name": "stdout",
     "output_type": "stream",
     "text": [
      "Naver\n",
      "Samsung\n",
      "SK Hynix\n"
     ]
    }
   ],
   "source": [
    "stocks = [\"Naver\", \"Samsung\", \"SK Hynix\"]\n",
    "for 인덱스 in [0, 1, 2] :\n",
    "    print(stocks[인덱스])"
   ]
  },
  {
   "cell_type": "markdown",
   "metadata": {},
   "source": [
    "인덱스를 직접 입력해도 좋지만 range 함수를 사용하면 많은 숫자의 인덱스도 쉽게 만들 수 있습니다. "
   ]
  },
  {
   "cell_type": "code",
   "execution_count": 10,
   "metadata": {},
   "outputs": [
    {
     "name": "stdout",
     "output_type": "stream",
     "text": [
      "0\n",
      "1\n",
      "2\n"
     ]
    }
   ],
   "source": []
  },
  {
   "cell_type": "code",
   "execution_count": 11,
   "metadata": {},
   "outputs": [
    {
     "name": "stdout",
     "output_type": "stream",
     "text": [
      "Naver\n",
      "Samsung\n",
      "SK Hynix\n"
     ]
    }
   ],
   "source": []
  },
  {
   "cell_type": "markdown",
   "metadata": {},
   "source": [
    "슬라이싱과 유사하게 시작 인덱스, 증가폭을 지정해줄 수 있습니다. 다음은 1부터 2까지의 인덱스를 출력합니다"
   ]
  },
  {
   "cell_type": "code",
   "execution_count": 12,
   "metadata": {},
   "outputs": [
    {
     "name": "stdout",
     "output_type": "stream",
     "text": [
      "1\n",
      "2\n"
     ]
    }
   ],
   "source": []
  },
  {
   "cell_type": "markdown",
   "metadata": {},
   "source": [
    "세 개의 파라미터는 증감폭을 지정합니다. "
   ]
  },
  {
   "cell_type": "code",
   "execution_count": 13,
   "metadata": {},
   "outputs": [
    {
     "name": "stdout",
     "output_type": "stream",
     "text": [
      "1\n",
      "3\n",
      "5\n",
      "7\n",
      "9\n"
     ]
    }
   ],
   "source": []
  },
  {
   "cell_type": "markdown",
   "metadata": {},
   "source": [
    "len 함수까지 사용하면 코드의 재사용성을 높일 수 있습니다.  \n",
    "데이터가 추가되더라도 반복문의 수정없이 모든 값이 출력됩니다. "
   ]
  },
  {
   "cell_type": "code",
   "execution_count": 16,
   "metadata": {},
   "outputs": [
    {
     "name": "stdout",
     "output_type": "stream",
     "text": [
      "Naver\n",
      "Samsung\n",
      "SK Hynix\n"
     ]
    }
   ],
   "source": [
    "stocks = [\"Naver\", \"Samsung\", \"SK Hynix\"]\n",
    "\n",
    "\n"
   ]
  },
  {
   "cell_type": "markdown",
   "metadata": {},
   "source": [
    "빈번하게 사용되는 형태이므로 `for 인덱스 in range(len(자료구조)):` 코드를 외우는 것도 좋습니다. 인덱스를 사용하는 for문은 어려워 보이지만 자료구조에 저장된 여러 데이터를 한 번에 가져올 수 있어서 사용합니다. 다음 예제를 살펴 봅시다."
   ]
  },
  {
   "cell_type": "code",
   "execution_count": 17,
   "metadata": {},
   "outputs": [
    {
     "name": "stdout",
     "output_type": "stream",
     "text": [
      "가나\n",
      "나다\n",
      "다라\n"
     ]
    }
   ],
   "source": [
    "리스트 = [\"가\", \"나\", \"다\", \"라\"]\n",
    "\n"
   ]
  },
  {
   "cell_type": "markdown",
   "metadata": {},
   "source": [
    "인덱스를 조정해서 한 번에 두 개의 데이터를 출력합니다."
   ]
  },
  {
   "cell_type": "markdown",
   "metadata": {},
   "source": [
    "Q. `For 변수 in range` 문법을 사용해서 아래와 같이 화면에 출력하라.  \n",
    "```\n",
    "0 1000\n",
    "1 400\n",
    "2 2000\n",
    "3 2400\n",
    "```"
   ]
  },
  {
   "cell_type": "code",
   "execution_count": 18,
   "metadata": {},
   "outputs": [],
   "source": [
    "price = [1000, 400, 2000, 2400]\n",
    "\n",
    "\n"
   ]
  },
  {
   "cell_type": "markdown",
   "metadata": {},
   "source": [
    "Q. `For 변수 in range` 문법을 사용해서 아래와 같이 화면에 출력하라.  \n",
    "```\n",
    "10 1000\n",
    "11 400\n",
    "12 2000\n",
    "13 2400\n",
    "```"
   ]
  },
  {
   "cell_type": "code",
   "execution_count": 19,
   "metadata": {},
   "outputs": [],
   "source": [
    "price = [1000, 400, 2000, 2400]\n",
    "\n",
    "\n"
   ]
  },
  {
   "cell_type": "markdown",
   "metadata": {},
   "source": [
    "Q. 3일 이동 평균을 출력하라."
   ]
  },
  {
   "cell_type": "code",
   "execution_count": 4,
   "metadata": {},
   "outputs": [],
   "source": [
    "price = [100, 200, 300, 400, 500, 600, 700]\n",
    "\n",
    "\n"
   ]
  },
  {
   "cell_type": "markdown",
   "metadata": {},
   "source": [
    "### enumerate\n",
    "인덱스와 값을 한 번에 전달해주는 함수"
   ]
  },
  {
   "cell_type": "code",
   "execution_count": 2,
   "metadata": {},
   "outputs": [
    {
     "name": "stdout",
     "output_type": "stream",
     "text": [
      "0 가\n",
      "1 나\n",
      "2 다\n"
     ]
    }
   ],
   "source": [
    "자료구조 = [\"가\", \"나\", \"다\"]\n",
    "for idx, val in enumerate(자료구조):\n",
    "    print(idx, val)"
   ]
  },
  {
   "cell_type": "markdown",
   "metadata": {},
   "source": [
    "문제 더 풀어보기  \n",
    "https://wikidocs.net/27010  \n",
    "https://wikidocs.net/32292  "
   ]
  }
 ],
 "metadata": {
  "kernelspec": {
   "display_name": "Python 3",
   "language": "python",
   "name": "python3"
  },
  "language_info": {
   "codemirror_mode": {
    "name": "ipython",
    "version": 3
   },
   "file_extension": ".py",
   "mimetype": "text/x-python",
   "name": "python",
   "nbconvert_exporter": "python",
   "pygments_lexer": "ipython3",
   "version": "3.8.8"
  },
  "toc": {
   "base_numbering": 1,
   "nav_menu": {},
   "number_sections": true,
   "sideBar": true,
   "skip_h1_title": false,
   "title_cell": "Table of Contents",
   "title_sidebar": "Contents",
   "toc_cell": false,
   "toc_position": {},
   "toc_section_display": true,
   "toc_window_display": false
  }
 },
 "nbformat": 4,
 "nbformat_minor": 4
}
