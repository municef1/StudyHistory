{
 "cells": [
  {
   "cell_type": "markdown",
   "metadata": {},
   "source": [
    "# 파이썬 함수\n",
    "도서관에 가면 책이 `'한국식 십진 분류표'(KDC)`에 의거하여 분야별로 분류돼 있습니다. 정해진 (표준화된) 방법을 사용하기 때문에 어떤 도서관을 가더라도 (익숙해지면) 빠르게 찾을 수 있습니다. 즉 표준화를 통해 공통된 인터페이스를 사용하면 확장성이 강해집니다.   \n",
    "```\n",
    "000 총류, 100 철학, 200 종교, 300 사회과학, 400 순수과학\n",
    "```"
   ]
  },
  {
   "cell_type": "markdown",
   "metadata": {},
   "source": [
    "## 함수 기본형"
   ]
  },
  {
   "cell_type": "markdown",
   "metadata": {},
   "source": [
    "함수는 코드를 정리하는 방법입니다. 정해진 문법에 맞게 코드를 나열하여 재사용성을 높이기 위해 함수를 사용합니다. `def` 키워드는 함수를 정의한다는 것을 파이썬 인터프리터에게 알리는 역할을 합니다. "
   ]
  },
  {
   "cell_type": "markdown",
   "metadata": {},
   "source": [
    "<img src=\"https://i.ibb.co/1TKRGDB/func-0.png\" width=\"700\" style=\"float:left\" />"
   ]
  },
  {
   "cell_type": "markdown",
   "metadata": {},
   "source": [
    "다음은 \"인사하기\"라는 이름의 함수로 코드를 정리했습니다. 함수를 정의하는 것만으로는 아무런 결과가 출력되지 않습니다."
   ]
  },
  {
   "cell_type": "code",
   "execution_count": null,
   "metadata": {},
   "outputs": [],
   "source": [
    "print(\"안녕하세요\")\n",
    "print(\"반갑습니다\")\n",
    "print(\"내이름은 무지!\")\n",
    "\n",
    "print(\"안녕하세요\")\n",
    "print(\"반갑습니다\")\n",
    "print(\"내이름은 무지!\")\n",
    "\n",
    "print(\"안녕하세요\")\n",
    "print(\"반갑습니다\")\n",
    "print(\"내이름은 무지!\")"
   ]
  },
  {
   "cell_type": "markdown",
   "metadata": {},
   "source": [
    "함수로 정의하기"
   ]
  },
  {
   "cell_type": "code",
   "execution_count": null,
   "metadata": {},
   "outputs": [],
   "source": [
    "def 인사하기(  ):\n",
    "    print(\"안녕하세요\")\n",
    "    print(\"반갑습니다\")\n",
    "    print(\"내이름은 무지!\")"
   ]
  },
  {
   "cell_type": "markdown",
   "metadata": {},
   "source": [
    "함수를 <b>호출</b> 해야 들여쓰기된 코드들이 실행됩니다. "
   ]
  },
  {
   "cell_type": "code",
   "execution_count": null,
   "metadata": {},
   "outputs": [],
   "source": [
    "인사하기(   )\n",
    "인사하기(   )\n",
    "인사하기(   )"
   ]
  },
  {
   "cell_type": "code",
   "execution_count": null,
   "metadata": {
    "scrolled": true
   },
   "outputs": [],
   "source": [
    "for i in [0, 1, 2]:\n",
    "    인사하기(   )\n",
    "    print(i)"
   ]
  },
  {
   "cell_type": "code",
   "execution_count": null,
   "metadata": {
    "scrolled": false
   },
   "outputs": [],
   "source": [
    "for i in range(3):\n",
    "    인사하기(   )\n",
    "    print(i)"
   ]
  },
  {
   "cell_type": "markdown",
   "metadata": {},
   "source": [
    "함수가 호출되면 함수의 정의부로 이동해서, 들여쓰기된 코드를 실행하고, 다시 호출부로 이동합니다. "
   ]
  },
  {
   "cell_type": "markdown",
   "metadata": {},
   "source": [
    "<img src=\"https://i.ibb.co/LhsTprP/func-1.png\" width=\"400\" style=\"float:left\" />"
   ]
  },
  {
   "cell_type": "markdown",
   "metadata": {},
   "source": [
    "함수 호출하기에 앞서 반드시 먼저 정의돼 있어야 합니다. 파이썬 인터프리터는 코드를 위에서 아래 방향으로 해석한다는 것을 잊지마세요!"
   ]
  },
  {
   "cell_type": "code",
   "execution_count": null,
   "metadata": {},
   "outputs": [],
   "source": [
    "def 인사() :\n",
    "    print(\"안녕\")    \n",
    "\n",
    "인사()"
   ]
  },
  {
   "cell_type": "markdown",
   "metadata": {},
   "source": [
    "복잡한 구조의 코드를 살펴봅시다. \n",
    "다음 코드들의 실행 결과를 예측해 보세요."
   ]
  },
  {
   "cell_type": "markdown",
   "metadata": {},
   "source": [
    "```\n",
    "print(3)\n",
    "def test():\n",
    "    print(1)\n",
    "print(2)\n",
    "test()\n",
    "```"
   ]
  },
  {
   "cell_type": "code",
   "execution_count": null,
   "metadata": {},
   "outputs": [],
   "source": [
    "print(3)            #첫번째\n",
    "def test():            #정의만함\n",
    "    print(1)\n",
    "print(2)            #두번째\n",
    "test()            #세번째\n",
    "\n",
    "# 3 2 1"
   ]
  },
  {
   "cell_type": "markdown",
   "metadata": {},
   "source": [
    "같은 동작을 하는데 일반 코드와 함수의 정의가 섞여 있으니 코드를 해석하기가 다소 어렵습니다. 이러한 이유로 함수의 정의부와 호출부를 섞어서 코드를 정리하지 않습니다. 코드를 정리하려고 함수를 사용하는데 코드를 읽기가 더 어려워지면 안되겠죠?  "
   ]
  },
  {
   "cell_type": "markdown",
   "metadata": {},
   "source": [
    "```\n",
    "def test():\n",
    "    print(1)\n",
    "print(3)\n",
    "print(2)\n",
    "test()\n",
    "```"
   ]
  },
  {
   "cell_type": "markdown",
   "metadata": {},
   "source": [
    "다음 코드의 실행 결과는 어떻게 될까요?"
   ]
  },
  {
   "cell_type": "code",
   "execution_count": null,
   "metadata": {},
   "outputs": [],
   "source": [
    "def A():\n",
    "    print(\"a\")\n",
    "\n",
    "def B():\n",
    "    print(\"b\")\n",
    "    A()\n",
    "    print(\"c\")\n",
    "    \n",
    "B()"
   ]
  },
  {
   "cell_type": "code",
   "execution_count": null,
   "metadata": {},
   "outputs": [],
   "source": [
    "def 함수(   ):\n",
    "    print(\"ddd\")"
   ]
  },
  {
   "cell_type": "markdown",
   "metadata": {},
   "source": [
    "## 입력이 있는 함수\n",
    "입력이 있는 함수를 사용해 봅시다. 단순히 코드를 정리하는 것이 아니라 재사용성을 더욱 높이기 위해 변수와 함수를 연결합니다.\n",
    "다음 코드에서 `무지`/`어피치`의 이름만 변경되는 것을 알 수 있습니다. "
   ]
  },
  {
   "cell_type": "code",
   "execution_count": null,
   "metadata": {
    "scrolled": true
   },
   "outputs": [],
   "source": [
    "print(\"안녕하세요\")\n",
    "print(\"반갑습니다\")\n",
    "print(\"내이름은 무지!\")\n",
    "\n",
    "print(\"안녕하세요\")\n",
    "print(\"반갑습니다\")\n",
    "print(\"내이름은 어피치!\")"
   ]
  },
  {
   "cell_type": "code",
   "execution_count": null,
   "metadata": {},
   "outputs": [],
   "source": [
    "def 무지인사하기():\n",
    "    print(\"안녕하세요\")\n",
    "    print(\"반갑습니다\")\n",
    "    print(\"내이름은 무지!\")\n",
    "    \n",
    "def 어피치인사하기():\n",
    "    print(\"안녕하세요\")\n",
    "    print(\"반갑습니다\")\n",
    "    print(\"내이름은 어피치!\")"
   ]
  },
  {
   "cell_type": "code",
   "execution_count": null,
   "metadata": {
    "scrolled": true
   },
   "outputs": [],
   "source": [
    "무지인사하기()"
   ]
  },
  {
   "cell_type": "code",
   "execution_count": null,
   "metadata": {
    "scrolled": true
   },
   "outputs": [],
   "source": [
    "어피치인사하기()"
   ]
  },
  {
   "cell_type": "code",
   "execution_count": null,
   "metadata": {},
   "outputs": [],
   "source": [
    "def 인사():\n",
    "    print(\"안녕하세요\")\n",
    "    print(\"반갑습니다\")\n",
    "    \n",
    "def 어피치인사하기():\n",
    "    인사()\n",
    "    print(\"내이름은 어피치!\")\n",
    "\n",
    "def 무지인사하기():\n",
    "    인사()\n",
    "    print(\"내이름은 무지!\")\n",
    "    \n",
    "def 이세인사하기():\n",
    "    인사()\n",
    "    print(\"내이름은 이세!\")    "
   ]
  },
  {
   "cell_type": "code",
   "execution_count": null,
   "metadata": {
    "scrolled": false
   },
   "outputs": [],
   "source": [
    "무지인사하기()"
   ]
  },
  {
   "cell_type": "code",
   "execution_count": null,
   "metadata": {},
   "outputs": [],
   "source": [
    "이세인사하기()"
   ]
  },
  {
   "cell_type": "markdown",
   "metadata": {},
   "source": [
    "함수를 정의할 때 변수를 하나 선언하면, 함수를 호출할 때에도 하나의 값을 반드시 전달해야 합니다. 함수로 전달하는 값은 정수/문자열/자료구조 등이 될 수 있습니다. "
   ]
  },
  {
   "cell_type": "markdown",
   "metadata": {},
   "source": [
    "<img src=\"https://i.ibb.co/gykwJ0M/func-2.png\" width=\"700\" style=\"float:left\" />"
   ]
  },
  {
   "cell_type": "markdown",
   "metadata": {},
   "source": [
    "무지와 어피치의 이름을 입력받는 \"인사하기\" 함수를 작성해 보겠습니다."
   ]
  },
  {
   "cell_type": "code",
   "execution_count": null,
   "metadata": {
    "scrolled": true
   },
   "outputs": [],
   "source": [
    "# 한번 해보자!\n",
    "\n",
    "def 인사(x):\n",
    "    print(\"안녕하세요\")\n",
    "    print(\"반갑습니다\")\n",
    "    print(\"내 이름은 \" + x +\"!\") #띄어쓰기 안됨!\n",
    "    \n",
    "인사(\"이세\")\n"
   ]
  },
  {
   "cell_type": "code",
   "execution_count": null,
   "metadata": {
    "scrolled": true
   },
   "outputs": [],
   "source": [
    "def 인사해(이름):\n",
    "    print(\"안녕하세요\")\n",
    "    print(\"반갑습니다\")\n",
    "    print(f\"내 이름은 {이름}!\") # 포맷하면 띄어쓰기도 되네!\n",
    "    \n",
    "인사해(\"이세\")"
   ]
  },
  {
   "cell_type": "markdown",
   "metadata": {},
   "source": [
    "함수가 호출될 때 입력된 값을 갖고 함수의 정의부로 이동합니다. 함수로 전달하는 값을 `파라미터`라고 부릅니다. "
   ]
  },
  {
   "cell_type": "markdown",
   "metadata": {},
   "source": [
    "<img src=\"https://i.ibb.co/ZmH9ZC4/func-3.png\" width=\"350\" style=\"float:left\" />"
   ]
  },
  {
   "cell_type": "code",
   "execution_count": null,
   "metadata": {},
   "outputs": [],
   "source": [
    "def 인사하기( x ) : \n",
    "    print(x + \"안녕?\")\n",
    "    \n",
    "인사하기(  \"어피치\"    )\n",
    "인사하기(  \"무지\"    )"
   ]
  },
  {
   "cell_type": "markdown",
   "metadata": {},
   "source": [
    "두 개의 파라미터를 입력받는 함수를 정의해 봅시다. 다음과 같은 형태의 출력이 반복되어 해당 코드를 정리해 볼겁니다.   \n",
    "`철수 ♡ 영희 결혼을 축하합니다`  \n",
    "`영수 ♡ 순희 결혼을 축하합니다`"
   ]
  },
  {
   "cell_type": "code",
   "execution_count": null,
   "metadata": {},
   "outputs": [],
   "source": [
    "print(\"-\"*20)\n",
    "print(\" 청 첩 장 \")\n",
    "print(\"-\"*20)\n",
    "print(\"철수 ♡ 영희 결혼을 축하합니다\")\n",
    "\n",
    "print(\"-\"*20)\n",
    "print(\" 청 첩 장 \")\n",
    "print(\"-\"*20)\n",
    "print(\"영수 ♡ 순희 결혼을 축하합니다\")"
   ]
  },
  {
   "cell_type": "code",
   "execution_count": null,
   "metadata": {},
   "outputs": [],
   "source": [
    "def 철수영희_청첩장():\n",
    "    print(\"-\"*20)\n",
    "    print(\" 청 첩 장 \")\n",
    "    print(\"-\"*20)\n",
    "    print(\"철수 ♡ 영희 결혼을 축하합니다\")\n",
    "    \n",
    "def 영희순희_청첩장():\n",
    "    print(\" 청 첩 장 \")\n",
    "    print(\"-\"*20)\n",
    "    print(\"영수 ♡ 순희 결혼을 축하합니다\")"
   ]
  },
  {
   "cell_type": "markdown",
   "metadata": {},
   "source": [
    "파라미터의 이름을 지정할 수 있습니다. "
   ]
  },
  {
   "cell_type": "code",
   "execution_count": null,
   "metadata": {
    "scrolled": true
   },
   "outputs": [],
   "source": [
    "def 청첩장(  신랑, 신부   ):\n",
    "    print(\"-\"*20)\n",
    "    print(\" 청 첩 장 \")\n",
    "    print(\"-\"*20)\n",
    "    print(f\"{신랑} ♡ {신부} 결혼을 축하합니다\")\n",
    "    \n",
    "청첩장( \"희철\", \"영희\"  )\n",
    "청첩장( \"종훈\", \"영자\"  )"
   ]
  },
  {
   "cell_type": "code",
   "execution_count": null,
   "metadata": {},
   "outputs": [],
   "source": [
    "def 청첩장(  고객   ):\n",
    "    print(\"-\"*20)\n",
    "    print(\" 청 첩 장 \")\n",
    "    print(\"-\"*20)\n",
    "    print(f\"{고객[0]} ♡ {고객[1]} 결혼을 축하합니다\")\n",
    "    \n",
    "청첩장( [\"희철\", \"영희\"]  )\n",
    "청첩장( [\"종훈\", \"영자\"]  )\n"
   ]
  },
  {
   "cell_type": "markdown",
   "metadata": {},
   "source": [
    "파라미터의 이름을 지정할 수 있습니다. "
   ]
  },
  {
   "cell_type": "code",
   "execution_count": null,
   "metadata": {
    "scrolled": false
   },
   "outputs": [],
   "source": [
    "def 청첩장(  신랑, 신부   ):\n",
    "    print(\"-\"*20)\n",
    "    print(\" 청 첩 장 \")\n",
    "    print(\"-\"*20)\n",
    "    print(f\"{신랑} ♡ {신부} 결혼을 축하합니다\")\n",
    "    \n",
    "청첩장(신랑 = \"희철\", 신부 = \"영희\")\n",
    "청첩장(신랑 = \"희철\", 신부 = \"영희\")\n"
   ]
  },
  {
   "cell_type": "markdown",
   "metadata": {},
   "source": [
    "# 개인적인 호기심이 생겨서 입출력도 해보고 싶어졌다!"
   ]
  },
  {
   "cell_type": "code",
   "execution_count": null,
   "metadata": {
    "scrolled": false
   },
   "outputs": [],
   "source": [
    "\n",
    "def 청첩장():\n",
    "    print(\"-\"*20)\n",
    "    print(\" 청 첩 장 \")\n",
    "    print(\"-\"*20)\n",
    "    x = input(\"신랑 이름 :\")\n",
    "    y = input(\"신부 이름 :\")\n",
    "    return(f\"{x} ♡ {y} 결혼을 축하합니다\")\n",
    "청첩장()"
   ]
  },
  {
   "cell_type": "markdown",
   "metadata": {},
   "source": [
    "# 점심 메뉴도 고를 수 있을 것 같다!"
   ]
  },
  {
   "cell_type": "code",
   "execution_count": null,
   "metadata": {
    "scrolled": true
   },
   "outputs": [],
   "source": [
    "def order():\n",
    "    print(\"점심 목록\")\n",
    "    print(\"밥\")\n",
    "    print(\"면\")\n",
    "    menu = input(\"메뉴를 선택하세요:\")\n",
    "    return(f\"{menu} 을(를) 주문하셨습니다\")\n",
    "a = order()\n",
    "print(a)"
   ]
  },
  {
   "cell_type": "markdown",
   "metadata": {},
   "source": [
    "# 딕셔너리를 쓰면 가격도 붙어서 출력되게 할 수 있다!"
   ]
  },
  {
   "cell_type": "code",
   "execution_count": null,
   "metadata": {},
   "outputs": [],
   "source": [
    "def order():\n",
    "    목록 = {\n",
    "        \"밥\" : 100,\n",
    "        \"면\" : 200\n",
    "    }\n",
    "    \n",
    "    print(\"점심 목록\")\n",
    "    print(\"밥\")\n",
    "    print(\"면\")\n",
    "    menu = input(\"메뉴를 선택하세요:\")\n",
    "    price = 목록[menu]\n",
    "    \n",
    "    \n",
    "    return(f\"{menu}을(를) 주문하셨습니다. 가격은 {price} 원입니다 \")\n",
    "order()"
   ]
  },
  {
   "cell_type": "markdown",
   "metadata": {},
   "source": [
    "# ㅡㅡㅡㅡㅡㅡ밥시간ㅡㅡㅡㅡㅡㅡ"
   ]
  },
  {
   "cell_type": "code",
   "execution_count": null,
   "metadata": {
    "scrolled": true
   },
   "outputs": [],
   "source": [
    "def A(a):\n",
    "    return a+3\n",
    "    \n",
    "a = A(10)\n",
    "print(a)"
   ]
  },
  {
   "cell_type": "markdown",
   "metadata": {},
   "source": [
    "입력하지 않은 파라미터의 기본 값을 지정할 수 있습니다. "
   ]
  },
  {
   "cell_type": "code",
   "execution_count": null,
   "metadata": {
    "scrolled": true
   },
   "outputs": [],
   "source": []
  },
  {
   "cell_type": "markdown",
   "metadata": {},
   "source": [
    "함수로 전달하는 파라미터의 개수는 제약이 없습니다. 정리하고 싶은 (함수로 코드를 정리하는) 사람의 마음에 달려 있습니다. 누군가가 파라미터를 두 개 입력받도록 설계한 함수를 사용할 때는 반드시 값을 두 개 전달해야 올바른 동작을 하는거죠. 예를 들어 다음의 replace라는 함수는 두 개의 파라미터를 입력받도록 설계가 돼 있을 겁니다.  \n",
    "```\n",
    "문자열 = \"abc\"\n",
    "문자열.replace(\"a\", \"b\")\n",
    "```\n",
    "len이라는 함수는 하나의 파라미터를 입력받도록 누군가가 정의를 해놨겠죠?\n",
    "```\n",
    "len(\"abcde\")\n",
    "```"
   ]
  },
  {
   "cell_type": "markdown",
   "metadata": {},
   "source": [
    "## 반환값이 있는 함수\n",
    "지금 까지 배운 함수는 함수 내부에서 그 값을 출력했습니다. `len()` 함수는 호출하면 값을 출력하는 것이아니라 다음과 같이 결과를 반환해서 값을 출력할지 혹은 연산에 사용할지를 사용자가 결정할 수 있습니다. \n",
    "```\n",
    "길이 = len(\"abc\")\n",
    "```"
   ]
  },
  {
   "cell_type": "code",
   "execution_count": null,
   "metadata": {},
   "outputs": [],
   "source": [
    "길이 = len(\"abcd\")\n",
    "print(길이)"
   ]
  },
  {
   "cell_type": "code",
   "execution_count": null,
   "metadata": {},
   "outputs": [],
   "source": [
    "def myfunc( x ):\n",
    "    print( 3 )\n",
    "    \n",
    "길이 = myfunc(100)"
   ]
  },
  {
   "cell_type": "code",
   "execution_count": null,
   "metadata": {},
   "outputs": [],
   "source": [
    "print(길이)"
   ]
  },
  {
   "cell_type": "markdown",
   "metadata": {},
   "source": [
    "함수에서 `return` 키워드는 함수의 수행을 중지하고 뒤에 나열된 값을 반환합니다. "
   ]
  },
  {
   "cell_type": "markdown",
   "metadata": {},
   "source": [
    "<img src=\"https://i.ibb.co/Fm44F21/func-4.png\" width=\"600\" style=\"float:left\" />"
   ]
  },
  {
   "cell_type": "code",
   "execution_count": null,
   "metadata": {},
   "outputs": [],
   "source": [
    "def myfunc(x) :\n",
    "    return x + 3\n",
    "\n",
    "변수 = myfunc(100) #100을받고 함수로 이동, 리턴하면 103이지\n",
    "print(변수)\n",
    "변수 = myfunc(변수) #103으로 나왔으니까 리턴하면 106이지\n",
    "print(변수)"
   ]
  },
  {
   "cell_type": "code",
   "execution_count": null,
   "metadata": {},
   "outputs": [],
   "source": [
    "def f(x):\n",
    "    print(x+3)      \n",
    "\n",
    "f(f(100))  ##리턴이 없어서 탈출이 안됨\n",
    "\n",
    "def f(x):\n",
    "    print(x+3)      \n",
    "    return(None)    #리턴 안써주면 이런소리랑 똑같음\n",
    "\n",
    "f(f(100))  "
   ]
  },
  {
   "cell_type": "code",
   "execution_count": null,
   "metadata": {},
   "outputs": [],
   "source": [
    "## return은 자판기에 물건 나오는게 없는 느낌!"
   ]
  },
  {
   "cell_type": "code",
   "execution_count": 16,
   "metadata": {},
   "outputs": [
    {
     "name": "stdout",
     "output_type": "stream",
     "text": [
      "20\n"
     ]
    }
   ],
   "source": [
    "## 오류가 나도 프로그램은 돌아가야하니까 예외처리 해줘야함\n",
    "def f(x):\n",
    "    if x != None:\n",
    "        print(x+10)\n",
    "\n",
    "f(10)"
   ]
  },
  {
   "cell_type": "markdown",
   "metadata": {},
   "source": [
    "반환값이 있는 함수를 작성해 봅시다. "
   ]
  },
  {
   "cell_type": "code",
   "execution_count": null,
   "metadata": {},
   "outputs": [],
   "source": [
    "price = 10\n",
    "결과 = price * 1.3\n",
    "print(결과)"
   ]
  },
  {
   "cell_type": "code",
   "execution_count": null,
   "metadata": {},
   "outputs": [],
   "source": [
    "def 상한가(price):\n",
    "    결과 = price * 1.3\n",
    "    print(결과)\n",
    "    \n",
    "결과 = 상한가(1000)\n",
    "print(결과)"
   ]
  },
  {
   "cell_type": "code",
   "execution_count": null,
   "metadata": {},
   "outputs": [],
   "source": [
    "def 상한가(price):\n",
    "    결과 = price * 1.3\n",
    "    print(결과)\n",
    "    \n",
    "결과 = 상한가(상한가(1000)) ##상한가에서 값을 뱉어서 다음 상한가로 안넘겨줘서 계산안됨!\n",
    "print(결과)"
   ]
  },
  {
   "cell_type": "code",
   "execution_count": null,
   "metadata": {},
   "outputs": [],
   "source": [
    "def 상한가(price) :    \n",
    "    result = price * 1.3\n",
    "    return result    \n",
    "    \n",
    "결과 = 상한가(1000)  "
   ]
  },
  {
   "cell_type": "code",
   "execution_count": null,
   "metadata": {},
   "outputs": [],
   "source": [
    "상한가(결과)"
   ]
  },
  {
   "cell_type": "code",
   "execution_count": 17,
   "metadata": {},
   "outputs": [
    {
     "name": "stdout",
     "output_type": "stream",
     "text": [
      "10\n"
     ]
    }
   ],
   "source": [
    "def mylen(x):\n",
    "    return 10\n",
    "\n",
    "\n",
    "결과 = mylen( \"a\" )\n",
    "print(결과)"
   ]
  },
  {
   "cell_type": "markdown",
   "metadata": {},
   "source": [
    "## 함수 주의사항"
   ]
  },
  {
   "cell_type": "markdown",
   "metadata": {},
   "source": [
    "함수를 사용할 때는 몇 가지 주의사항이 있습니다. \n",
    "- 함수 외부의 변수를 함수 내부에서 사용하지 않는다. \n",
    "- 함수 내부에 사용된 변수를 함수 외부에서 사용하지 않는다."
   ]
  },
  {
   "cell_type": "markdown",
   "metadata": {},
   "source": [
    "함수 외부에 선언한 변수를 함수 내부에서 사용하지 않아야 합니다. "
   ]
  },
  {
   "cell_type": "code",
   "execution_count": null,
   "metadata": {},
   "outputs": [],
   "source": [
    "def 함수():\n",
    "    print(변수)\n",
    "    \n",
    "변수 = 100\n",
    "함수()"
   ]
  },
  {
   "cell_type": "markdown",
   "metadata": {},
   "source": [
    "파라미터를 사용해서 함수 내부로 값을 전달해야 합니다."
   ]
  },
  {
   "cell_type": "code",
   "execution_count": null,
   "metadata": {},
   "outputs": [],
   "source": [
    "def 함수(파라미터):    \n",
    "    print(변수)\n",
    "\n",
    "변수 = 20\n",
    "함수(변수) "
   ]
  },
  {
   "cell_type": "markdown",
   "metadata": {},
   "source": [
    "함수 내부에서 사용한 변수를 함수 외부에서 사용하면 에러가 발생합니다. "
   ]
  },
  {
   "cell_type": "code",
   "execution_count": null,
   "metadata": {},
   "outputs": [],
   "source": [
    "def 함수():\n",
    "    변수 = 100\n",
    "    \n",
    "함수()\n",
    "print(변수)"
   ]
  },
  {
   "cell_type": "markdown",
   "metadata": {},
   "source": [
    "함수 내부에서 계산된 결과는 `return` 해야 합니다. "
   ]
  },
  {
   "cell_type": "code",
   "execution_count": 18,
   "metadata": {},
   "outputs": [
    {
     "name": "stdout",
     "output_type": "stream",
     "text": [
      "100\n"
     ]
    }
   ],
   "source": [
    "def 함수():\n",
    "    변수 = 100\n",
    "    return 변수\n",
    "\n",
    "결과 = 함수()\n",
    "print(결과)"
   ]
  },
  {
   "cell_type": "markdown",
   "metadata": {},
   "source": [
    "문제 더 풀어보기  \n",
    "- https://wikidocs.net/23906\n",
    "- https://wikidocs.net/23907\n",
    "- https://wikidocs.net/7039"
   ]
  },
  {
   "cell_type": "markdown",
   "metadata": {},
   "source": [
    "메모리와 함수"
   ]
  },
  {
   "cell_type": "code",
   "execution_count": 24,
   "metadata": {},
   "outputs": [
    {
     "name": "stdout",
     "output_type": "stream",
     "text": [
      "20\n"
     ]
    }
   ],
   "source": [
    "def f( ) :\n",
    "    x = 10\n",
    "\n",
    "x = 20  #이 때 메모리상에서 일어나는 일은?!\n",
    "\n",
    "y = f ( ) \n",
    "print(x)"
   ]
  },
  {
   "cell_type": "code",
   "execution_count": null,
   "metadata": {},
   "outputs": [],
   "source": []
  }
 ],
 "metadata": {
  "kernelspec": {
   "display_name": "Python 3 (ipykernel)",
   "language": "python",
   "name": "python3"
  },
  "language_info": {
   "codemirror_mode": {
    "name": "ipython",
    "version": 3
   },
   "file_extension": ".py",
   "mimetype": "text/x-python",
   "name": "python",
   "nbconvert_exporter": "python",
   "pygments_lexer": "ipython3",
   "version": "3.10.1"
  },
  "toc": {
   "base_numbering": 1,
   "nav_menu": {},
   "number_sections": true,
   "sideBar": true,
   "skip_h1_title": false,
   "title_cell": "Table of Contents",
   "title_sidebar": "Contents",
   "toc_cell": false,
   "toc_position": {
    "height": "calc(100% - 180px)",
    "left": "10px",
    "top": "150px",
    "width": "165.188px"
   },
   "toc_section_display": true,
   "toc_window_display": true
  }
 },
 "nbformat": 4,
 "nbformat_minor": 4
}
