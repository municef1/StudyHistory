{
 "cells": [
  {
   "cell_type": "markdown",
   "metadata": {},
   "source": [
    "```\n",
    "김용담 강사\n",
    "```\n",
    "# 데이터베이스 기초\n",
    "\n",
    "#### RDBMS와 MySQL\n",
    "\n",
    "## Contents\n",
    "\n",
    "##### 1. 데이터베이스란?\n",
    "\n",
    "##### 2. 데이터베이스를 사용하는 이유\n",
    "\n",
    "##### 3. RDBMS란?\n",
    "\n",
    "##### 4. 데이터베이스 시스템 이해\n",
    "\n",
    "##### 5. ERD\n",
    "\n",
    "##### 6. MySQL 소개\n",
    "\n",
    "\n"
   ]
  },
  {
   "cell_type": "markdown",
   "metadata": {},
   "source": [
    "\n",
    "## 0. Intro\n",
    "\n",
    "##### 현실 세계에서 데이터를 관리하는 법.jpeg\n",
    "\n",
    "![그림](image\\0.png)\n",
    "\n",
    "### 1. 데이터베이스란?\n",
    "\n",
    "##### 데이터를 효율적으로 통합 관리할 수 있는 시스템\n",
    "\n",
    "- 컴퓨터가 보급화 되면서 (1980's) 처리해야 할 데이터가 늘어남\n",
    "- 여러 회사들에서 대규모 데이터를 관리하기 위해서 통합된 환경이 필요함\n",
    "- 데이터들을 표현할 수 있는 다양한 모델이 등장\n",
    "    - Relational Model, Network Model, Hierarchical Model, ...\n",
    "- 데이터를 체계적으로 관리할 수 있는 공간을 \"Database\"로 정의함\n",
    "- 데이터베이스를 관리하는 시스템을 \"DataBase Management System\"으로 정의함\n"
   ]
  },
  {
   "cell_type": "markdown",
   "metadata": {},
   "source": [
    "\n",
    "### 2. 데이터베이스를 사용하는 이유\n",
    "\n",
    "##### 기존 시스템의 문제점 -> 관리가 불편하다! -> 검색을 잘하기 위해서..\n",
    "\n",
    "- 데이터베이스라는 개념이 나타나기 이전엔, File 단위로 데이터를 관리\n",
    "    - e.g. 윈도우 탐색기, macOS Finder\n",
    "- 데이터를 효율적으로 관리하기 힘든 여러가지 문제들이 발생.\n",
    "    - Redundancy, Inconsistency\n",
    "    - Isolation, Integrity\n",
    "    - Atomicity, Concurrency\n",
    "\n",
    "- 데이터가 여러 형태로 여기저기 저장되면서 통일성을 잃고, 통합되지 않음\n",
    "- 데이터를 처리하기 위해서는 매번 application이 필요함\n",
    "- 데이터의 상태를 파일 자체적으로 확인하기 힘듬 (열어봐야 알 수 있음)\n",
    "- 여러 명의 사용자가 동시에 접근해서 사용하기 힘듬\n",
    "- 파일의 일부가 수정되었을 때, 전체적인 데이터가 통일성을 유지하기 힘듬\n",
    "\n",
    "> 요약 : 검색, 관리, 조작하기 위해서 데이터베이스(\"정형데이터\", Structural data = panel data = tabular data)를 사용한다!\n",
    "\n",
    "> keyword : #Structural data #panel data #tabular data\n",
    "\n"
   ]
  },
  {
   "cell_type": "markdown",
   "metadata": {},
   "source": [
    "## 3. RDBMS\n",
    "\n",
    "#### Relational DataBase Management System\n",
    "\n",
    "![그림](image\\1.png)\n",
    "\n",
    "> 목적에 따라 규칙성이 있는 고유식별번호를 부여해주는게 좋다!\n"
   ]
  }
 ],
 "metadata": {
  "interpreter": {
   "hash": "dd2804289114bac196bbbccb1f2e22a889e4b2a68389578eea953a8416f9cf52"
  },
  "kernelspec": {
   "display_name": "Python 3.10.1 64-bit",
   "language": "python",
   "name": "python3"
  },
  "language_info": {
   "name": "python",
   "version": "3.10.1"
  },
  "orig_nbformat": 4
 },
 "nbformat": 4,
 "nbformat_minor": 2
}
