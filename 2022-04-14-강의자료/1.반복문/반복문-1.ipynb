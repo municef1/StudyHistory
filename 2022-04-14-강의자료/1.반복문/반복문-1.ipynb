{
 "cells": [
  {
   "cell_type": "markdown",
   "metadata": {},
   "source": [
    "# 반복문\n",
    "반복문은 자료구조의 데이터 수만큼 코드를 반복실행 합니다.  \n",
    "자료구조에 있는 \"데이터를 하나씩 바인딩하고 들여쓰기된 코드를 실행\" 과정을 반복하는 겁니다. \n",
    "  \n",
    "## 반복문 - 기본형\n",
    "`for 변수 in 자료구조 : ` 형태로 코드를 작성합니다. 코드 끝에 콜론 `:` 있음에 주의하세요. 분기문과 같이 콜론 다음에는 들여쓰기와 함께 영향을 받는 코드를 작성합니다. "
   ]
  },
  {
   "cell_type": "markdown",
   "metadata": {},
   "source": [
    "<img src=\"https://i.ibb.co/gR952tp/for-0.png\" width=\"300\" style=\"float:left\" />"
   ]
  },
  {
   "cell_type": "markdown",
   "metadata": {},
   "source": [
    "###### 반복문을 사용하지 않고 한 줄에 하나의 값 출력하기"
   ]
  },
  {
   "cell_type": "code",
   "execution_count": 4,
   "metadata": {},
   "outputs": [
    {
     "name": "stdout",
     "output_type": "stream",
     "text": [
      "가\n",
      "나\n",
      "다\n",
      "라\n"
     ]
    }
   ],
   "source": [
    "print(리스트[0])\n",
    "print(리스트[1])\n",
    "print(리스트[2])\n",
    "print(리스트[3])"
   ]
  },
  {
   "cell_type": "markdown",
   "metadata": {},
   "source": [
    "###### 반복문으로 코드를 정리하기"
   ]
  },
  {
   "cell_type": "code",
   "execution_count": null,
   "metadata": {},
   "outputs": [],
   "source": []
  },
  {
   "cell_type": "markdown",
   "metadata": {},
   "source": [
    "###### 연습문제 - 1\n",
    "다음 코드의 실행 결과를 예측하라."
   ]
  },
  {
   "cell_type": "markdown",
   "metadata": {},
   "source": [
    "```python\n",
    "리스트 = [\"가\", \"나\", \"다\"]\n",
    "for 변수 in 리스트 :\n",
    "    print(변수)\n",
    "    print(\"-\" * 10)\n",
    "for 변수 in 리스트 :\n",
    "    print(변수)\n",
    "```"
   ]
  },
  {
   "cell_type": "code",
   "execution_count": null,
   "metadata": {},
   "outputs": [],
   "source": []
  },
  {
   "cell_type": "markdown",
   "metadata": {},
   "source": [
    "```python\n",
    "리스트 = [\"가\", \"나\", \"다\"]\n",
    "for 변수 in 리스트 :\n",
    "    print(변수)    \n",
    "    for k in 리스트 :\n",
    "        print(k)\n",
    "```"
   ]
  },
  {
   "cell_type": "code",
   "execution_count": null,
   "metadata": {},
   "outputs": [],
   "source": []
  },
  {
   "cell_type": "markdown",
   "metadata": {},
   "source": [
    "###### 연습문제 - 2\n",
    "리스트에서 앞의 두 개의 값을 다음과 같이 출력하라.  \n",
    "```\n",
    "가\n",
    "나\n",
    "```"
   ]
  },
  {
   "cell_type": "code",
   "execution_count": 1,
   "metadata": {},
   "outputs": [],
   "source": [
    "# 슬라이싱 이용해서 문제를 해결하라.\n",
    "리스트 = [\"가\", \"나\", \"다\"]"
   ]
  },
  {
   "cell_type": "code",
   "execution_count": null,
   "metadata": {},
   "outputs": [],
   "source": []
  },
  {
   "cell_type": "code",
   "execution_count": 16,
   "metadata": {},
   "outputs": [
    {
     "name": "stdout",
     "output_type": "stream",
     "text": [
      "가\n",
      "나\n"
     ]
    }
   ],
   "source": [
    "# 분기문을 이용해서 문제를 해결하라.\n",
    "리스트 = [\"가\", \"나\", \"다\"]"
   ]
  },
  {
   "cell_type": "markdown",
   "metadata": {},
   "source": [
    "###### 연습문제 - 3\n",
    "20 이상인 값을 출력하라"
   ]
  },
  {
   "cell_type": "code",
   "execution_count": 20,
   "metadata": {},
   "outputs": [
    {
     "name": "stdout",
     "output_type": "stream",
     "text": [
      "20\n",
      "30\n"
     ]
    }
   ],
   "source": [
    "리스트 = [20, 10, 30]\n",
    "for 변수 in 리스트:\n",
    "    if 변수 >= 20:\n",
    "        print(변수)"
   ]
  },
  {
   "cell_type": "markdown",
   "metadata": {},
   "source": [
    "###### 연습문제 - 4\n",
    "`xls` 파일만을 출력하라"
   ]
  },
  {
   "cell_type": "code",
   "execution_count": 25,
   "metadata": {},
   "outputs": [
    {
     "name": "stdout",
     "output_type": "stream",
     "text": [
      "ab.xls\n",
      "bbbbb.xls\n"
     ]
    }
   ],
   "source": [
    "리스트 = [\"ab.xls\", \"a.hwp\", \"b.exe\", \"bbbbb.xls\"]\n"
   ]
  },
  {
   "cell_type": "markdown",
   "metadata": {},
   "source": [
    "###### 연습문제 - 5\n",
    "반복문을 사용해서 변수에 저장된 종목을 화면에 출력하라.  \n",
    "```\n",
    "보유종목:Naver \n",
    "보유종목:Samsung\n",
    "보유종목:SK Hynix\n",
    "```"
   ]
  },
  {
   "cell_type": "code",
   "execution_count": 2,
   "metadata": {},
   "outputs": [],
   "source": [
    "interest_stocks = [\"Naver\", \"Samsung\", \"SK Hynix\"]"
   ]
  },
  {
   "cell_type": "code",
   "execution_count": 35,
   "metadata": {},
   "outputs": [
    {
     "name": "stdout",
     "output_type": "stream",
     "text": [
      "보유종목:Naver\n",
      "보유종목:Samsung\n",
      "보유종목:SK Hynix\n"
     ]
    }
   ],
   "source": []
  },
  {
   "cell_type": "markdown",
   "metadata": {},
   "source": [
    "###### 연습문제 - 6\n",
    "반복문을 사용해서 변수에 저장된 종목을 화면에 출력하라.  \n",
    "```\n",
    "보유종목:Naver \n",
    "--------------\n",
    "보유종목:Samsung\n",
    "--------------\n",
    "보유종목:SK Hynix\n",
    "--------------\n",
    "```"
   ]
  },
  {
   "cell_type": "code",
   "execution_count": 3,
   "metadata": {},
   "outputs": [],
   "source": [
    "interest_stocks = [\"Naver\", \"Samsung\", \"SK Hynix\"]"
   ]
  },
  {
   "cell_type": "markdown",
   "metadata": {},
   "source": [
    "###### 연습문제 - 7\n",
    "반복문을 사용해서 변수에 저장된 종목을 화면에 출력하라.   \n",
    "```\n",
    "1999년 성적: 수 \n",
    "2000년 성적: 양 \n",
    "2001년 성적: 미 \n",
    "2002년 성적: 수 \n",
    "```"
   ]
  },
  {
   "cell_type": "code",
   "execution_count": 33,
   "metadata": {},
   "outputs": [
    {
     "name": "stdout",
     "output_type": "stream",
     "text": [
      "1999년 성적: 수\n",
      "2000년 성적: 양\n",
      "2001년 성적: 미\n",
      "2002년 성적: 수\n"
     ]
    }
   ],
   "source": [
    "my_grade = [\"1999-수\", \"2000-양\", \"2001-미\", \"2002-수\"]\n",
    "\n",
    "\n"
   ]
  },
  {
   "cell_type": "markdown",
   "metadata": {},
   "source": [
    "문제 더 풀어보기  \n",
    "- https://wikidocs.net/78562\n",
    "- https://wikidocs.net/7020\n",
    "- https://wikidocs.net/78768"
   ]
  },
  {
   "cell_type": "code",
   "execution_count": null,
   "metadata": {},
   "outputs": [],
   "source": []
  }
 ],
 "metadata": {
  "kernelspec": {
   "display_name": "Python 3",
   "language": "python",
   "name": "python3"
  },
  "language_info": {
   "codemirror_mode": {
    "name": "ipython",
    "version": 3
   },
   "file_extension": ".py",
   "mimetype": "text/x-python",
   "name": "python",
   "nbconvert_exporter": "python",
   "pygments_lexer": "ipython3",
   "version": "3.8.8"
  },
  "toc": {
   "base_numbering": 1,
   "nav_menu": {},
   "number_sections": true,
   "sideBar": true,
   "skip_h1_title": false,
   "title_cell": "Table of Contents",
   "title_sidebar": "Contents",
   "toc_cell": false,
   "toc_position": {},
   "toc_section_display": true,
   "toc_window_display": false
  }
 },
 "nbformat": 4,
 "nbformat_minor": 4
}
