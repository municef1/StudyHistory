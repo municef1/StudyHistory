{
 "cells": [
  {
   "cell_type": "markdown",
   "metadata": {},
   "source": [
    "260000  \n",
    "4  \n",
    "20000 5  \n",
    "30000 2  \n",
    "10000 6  \n",
    "5000 8  \n",
    "\n",
    "Yes\n",
    "\n",
    "250000  \n",
    "4  \n",
    "20000 5  \n",
    "30000 2  \n",
    "10000 6  \n",
    "5000 8  \n",
    "\n",
    "No"
   ]
  }
 ],
 "metadata": {
  "language_info": {
   "name": "python"
  },
  "orig_nbformat": 4
 },
 "nbformat": 4,
 "nbformat_minor": 2
}
