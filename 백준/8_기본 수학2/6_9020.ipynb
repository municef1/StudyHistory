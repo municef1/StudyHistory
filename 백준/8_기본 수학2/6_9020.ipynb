{
 "cells": [
  {
   "cell_type": "markdown",
   "metadata": {},
   "source": [
    "</br> </br> <img src = ./imgs/6.png width=\"900\" height=\"900\">"
   ]
  },
  {
   "cell_type": "code",
   "execution_count": 11,
   "metadata": {},
   "outputs": [
    {
     "name": "stdout",
     "output_type": "stream",
     "text": [
      "6\n",
      "10\n"
     ]
    }
   ],
   "source": [
    "sosu = [0 for i in range(10001)]\n",
    "sosu[1] = 1\n",
    "for i in range(2, 98):\n",
    "    for j in range(i * 2, 10001, i):\n",
    "        sosu[j] = 1\n",
    "t = int(input())\n",
    "for i in range(t):\n",
    "    a = int(input())\n",
    "    b = a // 2\n",
    "    for j in range(b, 1, -1):\n",
    "        if sosu[a - j] == 0 and sosu[j] == 0:\n",
    "            print(j, a - j)\n",
    "            break"
   ]
  }
 ],
 "metadata": {
  "kernelspec": {
   "display_name": "Python 3",
   "language": "python",
   "name": "python3"
  },
  "language_info": {
   "codemirror_mode": {
    "name": "ipython",
    "version": 3
   },
   "file_extension": ".py",
   "mimetype": "text/x-python",
   "name": "python",
   "nbconvert_exporter": "python",
   "pygments_lexer": "ipython3",
   "version": "3.10.8 (main, Oct 13 2022, 09:48:40) [Clang 14.0.0 (clang-1400.0.29.102)]"
  },
  "orig_nbformat": 4,
  "vscode": {
   "interpreter": {
    "hash": "b0fa6594d8f4cbf19f97940f81e996739fb7646882a419484c72d19e05852a7e"
   }
  }
 },
 "nbformat": 4,
 "nbformat_minor": 2
}
