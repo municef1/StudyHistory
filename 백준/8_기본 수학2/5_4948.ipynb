{
 "cells": [
  {
   "attachments": {},
   "cell_type": "markdown",
   "metadata": {},
   "source": [
    "</br> </br> <img src = ./imgs/5.png width=\"900\" height=\"900\">"
   ]
  },
  {
   "cell_type": "code",
   "execution_count": 3,
   "metadata": {},
   "outputs": [
    {
     "name": "stdout",
     "output_type": "stream",
     "text": [
      "402\n",
      "1203\n"
     ]
    }
   ],
   "source": [
    "import math\n",
    "\n",
    "m = 123456 # 문제에서 제공한 m의 범위의 최댓값\n",
    "\n",
    "array1 = [True for _ in range(2 * m + 1)] #소수 판별을 위한 리스트설정(True면 소수)\n",
    "array1[0], array1[1] = False, False #0,1은 소수가 아니기에 False로 설정\n",
    "\n",
    "# 에라토스테네스의 체 공식\n",
    "for i in range(2, int(math.sqrt(2 * m) + 1)): #2부터 int(math.sqrt(2 * 123456) 까지 돈다.\n",
    "    if array1[i]: #만약 array1[i]가 True(소수)라면\n",
    "        j = 2 #i에 곱해줄 j값을 2부터 설정\n",
    "        while i * j <= 2 * m: #i * j 가 2* 123456 보다 작거나 같다면\n",
    "            array1[i * j] = False #해당 i*j의 값은 소수가 아니므로 False로 설정\n",
    "            j += 1 #j를 1씩 증가\n",
    "\n",
    "while True:\n",
    "    n = int(input())\n",
    "    if n == 0: #0이면 반복문 탈출\n",
    "        break\n",
    "\n",
    "    count = 0\n",
    "    # 개수 출력\n",
    "    for i in range(n+1, 2 * n + 1): #n+1(n보다 커야하기 때문) 부터 2 * n + 1 까지 설정\n",
    "        if array1[i]:  #만약 해당 i가 True(소수) 라면\n",
    "            count += 1 #count값에다 +1\n",
    "    print(count)  #count 값 출력"
   ]
  },
  {
   "cell_type": "code",
   "execution_count": null,
   "metadata": {},
   "outputs": [],
   "source": []
  }
 ],
 "metadata": {
  "kernelspec": {
   "display_name": "Python 3",
   "language": "python",
   "name": "python3"
  },
  "language_info": {
   "codemirror_mode": {
    "name": "ipython",
    "version": 3
   },
   "file_extension": ".py",
   "mimetype": "text/x-python",
   "name": "python",
   "nbconvert_exporter": "python",
   "pygments_lexer": "ipython3",
   "version": "3.10.8 (main, Oct 13 2022, 09:48:40) [Clang 14.0.0 (clang-1400.0.29.102)]"
  },
  "orig_nbformat": 4,
  "vscode": {
   "interpreter": {
    "hash": "b0fa6594d8f4cbf19f97940f81e996739fb7646882a419484c72d19e05852a7e"
   }
  }
 },
 "nbformat": 4,
 "nbformat_minor": 2
}
