{
 "cells": [
  {
   "attachments": {},
   "cell_type": "markdown",
   "metadata": {},
   "source": [
    "</br> </br> <img src = ./imgs/3.png width=\"900\" height=\"900\">"
   ]
  },
  {
   "cell_type": "code",
   "execution_count": 13,
   "metadata": {},
   "outputs": [],
   "source": [
    "n = int(input())\n",
    "\n",
    "line = 0\n",
    "Mnum = 0\n",
    "\n",
    "while n > Mnum :\n",
    "    line += 1\n",
    "    Mnum += line\n",
    "    \n",
    "gap = Mnum - n\n",
    "\n",
    "if line % 2 == 0:       # 짝수번째?\n",
    "    top = line - gap\n",
    "    under = gap + 1\n",
    "else:\n",
    "    top = gap + 1\n",
    "    under = line - gap\n",
    "\n",
    "print(f'{top}/{under}')"
   ]
  }
 ],
 "metadata": {
  "kernelspec": {
   "display_name": "Python 3",
   "language": "python",
   "name": "python3"
  },
  "language_info": {
   "codemirror_mode": {
    "name": "ipython",
    "version": 3
   },
   "file_extension": ".py",
   "mimetype": "text/x-python",
   "name": "python",
   "nbconvert_exporter": "python",
   "pygments_lexer": "ipython3",
   "version": "3.10.8"
  },
  "orig_nbformat": 4,
  "vscode": {
   "interpreter": {
    "hash": "b0fa6594d8f4cbf19f97940f81e996739fb7646882a419484c72d19e05852a7e"
   }
  }
 },
 "nbformat": 4,
 "nbformat_minor": 2
}
