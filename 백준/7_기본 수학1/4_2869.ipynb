{
 "cells": [
  {
   "cell_type": "markdown",
   "metadata": {},
   "source": [
    "</br> </br> <img src = ./imgs/4.png width=\"900\" height=\"900\">"
   ]
  },
  {
   "cell_type": "code",
   "execution_count": 19,
   "metadata": {},
   "outputs": [],
   "source": [
    "question = map(int, input().split())\n",
    "\n",
    "a, b, v = question\n",
    "\n",
    "k = (v-b) / (a-b)\n",
    "\n",
    "if int(k) == k:\n",
    "    print(int(k))\n",
    "else:\n",
    "    print(int(k)+1)"
   ]
  }
 ],
 "metadata": {
  "kernelspec": {
   "display_name": "Python 3",
   "language": "python",
   "name": "python3"
  },
  "language_info": {
   "codemirror_mode": {
    "name": "ipython",
    "version": 3
   },
   "file_extension": ".py",
   "mimetype": "text/x-python",
   "name": "python",
   "nbconvert_exporter": "python",
   "pygments_lexer": "ipython3",
   "version": "3.10.8"
  },
  "orig_nbformat": 4,
  "vscode": {
   "interpreter": {
    "hash": "b0fa6594d8f4cbf19f97940f81e996739fb7646882a419484c72d19e05852a7e"
   }
  }
 },
 "nbformat": 4,
 "nbformat_minor": 2
}
