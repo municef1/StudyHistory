{
 "cells": [
  {
   "cell_type": "markdown",
   "metadata": {},
   "source": [
    "> 1.정수 n개가 주어졌을 때, n개의 합을 구하는 함수를 작성하시오.\n",
    "\n",
    "작성해야 하는 함수는 다음과 같다.\n",
    "\n",
    "- C, C11, C (Clang), C11 (Clang): long long sum(int *a, int n);\n",
    "    - a: 합을 구해야 하는 정수 n개가 저장되어 있는 배열 (0 ≤ a[i] ≤ 1,000,000, 1 ≤ n ≤ 3,000,000)\n",
    "    - n: 합을 구해야 하는 정수의 개수\n",
    "    - 리턴값: a에 포함되어 있는 정수 n개의 합\n",
    "- C++, C++11, C++14, C++17, C++ (Clang), C++11 (Clang), C++14 (Clang), C++17 (Clang): long long sum(std::vector<int> &a);\n",
    "  - a: 합을 구해야 하는 정수 n개가 저장되어 있는 배열 (0 ≤ a[i] ≤ 1,000,000, 1 ≤ n ≤ 3,000,000)\n",
    "  - 리턴값: a에 포함되어 있는 정수 n개의 합\n",
    "- Python 2, Python 3, PyPy, PyPy3: def solve(a: list) -> int\n",
    "  - a: 합을 구해야 하는 정수 n개가 저장되어 있는 리스트 (0 ≤ a[i] ≤ 1,000,000, 1 ≤ n ≤ 3,000,000)\n",
    "  - 리턴값: a에 포함되어 있는 정수 n개의 합 (정수)\n",
    "- Java: long sum(int[] a); (클래스 이름: Test)\n",
    "  - a: 합을 구해야 하는 정수 n개가 저장되어 있는 배열 (0 ≤ a[i] ≤ 1,000,000, 1 ≤ n ≤ 3,000,000)\n",
    "  - 리턴값: a에 포함되어 있는 정수 n개의 합\n",
    "- Go: sum(a []int) int\n",
    "  - a: 합을 구해야 하는 정수 n개가 저장되어 있는 배열 (0 ≤ a[i] ≤ 1,000,000, 1 ≤ n ≤ 3,000,000)\n",
    "  - 리턴값: a에 포함되어 있는 정수 n개의 합\n"
   ]
  },
  {
   "cell_type": "code",
   "execution_count": null,
   "metadata": {},
   "outputs": [],
   "source": [
    "def solve(a):\n",
    "    return sum(a)"
   ]
  },
  {
   "cell_type": "markdown",
   "metadata": {},
   "source": [
    "> 2.셀프 넘버는 1949년 인도 수학자 D.R. Kaprekar가 이름 붙였다. 양의 정수 n에 대해서 d(n)을 n과 n의 각 자리수를 더하는 함수라고 정의하자. 예를 들어, d(75) = 75+7+5 = 87이다.\n",
    "</br>양의 정수 n이 주어졌을 때, 이 수를 시작해서 n, d(n), d(d(n)), d(d(d(n))), ...과 같은 무한 수열을 만들 수 있다. \n",
    "</br>예를 들어, 33으로 시작한다면 다음 수는 33 + 3 + 3 = 39이고, 그 다음 수는 39 + 3 + 9 = 51, 다음 수는 51 + 5 + 1 = 57이다. 이런식으로 다음과 같은 수열을 만들 수 있다.\n",
    "</br>33, 39, 51, 57, 69, 84, 96, 111, 114, 120, 123, 129, 141, ...\n",
    "</br>n을 d(n)의 생성자라고 한다. 위의 수열에서 33은 39의 생성자이고, 39는 51의 생성자, 51은 57의 생성자이다. 생성자가 한 개보다 많은 경우도 있다. 예를 들어, 101은 생성자가 2개(91과 100) 있다. \n",
    "</br>생성자가 없는 숫자를 셀프 넘버라고 한다. 100보다 작은 셀프 넘버는 총 13개가 있다. 1, 3, 5, 7, 9, 20, 31, 42, 53, 64, 75, 86, 97\n",
    "</br>10000보다 작거나 같은 셀프 넘버를 한 줄에 하나씩 출력하는 프로그램을 작성하시오.\n",
    "\n",
    "> 입력\n",
    "\n",
    "> 입력은 없다.\n",
    "\n",
    "> 출력\n",
    "\n",
    "> 10,000보다 작거나 같은 셀프 넘버를 한 줄에 하나씩 증가하는 순서로 출력한다."
   ]
  },
  {
   "cell_type": "code",
   "execution_count": null,
   "metadata": {},
   "outputs": [],
   "source": [
    "numbers = list(range(1, 10_001))\n",
    "remove_list = []  # 이후에 삭제할 숫자 list\n",
    "for num in numbers :\n",
    "    for n in str(num):\n",
    "        num += int(n)  # 생성자가 있는 숫자\n",
    "    if num <= 10_000:  # 10,000보다 작거나 같을 때만,\n",
    "        remove_list.append(num)  # append: 리스트에 요소를 추가할 때\n",
    "\n",
    "for remove_num in set(remove_list) :  # set 으로 중복값 제거\n",
    "    numbers.remove(remove_num)\n",
    "for self_num in numbers :  # 생성자가 있는 숫자를 삭제한 리스트\n",
    "    print(self_num)"
   ]
  },
  {
   "cell_type": "code",
   "execution_count": 1,
   "metadata": {},
   "outputs": [],
   "source": [
    "### 이건 못풀겠어서 질문하자"
   ]
  },
  {
   "cell_type": "markdown",
   "metadata": {},
   "source": [
    "> 3.어떤 양의 정수 X의 각 자리가 등차수열을 이룬다면, 그 수를 한수라고 한다. 등차수열은 연속된 두 개의 수의 차이가 일정한 수열을 말한다. N이 주어졌을 때, 1보다 크거나 같고, N보다 작거나 같은 한수의 개수를 출력하는 프로그램을 작성하시오. \n",
    "\n",
    "> 입력\n",
    "\n",
    "> 첫째 줄에 1,000보다 작거나 같은 자연수 N이 주어진다.\n",
    "\n",
    "> 출력\n",
    "\n",
    "> 첫째 줄에 1보다 크거나 같고, N보다 작거나 같은 한수의 개수를 출력한다."
   ]
  },
  {
   "cell_type": "code",
   "execution_count": null,
   "metadata": {},
   "outputs": [],
   "source": [
    "def hansu(num) :\n",
    "    hansu_cnt = 0\n",
    "    for i in range(1, num+1):\n",
    "        num_list = list(map(int,str(i)))\n",
    "        if i < 100:\n",
    "            hansu_cnt += 1  # 100보다 작으면 모두 한수\n",
    "        elif num_list[0]-num_list[1] == num_list[1]-num_list[2]:\n",
    "            hansu_cnt += 1  # x의 각 자리가 등차수열이면 한수\n",
    "    return hansu_cnt\n",
    "\n",
    "num = int(input())\n",
    "print(hansu(num))"
   ]
  }
 ],
 "metadata": {
  "interpreter": {
   "hash": "dd2804289114bac196bbbccb1f2e22a889e4b2a68389578eea953a8416f9cf52"
  },
  "kernelspec": {
   "display_name": "Python 3.10.1 64-bit",
   "language": "python",
   "name": "python3"
  },
  "language_info": {
   "codemirror_mode": {
    "name": "ipython",
    "version": 3
   },
   "file_extension": ".py",
   "mimetype": "text/x-python",
   "name": "python",
   "nbconvert_exporter": "python",
   "pygments_lexer": "ipython3",
   "version": "3.10.1"
  },
  "orig_nbformat": 4
 },
 "nbformat": 4,
 "nbformat_minor": 2
}
