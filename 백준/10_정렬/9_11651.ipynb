{
 "cells": [
  {
   "cell_type": "code",
   "execution_count": null,
   "metadata": {},
   "outputs": [],
   "source": [
    "num = int(input())\n",
    "a = []\n",
    "for i in range(num):\n",
    "    [x, y] = map(int, input().split())\n",
    "    rev = [y, x]\n",
    "    a.append(rev)\n",
    "b = sorted(a)\n",
    "for i in range(num):\n",
    "    print(b[i][1], b[i][0])"
   ]
  }
 ],
 "metadata": {
  "language_info": {
   "name": "python"
  },
  "orig_nbformat": 4
 },
 "nbformat": 4,
 "nbformat_minor": 2
}
