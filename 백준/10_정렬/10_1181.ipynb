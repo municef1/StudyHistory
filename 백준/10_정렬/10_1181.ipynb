{
 "cells": [
  {
   "cell_type": "code",
   "execution_count": null,
   "metadata": {},
   "outputs": [],
   "source": [
    "n = int(input())\n",
    "\n",
    "word_list = []\n",
    "for i in range(n):\n",
    "    word_list.append(input())\n",
    "\n",
    "set_word = list(set(word_list))\n",
    "\n",
    "sorted_word_list = []\n",
    "for i in set_word:\n",
    "    sorted_word_list.append((len(i), i))\n",
    "\n",
    "result = sorted(sorted_word_list)\n",
    "\n",
    "for len_word, word_list in result:\n",
    "    print(word_list)"
   ]
  }
 ],
 "metadata": {
  "language_info": {
   "name": "python"
  },
  "orig_nbformat": 4
 },
 "nbformat": 4,
 "nbformat_minor": 2
}
