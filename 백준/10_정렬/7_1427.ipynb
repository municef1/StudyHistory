{
 "cells": [
  {
   "cell_type": "code",
   "execution_count": null,
   "metadata": {},
   "outputs": [],
   "source": [
    "n = int(input())\n",
    " \n",
    "li = []\n",
    "for i in str(n):\n",
    "    li.append(int(i))\n",
    "# li = list(map(int,str(n))) 으로 변경가능\n",
    "    \n",
    "li.sort(reverse=True) # 내림차순\n",
    " \n",
    "for i in li:\n",
    "    print(i,end='')"
   ]
  }
 ],
 "metadata": {
  "language_info": {
   "name": "python"
  },
  "orig_nbformat": 4
 },
 "nbformat": 4,
 "nbformat_minor": 2
}
