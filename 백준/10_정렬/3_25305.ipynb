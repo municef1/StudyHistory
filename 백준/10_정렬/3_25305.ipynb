{
 "cells": [
  {
   "cell_type": "code",
   "execution_count": null,
   "metadata": {},
   "outputs": [],
   "source": [
    "N, k = map(int, input().split())\n",
    "x = list(map(int, input().split()))\n",
    "print(sorted(x)[-k])"
   ]
  }
 ],
 "metadata": {
  "language_info": {
   "name": "python"
  },
  "orig_nbformat": 4
 },
 "nbformat": 4,
 "nbformat_minor": 2
}
