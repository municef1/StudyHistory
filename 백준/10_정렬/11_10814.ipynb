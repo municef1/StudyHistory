{
 "cells": [
  {
   "cell_type": "code",
   "execution_count": null,
   "metadata": {},
   "outputs": [],
   "source": [
    "n = int(input())\n",
    "member_lst = []\n",
    "\n",
    "for i in range(n):\n",
    "    age, name = map(str, input().split())\n",
    "    age = int(age)\n",
    "    member_lst.append((age, name))\n",
    "\n",
    "member_lst.sort(key = lambda x : x[0])\t## (age, name)에서 age만 비교\n",
    "\n",
    "for i in member_lst:\n",
    "    print(i[0], i[1])"
   ]
  }
 ],
 "metadata": {
  "language_info": {
   "name": "python"
  },
  "orig_nbformat": 4
 },
 "nbformat": 4,
 "nbformat_minor": 2
}
