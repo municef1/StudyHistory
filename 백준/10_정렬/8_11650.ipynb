{
 "cells": [
  {
   "cell_type": "code",
   "execution_count": null,
   "metadata": {},
   "outputs": [],
   "source": [
    "import sys\n",
    "n = int(sys.stdin.readline())\n",
    "so = []\n",
    "for i in range(n):\n",
    "    so.append(list(map(int, sys.stdin.readline().split())))\n",
    "so.sort(key=lambda x: (x[0], x[1]))\n",
    "for i in so:\n",
    "    print(i[0], i[1])"
   ]
  }
 ],
 "metadata": {
  "language_info": {
   "name": "python"
  },
  "orig_nbformat": 4
 },
 "nbformat": 4,
 "nbformat_minor": 2
}
