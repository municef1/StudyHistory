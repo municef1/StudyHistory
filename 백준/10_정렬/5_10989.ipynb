{
 "cells": [
  {
   "cell_type": "code",
   "execution_count": null,
   "metadata": {},
   "outputs": [],
   "source": [
    "import sys\n",
    "input = sys.stdin.readline\n",
    "num = int(input())\n",
    "arr = [0]*10000\n",
    "\n",
    "for i in range(num):\n",
    "    a = int(input())\n",
    "    arr[a-1] += 1\n",
    "    \n",
    "for i in range(10000):\n",
    "    if arr[i] != 0:\n",
    "        for j in range(arr[i]):\n",
    "            print(i+1)"
   ]
  }
 ],
 "metadata": {
  "language_info": {
   "name": "python"
  },
  "orig_nbformat": 4
 },
 "nbformat": 4,
 "nbformat_minor": 2
}
