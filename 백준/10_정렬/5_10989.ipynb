{
 "cells": [
  {
   "cell_type": "code",
   "execution_count": null,
   "metadata": {},
   "outputs": [],
   "source": [
    "# 10989번\n",
    "\n",
    "import sys\n",
    "\n",
    "n = int(sys.stdin.readline())\n",
    "num_list = []\n",
    "\n",
    "for _ in range(n):\n",
    "    num_list.append(int(sys.stdin.readline()))\n",
    "\n",
    "sorted_list = sorted(num_list)\n",
    "\n",
    "for i in sorted_list:\n",
    "    print(i)"
   ]
  }
 ],
 "metadata": {
  "language_info": {
   "name": "python"
  },
  "orig_nbformat": 4
 },
 "nbformat": 4,
 "nbformat_minor": 2
}
