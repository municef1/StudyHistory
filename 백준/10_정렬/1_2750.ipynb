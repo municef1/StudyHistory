{
 "cells": [
  {
   "cell_type": "code",
   "execution_count": null,
   "metadata": {},
   "outputs": [],
   "source": [
    "x = int(input())\n",
    "num_list = []\n",
    "for i in range(x):\n",
    "    num_list.append(int(input()))\n",
    "num_list1 = sorted(num_list)\n",
    "for i in range(len(num_list)):\n",
    "    print(num_list1[i])"
   ]
  }
 ],
 "metadata": {
  "language_info": {
   "name": "python"
  },
  "orig_nbformat": 4
 },
 "nbformat": 4,
 "nbformat_minor": 2
}
