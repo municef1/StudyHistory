{
 "cells": [
  {
   "cell_type": "code",
   "execution_count": null,
   "metadata": {},
   "outputs": [],
   "source": [
    "import sys\n",
    "from collections import Counter\n",
    "n = int(sys.stdin.readline())\n",
    "nums = []\n",
    "for i in range(n):\n",
    "    nums.append(int(sys.stdin.readline()))\n",
    "nums.sort()\n",
    "nums_s = Counter(nums).most_common()\n",
    "print(round(sum(nums) / n))\n",
    "print(nums[n // 2])\n",
    "if len(nums_s) > 1:\n",
    "    if nums_s[0][1] == nums_s[1][1]:\n",
    "        print(nums_s[1][0])\n",
    "    else:\n",
    "        print(nums_s[0][0])\n",
    "else:\n",
    "    print(nums_s[0][0])\n",
    "print(nums[-1] - nums[0])"
   ]
  }
 ],
 "metadata": {
  "language_info": {
   "name": "python"
  },
  "orig_nbformat": 4
 },
 "nbformat": 4,
 "nbformat_minor": 2
}
