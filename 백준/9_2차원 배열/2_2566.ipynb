{
 "cells": [
  {
   "cell_type": "markdown",
   "metadata": {},
   "source": [
    "</br> </br> <img src = ./imgs/2.png width=\"900\" height=\"600\">"
   ]
  },
  {
   "cell_type": "code",
   "execution_count": null,
   "metadata": {
    "vscode": {
     "languageId": "plaintext"
    }
   },
   "outputs": [],
   "source": [
    "import sys\n",
    "input = sys.stdin.readline\n",
    "\n",
    "ans,x,y = -1,0,0\n",
    "for i in range(9):\n",
    "    arr = list(map(int,input().split()))\n",
    "    for j in range(9):\n",
    "        if arr[j] > ans:\n",
    "            ans,x,y = arr[j],i,j\n",
    "print(ans,x+1,y+1,sep=\"\\n\")"
   ]
  }
 ],
 "metadata": {
  "language_info": {
   "name": "python"
  },
  "orig_nbformat": 4
 },
 "nbformat": 4,
 "nbformat_minor": 2
}
