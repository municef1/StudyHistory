{
 "cells": [
  {
   "cell_type": "markdown",
   "metadata": {},
   "source": [
    "</br> </br> <img src = ./imgs/3.png width=\"900\" height=\"600\">"
   ]
  },
  {
   "cell_type": "code",
   "execution_count": null,
   "metadata": {},
   "outputs": [],
   "source": [
    "N = int(input())\n",
    "array = [[0] * 100 for _ in range(100)]  # 도화지 범위 초기화\n",
    "for _ in range(N):  # 입력 받은 도화지 개수만큼 돈다.\n",
    "    y1, x1 = map(int, input().split())  # 왼쪽아래 x,y 좌표를 받는다.\n",
    "\n",
    "    for i in range(x1, x1 + 10):  # 세로를 돈다.\n",
    "        for j in range(y1, y1 + 10):  # 가로를 돈다.\n",
    "            array[i][j] = 1  # 해당 범위 값을 0에서 1로 바꿔준다.\n",
    "\n",
    "result = 0  # 넓이를 출력할 변수\n",
    "for k in range(100):  # 전체 도화지를 돌면서\n",
    "    result += array[k].count(1)  # 1 개수만 세어준다\n",
    "\n",
    "print(result)"
   ]
  }
 ],
 "metadata": {
  "kernelspec": {
   "display_name": "Python 3.8.13 ('torch_new')",
   "language": "python",
   "name": "python3"
  },
  "language_info": {
   "name": "python",
   "version": "3.8.13"
  },
  "orig_nbformat": 4,
  "vscode": {
   "interpreter": {
    "hash": "dcc704823a757e1539f5a43af79350a02135e44c06252b04666ddd79fc40e3cd"
   }
  }
 },
 "nbformat": 4,
 "nbformat_minor": 2
}
