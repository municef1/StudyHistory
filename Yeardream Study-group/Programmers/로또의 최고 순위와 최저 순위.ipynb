{
 "cells": [
  {
   "cell_type": "markdown",
   "metadata": {},
   "source": [
    "# 로또의 최고 순위와 최저순위\n",
    "\n",
    "순위당첨\t내용\n",
    "\n",
    "1등 6개 번호가 모두 일치\n",
    "\n",
    "2등\t5개 번호가 일치\n",
    "\n",
    "3등\t4개 번호가 일치\n",
    "\n",
    "4등\t3개 번호가 일치\n",
    "\n",
    "5등\t2개 번호가 일치\n",
    "\n",
    "6(낙첨)\t그 외\n",
    "\n",
    "민우가 구매한 로또 번호를 담은 배열 lottos, 당첨 번호를 담은 배열 win_nums가 매개변수로 주어집니다. \n",
    "\n",
    "이때, 당첨 가능한 최고 순위와 최저 순위를 차례대로 배열에 담아서 return 하도록 solution 함수를 완성해주세요."
   ]
  },
  {
   "cell_type": "markdown",
   "metadata": {},
   "source": [
    "# 풀이 1"
   ]
  },
  {
   "cell_type": "code",
   "execution_count": 36,
   "metadata": {},
   "outputs": [
    {
     "name": "stdout",
     "output_type": "stream",
     "text": [
      "3 5\n"
     ]
    }
   ],
   "source": [
    "lottos = [44, 1, 0, 0, 31, 25]\n",
    "win_nums = [31, 10, 45, 1, 6, 19]\n",
    "result = [3, 5]\n",
    "\n",
    "\n",
    "price = {\n",
    "  0 : 6,\n",
    "  1 : 6,\n",
    "  2 : 5,\n",
    "  3 : 4,\n",
    "  4 : 3,\n",
    "  5 : 2,\n",
    "  6 : 1,\n",
    "}\n",
    "\n",
    "\n",
    "worst = len(set(lottos).intersection(set(win_nums)))      # 교집합 개수 구함\n",
    "if 0 in lottos:\n",
    "    best = worst + lottos.count(0)                       \n",
    "    print (price[best], price[worst])\n",
    "else:\n",
    "    print (price[worst], price[worst])\n"
   ]
  },
  {
   "cell_type": "code",
   "execution_count": 39,
   "metadata": {},
   "outputs": [],
   "source": [
    "def solution(lottos, win_nums):\n",
    "  price = {\n",
    "    0 : 6,\n",
    "    1 : 6,\n",
    "    2 : 5,\n",
    "    3 : 4,\n",
    "    4 : 3,\n",
    "    5 : 2,\n",
    "    6 : 1,\n",
    "  }\n",
    "  worst = len(set(lottos).intersection(set(win_nums)))      # 교집합 개수 구함\n",
    "  if 0 in lottos:\n",
    "      best = worst + lottos.count(0)                       \n",
    "      return[price[best], price[worst]]\n",
    "  else:\n",
    "      return[price[worst], price[worst]]"
   ]
  },
  {
   "cell_type": "code",
   "execution_count": null,
   "metadata": {},
   "outputs": [],
   "source": [
    "def"
   ]
  }
 ],
 "metadata": {
  "interpreter": {
   "hash": "19381dae11859029849bf77a2bf763c10e0e1b48ddfabe634499c3aa535e0678"
  },
  "kernelspec": {
   "display_name": "Python 3.9.10",
   "language": "python",
   "name": "python3"
  },
  "language_info": {
   "codemirror_mode": {
    "name": "ipython",
    "version": 3
   },
   "file_extension": ".py",
   "mimetype": "text/x-python",
   "name": "python",
   "nbconvert_exporter": "python",
   "pygments_lexer": "ipython3",
   "version": "3.9.10"
  },
  "orig_nbformat": 4
 },
 "nbformat": 4,
 "nbformat_minor": 2
}
