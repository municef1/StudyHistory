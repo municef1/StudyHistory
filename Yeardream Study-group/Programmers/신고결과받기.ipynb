{
 "cells": [
  {
   "cell_type": "markdown",
   "metadata": {},
   "source": [
    "# 신고 결과 받기\n",
    "\n",
    "1. 각 유저는 한 번에 한 명의 유저를 신고할 수 있음\n",
    "2. k번 이상 신고된 유저는 정지됨\n",
    "3. 신고한 모든 내용을 취합하여 마지막에 한꺼번에 해당 유저를 신고한 모든 유저에게 메일 발송"
   ]
  },
  {
   "cell_type": "markdown",
   "metadata": {},
   "source": [
    "## 아이디어 설계\n",
    "\n",
    "id_list = [\"muzi\", \"frodo\", \"apeach\", \"neo\"]\n",
    "report = [\"muzi frodo\",\"apeach frodo\",\"frodo neo\",\"muzi neo\",\"apeach muzi\"]\n",
    "k = 2\n",
    "\n",
    "id_list = [\"con\", \"ryan\"]\n",
    "report = [\"ryan con\", \"ryan con\", \"ryan con\", \"ryan con\"]\n",
    "k = 3\n",
    "\n",
    "> id_list가 리스트로 주어짐 > 신고자 id가 아니라 이용자 전체 id\n",
    "\n",
    "이걸 왜 줬을까?  \n",
    "리포트에서만 스플릿으로 나눠써도 되는데, 제한속도 때문인가?\n",
    "\n",
    "> report 는 리스트로 주어짐  > 신고자와 신고 당한 id  \n",
    "\n",
    "이걸 왜 줬을까?  \n",
    "신고당한 id를 split으로 나눠서 리스트로 만들고,  \n",
    "1회만 저장된 이름은 1회로 저장하고  \n",
    "중복된걸 확인해서 카운트함.  \n",
    "이후 저장된 리스트를 중복 제거해야함.  \n",
    "\n",
    "> k는 정수로 주어짐. 사용 제한이 되는 신고 누적 횟수를 의미.   \n",
    "\n",
    "이걸 왜 줬을까?  \n",
    "카운트한 횟수와 k값을 비교해서 신고된걸 체크하고, 정지시킴.  \n",
    "신고한 유저에게 자기가 신고해서 정지된 사람들만큼 출력  \n",
    "\n",
    "report는 이용자가 신고한 id이므로, 같은 id가 이미 있으면 id를 추가하지 않고, 숫자를 증가시켜야 함.  \n",
    "- A가 B를 여러번 중복해서 신고했으면, 중복 제거\n",
    "- 신고당한 ID와 신고당한 횟수를 매칭되게 딕셔너리로 생성?\n",
    "- {['muzi' : 'frodo'], ['apeach' : 'frodo']} > {['frodo': 2]}\n",
    "\n",
    "\n",
    "\n",
    "answer = [2,1,1,0] 또는 [0,0]"
   ]
  },
  {
   "cell_type": "markdown",
   "metadata": {},
   "source": [
    "# 풀이 1"
   ]
  },
  {
   "cell_type": "code",
   "execution_count": null,
   "metadata": {},
   "outputs": [],
   "source": [
    "id_list = [\"muzi\", \"frodo\", \"apeach\", \"neo\"]\n",
    "report = [\"muzi frodo\",\"apeach frodo\",\"frodo neo\",\"muzi neo\",\"apeach muzi\"]\n",
    "k = 2"
   ]
  },
  {
   "cell_type": "code",
   "execution_count": null,
   "metadata": {},
   "outputs": [],
   "source": [
    "'''\n",
    "def solution(id_list, report, k):\n",
    "    answer = []\n",
    "    return answer\n",
    "'''"
   ]
  },
  {
   "cell_type": "code",
   "execution_count": null,
   "metadata": {},
   "outputs": [],
   "source": [
    "def solution(id_list, report, k):\n",
    "    answer = [0] * len(id_list)\n",
    "    dic_report = {id: [] for id in id_list}\n",
    "    for i in set(report):\n",
    "        i = i.split()\n",
    "        dic_report[i[1]].append(i[0])\n",
    "\n",
    "    for key, value in dic_report.items():\n",
    "        if len(value) >= k:\n",
    "            for j in value:\n",
    "                answer[id_list.index(j)] += 1\n",
    "    return answer"
   ]
  },
  {
   "cell_type": "code",
   "execution_count": null,
   "metadata": {},
   "outputs": [
    {
     "data": {
      "text/plain": [
       "[2, 1, 1, 0]"
      ]
     },
     "metadata": {},
     "output_type": "display_data"
    }
   ],
   "source": [
    "solution(id_list, report, k)"
   ]
  },
  {
   "cell_type": "markdown",
   "metadata": {},
   "source": [
    "# 풀이 2"
   ]
  },
  {
   "cell_type": "code",
   "execution_count": 2,
   "metadata": {},
   "outputs": [],
   "source": [
    "id_list = [\"muzi\", \"frodo\", \"apeach\", \"neo\"]\n",
    "report = [\"muzi frodo\",\"apeach frodo\",\"frodo neo\",\"muzi neo\",\"apeach muzi\"]\n",
    "k = 2"
   ]
  },
  {
   "cell_type": "code",
   "execution_count": 3,
   "metadata": {},
   "outputs": [],
   "source": [
    "answer = [0] * len(id_list)\n",
    "reports = {x:0 for x in id_list}"
   ]
  },
  {
   "cell_type": "code",
   "execution_count": 4,
   "metadata": {},
   "outputs": [
    {
     "data": {
      "text/plain": [
       "{'apeach frodo', 'apeach muzi', 'frodo neo', 'muzi frodo', 'muzi neo'}"
      ]
     },
     "execution_count": 4,
     "metadata": {},
     "output_type": "execute_result"
    }
   ],
   "source": [
    "set(report)"
   ]
  },
  {
   "cell_type": "code",
   "execution_count": 5,
   "metadata": {},
   "outputs": [
    {
     "name": "stdout",
     "output_type": "stream",
     "text": [
      "{'muzi': 0, 'frodo': 0, 'apeach': 0, 'neo': 1}\n",
      "{'muzi': 0, 'frodo': 0, 'apeach': 0, 'neo': 2}\n",
      "{'muzi': 0, 'frodo': 1, 'apeach': 0, 'neo': 2}\n",
      "{'muzi': 1, 'frodo': 1, 'apeach': 0, 'neo': 2}\n",
      "{'muzi': 1, 'frodo': 2, 'apeach': 0, 'neo': 2}\n"
     ]
    }
   ],
   "source": [
    "for r in set(report):                           # set을 이용해서 중복제거\n",
    "  reports[r.split()[1]] += 1                    # reports의 key는 신고당한 id, value는 신고당한 횟수를 1씩 증가시켜줌\n",
    "  print (reports)                               # 신고당한 id를 key로 하고 그 신고당한 횟수를 value로 하는 딕셔너리임"
   ]
  },
  {
   "cell_type": "code",
   "execution_count": 6,
   "metadata": {},
   "outputs": [
    {
     "name": "stdout",
     "output_type": "stream",
     "text": [
      "[0, 1, 0, 0]\n",
      "[1, 1, 0, 0]\n",
      "[2, 1, 0, 0]\n",
      "[2, 1, 1, 0]\n"
     ]
    }
   ],
   "source": [
    "for r in set(report):\n",
    "  if reports[r.split()[1]] >= k:                # 신고당한 횟수가 k보다 크면\n",
    "    answer[id_list.index(r.split()[0])] += 1    # id_list의 index에 따라서 1을 더해줌\n",
    "    print(answer)"
   ]
  },
  {
   "cell_type": "code",
   "execution_count": 7,
   "metadata": {},
   "outputs": [
    {
     "data": {
      "text/plain": [
       "[2, 1, 1, 0]"
      ]
     },
     "execution_count": 7,
     "metadata": {},
     "output_type": "execute_result"
    }
   ],
   "source": [
    "answer"
   ]
  },
  {
   "cell_type": "code",
   "execution_count": 8,
   "metadata": {},
   "outputs": [],
   "source": [
    "def solution(id_list, report, k):\n",
    "    answer = [0] * len(id_list)\n",
    "    reports = {x:0 for x in id_list}\n",
    "    \n",
    "    for r in set(report):\n",
    "        reports[r.split()[1]] += 1\n",
    "    \n",
    "    for r in set(report):\n",
    "        if reports[r.split()[1]] >= k:\n",
    "            answer[id_list.index(r.split()[0])] += 1\n",
    "            \n",
    "    return answer"
   ]
  },
  {
   "cell_type": "code",
   "execution_count": 9,
   "metadata": {},
   "outputs": [
    {
     "data": {
      "text/plain": [
       "[2, 1, 1, 0]"
      ]
     },
     "execution_count": 9,
     "metadata": {},
     "output_type": "execute_result"
    }
   ],
   "source": [
    "solution(id_list, report, k)"
   ]
  }
 ],
 "metadata": {
  "interpreter": {
   "hash": "19381dae11859029849bf77a2bf763c10e0e1b48ddfabe634499c3aa535e0678"
  },
  "kernelspec": {
   "display_name": "Python 3.9.10",
   "language": "python",
   "name": "python3"
  },
  "language_info": {
   "codemirror_mode": {
    "name": "ipython",
    "version": 3
   },
   "file_extension": ".py",
   "mimetype": "text/x-python",
   "name": "python",
   "nbconvert_exporter": "python",
   "pygments_lexer": "ipython3",
   "version": "3.9.10"
  },
  "orig_nbformat": 4
 },
 "nbformat": 4,
 "nbformat_minor": 2
}
