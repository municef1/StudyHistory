{
 "cells": [
  {
   "cell_type": "code",
   "execution_count": 39,
   "metadata": {},
   "outputs": [],
   "source": [
    "def solution(new_id):\n",
    "    # 1\n",
    "    new_id = new_id.lower()\n",
    "    \n",
    "    # 2\n",
    "    words = \"abcdefghijklmnopqrstuvwxyz0123456789-_.\"\n",
    "    new_id = \"\".join([word for word in new_id if word in words])\n",
    "    \n",
    "    # 3\n",
    "    while \"..\" in new_id:\n",
    "        new_id = new_id.replace(\"..\", \".\")\n",
    "    \n",
    "    #4\n",
    "    if new_id[0] == \".\" and len(new_id) > 1:\n",
    "      new_id = new_id[1:]\n",
    "    if new_id[-1] == \".\":       \n",
    "      new_id = new_id[:-1]\n",
    "    \n",
    "    # 5\n",
    "    if len(new_id) < 1 :\n",
    "      new_id = \"a\"\n",
    "\n",
    "    # 6\n",
    "    if len(new_id) >= 16:\n",
    "      new_id = new_id[:15]\n",
    "    if new_id[-1] == \".\":\n",
    "      new_id = new_id[:-1]\n",
    "\n",
    "    # 7\n",
    "    if len(new_id) < 3:\n",
    "      new_id = new_id + new_id[-1] * (3 - len(new_id))\n",
    "    \n",
    "    answer = new_id\n",
    "    \n",
    "    return answer\n"
   ]
  },
  {
   "cell_type": "code",
   "execution_count": 40,
   "metadata": {},
   "outputs": [
    {
     "data": {
      "text/plain": [
       "'abcdefghijklmn'"
      ]
     },
     "execution_count": 40,
     "metadata": {},
     "output_type": "execute_result"
    }
   ],
   "source": [
    "solution(\"abcdefghijklmn.p\")"
   ]
  },
  {
   "cell_type": "code",
   "execution_count": 30,
   "metadata": {},
   "outputs": [],
   "source": [
    "new_id = \"abcdefghijklmn.p\""
   ]
  },
  {
   "cell_type": "code",
   "execution_count": 31,
   "metadata": {},
   "outputs": [
    {
     "data": {
      "text/plain": [
       "'abcdefghijklmn.p'"
      ]
     },
     "execution_count": 31,
     "metadata": {},
     "output_type": "execute_result"
    }
   ],
   "source": [
    "#1\n",
    "new_id = new_id.lower()\n",
    "new_id"
   ]
  },
  {
   "cell_type": "code",
   "execution_count": 32,
   "metadata": {},
   "outputs": [
    {
     "data": {
      "text/plain": [
       "'abcdefghijklmn.p'"
      ]
     },
     "execution_count": 32,
     "metadata": {},
     "output_type": "execute_result"
    }
   ],
   "source": [
    "#2\n",
    "words = \"abcdefghijklmnopqrstuvwxyz0123456789-_.\"\n",
    "new_id = \"\".join([word for word in new_id if word in words])\n",
    "new_id"
   ]
  },
  {
   "cell_type": "code",
   "execution_count": 33,
   "metadata": {},
   "outputs": [
    {
     "data": {
      "text/plain": [
       "'abcdefghijklmn.p'"
      ]
     },
     "execution_count": 33,
     "metadata": {},
     "output_type": "execute_result"
    }
   ],
   "source": [
    "#3\n",
    "while \"..\" in new_id:                         \n",
    "  new_id = new_id.replace(\"..\", \".\")\n",
    "new_id"
   ]
  },
  {
   "cell_type": "code",
   "execution_count": 34,
   "metadata": {},
   "outputs": [
    {
     "data": {
      "text/plain": [
       "'abcdefghijklmn.p'"
      ]
     },
     "execution_count": 34,
     "metadata": {},
     "output_type": "execute_result"
    }
   ],
   "source": [
    "#4\n",
    "if new_id[0] == \".\":\n",
    "  new_id = new_id[1:]\n",
    "if new_id[-1] == \".\":       \n",
    "  new_id = new_id[:-1]\n",
    "new_id"
   ]
  },
  {
   "cell_type": "code",
   "execution_count": 35,
   "metadata": {},
   "outputs": [
    {
     "data": {
      "text/plain": [
       "'abcdefghijklmn.p'"
      ]
     },
     "execution_count": 35,
     "metadata": {},
     "output_type": "execute_result"
    }
   ],
   "source": [
    "# 5\n",
    "if len(new_id) < 1 :\n",
    "  new_id = \"a\"\n",
    "new_id"
   ]
  },
  {
   "cell_type": "code",
   "execution_count": 38,
   "metadata": {},
   "outputs": [
    {
     "data": {
      "text/plain": [
       "'abcdefghijklmn'"
      ]
     },
     "execution_count": 38,
     "metadata": {},
     "output_type": "execute_result"
    }
   ],
   "source": [
    "# 6\n",
    "if len(new_id) >= 16:\n",
    "  new_id = new_id[:15]\n",
    "if new_id[-1] == \".\":\n",
    "  new_id = new_id[:-1]\n",
    "new_id"
   ]
  },
  {
   "cell_type": "code",
   "execution_count": 37,
   "metadata": {},
   "outputs": [
    {
     "data": {
      "text/plain": [
       "'abcdefghijklmn.p'"
      ]
     },
     "execution_count": 37,
     "metadata": {},
     "output_type": "execute_result"
    }
   ],
   "source": [
    "# 7\n",
    "if len(new_id) < 3:\n",
    "  new_id = new_id + new_id[-1] * (3 - len(new_id))\n",
    "new_id"
   ]
  },
  {
   "cell_type": "code",
   "execution_count": null,
   "metadata": {},
   "outputs": [],
   "source": []
  }
 ],
 "metadata": {
  "kernelspec": {
   "display_name": "Python 3.8.9 64-bit",
   "language": "python",
   "name": "python3"
  },
  "language_info": {
   "codemirror_mode": {
    "name": "ipython",
    "version": 3
   },
   "file_extension": ".py",
   "mimetype": "text/x-python",
   "name": "python",
   "nbconvert_exporter": "python",
   "pygments_lexer": "ipython3",
   "version": "3.8.9"
  },
  "orig_nbformat": 4,
  "vscode": {
   "interpreter": {
    "hash": "31f2aee4e71d21fbe5cf8b01ff0e069b9275f58929596ceb00d14d90e3e16cd6"
   }
  }
 },
 "nbformat": 4,
 "nbformat_minor": 2
}
