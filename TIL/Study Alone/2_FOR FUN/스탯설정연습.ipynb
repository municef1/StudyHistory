{
 "cells": [
  {
   "cell_type": "code",
   "execution_count": null,
   "metadata": {},
   "outputs": [],
   "source": [
    "import random\n",
    "import time"
   ]
  },
  {
   "cell_type": "code",
   "execution_count": 13,
   "metadata": {},
   "outputs": [
    {
     "name": "stdout",
     "output_type": "stream",
     "text": [
      "닉네임 입력\n",
      "캐릭터 닉네임 : 문이세\n",
      "문이세는 스파크 플러스에서 정신이 들었다.\n"
     ]
    }
   ],
   "source": [
    "print(\"닉네임 입력\")\n",
    "나 = input()\n",
    "time.sleep(1)\n",
    "print(f\"캐릭터 닉네임 : {나}\")\n",
    "time.sleep(2)\n",
    "print(f\"{나}는 스파크 플러스에서 정신이 들었다.\")"
   ]
  },
  {
   "cell_type": "code",
   "execution_count": 19,
   "metadata": {},
   "outputs": [
    {
     "name": "stdout",
     "output_type": "stream",
     "text": [
      "[초기 스탯을 설정합니다.] \n",
      " 코딩력 = 3, 근성 = 3, 운 = 5\n",
      "재분배하시겠습니까? : a = 네, b = 아니오\n",
      "\n",
      " 정말 결정하셨습니까? : a = 네, b = 아니오\n",
      "\n",
      " 결정되었습니다\n",
      "\n",
      "            [스테이터스]\n",
      "            이름 = 문이세\n",
      "            직업 = 코딩초보\n",
      "            체력 = 13\n",
      "            코딩력 = 3\n",
      "            근성 = 3\n",
      "            운 = 5\n"
     ]
    }
   ],
   "source": [
    "# 스탯 설정\n",
    "\n",
    "기본체력 = 10\n",
    "방어력 = 0\n",
    "공격력 = 0\n",
    "\n",
    "코딩력 = 0\n",
    "근성 = 0\n",
    "운 = 0\n",
    "\n",
    "기 = 0\n",
    "탈주 = 0\n",
    "\n",
    "while 1:\n",
    "    코딩력 = random.randrange(1,6)\n",
    "    체력 = 기본체력 + 코딩력 * 1\n",
    "    공격력 = 코딩력\n",
    "    근성 = random.randrange(1,6)\n",
    "    운 = random.randrange(1,6)\n",
    "    \n",
    "\n",
    "    print(f\"[초기 스탯을 설정합니다.] \\n 코딩력 = {코딩력}, 근성 = {근성}, 운 = {운}\")\n",
    "    time.sleep(2)\n",
    "    print(\"재분배하시겠습니까? : a = 네, b = 아니오\")\n",
    "    A = input()\n",
    "    if A == \"a\":\n",
    "        continue\n",
    "    if A == \"b\":\n",
    "        print(\"\\n 정말 결정하셨습니까? : a = 네, b = 아니오\")\n",
    "        B = input()\n",
    "        if B == \"b\":\n",
    "            continue\n",
    "        elif B == \"a\":\n",
    "            time.sleep(0.5)\n",
    "            print(\"\\n 결정되었습니다\")\n",
    "            print(f\"\"\"\n",
    "            [스테이터스]\n",
    "            이름 = {나}\n",
    "            직업 = 코딩초보\n",
    "            체력 = {체력}\n",
    "            코딩력 = {코딩력}\n",
    "            근성 = {근성}\n",
    "            운 = {운}\"\"\")\n",
    "            break"
   ]
  },
  {
   "cell_type": "code",
   "execution_count": null,
   "metadata": {},
   "outputs": [],
   "source": []
  },
  {
   "cell_type": "code",
   "execution_count": null,
   "metadata": {},
   "outputs": [],
   "source": []
  },
  {
   "cell_type": "code",
   "execution_count": null,
   "metadata": {},
   "outputs": [],
   "source": []
  },
  {
   "cell_type": "code",
   "execution_count": null,
   "metadata": {},
   "outputs": [],
   "source": []
  },
  {
   "cell_type": "code",
   "execution_count": null,
   "metadata": {},
   "outputs": [],
   "source": []
  },
  {
   "cell_type": "code",
   "execution_count": null,
   "metadata": {},
   "outputs": [],
   "source": []
  }
 ],
 "metadata": {
  "interpreter": {
   "hash": "dd2804289114bac196bbbccb1f2e22a889e4b2a68389578eea953a8416f9cf52"
  },
  "kernelspec": {
   "display_name": "Python 3.10.1 64-bit",
   "language": "python",
   "name": "python3"
  },
  "language_info": {
   "codemirror_mode": {
    "name": "ipython",
    "version": 3
   },
   "file_extension": ".py",
   "mimetype": "text/x-python",
   "name": "python",
   "nbconvert_exporter": "python",
   "pygments_lexer": "ipython3",
   "version": "3.10.1"
  },
  "orig_nbformat": 4
 },
 "nbformat": 4,
 "nbformat_minor": 2
}
