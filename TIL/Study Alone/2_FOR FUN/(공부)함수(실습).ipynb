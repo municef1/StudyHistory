{
 "cells": [
  {
   "cell_type": "code",
   "execution_count": 3,
   "metadata": {},
   "outputs": [
    {
     "data": {
      "text/plain": [
       "8"
      ]
     },
     "execution_count": 3,
     "metadata": {},
     "output_type": "execute_result"
    }
   ],
   "source": [
    "# Function Definition\n",
    "\n",
    "def add(a,b):\n",
    "    #입력받은 a, b를 더한 값을 돌려주는 함수\n",
    "    result = a + b\n",
    "    return result\n",
    "\n",
    "# Function call\n",
    "add(3,5)"
   ]
  },
  {
   "cell_type": "markdown",
   "metadata": {},
   "source": [
    "보통 parameter라고 총칭한다.\n",
    "\n",
    "뭘 넣고 뭘 뺄건지 잘 생각해야한다!\n",
    "\n"
   ]
  },
  {
   "cell_type": "code",
   "execution_count": 5,
   "metadata": {},
   "outputs": [
    {
     "name": "stdout",
     "output_type": "stream",
     "text": [
      "-5\n",
      "14\n",
      "0.2857142857142857\n"
     ]
    }
   ],
   "source": [
    "def sub(a, b):\n",
    "    return a - b\n",
    "\n",
    "def mul(a,b):\n",
    "    return a*b\n",
    "\n",
    "def div(a,b):\n",
    "    return a/b\n",
    "\n",
    "n1, n2 = 2, 7\n",
    "print(sub(n1, n2))\n",
    "print(mul(n1,n2))\n",
    "print(div(n1,n2))"
   ]
  },
  {
   "cell_type": "code",
   "execution_count": 10,
   "metadata": {},
   "outputs": [
    {
     "name": "stdout",
     "output_type": "stream",
     "text": [
      "1.  kim\n",
      "2.  kim\n",
      "3.  kim\n",
      "4.  Lee\n"
     ]
    }
   ],
   "source": [
    "a = 10\n",
    "name = \"kim\"\n",
    "\n",
    "def change_name(name) : #code block\n",
    "    #local variable\n",
    "    print(\"2. \", name)\n",
    "    \n",
    "    name = \"Lee\"\n",
    "    \n",
    "    return name\n",
    "\n",
    "print(\"1. \", name)              # 얘는 당연히 바로 위에 킴 받음\n",
    "name2 =change_name(name)        # 함수에서 나온 name!!change_name의 name을 name2로 받음\n",
    "\n",
    "print(\"3. \",name)               # 얘는 그럼 안받았으니까 name은 킴 그대로\n",
    "\n",
    "print(\"4. \",name2)              # 애가 변수에서 나온 네임을 받은거니까 리가 됨!!!!\n"
   ]
  },
  {
   "cell_type": "code",
   "execution_count": 16,
   "metadata": {},
   "outputs": [
    {
     "name": "stdout",
     "output_type": "stream",
     "text": [
      "1.  kim\n",
      "2.  kim\n",
      "3.  Lee\n",
      "4.  Lee\n"
     ]
    }
   ],
   "source": [
    "a = 10\n",
    "name = \"kim\"\n",
    "\n",
    "def change_name() :             #code block\n",
    "    global name                 # 여기서 함수가 바꿀 것은 파라미터 name이 아니라 글로벌임!!!\n",
    "    print(\"2. \", name)          # 얜 아직 킴으로 출력됨! 네임은 리 안거쳐서\n",
    "    \n",
    "    name = \"Lee\"                #글로벌 네임이 리가 됨\n",
    "    \n",
    "    return name\n",
    "\n",
    "print(\"1. \", name)              # 얘는 아직 함수 실행 안했으니 킴\n",
    "name2 =change_name()            # 함수에서 나온 name!!change_name의 name을 name2로 받음\n",
    "\n",
    "print(\"3. \",name)               # 얘는 name자체가 바뀐거니까? 리가 됨!\n",
    "\n",
    "print(\"4. \",name2)              # 애가 변수에서 나온 네임을 받은거니까 리가 됨!!!!\n"
   ]
  },
  {
   "cell_type": "code",
   "execution_count": 17,
   "metadata": {},
   "outputs": [],
   "source": [
    "# 입출력"
   ]
  },
  {
   "cell_type": "code",
   "execution_count": 21,
   "metadata": {},
   "outputs": [
    {
     "data": {
      "text/plain": [
       "20"
      ]
     },
     "execution_count": 21,
     "metadata": {},
     "output_type": "execute_result"
    }
   ],
   "source": [
    "# 입력받는 값을 숫자라고 가정\n",
    "# input은 무조건 문자열로 들어옴!\n",
    "\n",
    "n = int(input())\n",
    "n + n"
   ]
  },
  {
   "cell_type": "code",
   "execution_count": 30,
   "metadata": {},
   "outputs": [
    {
     "data": {
      "text/plain": [
       "8"
      ]
     },
     "execution_count": 30,
     "metadata": {},
     "output_type": "execute_result"
    }
   ],
   "source": [
    "# 숫자를 2개로 가정한 경우\n",
    "a, b = input().split(',') # ['3', '5']같이 출력될거임 3,5를 입력!\n",
    "a,b = int (a), int (b)\n",
    "a+b"
   ]
  },
  {
   "cell_type": "code",
   "execution_count": 31,
   "metadata": {},
   "outputs": [
    {
     "data": {
      "text/plain": [
       "[3, 4, 5]"
      ]
     },
     "execution_count": 31,
     "metadata": {},
     "output_type": "execute_result"
    }
   ],
   "source": [
    "[x+2 for x in range (1,4)]\n"
   ]
  },
  {
   "cell_type": "code",
   "execution_count": 35,
   "metadata": {},
   "outputs": [
    {
     "data": {
      "text/plain": [
       "[3, 4, 5]"
      ]
     },
     "execution_count": 35,
     "metadata": {},
     "output_type": "execute_result"
    }
   ],
   "source": [
    "[x+2 for x in range (1,4)]\n",
    "\n",
    "L = []\n",
    "\n",
    "\n",
    "for x in range(1,4): # 이 두줄을 위의 한줄로 정리한거임!\n",
    "    L.append(x+2)\n",
    "\n",
    "L"
   ]
  },
  {
   "cell_type": "code",
   "execution_count": 36,
   "metadata": {},
   "outputs": [
    {
     "name": "stdout",
     "output_type": "stream",
     "text": [
      "3\n",
      "4\n",
      "5\n"
     ]
    }
   ],
   "source": [
    "# for 문을 사용한 코드\n",
    "for num in input().split(','): # 쉼표를 기준으로 끊김\n",
    "    print(num)"
   ]
  },
  {
   "cell_type": "code",
   "execution_count": 38,
   "metadata": {},
   "outputs": [
    {
     "data": {
      "text/plain": [
       "[3, 4, 5]"
      ]
     },
     "execution_count": 38,
     "metadata": {},
     "output_type": "execute_result"
    }
   ],
   "source": [
    "numbers = []\n",
    "for num in input().split(','): # 쉼표를 기준으로 끊김\n",
    "    numbers.append(int(num))\n",
    "numbers"
   ]
  },
  {
   "cell_type": "code",
   "execution_count": 42,
   "metadata": {},
   "outputs": [
    {
     "data": {
      "text/plain": [
       "[1, 2, 3, 4, 5, 6]"
      ]
     },
     "execution_count": 42,
     "metadata": {},
     "output_type": "execute_result"
    }
   ],
   "source": [
    "# 위 코드를 한줄로!\n",
    "[int(num) for num in input (\"숫자 여러개를 입력하세요. (단, ','로 구분합니다)\") . split(\",\")]\n",
    "\n",
    "#이런걸 list comprehension 이라고 한다!!!!!"
   ]
  },
  {
   "cell_type": "code",
   "execution_count": null,
   "metadata": {},
   "outputs": [],
   "source": []
  }
 ],
 "metadata": {
  "interpreter": {
   "hash": "dd2804289114bac196bbbccb1f2e22a889e4b2a68389578eea953a8416f9cf52"
  },
  "kernelspec": {
   "display_name": "Python 3.10.1 64-bit",
   "language": "python",
   "name": "python3"
  },
  "language_info": {
   "codemirror_mode": {
    "name": "ipython",
    "version": 3
   },
   "file_extension": ".py",
   "mimetype": "text/x-python",
   "name": "python",
   "nbconvert_exporter": "python",
   "pygments_lexer": "ipython3",
   "version": "3.10.1"
  },
  "orig_nbformat": 4
 },
 "nbformat": 4,
 "nbformat_minor": 2
}
