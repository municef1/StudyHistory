{
 "cells": [
  {
   "cell_type": "markdown",
   "id": "19c4e16a",
   "metadata": {},
   "source": [
    "## 문자열"
   ]
  },
  {
   "cell_type": "code",
   "execution_count": 33,
   "id": "8c1b46b1",
   "metadata": {},
   "outputs": [
    {
     "name": "stdout",
     "output_type": "stream",
     "text": [
      "가나다라\n",
      "마바사\n",
      "아자차카\n",
      "타파하\n"
     ]
    }
   ],
   "source": [
    "some_stirng = \"\"\"가나다라\n",
    "마바사\n",
    "아자차카\n",
    "타파하\"\"\"\n",
    "print (some_stirng)  ##여러 줄의 문자열을 넣고싶으면 \"\"\" \"\"\" 이렇게 세개를 써주면 됨"
   ]
  },
  {
   "cell_type": "code",
   "execution_count": 37,
   "id": "37372971",
   "metadata": {},
   "outputs": [
    {
     "name": "stdout",
     "output_type": "stream",
     "text": [
      "17\n"
     ]
    }
   ],
   "source": [
    "print(len(some_stirng))\n",
    "## 몇자가 포함되어있는지 세줌\n",
    "## 줄바꿈도 하나의 문자로 인식"
   ]
  },
  {
   "cell_type": "code",
   "execution_count": 38,
   "id": "cf200a3c",
   "metadata": {},
   "outputs": [
    {
     "name": "stdout",
     "output_type": "stream",
     "text": [
      "14\n"
     ]
    }
   ],
   "source": [
    "print(some_stirng.find(\"타\"))\n",
    "# 몇번째에 처음으로 나왔는지 찾아줌(0번째부터 시작)"
   ]
  },
  {
   "cell_type": "markdown",
   "id": "1a763d69",
   "metadata": {},
   "source": [
    "## 인덱스"
   ]
  },
  {
   "cell_type": "markdown",
   "id": "babe8ed6",
   "metadata": {},
   "source": [
    " p  y  t  h  o  n"
   ]
  },
  {
   "cell_type": "markdown",
   "id": "32646516",
   "metadata": {},
   "source": [
    " 0  1  2  3  4  5\n"
   ]
  },
  {
   "cell_type": "markdown",
   "id": "3c286d56",
   "metadata": {},
   "source": [
    "-6 -5 -4 -3 -2 -1\n",
    "\n",
    "인덱스는 특정 데이터를 가리키는 번호를 나타냄"
   ]
  },
  {
   "cell_type": "code",
   "execution_count": 39,
   "id": "cfaac0a5",
   "metadata": {},
   "outputs": [
    {
     "name": "stdout",
     "output_type": "stream",
     "text": [
      "라\n"
     ]
    }
   ],
   "source": [
    "print (some_stirng[3])\n",
    "## 앞에서부터 3+1번째 출력해줌"
   ]
  },
  {
   "cell_type": "code",
   "execution_count": 40,
   "id": "ff53e619",
   "metadata": {},
   "outputs": [],
   "source": [
    "string1 = \"python\"\n",
    "string2 = \"Hello\"\n"
   ]
  },
  {
   "cell_type": "code",
   "execution_count": 41,
   "id": "4ab6a186",
   "metadata": {},
   "outputs": [
    {
     "name": "stdout",
     "output_type": "stream",
     "text": [
      "python\n",
      "t\n",
      "th\n"
     ]
    }
   ],
   "source": [
    "print (string1)\n",
    "print (string1[2]) #번호 지정해주는걸 인덱싱\n",
    "print (string1[2:4] ) #"
   ]
  },
  {
   "cell_type": "markdown",
   "id": "c1a30693",
   "metadata": {},
   "source": [
    "## count\n",
    "## len\n",
    "## find\n",
    "## replace 특정문자 다른문자열로\n",
    "## [] 인덱싱\n",
    "## [:]특정 문자열부터 특정문자열까지 추출하는걸 슬라이싱"
   ]
  },
  {
   "cell_type": "code",
   "execution_count": 48,
   "id": "1f3933c5",
   "metadata": {},
   "outputs": [
    {
     "name": "stdout",
     "output_type": "stream",
     "text": [
      ",,,computer...\n"
     ]
    },
    {
     "data": {
      "text/plain": [
       "'computer...'"
      ]
     },
     "execution_count": 48,
     "metadata": {},
     "output_type": "execute_result"
    }
   ],
   "source": [
    "string3 = \",,,computer...\"\n",
    "print(string3)\n",
    "string3.strip(\",\")    ## ,들어간거 다 지워줌"
   ]
  },
  {
   "cell_type": "code",
   "execution_count": 49,
   "id": "e4d6350b",
   "metadata": {},
   "outputs": [
    {
     "data": {
      "text/plain": [
       "',,,computer'"
      ]
     },
     "execution_count": 49,
     "metadata": {},
     "output_type": "execute_result"
    }
   ],
   "source": [
    "string3.strip(\".\")   ## .들어간거 다 지워줌"
   ]
  },
  {
   "cell_type": "markdown",
   "id": "0f6fc70c",
   "metadata": {},
   "source": [
    "## 스페이스바가 많거나 하면 싹 지우는데 사용함"
   ]
  },
  {
   "cell_type": "code",
   "execution_count": null,
   "id": "919f651a",
   "metadata": {},
   "outputs": [],
   "source": []
  }
 ],
 "metadata": {
  "kernelspec": {
   "display_name": "Python 3 (ipykernel)",
   "language": "python",
   "name": "python3"
  },
  "language_info": {
   "codemirror_mode": {
    "name": "ipython",
    "version": 3
   },
   "file_extension": ".py",
   "mimetype": "text/x-python",
   "name": "python",
   "nbconvert_exporter": "python",
   "pygments_lexer": "ipython3",
   "version": "3.9.7"
  }
 },
 "nbformat": 4,
 "nbformat_minor": 5
}
