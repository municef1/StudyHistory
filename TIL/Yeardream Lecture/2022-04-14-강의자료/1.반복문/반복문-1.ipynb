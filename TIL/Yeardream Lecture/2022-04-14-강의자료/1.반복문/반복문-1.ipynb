{
 "cells": [
  {
   "cell_type": "markdown",
   "metadata": {},
   "source": [
    "# 반복문\n",
    "반복문은 자료구조의 데이터 수만큼 코드를 반복실행 합니다.  \n",
    "자료구조에 있는 \"데이터를 하나씩 바인딩하고 들여쓰기된 코드를 실행\" 과정을 반복하는 겁니다. \n",
    "  \n",
    "## 반복문 - 기본형\n",
    "`for 변수 in 자료구조 : ` 형태로 코드를 작성합니다. 코드 끝에 콜론 `:` 있음에 주의하세요. 분기문과 같이 콜론 다음에는 들여쓰기와 함께 영향을 받는 코드를 작성합니다. "
   ]
  },
  {
   "cell_type": "markdown",
   "metadata": {},
   "source": [
    "<img src=\"https://i.ibb.co/gR952tp/for-0.png\" width=\"300\" style=\"float:left\" />"
   ]
  },
  {
   "cell_type": "markdown",
   "metadata": {},
   "source": [
    "###### 반복문을 사용하지 않고 한 줄에 하나의 값 출력하기"
   ]
  },
  {
   "cell_type": "code",
   "execution_count": null,
   "metadata": {},
   "outputs": [],
   "source": [
    "리스트 = [\"가\", \"나\", \"다\", \"라\"]\n",
    "print(리스트[0])\n",
    "print(리스트[1])\n",
    "print(리스트[2])\n",
    "print(리스트[3])"
   ]
  },
  {
   "cell_type": "markdown",
   "metadata": {},
   "source": [
    "###### 반복문으로 코드를 정리하기"
   ]
  },
  {
   "cell_type": "code",
   "execution_count": null,
   "metadata": {},
   "outputs": [],
   "source": [
    "for 반복 in 리스트:\n",
    "    print(반복)"
   ]
  },
  {
   "cell_type": "markdown",
   "metadata": {},
   "source": [
    "###### 연습문제 - 1\n",
    "다음 코드의 실행 결과를 예측하라."
   ]
  },
  {
   "cell_type": "markdown",
   "metadata": {},
   "source": [
    "```python\n",
    "리스트 = [\"가\", \"나\", \"다\"]\n",
    "for 변수 in 리스트 :\n",
    "    print(변수)\n",
    "    print(\"-\" * 10)\n",
    "for 변수 in 리스트 :\n",
    "    print(변수)\n",
    "```"
   ]
  },
  {
   "cell_type": "code",
   "execution_count": null,
   "metadata": {},
   "outputs": [],
   "source": [
    "리스트 = [\"가\", \"나\", \"다\"]\n",
    "for 변수 in 리스트 :\n",
    "    print(변수)\n",
    "    print(\"-\" * 10)\n",
    "for 변수 in 리스트 :\n",
    "    print(변수)\n"
   ]
  },
  {
   "cell_type": "markdown",
   "metadata": {},
   "source": [
    "```python\n",
    "리스트 = [\"가\", \"나\", \"다\"]\n",
    "for 변수 in 리스트 :\n",
    "    print(변수)    \n",
    "    for k in 리스트 :\n",
    "        print(k)\n",
    "```"
   ]
  },
  {
   "cell_type": "code",
   "execution_count": null,
   "metadata": {
    "scrolled": true
   },
   "outputs": [],
   "source": [
    "리스트 = [\"가\", \"나\", \"다\"]\n",
    "for 변수 in 리스트 :\n",
    "    print(변수)\n",
    "    print(\"\")\n",
    "    for k in 리스트 :\n",
    "        print(k)\n",
    "    print(\"-\"*10)"
   ]
  },
  {
   "attachments": {},
   "cell_type": "markdown",
   "metadata": {},
   "source": [
    "공백을 넣어주면 어디서 반복됐는지 보기쉬움"
   ]
  },
  {
   "cell_type": "markdown",
   "metadata": {},
   "source": [
    "\n",
    "\n",
    "###### 연습문제 - 2\n",
    "리스트에서 앞의 두 개의 값을 다음과 같이 출력하라.  \n",
    "```\n",
    "가\n",
    "나\n",
    "```"
   ]
  },
  {
   "cell_type": "code",
   "execution_count": null,
   "metadata": {},
   "outputs": [],
   "source": [
    "# 슬라이싱 이용해서 문제를 해결하라.\n",
    "리스트 = [\"가\", \"나\", \"다\"]\n",
    "for 변수 in 리스트[:2]:\n",
    "    print(변수)"
   ]
  },
  {
   "cell_type": "code",
   "execution_count": null,
   "metadata": {},
   "outputs": [],
   "source": [
    "print(리스트 [ 0 : 2 ])\n"
   ]
  },
  {
   "cell_type": "code",
   "execution_count": null,
   "metadata": {},
   "outputs": [],
   "source": [
    "print(리스트 [ 0 : -1])"
   ]
  },
  {
   "cell_type": "code",
   "execution_count": null,
   "metadata": {},
   "outputs": [],
   "source": [
    "# 분기문을 이용해서 문제를 해결하라.\n",
    "리스트 = [\"가\", \"나\", \"다\"]\n",
    "for 변수 in 리스트:\n",
    "    if 변수 != \"다\" :\n",
    "        print(변수)"
   ]
  },
  {
   "cell_type": "code",
   "execution_count": null,
   "metadata": {
    "scrolled": false
   },
   "outputs": [],
   "source": [
    "num = 0\n",
    "for i in 리스트:\n",
    "    num = num + 1\n",
    "    if num < 3:\n",
    "        print(i)"
   ]
  },
  {
   "cell_type": "code",
   "execution_count": null,
   "metadata": {},
   "outputs": [],
   "source": [
    "i = 1     #리스트 0번 데이터\n",
    "if i != 3:\n",
    "    print(i)\n",
    "    \n",
    "i = 2     #리스트 1번 데이터\n",
    "if i != 3:\n",
    "    print(i)\n",
    "\n",
    "i = 3     #리스트 2번 데이터\n",
    "if i != 3:\n",
    "    print (i)\n"
   ]
  },
  {
   "cell_type": "markdown",
   "metadata": {},
   "source": [
    "###### 연습문제 - 3\n",
    "20 이상인 값을 출력하라"
   ]
  },
  {
   "cell_type": "code",
   "execution_count": null,
   "metadata": {
    "scrolled": true
   },
   "outputs": [],
   "source": [
    "리스트 = [20, 10, 30]\n",
    "for 변수 in 리스트:\n",
    "    if 변수 >= 20:\n",
    "        print(변수)"
   ]
  },
  {
   "cell_type": "markdown",
   "metadata": {},
   "source": [
    "20 인 값을 리스트에 저장하라"
   ]
  },
  {
   "cell_type": "code",
   "execution_count": null,
   "metadata": {},
   "outputs": [],
   "source": [
    "r = [         ]\n",
    "리스트 = [20, 10, 30]\n",
    "for 변수 in 리스트:\n",
    "    if 변수 >= 20:\n",
    "        r.append(변수)\n",
    "        print(r)"
   ]
  },
  {
   "cell_type": "markdown",
   "metadata": {},
   "source": [
    "###### 연습문제 - 4\n",
    "`xls` 파일만을 출력하라"
   ]
  },
  {
   "cell_type": "code",
   "execution_count": null,
   "metadata": {},
   "outputs": [],
   "source": [
    "리스트 = [\"ab.xls\", \"a.hwp\", \"b.exe\", \"bbbbb.xls\", \"xls.hwp\"]\n"
   ]
  },
  {
   "cell_type": "code",
   "execution_count": null,
   "metadata": {},
   "outputs": [],
   "source": [
    "for i in 리스트:\n",
    "    if i.find(\"xls\") > 0:\n",
    "        print(i)\n"
   ]
  },
  {
   "cell_type": "code",
   "execution_count": null,
   "metadata": {},
   "outputs": [],
   "source": [
    "for 변수 in 리스트:\n",
    "    if 변수[-3: ] == \"xls\":\n",
    "        print(변수)"
   ]
  },
  {
   "cell_type": "code",
   "execution_count": null,
   "metadata": {},
   "outputs": [],
   "source": [
    "for 변수 in 리스트:\n",
    "    if 변수.endswith(\"xls\"):\n",
    "        print(변수)"
   ]
  },
  {
   "cell_type": "code",
   "execution_count": null,
   "metadata": {},
   "outputs": [],
   "source": [
    "for 변수 in 리스트:\n",
    "    if \".xls\" in 변수:\n",
    "        print(변수)"
   ]
  },
  {
   "cell_type": "code",
   "execution_count": null,
   "metadata": {},
   "outputs": [],
   "source": [
    "# 결과를 리스트에 저장하라"
   ]
  },
  {
   "cell_type": "code",
   "execution_count": null,
   "metadata": {},
   "outputs": [],
   "source": [
    "\n",
    "result = []                               # 2. 그래서 result가 뭔지 알려주면 됨!\n",
    "for 변수 in 리스트:\n",
    "    if 변수.endswith(\"xls\"):\n",
    "        result.append(변수)               # 1. result에서 이게 뭔 자료형인지 몰라!\n",
    "        \n",
    "        print(리스트)"
   ]
  },
  {
   "cell_type": "code",
   "execution_count": null,
   "metadata": {},
   "outputs": [],
   "source": [
    "# 비트코인으로 예시!"
   ]
  },
  {
   "cell_type": "code",
   "execution_count": 5,
   "metadata": {},
   "outputs": [
    {
     "name": "stdout",
     "output_type": "stream",
     "text": [
      "Requirement already satisfied: pybithumb in c:\\users\\esee\\anaconda3\\lib\\site-packages (1.0.21)\n",
      "Requirement already satisfied: websockets in c:\\users\\esee\\anaconda3\\lib\\site-packages (from pybithumb) (10.2)\n",
      "Requirement already satisfied: pandas in c:\\users\\esee\\anaconda3\\lib\\site-packages (from pybithumb) (1.3.4)\n",
      "Requirement already satisfied: bs4 in c:\\users\\esee\\anaconda3\\lib\\site-packages (from pybithumb) (0.0.1)\n",
      "Requirement already satisfied: html5lib in c:\\users\\esee\\anaconda3\\lib\\site-packages (from pybithumb) (1.1)\n",
      "Requirement already satisfied: datetime in c:\\users\\esee\\anaconda3\\lib\\site-packages (from pybithumb) (4.4)\n",
      "Requirement already satisfied: requests in c:\\users\\esee\\anaconda3\\lib\\site-packages (from pybithumb) (2.26.0)\n",
      "Requirement already satisfied: beautifulsoup4 in c:\\users\\esee\\anaconda3\\lib\\site-packages (from bs4->pybithumb) (4.10.0)\n",
      "Requirement already satisfied: zope.interface in c:\\users\\esee\\anaconda3\\lib\\site-packages (from datetime->pybithumb) (5.4.0)\n",
      "Requirement already satisfied: pytz in c:\\users\\esee\\anaconda3\\lib\\site-packages (from datetime->pybithumb) (2021.3)\n",
      "Requirement already satisfied: six>=1.9 in c:\\users\\esee\\anaconda3\\lib\\site-packages (from html5lib->pybithumb) (1.16.0)\n",
      "Requirement already satisfied: webencodings in c:\\users\\esee\\anaconda3\\lib\\site-packages (from html5lib->pybithumb) (0.5.1)\n",
      "Requirement already satisfied: numpy>=1.17.3 in c:\\users\\esee\\anaconda3\\lib\\site-packages (from pandas->pybithumb) (1.20.3)\n",
      "Requirement already satisfied: python-dateutil>=2.7.3 in c:\\users\\esee\\anaconda3\\lib\\site-packages (from pandas->pybithumb) (2.8.2)\n",
      "Requirement already satisfied: charset-normalizer~=2.0.0 in c:\\users\\esee\\anaconda3\\lib\\site-packages (from requests->pybithumb) (2.0.4)\n",
      "Requirement already satisfied: idna<4,>=2.5 in c:\\users\\esee\\anaconda3\\lib\\site-packages (from requests->pybithumb) (3.2)\n",
      "Requirement already satisfied: certifi>=2017.4.17 in c:\\users\\esee\\anaconda3\\lib\\site-packages (from requests->pybithumb) (2021.10.8)\n",
      "Requirement already satisfied: urllib3<1.27,>=1.21.1 in c:\\users\\esee\\anaconda3\\lib\\site-packages (from requests->pybithumb) (1.26.7)\n",
      "Requirement already satisfied: soupsieve>1.2 in c:\\users\\esee\\anaconda3\\lib\\site-packages (from beautifulsoup4->bs4->pybithumb) (2.2.1)\n",
      "Requirement already satisfied: setuptools in c:\\users\\esee\\anaconda3\\lib\\site-packages (from zope.interface->datetime->pybithumb) (58.0.4)\n",
      "Note: you may need to restart the kernel to use updated packages.\n"
     ]
    }
   ],
   "source": [
    "pip install pybithumb"
   ]
  },
  {
   "cell_type": "code",
   "execution_count": 6,
   "metadata": {},
   "outputs": [
    {
     "data": {
      "text/plain": [
       "51586000.0"
      ]
     },
     "execution_count": 6,
     "metadata": {},
     "output_type": "execute_result"
    }
   ],
   "source": [
    "import pybithumb\n",
    "import time\n",
    "\n",
    "pybithumb.get_current_price(\"BTC\")"
   ]
  },
  {
   "cell_type": "code",
   "execution_count": 7,
   "metadata": {},
   "outputs": [
    {
     "name": "stdout",
     "output_type": "stream",
     "text": [
      "51586000.0\n",
      "916.7\n"
     ]
    }
   ],
   "source": [
    "price = pybithumb.get_current_price(\"BTC\")\n",
    "print(price)\n",
    "time.sleep(1)\n",
    "\n",
    "price = pybithumb.get_current_price(\"XRP\")\n",
    "print(price)\n",
    "time.sleep(1)"
   ]
  },
  {
   "cell_type": "code",
   "execution_count": null,
   "metadata": {
    "scrolled": true
   },
   "outputs": [],
   "source": [
    "for 변수 in [\"BTC\", \"XRP\"]:\n",
    "    price = pybithumb.get_current_price(변수)\n",
    "    print(price)\n",
    "    time.sleep(1)"
   ]
  },
  {
   "cell_type": "code",
   "execution_count": null,
   "metadata": {},
   "outputs": [],
   "source": [
    "tickers = pybithumb.get_tickers()\n",
    "len(tickers)  # 종목 갯수"
   ]
  },
  {
   "cell_type": "code",
   "execution_count": null,
   "metadata": {},
   "outputs": [],
   "source": [
    "for 변수 in tickers [:3]:\n",
    "    price = pybithumb.get_current_price(변수)\n",
    "    print(f\"{변수}: {price}\")\n",
    "    time.sleep(1)"
   ]
  },
  {
   "cell_type": "code",
   "execution_count": null,
   "metadata": {},
   "outputs": [],
   "source": [
    "# 가격을 조회하고 버리지 말고 저장하고싶다?"
   ]
  },
  {
   "cell_type": "code",
   "execution_count": null,
   "metadata": {
    "scrolled": true
   },
   "outputs": [],
   "source": [
    "result = [       ]\n",
    "for 변수 in tickers [:3]:\n",
    "    price = pybithumb.get_current_price(변수)\n",
    "    print(f\"{변수}: {price}\")\n",
    "    result.append(price)\n",
    "    time.sleep(1)"
   ]
  },
  {
   "cell_type": "code",
   "execution_count": null,
   "metadata": {
    "scrolled": true
   },
   "outputs": [],
   "source": [
    "result"
   ]
  },
  {
   "cell_type": "code",
   "execution_count": null,
   "metadata": {},
   "outputs": [],
   "source": [
    "#  while이란거 쓰면 계속 반복시킬수 있음!!"
   ]
  },
  {
   "cell_type": "code",
   "execution_count": null,
   "metadata": {},
   "outputs": [],
   "source": [
    "while True:\n",
    "    print(pybithumb.get_current_price(\"BTC\"))\n",
    "    time.sleep(1)"
   ]
  },
  {
   "cell_type": "code",
   "execution_count": null,
   "metadata": {},
   "outputs": [],
   "source": [
    "# 20번 불러오고 스톱!"
   ]
  },
  {
   "cell_type": "code",
   "execution_count": 16,
   "metadata": {},
   "outputs": [
    {
     "name": "stdout",
     "output_type": "stream",
     "text": [
      "0. 51593000.0\n",
      "1. 51593000.0\n",
      "2. 51593000.0\n",
      "3. 51593000.0\n",
      "4. 51593000.0\n",
      "5. 51593000.0\n",
      "6. 51593000.0\n",
      "7. 51593000.0\n",
      "8. 51593000.0\n",
      "9. 51593000.0\n",
      "10. 51593000.0\n",
      "11. 51593000.0\n",
      "12. 51593000.0\n",
      "13. 51593000.0\n",
      "14. 51593000.0\n",
      "15. 51593000.0\n",
      "16. 51593000.0\n",
      "17. 51593000.0\n",
      "18. 51593000.0\n",
      "19. 51593000.0\n",
      "20. 51593000.0\n"
     ]
    }
   ],
   "source": [
    "flag = 0\n",
    "btc = pybithumb.get_current_price(\"BTC\")\n",
    "while True:\n",
    "    if flag <= 20:\n",
    "        print(f\"{flag}. {btc}\")\n",
    "        time.sleep(1)\n",
    "        flag += 1\n",
    "        if flag > 20:\n",
    "            break"
   ]
  },
  {
   "cell_type": "code",
   "execution_count": null,
   "metadata": {},
   "outputs": [],
   "source": []
  },
  {
   "cell_type": "markdown",
   "metadata": {},
   "source": [
    "# 정리\n",
    "- 인덱싱 : 하나의 데이터를 선택\n",
    "- 슬라이싱 : 하나 이상의 데이터를 선택"
   ]
  },
  {
   "cell_type": "code",
   "execution_count": 2,
   "metadata": {},
   "outputs": [
    {
     "data": {
      "text/plain": [
       "'안'"
      ]
     },
     "execution_count": 2,
     "metadata": {},
     "output_type": "execute_result"
    }
   ],
   "source": [
    "문자열 = \"안녕 디지몬\"\n",
    "문자열[ 0 ] # \"안\" 앞부분이 0이라는 위치임!"
   ]
  },
  {
   "cell_type": "code",
   "execution_count": 3,
   "metadata": {},
   "outputs": [
    {
     "data": {
      "text/plain": [
       "'가'"
      ]
     },
     "execution_count": 3,
     "metadata": {},
     "output_type": "execute_result"
    }
   ],
   "source": [
    "리스트 = [\"가\", \"나\", \"다\"]\n",
    "리스트[0]"
   ]
  },
  {
   "cell_type": "code",
   "execution_count": null,
   "metadata": {},
   "outputs": [],
   "source": []
  },
  {
   "cell_type": "markdown",
   "metadata": {},
   "source": [
    "###### 연습문제 - 5\n",
    "반복문을 사용해서 변수에 저장된 종목을 화면에 출력하라.  \n",
    "```\n",
    "보유종목:Naver \n",
    "보유종목:Samsung\n",
    "보유종목:SK Hynix\n",
    "```"
   ]
  },
  {
   "cell_type": "code",
   "execution_count": null,
   "metadata": {},
   "outputs": [],
   "source": [
    "interest_stocks = [\"Naver\", \"Samsung\", \"SK Hynix\"]"
   ]
  },
  {
   "cell_type": "code",
   "execution_count": null,
   "metadata": {},
   "outputs": [],
   "source": []
  },
  {
   "cell_type": "code",
   "execution_count": null,
   "metadata": {},
   "outputs": [],
   "source": []
  },
  {
   "cell_type": "markdown",
   "metadata": {},
   "source": [
    "###### 연습문제 - 6\n",
    "반복문을 사용해서 변수에 저장된 종목을 화면에 출력하라.  \n",
    "```\n",
    "보유종목:Naver \n",
    "--------------\n",
    "보유종목:Samsung\n",
    "--------------\n",
    "보유종목:SK Hynix\n",
    "--------------\n",
    "```"
   ]
  },
  {
   "cell_type": "code",
   "execution_count": null,
   "metadata": {},
   "outputs": [],
   "source": [
    "interest_stocks = [\"Naver\", \"Samsung\", \"SK Hynix\"]"
   ]
  },
  {
   "cell_type": "markdown",
   "metadata": {},
   "source": [
    "###### 연습문제 - 7\n",
    "반복문을 사용해서 변수에 저장된 종목을 화면에 출력하라.   \n",
    "```\n",
    "1999년 성적: 수 \n",
    "2000년 성적: 양 \n",
    "2001년 성적: 미 \n",
    "2002년 성적: 수 \n",
    "```"
   ]
  },
  {
   "cell_type": "code",
   "execution_count": null,
   "metadata": {},
   "outputs": [],
   "source": [
    "my_grade = [\"1999-수\", \"2000-양\", \"2001-미\", \"2002-수\"]\n",
    "\n",
    "\n"
   ]
  },
  {
   "cell_type": "markdown",
   "metadata": {},
   "source": [
    "문제 더 풀어보기  \n",
    "- https://wikidocs.net/78562\n",
    "- https://wikidocs.net/7020\n",
    "- https://wikidocs.net/78768"
   ]
  },
  {
   "cell_type": "code",
   "execution_count": null,
   "metadata": {},
   "outputs": [],
   "source": []
  }
 ],
 "metadata": {
  "kernelspec": {
   "display_name": "Python 3 (ipykernel)",
   "language": "python",
   "name": "python3"
  },
  "language_info": {
   "codemirror_mode": {
    "name": "ipython",
    "version": 3
   },
   "file_extension": ".py",
   "mimetype": "text/x-python",
   "name": "python",
   "nbconvert_exporter": "python",
   "pygments_lexer": "ipython3",
   "version": "3.9.7"
  },
  "toc": {
   "base_numbering": 1,
   "nav_menu": {},
   "number_sections": true,
   "sideBar": true,
   "skip_h1_title": false,
   "title_cell": "Table of Contents",
   "title_sidebar": "Contents",
   "toc_cell": false,
   "toc_position": {},
   "toc_section_display": true,
   "toc_window_display": false
  }
 },
 "nbformat": 4,
 "nbformat_minor": 4
}
