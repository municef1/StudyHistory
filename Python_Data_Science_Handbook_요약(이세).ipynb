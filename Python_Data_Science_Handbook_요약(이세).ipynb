{
  "nbformat": 4,
  "nbformat_minor": 0,
  "metadata": {
    "colab": {
      "name": "Python Data Science Handbook 요약(이세).ipynb",
      "provenance": [],
      "collapsed_sections": [],
      "authorship_tag": "ABX9TyOSi0XSpYeKtO8L8tlGH95j",
      "include_colab_link": true
    },
    "kernelspec": {
      "name": "python3",
      "display_name": "Python 3"
    },
    "language_info": {
      "name": "python"
    }
  },
  "cells": [
    {
      "cell_type": "markdown",
      "metadata": {
        "id": "view-in-github",
        "colab_type": "text"
      },
      "source": [
        "<a href=\"https://colab.research.google.com/github/municef1/Yeardream/blob/main/Python_Data_Science_Handbook_%EC%9A%94%EC%95%BD(%EC%9D%B4%EC%84%B8).ipynb\" target=\"_parent\"><img src=\"https://colab.research.google.com/assets/colab-badge.svg\" alt=\"Open In Colab\"/></a>"
      ]
    },
    {
      "cell_type": "markdown",
      "source": [
        ""
      ],
      "metadata": {
        "id": "WSh-0bVIyxm9"
      }
    },
    {
      "cell_type": "markdown",
      "metadata": {
        "id": "-tozTLSAxxa6"
      },
      "source": [
        "<!--BOOK_INFORMATION-->\n",
        "<img align=\"left\" style=\"padding-right:10px;\" src=\"https://github.com/jakevdp/PythonDataScienceHandbook/blob/master/notebooks/figures/PDSH-cover-small.png?raw=1\">\n",
        "\n",
        "# Python Data Science Handbook 번역 요약 - 문이세"
      ]
    },
    {
      "cell_type": "markdown",
      "source": [
        "# iPython\n",
        "사용자와 문서, 검색유형 간의 격차를 줄여 작업을 효율적으로 수행하게 해줌\n"
      ],
      "metadata": {
        "id": "HCHtgdVyzRXb"
      }
    },
    {
      "cell_type": "markdown",
      "source": [
        "Python에는 help()함수가 내장되어 있어 대부분의 객체에 대한 간결한 요약과 사용법을 볼 수 있다.\n"
      ],
      "metadata": {
        "id": "yVyhHjCJzg0b"
      }
    },
    {
      "cell_type": "markdown",
      "source": [
        "iPython에서는 ? 이라는 약어로 도움말을 불러올 수 있다.\n",
        "객체 매서드를 포함하여 거의 모든 것에 대해 작동한다."
      ],
      "metadata": {
        "id": "YBGQEUgh0BPX"
      }
    },
    {
      "cell_type": "code",
      "source": [
        "L = [1,2,3]\n",
        "L.insert?"
      ],
      "metadata": {
        "id": "bCNvAqFM0Qa6"
      },
      "execution_count": null,
      "outputs": []
    },
    {
      "cell_type": "code",
      "source": [
        "help(min)"
      ],
      "metadata": {
        "colab": {
          "base_uri": "https://localhost:8080/"
        },
        "id": "076-5EJ80Tpi",
        "outputId": "7848a0b2-e7af-4de3-b01d-26e1c223b1d0"
      },
      "execution_count": null,
      "outputs": [
        {
          "output_type": "stream",
          "name": "stdout",
          "text": [
            "Help on built-in function min in module builtins:\n",
            "\n",
            "min(...)\n",
            "    min(iterable, *[, default=obj, key=func]) -> value\n",
            "    min(arg1, arg2, *args, *[, key=func]) -> value\n",
            "    \n",
            "    With a single iterable argument, return its smallest item. The\n",
            "    default keyword-only argument specifies an object to return if\n",
            "    the provided iterable is empty.\n",
            "    With two or more arguments, return the smallest argument.\n",
            "\n"
          ]
        }
      ]
    },
    {
      "cell_type": "code",
      "source": [
        "max?"
      ],
      "metadata": {
        "id": "BZsiF33e0gPp"
      },
      "execution_count": null,
      "outputs": []
    },
    {
      "cell_type": "markdown",
      "source": [
        "코랩에서는 오른쪽에 도움말로 설명이 나오게된다.\n",
        "\n",
        "내가 직접 짠 기능이나 오브젝트도 적용한다!"
      ],
      "metadata": {
        "id": "XKmK23ZJ0sCg"
      }
    },
    {
      "cell_type": "code",
      "source": [
        "def square(a) :\n",
        "  \"\"\"Return the square of a.\"\"\"\n",
        "  return a ** 2"
      ],
      "metadata": {
        "id": "lP73vEcO0u9O"
      },
      "execution_count": null,
      "outputs": []
    },
    {
      "cell_type": "code",
      "source": [
        "square?"
      ],
      "metadata": {
        "id": "xV-ImQke0-2_"
      },
      "execution_count": null,
      "outputs": []
    },
    {
      "cell_type": "markdown",
      "source": [
        "# 탭 완성으로 모듈 탐색하기"
      ],
      "metadata": {
        "id": "ItCaKF4d1d5d"
      }
    },
    {
      "cell_type": "markdown",
      "source": [
        "iPython에서는 객체, 모듈, 이름 부분의 내용을 자동으로 완성하고 탐색하기 위해 탭키를 사용할 수 있다.\n",
        "\n",
        "L. < TAB >\n",
        "을 누르면 원하는 속성 및 매서드가 뜰것임.(코랩은 안되는듯, 주피터 노트북에서는 실행됨!, 이 문서는 ipython을 실행했을 때를 가정하고 설명되고 있음!)\n"
      ],
      "metadata": {
        "id": "_iFDiZYT10qO"
      }
    },
    {
      "cell_type": "markdown",
      "source": [
        "### from itertools import co < tab누르기 >\n",
        "\n",
        "##### combinations                   compress\n",
        "##### combinations_with_replacement  count\n",
        "이런것이 뜰거임"
      ],
      "metadata": {
        "id": "9bUbQIQ34qJX"
      }
    },
    {
      "cell_type": "code",
      "source": [
        "import math\n",
        "\n",
        "math.sin(2)"
      ],
      "metadata": {
        "id": "UzmnRSVh4qFC",
        "colab": {
          "base_uri": "https://localhost:8080/"
        },
        "outputId": "9b74df78-eb57-498b-84f3-7a4cd0b7c36b"
      },
      "execution_count": 1,
      "outputs": [
        {
          "output_type": "execute_result",
          "data": {
            "text/plain": [
              "0.9092974268256817"
            ]
          },
          "metadata": {},
          "execution_count": 1
        }
      ]
    },
    {
      "cell_type": "code",
      "source": [
        "math.cos(2)"
      ],
      "metadata": {
        "colab": {
          "base_uri": "https://localhost:8080/"
        },
        "id": "WLjiDY5JyAz6",
        "outputId": "efdd4378-4fc1-499f-86ee-f9709f42995b"
      },
      "execution_count": 2,
      "outputs": [
        {
          "output_type": "execute_result",
          "data": {
            "text/plain": [
              "-0.4161468365471424"
            ]
          },
          "metadata": {},
          "execution_count": 2
        }
      ]
    },
    {
      "cell_type": "code",
      "source": [
        "print(In) # 명령을 순서대로 추적하는 목록"
      ],
      "metadata": {
        "colab": {
          "base_uri": "https://localhost:8080/"
        },
        "id": "TeuuNljoyDBW",
        "outputId": "0ecbae9a-a560-499e-ced6-2fca04540b20"
      },
      "execution_count": 3,
      "outputs": [
        {
          "output_type": "stream",
          "name": "stdout",
          "text": [
            "['', 'import math\\n\\nmath.sin(2)', 'math.cos(2)', 'print(In) # 명령을 순서대로 추적하는 목록']\n"
          ]
        }
      ]
    },
    {
      "cell_type": "code",
      "source": [
        "print(In[1])\n",
        "import math"
      ],
      "metadata": {
        "colab": {
          "base_uri": "https://localhost:8080/"
        },
        "id": "6OazW75LyEIu",
        "outputId": "8bac579a-dc6e-4b69-8e42-5d77a8a0c1ed"
      },
      "execution_count": 4,
      "outputs": [
        {
          "output_type": "stream",
          "name": "stdout",
          "text": [
            "import math\n",
            "\n",
            "math.sin(2)\n"
          ]
        }
      ]
    },
    {
      "cell_type": "code",
      "source": [
        "print(Out[2])"
      ],
      "metadata": {
        "colab": {
          "base_uri": "https://localhost:8080/"
        },
        "id": "S9DV_ntYyFjt",
        "outputId": "6cfe2626-58d3-4e9f-c86d-90a9a5b037e2"
      },
      "execution_count": 5,
      "outputs": [
        {
          "output_type": "stream",
          "name": "stdout",
          "text": [
            "-0.4161468365471424\n"
          ]
        }
      ]
    },
    {
      "cell_type": "code",
      "source": [
        "Out[1] ** 2 + Out[2] ** 2"
      ],
      "metadata": {
        "colab": {
          "base_uri": "https://localhost:8080/"
        },
        "id": "Zxq7WZcFyGy4",
        "outputId": "71d8e5d7-5866-4db8-ef0b-a7a72cb52d99"
      },
      "execution_count": 6,
      "outputs": [
        {
          "output_type": "execute_result",
          "data": {
            "text/plain": [
              "1.0"
            ]
          },
          "metadata": {},
          "execution_count": 6
        }
      ]
    },
    {
      "cell_type": "code",
      "source": [
        "def eese(x):\n",
        "  return math.sin(x)"
      ],
      "metadata": {
        "id": "RFN-U4iXyI0Q"
      },
      "execution_count": 7,
      "outputs": []
    },
    {
      "cell_type": "code",
      "source": [
        "eese(1)"
      ],
      "metadata": {
        "colab": {
          "base_uri": "https://localhost:8080/"
        },
        "id": "fxumAtrAyKlb",
        "outputId": "3565cab4-f2f5-449c-8de0-f0187c0cb751"
      },
      "execution_count": 8,
      "outputs": [
        {
          "output_type": "execute_result",
          "data": {
            "text/plain": [
              "0.8414709848078965"
            ]
          },
          "metadata": {},
          "execution_count": 8
        }
      ]
    },
    {
      "cell_type": "code",
      "source": [
        "print(_)"
      ],
      "metadata": {
        "colab": {
          "base_uri": "https://localhost:8080/"
        },
        "id": "eE513SXjyMKt",
        "outputId": "d9a091c0-4390-429d-d0ef-e9e0b5210d55"
      },
      "execution_count": 9,
      "outputs": [
        {
          "output_type": "stream",
          "name": "stdout",
          "text": [
            "0.8414709848078965\n"
          ]
        }
      ]
    },
    {
      "cell_type": "code",
      "source": [
        "print(__)"
      ],
      "metadata": {
        "colab": {
          "base_uri": "https://localhost:8080/"
        },
        "id": "Q4GkM6ewyODZ",
        "outputId": "25996624-2298-4bf9-a57f-eb07b1aed7e2"
      },
      "execution_count": 10,
      "outputs": [
        {
          "output_type": "stream",
          "name": "stdout",
          "text": [
            "1.0\n"
          ]
        }
      ]
    },
    {
      "cell_type": "code",
      "source": [
        "print(___)"
      ],
      "metadata": {
        "colab": {
          "base_uri": "https://localhost:8080/"
        },
        "id": "Fr5IMgobyPpM",
        "outputId": "187dbbef-2fb0-4d1e-feeb-c520f7988f64"
      },
      "execution_count": 11,
      "outputs": [
        {
          "output_type": "stream",
          "name": "stdout",
          "text": [
            "-0.4161468365471424\n"
          ]
        }
      ]
    },
    {
      "cell_type": "code",
      "source": [
        "_2"
      ],
      "metadata": {
        "colab": {
          "base_uri": "https://localhost:8080/"
        },
        "id": "zIq_yreiyR-U",
        "outputId": "2dd26f05-62f1-4d18-82e4-f627640eaa20"
      },
      "execution_count": 12,
      "outputs": [
        {
          "output_type": "execute_result",
          "data": {
            "text/plain": [
              "-0.4161468365471424"
            ]
          },
          "metadata": {},
          "execution_count": 12
        }
      ]
    },
    {
      "cell_type": "code",
      "source": [
        "math.sin(2) + math.cos(2);\n",
        "# ;은 출력 억제해줌"
      ],
      "metadata": {
        "id": "ob6ugJR5yTeT"
      },
      "execution_count": 13,
      "outputs": []
    },
    {
      "cell_type": "code",
      "source": [
        "13 in Out"
      ],
      "metadata": {
        "colab": {
          "base_uri": "https://localhost:8080/"
        },
        "id": "zeBV3O9NyVDi",
        "outputId": "02b7f5e2-3e2e-4509-a4be-5fa0c4ac91e3"
      },
      "execution_count": 14,
      "outputs": [
        {
          "output_type": "execute_result",
          "data": {
            "text/plain": [
              "False"
            ]
          },
          "metadata": {},
          "execution_count": 14
        }
      ]
    },
    {
      "cell_type": "code",
      "source": [
        "%history -n 1-14"
      ],
      "metadata": {
        "colab": {
          "base_uri": "https://localhost:8080/"
        },
        "id": "_LnYz6U9yWLP",
        "outputId": "5f634195-c5c0-4bd8-f830-e471f5b6822f"
      },
      "execution_count": 15,
      "outputs": [
        {
          "output_type": "stream",
          "name": "stdout",
          "text": [
            "   1:\n",
            "import math\n",
            "\n",
            "math.sin(2)\n",
            "   2: math.cos(2)\n",
            "   3: print(In) # 명령을 순서대로 추적하는 목록\n",
            "   4:\n",
            "print(In[1])\n",
            "import math\n",
            "   5: print(Out[2])\n",
            "   6: Out[1] ** 2 + Out[2] ** 2\n",
            "   7:\n",
            "def eese(x):\n",
            "  return math.sin(x)\n",
            "   8: eese(1)\n",
            "   9: print(_)\n",
            "  10: print(__)\n",
            "  11: print(___)\n",
            "  12: _2\n",
            "  13:\n",
            "math.sin(2) + math.cos(2);\n",
            "# ;은 출력 억제해줌\n",
            "  14: 13 in Out\n"
          ]
        }
      ]
    },
    {
      "cell_type": "code",
      "source": [
        ""
      ],
      "metadata": {
        "id": "Se4ByQaYyYBY"
      },
      "execution_count": null,
      "outputs": []
    }
  ]
}