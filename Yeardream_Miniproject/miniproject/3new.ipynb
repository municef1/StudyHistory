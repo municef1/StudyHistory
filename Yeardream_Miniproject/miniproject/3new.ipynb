{
 "cells": [
  {
   "cell_type": "markdown",
   "metadata": {},
   "source": [
    "# 1. Import"
   ]
  },
  {
   "cell_type": "code",
   "execution_count": 1,
   "metadata": {},
   "outputs": [],
   "source": [
    "# 연산 처리를 위한 패키지\n",
    "import numpy as np\n",
    "import pandas as pd\n",
    "from pandas import DataFrame\n",
    "from math import sqrt\n",
    "\n",
    "# 데이터 분석을 위한 패키지\n",
    "import statsmodels.api as sm\n",
    "\n",
    "# 시각화를 위한 패키지\n",
    "import matplotlib.pyplot as plt\n",
    "import seaborn as sns\n",
    "import missingno as msno\n",
    "\n",
    "# 필요모듈 import\n",
    "import os\n",
    "import openpyxl\n",
    "from datetime import datetime\n",
    "from tqdm import tqdm\n",
    "\n",
    "# 그래프를 실제로 그리기 위한 설정\n",
    "%matplotlib inline\n",
    "\n",
    "# 머신러닝 패키지\n",
    "from catboost import CatBoostRegressor\n",
    "from sklearn.model_selection import StratifiedKFold,train_test_split\n",
    "from sklearn.metrics import mean_squared_error\n",
    "from sklearn.ensemble import RandomForestRegressor\n",
    "from lightgbm.sklearn import LGBMRegressor\n",
    "import random\n",
    "import optuna\n",
    "from optuna.samplers import TPESampler\n",
    "# KFold(CV), partial : optuna를 사용하기 위함\n",
    "from sklearn.model_selection import KFold\n",
    "from functools import partial\n",
    "\n",
    "# 폰트 처리\n",
    "# plt.rc('font', family='NanumGothic')        # for windows\n",
    "plt.rc('font', family='AppleGothic') # For MacOS\n",
    "\n",
    "import warnings\n",
    "warnings.filterwarnings('ignore')"
   ]
  },
  {
   "cell_type": "markdown",
   "metadata": {},
   "source": [
    "# 2.1. 데이터 로딩"
   ]
  },
  {
   "cell_type": "code",
   "execution_count": 2,
   "metadata": {},
   "outputs": [
    {
     "data": {
      "text/html": [
       "<div>\n",
       "<style scoped>\n",
       "    .dataframe tbody tr th:only-of-type {\n",
       "        vertical-align: middle;\n",
       "    }\n",
       "\n",
       "    .dataframe tbody tr th {\n",
       "        vertical-align: top;\n",
       "    }\n",
       "\n",
       "    .dataframe thead th {\n",
       "        text-align: right;\n",
       "    }\n",
       "</style>\n",
       "<table border=\"1\" class=\"dataframe\">\n",
       "  <thead>\n",
       "    <tr style=\"text-align: right;\">\n",
       "      <th></th>\n",
       "      <th>index</th>\n",
       "      <th>송하인_격자공간고유번호</th>\n",
       "      <th>송하인_격자공간명</th>\n",
       "      <th>송하인_시도코드</th>\n",
       "      <th>송하인_시도명</th>\n",
       "      <th>송하인_시군구코드</th>\n",
       "      <th>송하인_시군구명</th>\n",
       "      <th>수하인_격자공간고유번호</th>\n",
       "      <th>수하인_격자공간명</th>\n",
       "      <th>수하인_시도코드</th>\n",
       "      <th>수하인_시도명</th>\n",
       "      <th>수하인_시군구코드</th>\n",
       "      <th>수하인_시군구명</th>\n",
       "      <th>물품_카테고리</th>\n",
       "      <th>운송장_건수</th>\n",
       "    </tr>\n",
       "  </thead>\n",
       "  <tbody>\n",
       "    <tr>\n",
       "      <th>0</th>\n",
       "      <td>0</td>\n",
       "      <td>5011000595017300</td>\n",
       "      <td>다나1395</td>\n",
       "      <td>50</td>\n",
       "      <td>제주특별자치도</td>\n",
       "      <td>50110</td>\n",
       "      <td>제주시</td>\n",
       "      <td>2871000192069300</td>\n",
       "      <td>다사1072</td>\n",
       "      <td>28</td>\n",
       "      <td>인천광역시</td>\n",
       "      <td>28710</td>\n",
       "      <td>강화군</td>\n",
       "      <td>음반</td>\n",
       "      <td>3</td>\n",
       "    </tr>\n",
       "    <tr>\n",
       "      <th>1</th>\n",
       "      <td>1</td>\n",
       "      <td>4148000690043300</td>\n",
       "      <td>다사2868</td>\n",
       "      <td>41</td>\n",
       "      <td>경기도</td>\n",
       "      <td>41480</td>\n",
       "      <td>파주시</td>\n",
       "      <td>5011000264024400</td>\n",
       "      <td>다다0901</td>\n",
       "      <td>50</td>\n",
       "      <td>제주특별자치도</td>\n",
       "      <td>50110</td>\n",
       "      <td>제주시</td>\n",
       "      <td>문화컨텐츠</td>\n",
       "      <td>3</td>\n",
       "    </tr>\n",
       "    <tr>\n",
       "      <th>2</th>\n",
       "      <td>2</td>\n",
       "      <td>5011000078068400</td>\n",
       "      <td>다다3007</td>\n",
       "      <td>50</td>\n",
       "      <td>제주특별자치도</td>\n",
       "      <td>50110</td>\n",
       "      <td>제주시</td>\n",
       "      <td>1120000007005400</td>\n",
       "      <td>다사5950</td>\n",
       "      <td>11</td>\n",
       "      <td>서울특별시</td>\n",
       "      <td>11200</td>\n",
       "      <td>성동구</td>\n",
       "      <td>농산물</td>\n",
       "      <td>3</td>\n",
       "    </tr>\n",
       "    <tr>\n",
       "      <th>3</th>\n",
       "      <td>3</td>\n",
       "      <td>4127100048006400</td>\n",
       "      <td>다사4521</td>\n",
       "      <td>41</td>\n",
       "      <td>경기도</td>\n",
       "      <td>41271</td>\n",
       "      <td>안산시상록구</td>\n",
       "      <td>5011000587019400</td>\n",
       "      <td>다나0595</td>\n",
       "      <td>50</td>\n",
       "      <td>제주특별자치도</td>\n",
       "      <td>50110</td>\n",
       "      <td>제주시</td>\n",
       "      <td>기타식품</td>\n",
       "      <td>7</td>\n",
       "    </tr>\n",
       "    <tr>\n",
       "      <th>4</th>\n",
       "      <td>4</td>\n",
       "      <td>5011000078068400</td>\n",
       "      <td>다다3007</td>\n",
       "      <td>50</td>\n",
       "      <td>제주특별자치도</td>\n",
       "      <td>50110</td>\n",
       "      <td>제주시</td>\n",
       "      <td>2823700010076300</td>\n",
       "      <td>다사3145</td>\n",
       "      <td>28</td>\n",
       "      <td>인천광역시</td>\n",
       "      <td>28237</td>\n",
       "      <td>부평구</td>\n",
       "      <td>농산물</td>\n",
       "      <td>3</td>\n",
       "    </tr>\n",
       "  </tbody>\n",
       "</table>\n",
       "</div>"
      ],
      "text/plain": [
       "   index      송하인_격자공간고유번호 송하인_격자공간명  송하인_시도코드  송하인_시도명  송하인_시군구코드 송하인_시군구명  \\\n",
       "0      0  5011000595017300    다나1395        50  제주특별자치도      50110      제주시   \n",
       "1      1  4148000690043300    다사2868        41      경기도      41480      파주시   \n",
       "2      2  5011000078068400    다다3007        50  제주특별자치도      50110      제주시   \n",
       "3      3  4127100048006400    다사4521        41      경기도      41271   안산시상록구   \n",
       "4      4  5011000078068400    다다3007        50  제주특별자치도      50110      제주시   \n",
       "\n",
       "       수하인_격자공간고유번호 수하인_격자공간명  수하인_시도코드  수하인_시도명  수하인_시군구코드 수하인_시군구명 물품_카테고리  \\\n",
       "0  2871000192069300    다사1072        28    인천광역시      28710      강화군      음반   \n",
       "1  5011000264024400    다다0901        50  제주특별자치도      50110      제주시   문화컨텐츠   \n",
       "2  1120000007005400    다사5950        11    서울특별시      11200      성동구     농산물   \n",
       "3  5011000587019400    다나0595        50  제주특별자치도      50110      제주시    기타식품   \n",
       "4  2823700010076300    다사3145        28    인천광역시      28237      부평구     농산물   \n",
       "\n",
       "   운송장_건수  \n",
       "0       3  \n",
       "1       3  \n",
       "2       3  \n",
       "3       7  \n",
       "4       3  "
      ]
     },
     "execution_count": 2,
     "metadata": {},
     "output_type": "execute_result"
    }
   ],
   "source": [
    "# 뉴 데이터 로딩\n",
    "test = pd.read_csv('data/final_test.csv', index_col = 0)             # unnamed_0 이라는 index가 추가되어 나오지 않게 'index_col = 0' 을 추가했습니다.\n",
    "train = pd.read_csv('data/final_train.csv', index_col = 0)\n",
    "\n",
    "submission = pd.read_csv('data/sample_submission.csv')\n",
    "\n",
    "train2 = train.copy()\n",
    "train.head()"
   ]
  },
  {
   "cell_type": "code",
   "execution_count": 3,
   "metadata": {},
   "outputs": [],
   "source": [
    "def setting_data(train, test, one, two, three, four, five, six):\n",
    "  test['송하인_격자공간고유번호'] = test['송하인_격자공간고유번호'].astype(str)\n",
    "  test['수하인_격자공간고유번호'] = test['수하인_격자공간고유번호'].astype(str)\n",
    "  train['송하인_격자공간고유번호'] = train['송하인_격자공간고유번호'].astype(str)\n",
    "  train['수하인_격자공간고유번호'] = train['수하인_격자공간고유번호'].astype(str)\n",
    "\n",
    "  train['송하인_코드1'] = train['송하인_격자공간고유번호'].str.slice(int(one),int(two))\n",
    "  train['송하인_코드2'] = train['송하인_격자공간고유번호'].str.slice(int(two),int(three))\n",
    "  train['송하인_코드3'] = train['송하인_격자공간고유번호'].str.slice(int(three),int(four))\n",
    "  train['송하인_코드4'] = train['송하인_격자공간고유번호'].str.slice(int(four),int(five))\n",
    "  train['송하인_코드5'] = train['송하인_격자공간고유번호'].str.slice(int(five),int(six))\n",
    "\n",
    "  train['수하인_코드1'] = train['수하인_격자공간고유번호'].str.slice(int(one),int(two))\n",
    "  train['수하인_코드2'] = train['수하인_격자공간고유번호'].str.slice(int(two),int(three))\n",
    "  train['수하인_코드3'] = train['수하인_격자공간고유번호'].str.slice(int(three),int(four))\n",
    "  train['수하인_코드4'] = train['수하인_격자공간고유번호'].str.slice(int(four),int(five))\n",
    "  train['수하인_코드5'] = train['수하인_격자공간고유번호'].str.slice(int(five),int(six))\n",
    "\n",
    "  test['송하인_코드1'] = test['송하인_격자공간고유번호'].str.slice(int(one),int(two))\n",
    "  test['송하인_코드2'] = test['송하인_격자공간고유번호'].str.slice(int(two),int(three))\n",
    "  test['송하인_코드3'] = test['송하인_격자공간고유번호'].str.slice(int(three),int(four))\n",
    "  test['송하인_코드4'] = test['송하인_격자공간고유번호'].str.slice(int(four),int(five))\n",
    "  test['송하인_코드5'] = test['송하인_격자공간고유번호'].str.slice(int(five),int(six))\n",
    "\n",
    "  test['수하인_코드1'] = test['수하인_격자공간고유번호'].str.slice(int(one),int(two))\n",
    "  test['수하인_코드2'] = test['수하인_격자공간고유번호'].str.slice(int(two),int(three))\n",
    "  test['수하인_코드3'] = test['수하인_격자공간고유번호'].str.slice(int(three),int(four))\n",
    "  test['수하인_코드4'] = test['수하인_격자공간고유번호'].str.slice(int(four),int(five))\n",
    "  test['수하인_코드5'] = test['수하인_격자공간고유번호'].str.slice(int(five),int(six))\n",
    "\n",
    "  train = train[['index', \n",
    "                  '송하인_코드1','송하인_시도명',\n",
    "                  '송하인_코드2', '송하인_시군구명',\n",
    "                  '송하인_코드3', '송하인_코드4', '송하인_코드5',\n",
    "                  \n",
    "                  '수하인_코드1', '수하인_시도명',\n",
    "                  '수하인_코드2', '수하인_시군구명',\n",
    "                  '수하인_코드3', '수하인_코드4', '수하인_코드5',\n",
    "                  '물품_카테고리', \n",
    "                  '운송장_건수']]\n",
    "\n",
    "  test = test[['index',\n",
    "                '송하인_코드1','송하인_시도명',\n",
    "                '송하인_코드2', '송하인_시군구명', \n",
    "                '송하인_코드3', '송하인_코드4', '송하인_코드5',\n",
    "\n",
    "                '수하인_코드1', '수하인_시도명',\n",
    "                '수하인_코드2', '수하인_시군구명',\n",
    "                '수하인_코드3', '수하인_코드4', '수하인_코드5',\n",
    "                '물품_카테고리',\n",
    "                ]]\n",
    "                \n",
    "  return train, test\n"
   ]
  },
  {
   "cell_type": "code",
   "execution_count": 4,
   "metadata": {},
   "outputs": [],
   "source": [
    "def confirm_nun(train):\n",
    "  print('송하인 코드 1, 2, 3, 4, 5는 각각 ~ 종류의 코드가 존재합니다.')\n",
    "  print('코드_1 :', train['송하인_코드1'].nunique())\n",
    "  print('코드_2 :', train['송하인_코드2'].nunique())\n",
    "  print('코드_3 :', train['송하인_코드3'].nunique())\n",
    "  print('코드_4 :', train['송하인_코드4'].nunique())\n",
    "  print('코드_5 :', train['송하인_코드5'].nunique())\n",
    "\n",
    "  print(\"*\"*50)\n",
    "\n",
    "  print('수하인 코드 1, 2, 3, 4, 5는 각각 ~ 종류의 코드가 존재합니다.')\n",
    "  print('코드_1 :', train['수하인_코드1'].nunique())\n",
    "  print('코드_2 :', train['수하인_코드2'].nunique())\n",
    "  print('코드_3 :', train['수하인_코드3'].nunique())\n",
    "  print('코드_4 :', train['수하인_코드4'].nunique())\n",
    "  print('코드_5 :', train['수하인_코드5'].nunique())\n",
    "\n",
    "  print('*'*50)\n",
    "  print('수하인_코드4의 고유값은')\n",
    "  print(train['수하인_코드4'].unique())\n"
   ]
  },
  {
   "cell_type": "code",
   "execution_count": 5,
   "metadata": {},
   "outputs": [],
   "source": [
    "train1, test1 = setting_data(train, test, '0', '2', '5', '8', '10', '16')       # 0, 2, 5, 9, 10, 16번째 위치에서 코드를 잘라서 저장합니다. 이걸로 결정\n",
    "train2, test2 = setting_data(train, test, '0', '2', '5', '10', '11', '16')      # 0, 2, 5, 10, 11, 16번째 위치에서 코드를 잘라서 저장합니다."
   ]
  },
  {
   "cell_type": "markdown",
   "metadata": {},
   "source": [
    "### train3은 16자리중 15,16번째 숫자들을 쳐내는 과정입니다.\n",
    "### 전부 00 이라는 값을 가지기 때문에 학습할 때 제거해도 상관없다고 생각합니다."
   ]
  },
  {
   "cell_type": "code",
   "execution_count": 6,
   "metadata": {},
   "outputs": [
    {
     "data": {
      "text/html": [
       "<div>\n",
       "<style scoped>\n",
       "    .dataframe tbody tr th:only-of-type {\n",
       "        vertical-align: middle;\n",
       "    }\n",
       "\n",
       "    .dataframe tbody tr th {\n",
       "        vertical-align: top;\n",
       "    }\n",
       "\n",
       "    .dataframe thead th {\n",
       "        text-align: right;\n",
       "    }\n",
       "</style>\n",
       "<table border=\"1\" class=\"dataframe\">\n",
       "  <thead>\n",
       "    <tr style=\"text-align: right;\">\n",
       "      <th></th>\n",
       "      <th>index</th>\n",
       "      <th>송하인_코드1</th>\n",
       "      <th>송하인_시도명</th>\n",
       "      <th>송하인_코드2</th>\n",
       "      <th>송하인_시군구명</th>\n",
       "      <th>송하인_코드3</th>\n",
       "      <th>송하인_코드4</th>\n",
       "      <th>송하인_코드5</th>\n",
       "      <th>수하인_코드1</th>\n",
       "      <th>수하인_시도명</th>\n",
       "      <th>수하인_코드2</th>\n",
       "      <th>수하인_시군구명</th>\n",
       "      <th>수하인_코드3</th>\n",
       "      <th>수하인_코드4</th>\n",
       "      <th>수하인_코드5</th>\n",
       "      <th>물품_카테고리</th>\n",
       "      <th>운송장_건수</th>\n",
       "    </tr>\n",
       "  </thead>\n",
       "  <tbody>\n",
       "    <tr>\n",
       "      <th>0</th>\n",
       "      <td>0</td>\n",
       "      <td>50</td>\n",
       "      <td>제주특별자치도</td>\n",
       "      <td>110</td>\n",
       "      <td>제주시</td>\n",
       "      <td>005</td>\n",
       "      <td>95</td>\n",
       "      <td>017300</td>\n",
       "      <td>28</td>\n",
       "      <td>인천광역시</td>\n",
       "      <td>710</td>\n",
       "      <td>강화군</td>\n",
       "      <td>001</td>\n",
       "      <td>92</td>\n",
       "      <td>069300</td>\n",
       "      <td>음반</td>\n",
       "      <td>3</td>\n",
       "    </tr>\n",
       "    <tr>\n",
       "      <th>1</th>\n",
       "      <td>1</td>\n",
       "      <td>41</td>\n",
       "      <td>경기도</td>\n",
       "      <td>480</td>\n",
       "      <td>파주시</td>\n",
       "      <td>006</td>\n",
       "      <td>90</td>\n",
       "      <td>043300</td>\n",
       "      <td>50</td>\n",
       "      <td>제주특별자치도</td>\n",
       "      <td>110</td>\n",
       "      <td>제주시</td>\n",
       "      <td>002</td>\n",
       "      <td>64</td>\n",
       "      <td>024400</td>\n",
       "      <td>문화컨텐츠</td>\n",
       "      <td>3</td>\n",
       "    </tr>\n",
       "    <tr>\n",
       "      <th>2</th>\n",
       "      <td>2</td>\n",
       "      <td>50</td>\n",
       "      <td>제주특별자치도</td>\n",
       "      <td>110</td>\n",
       "      <td>제주시</td>\n",
       "      <td>000</td>\n",
       "      <td>78</td>\n",
       "      <td>068400</td>\n",
       "      <td>11</td>\n",
       "      <td>서울특별시</td>\n",
       "      <td>200</td>\n",
       "      <td>성동구</td>\n",
       "      <td>000</td>\n",
       "      <td>07</td>\n",
       "      <td>005400</td>\n",
       "      <td>농산물</td>\n",
       "      <td>3</td>\n",
       "    </tr>\n",
       "    <tr>\n",
       "      <th>3</th>\n",
       "      <td>3</td>\n",
       "      <td>41</td>\n",
       "      <td>경기도</td>\n",
       "      <td>271</td>\n",
       "      <td>안산시상록구</td>\n",
       "      <td>000</td>\n",
       "      <td>48</td>\n",
       "      <td>006400</td>\n",
       "      <td>50</td>\n",
       "      <td>제주특별자치도</td>\n",
       "      <td>110</td>\n",
       "      <td>제주시</td>\n",
       "      <td>005</td>\n",
       "      <td>87</td>\n",
       "      <td>019400</td>\n",
       "      <td>기타식품</td>\n",
       "      <td>7</td>\n",
       "    </tr>\n",
       "    <tr>\n",
       "      <th>4</th>\n",
       "      <td>4</td>\n",
       "      <td>50</td>\n",
       "      <td>제주특별자치도</td>\n",
       "      <td>110</td>\n",
       "      <td>제주시</td>\n",
       "      <td>000</td>\n",
       "      <td>78</td>\n",
       "      <td>068400</td>\n",
       "      <td>28</td>\n",
       "      <td>인천광역시</td>\n",
       "      <td>237</td>\n",
       "      <td>부평구</td>\n",
       "      <td>000</td>\n",
       "      <td>10</td>\n",
       "      <td>076300</td>\n",
       "      <td>농산물</td>\n",
       "      <td>3</td>\n",
       "    </tr>\n",
       "    <tr>\n",
       "      <th>...</th>\n",
       "      <td>...</td>\n",
       "      <td>...</td>\n",
       "      <td>...</td>\n",
       "      <td>...</td>\n",
       "      <td>...</td>\n",
       "      <td>...</td>\n",
       "      <td>...</td>\n",
       "      <td>...</td>\n",
       "      <td>...</td>\n",
       "      <td>...</td>\n",
       "      <td>...</td>\n",
       "      <td>...</td>\n",
       "      <td>...</td>\n",
       "      <td>...</td>\n",
       "      <td>...</td>\n",
       "      <td>...</td>\n",
       "      <td>...</td>\n",
       "    </tr>\n",
       "    <tr>\n",
       "      <th>31679</th>\n",
       "      <td>31679</td>\n",
       "      <td>44</td>\n",
       "      <td>충청남도</td>\n",
       "      <td>710</td>\n",
       "      <td>금산군</td>\n",
       "      <td>002</td>\n",
       "      <td>90</td>\n",
       "      <td>087200</td>\n",
       "      <td>50</td>\n",
       "      <td>제주특별자치도</td>\n",
       "      <td>110</td>\n",
       "      <td>제주시</td>\n",
       "      <td>002</td>\n",
       "      <td>13</td>\n",
       "      <td>073200</td>\n",
       "      <td>스포츠잡화</td>\n",
       "      <td>3</td>\n",
       "    </tr>\n",
       "    <tr>\n",
       "      <th>31680</th>\n",
       "      <td>31680</td>\n",
       "      <td>11</td>\n",
       "      <td>서울특별시</td>\n",
       "      <td>290</td>\n",
       "      <td>성북구</td>\n",
       "      <td>000</td>\n",
       "      <td>14</td>\n",
       "      <td>045300</td>\n",
       "      <td>50</td>\n",
       "      <td>제주특별자치도</td>\n",
       "      <td>110</td>\n",
       "      <td>제주시</td>\n",
       "      <td>003</td>\n",
       "      <td>19</td>\n",
       "      <td>087100</td>\n",
       "      <td>스마트디바이스</td>\n",
       "      <td>4</td>\n",
       "    </tr>\n",
       "    <tr>\n",
       "      <th>31681</th>\n",
       "      <td>31681</td>\n",
       "      <td>11</td>\n",
       "      <td>서울특별시</td>\n",
       "      <td>290</td>\n",
       "      <td>성북구</td>\n",
       "      <td>000</td>\n",
       "      <td>14</td>\n",
       "      <td>045300</td>\n",
       "      <td>50</td>\n",
       "      <td>제주특별자치도</td>\n",
       "      <td>110</td>\n",
       "      <td>제주시</td>\n",
       "      <td>002</td>\n",
       "      <td>63</td>\n",
       "      <td>065200</td>\n",
       "      <td>스마트디바이스</td>\n",
       "      <td>6</td>\n",
       "    </tr>\n",
       "    <tr>\n",
       "      <th>31682</th>\n",
       "      <td>31682</td>\n",
       "      <td>41</td>\n",
       "      <td>경기도</td>\n",
       "      <td>273</td>\n",
       "      <td>안산시단원구</td>\n",
       "      <td>000</td>\n",
       "      <td>65</td>\n",
       "      <td>073100</td>\n",
       "      <td>50</td>\n",
       "      <td>제주특별자치도</td>\n",
       "      <td>110</td>\n",
       "      <td>제주시</td>\n",
       "      <td>002</td>\n",
       "      <td>64</td>\n",
       "      <td>061200</td>\n",
       "      <td>지갑</td>\n",
       "      <td>7</td>\n",
       "    </tr>\n",
       "    <tr>\n",
       "      <th>31683</th>\n",
       "      <td>31683</td>\n",
       "      <td>28</td>\n",
       "      <td>인천광역시</td>\n",
       "      <td>110</td>\n",
       "      <td>중구</td>\n",
       "      <td>001</td>\n",
       "      <td>39</td>\n",
       "      <td>076100</td>\n",
       "      <td>50</td>\n",
       "      <td>제주특별자치도</td>\n",
       "      <td>110</td>\n",
       "      <td>제주시</td>\n",
       "      <td>005</td>\n",
       "      <td>20</td>\n",
       "      <td>070100</td>\n",
       "      <td>세탁용품</td>\n",
       "      <td>4</td>\n",
       "    </tr>\n",
       "  </tbody>\n",
       "</table>\n",
       "<p>31684 rows × 17 columns</p>\n",
       "</div>"
      ],
      "text/plain": [
       "       index 송하인_코드1  송하인_시도명 송하인_코드2 송하인_시군구명 송하인_코드3 송하인_코드4 송하인_코드5  \\\n",
       "0          0      50  제주특별자치도     110      제주시     005      95  017300   \n",
       "1          1      41      경기도     480      파주시     006      90  043300   \n",
       "2          2      50  제주특별자치도     110      제주시     000      78  068400   \n",
       "3          3      41      경기도     271   안산시상록구     000      48  006400   \n",
       "4          4      50  제주특별자치도     110      제주시     000      78  068400   \n",
       "...      ...     ...      ...     ...      ...     ...     ...     ...   \n",
       "31679  31679      44     충청남도     710      금산군     002      90  087200   \n",
       "31680  31680      11    서울특별시     290      성북구     000      14  045300   \n",
       "31681  31681      11    서울특별시     290      성북구     000      14  045300   \n",
       "31682  31682      41      경기도     273   안산시단원구     000      65  073100   \n",
       "31683  31683      28    인천광역시     110       중구     001      39  076100   \n",
       "\n",
       "      수하인_코드1  수하인_시도명 수하인_코드2 수하인_시군구명 수하인_코드3 수하인_코드4 수하인_코드5  물품_카테고리  \\\n",
       "0          28    인천광역시     710      강화군     001      92  069300       음반   \n",
       "1          50  제주특별자치도     110      제주시     002      64  024400    문화컨텐츠   \n",
       "2          11    서울특별시     200      성동구     000      07  005400      농산물   \n",
       "3          50  제주특별자치도     110      제주시     005      87  019400     기타식품   \n",
       "4          28    인천광역시     237      부평구     000      10  076300      농산물   \n",
       "...       ...      ...     ...      ...     ...     ...     ...      ...   \n",
       "31679      50  제주특별자치도     110      제주시     002      13  073200    스포츠잡화   \n",
       "31680      50  제주특별자치도     110      제주시     003      19  087100  스마트디바이스   \n",
       "31681      50  제주특별자치도     110      제주시     002      63  065200  스마트디바이스   \n",
       "31682      50  제주특별자치도     110      제주시     002      64  061200       지갑   \n",
       "31683      50  제주특별자치도     110      제주시     005      20  070100     세탁용품   \n",
       "\n",
       "       운송장_건수  \n",
       "0           3  \n",
       "1           3  \n",
       "2           3  \n",
       "3           7  \n",
       "4           3  \n",
       "...       ...  \n",
       "31679       3  \n",
       "31680       4  \n",
       "31681       6  \n",
       "31682       7  \n",
       "31683       4  \n",
       "\n",
       "[31684 rows x 17 columns]"
      ]
     },
     "execution_count": 6,
     "metadata": {},
     "output_type": "execute_result"
    }
   ],
   "source": [
    "train1"
   ]
  },
  {
   "cell_type": "code",
   "execution_count": 7,
   "metadata": {},
   "outputs": [
    {
     "name": "stdout",
     "output_type": "stream",
     "text": [
      "송하인 코드 1, 2, 3, 4, 5는 각각 ~ 종류의 코드가 존재합니다.\n",
      "코드_1 : 17\n",
      "코드_2 : 99\n",
      "코드_3 : 14\n",
      "코드_4 : 100\n",
      "코드_5 : 400\n",
      "**************************************************\n",
      "수하인 코드 1, 2, 3, 4, 5는 각각 ~ 종류의 코드가 존재합니다.\n",
      "코드_1 : 17\n",
      "코드_2 : 101\n",
      "코드_3 : 18\n",
      "코드_4 : 100\n",
      "코드_5 : 400\n",
      "**************************************************\n",
      "수하인_코드4의 고유값은\n",
      "['92' '64' '07' '87' '10' '14' '69' '17' '23' '26' '16' '20' '63' '02'\n",
      " '27' '21' '96' '09' '48' '31' '03' '18' '06' '39' '24' '55' '04' '33'\n",
      " '35' '72' '56' '79' '30' '12' '59' '99' '41' '15' '62' '73' '32' '65'\n",
      " '70' '82' '74' '94' '46' '19' '78' '29' '52' '25' '85' '42' '13' '01'\n",
      " '08' '28' '05' '90' '53' '60' '66' '11' '77' '88' '00' '67' '98' '54'\n",
      " '44' '37' '36' '38' '81' '84' '58' '34' '68' '40' '57' '71' '83' '45'\n",
      " '49' '76' '47' '51' '43' '93' '61' '22' '86' '95' '50' '75' '97' '89'\n",
      " '91' '80']\n"
     ]
    }
   ],
   "source": [
    "confirm_nun(train1)"
   ]
  },
  {
   "cell_type": "code",
   "execution_count": 8,
   "metadata": {},
   "outputs": [
    {
     "name": "stdout",
     "output_type": "stream",
     "text": [
      "**************************************************\n",
      "수하인_코드2의 고유값은\n",
      "['110' '260' '130' '710' '480' '350' '465' '200' '210' '185' '173' '170'\n",
      " '570' '560' '440' '810' '470' '113' '237' '410' '390' '650' '590' '800'\n",
      " '500' '380' '900' '790' '360' '140' '430' '320' '680' '463' '111' '545'\n",
      " '770' '290' '780' '610' '150' '190' '285' '820' '330' '305' '230' '530'\n",
      " '135' '197' '310' '287' '270' '370' '131' '281' '450' '133' '750' '280'\n",
      " '740' '117' '180' '880' '220' '620' '199' '125' '830' '245' '250' '760'\n",
      " '129' '273' '155' '121' '115' '271' '850' '840' '550' '215' '195' '127'\n",
      " '123' '730' '461' '670' '630' '171' '870' '720' '890' '910' '240' '825'\n",
      " '860' '930' '745' '940' '920']\n"
     ]
    }
   ],
   "source": [
    "print('*'*50)\n",
    "print('수하인_코드2의 고유값은')\n",
    "print(test1['수하인_코드2'].unique())"
   ]
  },
  {
   "cell_type": "code",
   "execution_count": 9,
   "metadata": {},
   "outputs": [
    {
     "data": {
      "text/html": [
       "<div>\n",
       "<style scoped>\n",
       "    .dataframe tbody tr th:only-of-type {\n",
       "        vertical-align: middle;\n",
       "    }\n",
       "\n",
       "    .dataframe tbody tr th {\n",
       "        vertical-align: top;\n",
       "    }\n",
       "\n",
       "    .dataframe thead th {\n",
       "        text-align: right;\n",
       "    }\n",
       "</style>\n",
       "<table border=\"1\" class=\"dataframe\">\n",
       "  <thead>\n",
       "    <tr style=\"text-align: right;\">\n",
       "      <th></th>\n",
       "      <th>index</th>\n",
       "      <th>송하인_코드1</th>\n",
       "      <th>송하인_시도명</th>\n",
       "      <th>송하인_코드2</th>\n",
       "      <th>송하인_시군구명</th>\n",
       "      <th>송하인_코드3</th>\n",
       "      <th>송하인_코드4</th>\n",
       "      <th>송하인_코드5</th>\n",
       "      <th>수하인_코드1</th>\n",
       "      <th>수하인_시도명</th>\n",
       "      <th>수하인_코드2</th>\n",
       "      <th>수하인_시군구명</th>\n",
       "      <th>수하인_코드3</th>\n",
       "      <th>수하인_코드4</th>\n",
       "      <th>수하인_코드5</th>\n",
       "      <th>물품_카테고리</th>\n",
       "      <th>운송장_건수</th>\n",
       "    </tr>\n",
       "  </thead>\n",
       "  <tbody>\n",
       "    <tr>\n",
       "      <th>210</th>\n",
       "      <td>210</td>\n",
       "      <td>11</td>\n",
       "      <td>서울특별시</td>\n",
       "      <td>680</td>\n",
       "      <td>강남구</td>\n",
       "      <td>000</td>\n",
       "      <td>07</td>\n",
       "      <td>002200</td>\n",
       "      <td>50</td>\n",
       "      <td>제주특별자치도</td>\n",
       "      <td>110</td>\n",
       "      <td>제주시</td>\n",
       "      <td>003</td>\n",
       "      <td>73</td>\n",
       "      <td>011400</td>\n",
       "      <td>선글라스/안경테</td>\n",
       "      <td>3</td>\n",
       "    </tr>\n",
       "    <tr>\n",
       "      <th>213</th>\n",
       "      <td>213</td>\n",
       "      <td>11</td>\n",
       "      <td>서울특별시</td>\n",
       "      <td>680</td>\n",
       "      <td>강남구</td>\n",
       "      <td>000</td>\n",
       "      <td>15</td>\n",
       "      <td>064300</td>\n",
       "      <td>50</td>\n",
       "      <td>제주특별자치도</td>\n",
       "      <td>110</td>\n",
       "      <td>제주시</td>\n",
       "      <td>002</td>\n",
       "      <td>66</td>\n",
       "      <td>003200</td>\n",
       "      <td>기타화장품/미용</td>\n",
       "      <td>3</td>\n",
       "    </tr>\n",
       "    <tr>\n",
       "      <th>505</th>\n",
       "      <td>505</td>\n",
       "      <td>11</td>\n",
       "      <td>서울특별시</td>\n",
       "      <td>680</td>\n",
       "      <td>강남구</td>\n",
       "      <td>000</td>\n",
       "      <td>12</td>\n",
       "      <td>065400</td>\n",
       "      <td>50</td>\n",
       "      <td>제주특별자치도</td>\n",
       "      <td>110</td>\n",
       "      <td>제주시</td>\n",
       "      <td>003</td>\n",
       "      <td>19</td>\n",
       "      <td>002300</td>\n",
       "      <td>상의</td>\n",
       "      <td>3</td>\n",
       "    </tr>\n",
       "    <tr>\n",
       "      <th>750</th>\n",
       "      <td>750</td>\n",
       "      <td>11</td>\n",
       "      <td>서울특별시</td>\n",
       "      <td>680</td>\n",
       "      <td>강남구</td>\n",
       "      <td>000</td>\n",
       "      <td>10</td>\n",
       "      <td>070300</td>\n",
       "      <td>50</td>\n",
       "      <td>제주특별자치도</td>\n",
       "      <td>110</td>\n",
       "      <td>제주시</td>\n",
       "      <td>002</td>\n",
       "      <td>13</td>\n",
       "      <td>022200</td>\n",
       "      <td>상의</td>\n",
       "      <td>4</td>\n",
       "    </tr>\n",
       "    <tr>\n",
       "      <th>881</th>\n",
       "      <td>881</td>\n",
       "      <td>11</td>\n",
       "      <td>서울특별시</td>\n",
       "      <td>680</td>\n",
       "      <td>강남구</td>\n",
       "      <td>000</td>\n",
       "      <td>12</td>\n",
       "      <td>071300</td>\n",
       "      <td>50</td>\n",
       "      <td>제주특별자치도</td>\n",
       "      <td>130</td>\n",
       "      <td>서귀포시</td>\n",
       "      <td>006</td>\n",
       "      <td>22</td>\n",
       "      <td>057100</td>\n",
       "      <td>농산물</td>\n",
       "      <td>3</td>\n",
       "    </tr>\n",
       "    <tr>\n",
       "      <th>...</th>\n",
       "      <td>...</td>\n",
       "      <td>...</td>\n",
       "      <td>...</td>\n",
       "      <td>...</td>\n",
       "      <td>...</td>\n",
       "      <td>...</td>\n",
       "      <td>...</td>\n",
       "      <td>...</td>\n",
       "      <td>...</td>\n",
       "      <td>...</td>\n",
       "      <td>...</td>\n",
       "      <td>...</td>\n",
       "      <td>...</td>\n",
       "      <td>...</td>\n",
       "      <td>...</td>\n",
       "      <td>...</td>\n",
       "      <td>...</td>\n",
       "    </tr>\n",
       "    <tr>\n",
       "      <th>30659</th>\n",
       "      <td>30659</td>\n",
       "      <td>11</td>\n",
       "      <td>서울특별시</td>\n",
       "      <td>680</td>\n",
       "      <td>강남구</td>\n",
       "      <td>000</td>\n",
       "      <td>16</td>\n",
       "      <td>020100</td>\n",
       "      <td>50</td>\n",
       "      <td>제주특별자치도</td>\n",
       "      <td>130</td>\n",
       "      <td>서귀포시</td>\n",
       "      <td>005</td>\n",
       "      <td>79</td>\n",
       "      <td>077400</td>\n",
       "      <td>기타패션의류</td>\n",
       "      <td>3</td>\n",
       "    </tr>\n",
       "    <tr>\n",
       "      <th>30806</th>\n",
       "      <td>30806</td>\n",
       "      <td>11</td>\n",
       "      <td>서울특별시</td>\n",
       "      <td>680</td>\n",
       "      <td>강남구</td>\n",
       "      <td>000</td>\n",
       "      <td>11</td>\n",
       "      <td>040100</td>\n",
       "      <td>50</td>\n",
       "      <td>제주특별자치도</td>\n",
       "      <td>110</td>\n",
       "      <td>제주시</td>\n",
       "      <td>002</td>\n",
       "      <td>66</td>\n",
       "      <td>031300</td>\n",
       "      <td>다이어트식품</td>\n",
       "      <td>5</td>\n",
       "    </tr>\n",
       "    <tr>\n",
       "      <th>31514</th>\n",
       "      <td>31514</td>\n",
       "      <td>11</td>\n",
       "      <td>서울특별시</td>\n",
       "      <td>680</td>\n",
       "      <td>강남구</td>\n",
       "      <td>000</td>\n",
       "      <td>32</td>\n",
       "      <td>011100</td>\n",
       "      <td>50</td>\n",
       "      <td>제주특별자치도</td>\n",
       "      <td>110</td>\n",
       "      <td>제주시</td>\n",
       "      <td>003</td>\n",
       "      <td>74</td>\n",
       "      <td>015300</td>\n",
       "      <td>기타패션의류</td>\n",
       "      <td>4</td>\n",
       "    </tr>\n",
       "    <tr>\n",
       "      <th>31599</th>\n",
       "      <td>31599</td>\n",
       "      <td>11</td>\n",
       "      <td>서울특별시</td>\n",
       "      <td>680</td>\n",
       "      <td>강남구</td>\n",
       "      <td>000</td>\n",
       "      <td>11</td>\n",
       "      <td>068300</td>\n",
       "      <td>50</td>\n",
       "      <td>제주특별자치도</td>\n",
       "      <td>110</td>\n",
       "      <td>제주시</td>\n",
       "      <td>002</td>\n",
       "      <td>66</td>\n",
       "      <td>060300</td>\n",
       "      <td>주얼리</td>\n",
       "      <td>4</td>\n",
       "    </tr>\n",
       "    <tr>\n",
       "      <th>31647</th>\n",
       "      <td>31647</td>\n",
       "      <td>11</td>\n",
       "      <td>서울특별시</td>\n",
       "      <td>680</td>\n",
       "      <td>강남구</td>\n",
       "      <td>000</td>\n",
       "      <td>11</td>\n",
       "      <td>040100</td>\n",
       "      <td>50</td>\n",
       "      <td>제주특별자치도</td>\n",
       "      <td>110</td>\n",
       "      <td>제주시</td>\n",
       "      <td>002</td>\n",
       "      <td>66</td>\n",
       "      <td>031300</td>\n",
       "      <td>의료용품</td>\n",
       "      <td>15</td>\n",
       "    </tr>\n",
       "  </tbody>\n",
       "</table>\n",
       "<p>91 rows × 17 columns</p>\n",
       "</div>"
      ],
      "text/plain": [
       "       index 송하인_코드1 송하인_시도명 송하인_코드2 송하인_시군구명 송하인_코드3 송하인_코드4 송하인_코드5 수하인_코드1  \\\n",
       "210      210      11   서울특별시     680      강남구     000      07  002200      50   \n",
       "213      213      11   서울특별시     680      강남구     000      15  064300      50   \n",
       "505      505      11   서울특별시     680      강남구     000      12  065400      50   \n",
       "750      750      11   서울특별시     680      강남구     000      10  070300      50   \n",
       "881      881      11   서울특별시     680      강남구     000      12  071300      50   \n",
       "...      ...     ...     ...     ...      ...     ...     ...     ...     ...   \n",
       "30659  30659      11   서울특별시     680      강남구     000      16  020100      50   \n",
       "30806  30806      11   서울특별시     680      강남구     000      11  040100      50   \n",
       "31514  31514      11   서울특별시     680      강남구     000      32  011100      50   \n",
       "31599  31599      11   서울특별시     680      강남구     000      11  068300      50   \n",
       "31647  31647      11   서울특별시     680      강남구     000      11  040100      50   \n",
       "\n",
       "       수하인_시도명 수하인_코드2 수하인_시군구명 수하인_코드3 수하인_코드4 수하인_코드5   물품_카테고리  운송장_건수  \n",
       "210    제주특별자치도     110      제주시     003      73  011400  선글라스/안경테       3  \n",
       "213    제주특별자치도     110      제주시     002      66  003200  기타화장품/미용       3  \n",
       "505    제주특별자치도     110      제주시     003      19  002300        상의       3  \n",
       "750    제주특별자치도     110      제주시     002      13  022200        상의       4  \n",
       "881    제주특별자치도     130     서귀포시     006      22  057100       농산물       3  \n",
       "...        ...     ...      ...     ...     ...     ...       ...     ...  \n",
       "30659  제주특별자치도     130     서귀포시     005      79  077400    기타패션의류       3  \n",
       "30806  제주특별자치도     110      제주시     002      66  031300    다이어트식품       5  \n",
       "31514  제주특별자치도     110      제주시     003      74  015300    기타패션의류       4  \n",
       "31599  제주특별자치도     110      제주시     002      66  060300       주얼리       4  \n",
       "31647  제주특별자치도     110      제주시     002      66  031300      의료용품      15  \n",
       "\n",
       "[91 rows x 17 columns]"
      ]
     },
     "execution_count": 9,
     "metadata": {},
     "output_type": "execute_result"
    }
   ],
   "source": [
    "'''\n",
    "종로구 : 110\n",
    "중구 : 140\n",
    "용산구 : 170\n",
    "성동구 : 200\n",
    "광진구 : 215\n",
    "동대문구 : 230\n",
    "중랑구 : 260\n",
    "성북구 : 290\n",
    "'''\n",
    "train1[(train1['송하인_시군구명']=='강남구')&(train1['송하인_시도명']=='서울특별시')]"
   ]
  },
  {
   "cell_type": "code",
   "execution_count": 10,
   "metadata": {},
   "outputs": [
    {
     "data": {
      "text/plain": [
       "array(['110', '140', '170', '200', '215', '230', '260', '290', '305',\n",
       "       '320', '350', '380', '410', '440', '470', '500', '530', '545',\n",
       "       '560', '590', '620', '650', '680', '710', '740'], dtype=object)"
      ]
     },
     "execution_count": 10,
     "metadata": {},
     "output_type": "execute_result"
    }
   ],
   "source": [
    "train1[train1['송하인_시도명']=='서울특별시']['송하인_코드2'].sort_values().unique()"
   ]
  },
  {
   "cell_type": "code",
   "execution_count": 11,
   "metadata": {},
   "outputs": [
    {
     "data": {
      "text/html": [
       "<div>\n",
       "<style scoped>\n",
       "    .dataframe tbody tr th:only-of-type {\n",
       "        vertical-align: middle;\n",
       "    }\n",
       "\n",
       "    .dataframe tbody tr th {\n",
       "        vertical-align: top;\n",
       "    }\n",
       "\n",
       "    .dataframe thead th {\n",
       "        text-align: right;\n",
       "    }\n",
       "</style>\n",
       "<table border=\"1\" class=\"dataframe\">\n",
       "  <thead>\n",
       "    <tr style=\"text-align: right;\">\n",
       "      <th></th>\n",
       "      <th>index</th>\n",
       "      <th>송하인_코드1</th>\n",
       "      <th>송하인_시도명</th>\n",
       "      <th>송하인_코드2</th>\n",
       "      <th>송하인_시군구명</th>\n",
       "      <th>송하인_코드3</th>\n",
       "      <th>송하인_코드4</th>\n",
       "      <th>송하인_코드5</th>\n",
       "      <th>수하인_코드1</th>\n",
       "      <th>수하인_시도명</th>\n",
       "      <th>수하인_코드2</th>\n",
       "      <th>수하인_시군구명</th>\n",
       "      <th>수하인_코드3</th>\n",
       "      <th>수하인_코드4</th>\n",
       "      <th>수하인_코드5</th>\n",
       "      <th>물품_카테고리</th>\n",
       "      <th>운송장_건수</th>\n",
       "    </tr>\n",
       "  </thead>\n",
       "  <tbody>\n",
       "    <tr>\n",
       "      <th>152</th>\n",
       "      <td>152</td>\n",
       "      <td>11</td>\n",
       "      <td>서울특별시</td>\n",
       "      <td>170</td>\n",
       "      <td>용산구</td>\n",
       "      <td>000</td>\n",
       "      <td>09</td>\n",
       "      <td>037100</td>\n",
       "      <td>50</td>\n",
       "      <td>제주특별자치도</td>\n",
       "      <td>110</td>\n",
       "      <td>제주시</td>\n",
       "      <td>002</td>\n",
       "      <td>64</td>\n",
       "      <td>100200</td>\n",
       "      <td>기타디지털/가전</td>\n",
       "      <td>3</td>\n",
       "    </tr>\n",
       "    <tr>\n",
       "      <th>403</th>\n",
       "      <td>403</td>\n",
       "      <td>11</td>\n",
       "      <td>서울특별시</td>\n",
       "      <td>170</td>\n",
       "      <td>용산구</td>\n",
       "      <td>000</td>\n",
       "      <td>09</td>\n",
       "      <td>058400</td>\n",
       "      <td>50</td>\n",
       "      <td>제주특별자치도</td>\n",
       "      <td>110</td>\n",
       "      <td>제주시</td>\n",
       "      <td>003</td>\n",
       "      <td>78</td>\n",
       "      <td>017100</td>\n",
       "      <td>기타디지털/가전</td>\n",
       "      <td>3</td>\n",
       "    </tr>\n",
       "    <tr>\n",
       "      <th>562</th>\n",
       "      <td>562</td>\n",
       "      <td>11</td>\n",
       "      <td>서울특별시</td>\n",
       "      <td>170</td>\n",
       "      <td>용산구</td>\n",
       "      <td>000</td>\n",
       "      <td>09</td>\n",
       "      <td>037100</td>\n",
       "      <td>50</td>\n",
       "      <td>제주특별자치도</td>\n",
       "      <td>110</td>\n",
       "      <td>제주시</td>\n",
       "      <td>003</td>\n",
       "      <td>18</td>\n",
       "      <td>029400</td>\n",
       "      <td>기타디지털/가전</td>\n",
       "      <td>3</td>\n",
       "    </tr>\n",
       "    <tr>\n",
       "      <th>608</th>\n",
       "      <td>608</td>\n",
       "      <td>11</td>\n",
       "      <td>서울특별시</td>\n",
       "      <td>170</td>\n",
       "      <td>용산구</td>\n",
       "      <td>000</td>\n",
       "      <td>09</td>\n",
       "      <td>037100</td>\n",
       "      <td>50</td>\n",
       "      <td>제주특별자치도</td>\n",
       "      <td>110</td>\n",
       "      <td>제주시</td>\n",
       "      <td>003</td>\n",
       "      <td>19</td>\n",
       "      <td>033100</td>\n",
       "      <td>기타디지털/가전</td>\n",
       "      <td>5</td>\n",
       "    </tr>\n",
       "    <tr>\n",
       "      <th>1046</th>\n",
       "      <td>1046</td>\n",
       "      <td>11</td>\n",
       "      <td>서울특별시</td>\n",
       "      <td>170</td>\n",
       "      <td>용산구</td>\n",
       "      <td>000</td>\n",
       "      <td>09</td>\n",
       "      <td>037100</td>\n",
       "      <td>50</td>\n",
       "      <td>제주특별자치도</td>\n",
       "      <td>110</td>\n",
       "      <td>제주시</td>\n",
       "      <td>004</td>\n",
       "      <td>35</td>\n",
       "      <td>063100</td>\n",
       "      <td>기타디지털/가전</td>\n",
       "      <td>3</td>\n",
       "    </tr>\n",
       "    <tr>\n",
       "      <th>...</th>\n",
       "      <td>...</td>\n",
       "      <td>...</td>\n",
       "      <td>...</td>\n",
       "      <td>...</td>\n",
       "      <td>...</td>\n",
       "      <td>...</td>\n",
       "      <td>...</td>\n",
       "      <td>...</td>\n",
       "      <td>...</td>\n",
       "      <td>...</td>\n",
       "      <td>...</td>\n",
       "      <td>...</td>\n",
       "      <td>...</td>\n",
       "      <td>...</td>\n",
       "      <td>...</td>\n",
       "      <td>...</td>\n",
       "      <td>...</td>\n",
       "    </tr>\n",
       "    <tr>\n",
       "      <th>31172</th>\n",
       "      <td>31172</td>\n",
       "      <td>11</td>\n",
       "      <td>서울특별시</td>\n",
       "      <td>170</td>\n",
       "      <td>용산구</td>\n",
       "      <td>000</td>\n",
       "      <td>09</td>\n",
       "      <td>037100</td>\n",
       "      <td>50</td>\n",
       "      <td>제주특별자치도</td>\n",
       "      <td>110</td>\n",
       "      <td>제주시</td>\n",
       "      <td>004</td>\n",
       "      <td>35</td>\n",
       "      <td>073100</td>\n",
       "      <td>기타디지털/가전</td>\n",
       "      <td>4</td>\n",
       "    </tr>\n",
       "    <tr>\n",
       "      <th>31197</th>\n",
       "      <td>31197</td>\n",
       "      <td>11</td>\n",
       "      <td>서울특별시</td>\n",
       "      <td>170</td>\n",
       "      <td>용산구</td>\n",
       "      <td>000</td>\n",
       "      <td>09</td>\n",
       "      <td>070100</td>\n",
       "      <td>50</td>\n",
       "      <td>제주특별자치도</td>\n",
       "      <td>130</td>\n",
       "      <td>서귀포시</td>\n",
       "      <td>008</td>\n",
       "      <td>66</td>\n",
       "      <td>019400</td>\n",
       "      <td>기타디지털/가전</td>\n",
       "      <td>4</td>\n",
       "    </tr>\n",
       "    <tr>\n",
       "      <th>31376</th>\n",
       "      <td>31376</td>\n",
       "      <td>11</td>\n",
       "      <td>서울특별시</td>\n",
       "      <td>170</td>\n",
       "      <td>용산구</td>\n",
       "      <td>000</td>\n",
       "      <td>09</td>\n",
       "      <td>037100</td>\n",
       "      <td>50</td>\n",
       "      <td>제주특별자치도</td>\n",
       "      <td>110</td>\n",
       "      <td>제주시</td>\n",
       "      <td>003</td>\n",
       "      <td>74</td>\n",
       "      <td>018100</td>\n",
       "      <td>기타디지털/가전</td>\n",
       "      <td>3</td>\n",
       "    </tr>\n",
       "    <tr>\n",
       "      <th>31487</th>\n",
       "      <td>31487</td>\n",
       "      <td>11</td>\n",
       "      <td>서울특별시</td>\n",
       "      <td>170</td>\n",
       "      <td>용산구</td>\n",
       "      <td>000</td>\n",
       "      <td>09</td>\n",
       "      <td>037100</td>\n",
       "      <td>50</td>\n",
       "      <td>제주특별자치도</td>\n",
       "      <td>110</td>\n",
       "      <td>제주시</td>\n",
       "      <td>002</td>\n",
       "      <td>65</td>\n",
       "      <td>076100</td>\n",
       "      <td>기타디지털/가전</td>\n",
       "      <td>28</td>\n",
       "    </tr>\n",
       "    <tr>\n",
       "      <th>31550</th>\n",
       "      <td>31550</td>\n",
       "      <td>11</td>\n",
       "      <td>서울특별시</td>\n",
       "      <td>170</td>\n",
       "      <td>용산구</td>\n",
       "      <td>000</td>\n",
       "      <td>09</td>\n",
       "      <td>037100</td>\n",
       "      <td>50</td>\n",
       "      <td>제주특별자치도</td>\n",
       "      <td>110</td>\n",
       "      <td>제주시</td>\n",
       "      <td>002</td>\n",
       "      <td>65</td>\n",
       "      <td>017200</td>\n",
       "      <td>기타디지털/가전</td>\n",
       "      <td>7</td>\n",
       "    </tr>\n",
       "  </tbody>\n",
       "</table>\n",
       "<p>131 rows × 17 columns</p>\n",
       "</div>"
      ],
      "text/plain": [
       "       index 송하인_코드1 송하인_시도명 송하인_코드2 송하인_시군구명 송하인_코드3 송하인_코드4 송하인_코드5 수하인_코드1  \\\n",
       "152      152      11   서울특별시     170      용산구     000      09  037100      50   \n",
       "403      403      11   서울특별시     170      용산구     000      09  058400      50   \n",
       "562      562      11   서울특별시     170      용산구     000      09  037100      50   \n",
       "608      608      11   서울특별시     170      용산구     000      09  037100      50   \n",
       "1046    1046      11   서울특별시     170      용산구     000      09  037100      50   \n",
       "...      ...     ...     ...     ...      ...     ...     ...     ...     ...   \n",
       "31172  31172      11   서울특별시     170      용산구     000      09  037100      50   \n",
       "31197  31197      11   서울특별시     170      용산구     000      09  070100      50   \n",
       "31376  31376      11   서울특별시     170      용산구     000      09  037100      50   \n",
       "31487  31487      11   서울특별시     170      용산구     000      09  037100      50   \n",
       "31550  31550      11   서울특별시     170      용산구     000      09  037100      50   \n",
       "\n",
       "       수하인_시도명 수하인_코드2 수하인_시군구명 수하인_코드3 수하인_코드4 수하인_코드5   물품_카테고리  운송장_건수  \n",
       "152    제주특별자치도     110      제주시     002      64  100200  기타디지털/가전       3  \n",
       "403    제주특별자치도     110      제주시     003      78  017100  기타디지털/가전       3  \n",
       "562    제주특별자치도     110      제주시     003      18  029400  기타디지털/가전       3  \n",
       "608    제주특별자치도     110      제주시     003      19  033100  기타디지털/가전       5  \n",
       "1046   제주특별자치도     110      제주시     004      35  063100  기타디지털/가전       3  \n",
       "...        ...     ...      ...     ...     ...     ...       ...     ...  \n",
       "31172  제주특별자치도     110      제주시     004      35  073100  기타디지털/가전       4  \n",
       "31197  제주특별자치도     130     서귀포시     008      66  019400  기타디지털/가전       4  \n",
       "31376  제주특별자치도     110      제주시     003      74  018100  기타디지털/가전       3  \n",
       "31487  제주특별자치도     110      제주시     002      65  076100  기타디지털/가전      28  \n",
       "31550  제주특별자치도     110      제주시     002      65  017200  기타디지털/가전       7  \n",
       "\n",
       "[131 rows x 17 columns]"
      ]
     },
     "execution_count": 11,
     "metadata": {},
     "output_type": "execute_result"
    }
   ],
   "source": [
    "train1[(train1['송하인_시군구명']=='용산구')&(train1['물품_카테고리']=='기타디지털/가전')]"
   ]
  },
  {
   "cell_type": "code",
   "execution_count": 12,
   "metadata": {},
   "outputs": [
    {
     "data": {
      "text/plain": [
       "array(['08', '09'], dtype=object)"
      ]
     },
     "execution_count": 12,
     "metadata": {},
     "output_type": "execute_result"
    }
   ],
   "source": [
    "train1[(train1['송하인_시군구명']=='용산구')&(train1['물품_카테고리']=='기타디지털/가전')]['송하인_코드4'].sort_values().unique()"
   ]
  },
  {
   "cell_type": "code",
   "execution_count": 13,
   "metadata": {},
   "outputs": [
    {
     "data": {
      "text/plain": [
       "array(['01', '02', '03', '05', '08', '09', '10', '12', '13', '15', '18',\n",
       "       '22', '23'], dtype=object)"
      ]
     },
     "execution_count": 13,
     "metadata": {},
     "output_type": "execute_result"
    }
   ],
   "source": [
    "train1[train1['송하인_시군구명']=='용산구']['송하인_코드4'].sort_values().unique()"
   ]
  },
  {
   "cell_type": "code",
   "execution_count": 14,
   "metadata": {},
   "outputs": [],
   "source": [
    "# train1(5416), train2(5416)으로 나눠서 각자 고유값들을 확인해봤는데요,\n",
    "# 5515의 경우 1부분이 [0,1]만 존재하는걸로 봐서, 맨 뒷자리 5와 이어진다고 생각했습니다\n",
    "# 99999에서 100000 으로 넘어가기 때문에 이런식으로 나왔다고 생각했고,\n",
    "# 우리나라 좌표에 고유번호를 50미터 단위로 지정을 했기 때문에, 정사각형 격자를 만들려면 제곱수가 나와야 한다고 생각했습니다.\n",
    "# 때문에 6자리수 안에 들어갈 수 있는 데이터는 100만개로 제곱수이며, 5자리수 안에 들어갈 수 있는 데이터는 10만개로 제곱수가 되지 않아 합리적인 수가 아니라고 생각했습니다.\n",
    "# 또, 6자리수 맨 뒷자리 2자리는 모두 00이어서, 4자리수만 데이터에 의미가 있는 것으로 보입니다. \n",
    "# 우리는 5 4 1 6(4) 단위로 끊어서 데이터를 분석하기로 했습니다."
   ]
  },
  {
   "cell_type": "code",
   "execution_count": 15,
   "metadata": {},
   "outputs": [],
   "source": [
    "train = train1[['물품_카테고리', '송하인_코드1', '송하인_코드2', '송하인_코드3', '송하인_코드4','송하인_코드5', '수하인_코드1', '수하인_코드2', '수하인_코드3', '수하인_코드4', '수하인_코드5', '운송장_건수']]\n",
    "test = test1[['물품_카테고리', '송하인_코드1', '송하인_코드2', '송하인_코드3', '송하인_코드4','송하인_코드5', '수하인_코드1', '수하인_코드2', '수하인_코드3', '수하인_코드4', '수하인_코드5']]\n"
   ]
  },
  {
   "cell_type": "code",
   "execution_count": 16,
   "metadata": {},
   "outputs": [],
   "source": [
    "for col in test.columns:\n",
    "  train[col]=train[col].astype('category')\n",
    "  test[col]=test[col].astype('category')"
   ]
  },
  {
   "cell_type": "code",
   "execution_count": 17,
   "metadata": {},
   "outputs": [
    {
     "data": {
      "text/html": [
       "<div>\n",
       "<style scoped>\n",
       "    .dataframe tbody tr th:only-of-type {\n",
       "        vertical-align: middle;\n",
       "    }\n",
       "\n",
       "    .dataframe tbody tr th {\n",
       "        vertical-align: top;\n",
       "    }\n",
       "\n",
       "    .dataframe thead th {\n",
       "        text-align: right;\n",
       "    }\n",
       "</style>\n",
       "<table border=\"1\" class=\"dataframe\">\n",
       "  <thead>\n",
       "    <tr style=\"text-align: right;\">\n",
       "      <th></th>\n",
       "      <th>물품_카테고리</th>\n",
       "      <th>송하인_코드1</th>\n",
       "      <th>송하인_코드2</th>\n",
       "      <th>송하인_코드3</th>\n",
       "      <th>송하인_코드4</th>\n",
       "      <th>송하인_코드5</th>\n",
       "      <th>수하인_코드1</th>\n",
       "      <th>수하인_코드2</th>\n",
       "      <th>수하인_코드3</th>\n",
       "      <th>수하인_코드4</th>\n",
       "      <th>수하인_코드5</th>\n",
       "      <th>운송장_건수</th>\n",
       "    </tr>\n",
       "  </thead>\n",
       "  <tbody>\n",
       "    <tr>\n",
       "      <th>0</th>\n",
       "      <td>음반</td>\n",
       "      <td>50</td>\n",
       "      <td>110</td>\n",
       "      <td>005</td>\n",
       "      <td>95</td>\n",
       "      <td>017300</td>\n",
       "      <td>28</td>\n",
       "      <td>710</td>\n",
       "      <td>001</td>\n",
       "      <td>92</td>\n",
       "      <td>069300</td>\n",
       "      <td>3</td>\n",
       "    </tr>\n",
       "    <tr>\n",
       "      <th>1</th>\n",
       "      <td>문화컨텐츠</td>\n",
       "      <td>41</td>\n",
       "      <td>480</td>\n",
       "      <td>006</td>\n",
       "      <td>90</td>\n",
       "      <td>043300</td>\n",
       "      <td>50</td>\n",
       "      <td>110</td>\n",
       "      <td>002</td>\n",
       "      <td>64</td>\n",
       "      <td>024400</td>\n",
       "      <td>3</td>\n",
       "    </tr>\n",
       "    <tr>\n",
       "      <th>2</th>\n",
       "      <td>농산물</td>\n",
       "      <td>50</td>\n",
       "      <td>110</td>\n",
       "      <td>000</td>\n",
       "      <td>78</td>\n",
       "      <td>068400</td>\n",
       "      <td>11</td>\n",
       "      <td>200</td>\n",
       "      <td>000</td>\n",
       "      <td>07</td>\n",
       "      <td>005400</td>\n",
       "      <td>3</td>\n",
       "    </tr>\n",
       "    <tr>\n",
       "      <th>3</th>\n",
       "      <td>기타식품</td>\n",
       "      <td>41</td>\n",
       "      <td>271</td>\n",
       "      <td>000</td>\n",
       "      <td>48</td>\n",
       "      <td>006400</td>\n",
       "      <td>50</td>\n",
       "      <td>110</td>\n",
       "      <td>005</td>\n",
       "      <td>87</td>\n",
       "      <td>019400</td>\n",
       "      <td>7</td>\n",
       "    </tr>\n",
       "    <tr>\n",
       "      <th>4</th>\n",
       "      <td>농산물</td>\n",
       "      <td>50</td>\n",
       "      <td>110</td>\n",
       "      <td>000</td>\n",
       "      <td>78</td>\n",
       "      <td>068400</td>\n",
       "      <td>28</td>\n",
       "      <td>237</td>\n",
       "      <td>000</td>\n",
       "      <td>10</td>\n",
       "      <td>076300</td>\n",
       "      <td>3</td>\n",
       "    </tr>\n",
       "  </tbody>\n",
       "</table>\n",
       "</div>"
      ],
      "text/plain": [
       "  물품_카테고리 송하인_코드1 송하인_코드2 송하인_코드3 송하인_코드4 송하인_코드5 수하인_코드1 수하인_코드2 수하인_코드3  \\\n",
       "0      음반      50     110     005      95  017300      28     710     001   \n",
       "1   문화컨텐츠      41     480     006      90  043300      50     110     002   \n",
       "2     농산물      50     110     000      78  068400      11     200     000   \n",
       "3    기타식품      41     271     000      48  006400      50     110     005   \n",
       "4     농산물      50     110     000      78  068400      28     237     000   \n",
       "\n",
       "  수하인_코드4 수하인_코드5  운송장_건수  \n",
       "0      92  069300       3  \n",
       "1      64  024400       3  \n",
       "2      07  005400       3  \n",
       "3      87  019400       7  \n",
       "4      10  076300       3  "
      ]
     },
     "execution_count": 17,
     "metadata": {},
     "output_type": "execute_result"
    }
   ],
   "source": [
    "train.head()"
   ]
  },
  {
   "cell_type": "code",
   "execution_count": 18,
   "metadata": {},
   "outputs": [
    {
     "data": {
      "text/html": [
       "<div>\n",
       "<style scoped>\n",
       "    .dataframe tbody tr th:only-of-type {\n",
       "        vertical-align: middle;\n",
       "    }\n",
       "\n",
       "    .dataframe tbody tr th {\n",
       "        vertical-align: top;\n",
       "    }\n",
       "\n",
       "    .dataframe thead th {\n",
       "        text-align: right;\n",
       "    }\n",
       "</style>\n",
       "<table border=\"1\" class=\"dataframe\">\n",
       "  <thead>\n",
       "    <tr style=\"text-align: right;\">\n",
       "      <th></th>\n",
       "      <th>물품_카테고리</th>\n",
       "      <th>송하인_코드1</th>\n",
       "      <th>송하인_코드2</th>\n",
       "      <th>송하인_코드3</th>\n",
       "      <th>송하인_코드4</th>\n",
       "      <th>송하인_코드5</th>\n",
       "      <th>수하인_코드1</th>\n",
       "      <th>수하인_코드2</th>\n",
       "      <th>수하인_코드3</th>\n",
       "      <th>수하인_코드4</th>\n",
       "      <th>수하인_코드5</th>\n",
       "      <th>운송장_건수</th>\n",
       "    </tr>\n",
       "  </thead>\n",
       "  <tbody>\n",
       "  </tbody>\n",
       "</table>\n",
       "</div>"
      ],
      "text/plain": [
       "Empty DataFrame\n",
       "Columns: [물품_카테고리, 송하인_코드1, 송하인_코드2, 송하인_코드3, 송하인_코드4, 송하인_코드5, 수하인_코드1, 수하인_코드2, 수하인_코드3, 수하인_코드4, 수하인_코드5, 운송장_건수]\n",
       "Index: []"
      ]
     },
     "execution_count": 18,
     "metadata": {},
     "output_type": "execute_result"
    }
   ],
   "source": [
    "# 결측치가 있는 column\n",
    "train[train.isnull().any(axis=1)]"
   ]
  },
  {
   "cell_type": "code",
   "execution_count": 19,
   "metadata": {},
   "outputs": [
    {
     "data": {
      "text/html": [
       "<div>\n",
       "<style scoped>\n",
       "    .dataframe tbody tr th:only-of-type {\n",
       "        vertical-align: middle;\n",
       "    }\n",
       "\n",
       "    .dataframe tbody tr th {\n",
       "        vertical-align: top;\n",
       "    }\n",
       "\n",
       "    .dataframe thead th {\n",
       "        text-align: right;\n",
       "    }\n",
       "</style>\n",
       "<table border=\"1\" class=\"dataframe\">\n",
       "  <thead>\n",
       "    <tr style=\"text-align: right;\">\n",
       "      <th></th>\n",
       "      <th>물품_카테고리</th>\n",
       "      <th>송하인_코드1</th>\n",
       "      <th>송하인_코드2</th>\n",
       "      <th>송하인_코드3</th>\n",
       "      <th>송하인_코드4</th>\n",
       "      <th>송하인_코드5</th>\n",
       "      <th>수하인_코드1</th>\n",
       "      <th>수하인_코드2</th>\n",
       "      <th>수하인_코드3</th>\n",
       "      <th>수하인_코드4</th>\n",
       "      <th>수하인_코드5</th>\n",
       "    </tr>\n",
       "  </thead>\n",
       "  <tbody>\n",
       "  </tbody>\n",
       "</table>\n",
       "</div>"
      ],
      "text/plain": [
       "Empty DataFrame\n",
       "Columns: [물품_카테고리, 송하인_코드1, 송하인_코드2, 송하인_코드3, 송하인_코드4, 송하인_코드5, 수하인_코드1, 수하인_코드2, 수하인_코드3, 수하인_코드4, 수하인_코드5]\n",
       "Index: []"
      ]
     },
     "execution_count": 19,
     "metadata": {},
     "output_type": "execute_result"
    }
   ],
   "source": [
    "test[test.isnull().any(axis=1)]"
   ]
  },
  {
   "cell_type": "code",
   "execution_count": 20,
   "metadata": {},
   "outputs": [
    {
     "data": {
      "text/plain": [
       "Index(['물품_카테고리', '송하인_코드1', '송하인_코드2', '송하인_코드3', '송하인_코드4', '송하인_코드5',\n",
       "       '수하인_코드1', '수하인_코드2', '수하인_코드3', '수하인_코드4', '수하인_코드5'],\n",
       "      dtype='object')"
      ]
     },
     "execution_count": 20,
     "metadata": {},
     "output_type": "execute_result"
    }
   ],
   "source": [
    "categorical_features = train.columns[0:11]\n",
    "categorical_features"
   ]
  },
  {
   "cell_type": "code",
   "execution_count": 21,
   "metadata": {},
   "outputs": [
    {
     "data": {
      "text/plain": [
       "Index([], dtype='object')"
      ]
     },
     "execution_count": 21,
     "metadata": {},
     "output_type": "execute_result"
    }
   ],
   "source": [
    "temp = train.columns[12:]\n",
    "temp"
   ]
  },
  {
   "cell_type": "code",
   "execution_count": 22,
   "metadata": {},
   "outputs": [
    {
     "data": {
      "text/plain": [
       "Index([], dtype='object')"
      ]
     },
     "execution_count": 22,
     "metadata": {},
     "output_type": "execute_result"
    }
   ],
   "source": [
    "card1 = train.columns[train.nunique() == 1]\n",
    "card1"
   ]
  },
  {
   "cell_type": "code",
   "execution_count": 23,
   "metadata": {},
   "outputs": [
    {
     "name": "stdout",
     "output_type": "stream",
     "text": [
      "0 features - 0 features = 0 binary features\n"
     ]
    }
   ],
   "source": [
    "binary_features = np.setdiff1d(temp, card1)\n",
    "print(\"%d features - %d features = %d binary features\" % (len(temp), len(card1), len(binary_features)))"
   ]
  },
  {
   "cell_type": "code",
   "execution_count": 24,
   "metadata": {},
   "outputs": [
    {
     "name": "stdout",
     "output_type": "stream",
     "text": [
      "(31684, 1367) (7920, 1367) (31684,)\n"
     ]
    }
   ],
   "source": [
    "# feature engineering을 위해 tempX, y 생성\n",
    "total = pd.concat([train, test])\n",
    "split_point = len(train)\n",
    "total_OHE = pd.get_dummies(data=total, columns=categorical_features)\n",
    "y = train.운송장_건수\n",
    "tempX = total_OHE.drop(columns=[\"운송장_건수\"])\n",
    "tempX = tempX.drop(columns=card1)\n",
    "trainX = tempX[:split_point]\n",
    "testX = tempX[split_point:]\n",
    "print(trainX.shape, testX.shape, y.shape)"
   ]
  },
  {
   "cell_type": "code",
   "execution_count": 25,
   "metadata": {},
   "outputs": [
    {
     "data": {
      "text/html": [
       "<div>\n",
       "<style scoped>\n",
       "    .dataframe tbody tr th:only-of-type {\n",
       "        vertical-align: middle;\n",
       "    }\n",
       "\n",
       "    .dataframe tbody tr th {\n",
       "        vertical-align: top;\n",
       "    }\n",
       "\n",
       "    .dataframe thead th {\n",
       "        text-align: right;\n",
       "    }\n",
       "</style>\n",
       "<table border=\"1\" class=\"dataframe\">\n",
       "  <thead>\n",
       "    <tr style=\"text-align: right;\">\n",
       "      <th></th>\n",
       "      <th>물품_카테고리_DIY자재/용품</th>\n",
       "      <th>물품_카테고리_PC</th>\n",
       "      <th>물품_카테고리_PC주변기기</th>\n",
       "      <th>물품_카테고리_가공식품</th>\n",
       "      <th>물품_카테고리_가방</th>\n",
       "      <th>물품_카테고리_건강식품</th>\n",
       "      <th>물품_카테고리_건강용품</th>\n",
       "      <th>물품_카테고리_게임기/타이틀</th>\n",
       "      <th>물품_카테고리_계절가전</th>\n",
       "      <th>물품_카테고리_골프</th>\n",
       "      <th>...</th>\n",
       "      <th>수하인_코드5_098300</th>\n",
       "      <th>수하인_코드5_098400</th>\n",
       "      <th>수하인_코드5_099100</th>\n",
       "      <th>수하인_코드5_099200</th>\n",
       "      <th>수하인_코드5_099300</th>\n",
       "      <th>수하인_코드5_099400</th>\n",
       "      <th>수하인_코드5_100100</th>\n",
       "      <th>수하인_코드5_100200</th>\n",
       "      <th>수하인_코드5_100300</th>\n",
       "      <th>수하인_코드5_100400</th>\n",
       "    </tr>\n",
       "  </thead>\n",
       "  <tbody>\n",
       "    <tr>\n",
       "      <th>0</th>\n",
       "      <td>0</td>\n",
       "      <td>0</td>\n",
       "      <td>0</td>\n",
       "      <td>0</td>\n",
       "      <td>0</td>\n",
       "      <td>0</td>\n",
       "      <td>0</td>\n",
       "      <td>0</td>\n",
       "      <td>0</td>\n",
       "      <td>0</td>\n",
       "      <td>...</td>\n",
       "      <td>0</td>\n",
       "      <td>0</td>\n",
       "      <td>0</td>\n",
       "      <td>0</td>\n",
       "      <td>0</td>\n",
       "      <td>0</td>\n",
       "      <td>0</td>\n",
       "      <td>0</td>\n",
       "      <td>0</td>\n",
       "      <td>0</td>\n",
       "    </tr>\n",
       "    <tr>\n",
       "      <th>1</th>\n",
       "      <td>0</td>\n",
       "      <td>0</td>\n",
       "      <td>0</td>\n",
       "      <td>0</td>\n",
       "      <td>0</td>\n",
       "      <td>0</td>\n",
       "      <td>0</td>\n",
       "      <td>0</td>\n",
       "      <td>0</td>\n",
       "      <td>0</td>\n",
       "      <td>...</td>\n",
       "      <td>0</td>\n",
       "      <td>0</td>\n",
       "      <td>0</td>\n",
       "      <td>0</td>\n",
       "      <td>0</td>\n",
       "      <td>0</td>\n",
       "      <td>0</td>\n",
       "      <td>0</td>\n",
       "      <td>0</td>\n",
       "      <td>0</td>\n",
       "    </tr>\n",
       "    <tr>\n",
       "      <th>2</th>\n",
       "      <td>0</td>\n",
       "      <td>0</td>\n",
       "      <td>0</td>\n",
       "      <td>0</td>\n",
       "      <td>0</td>\n",
       "      <td>0</td>\n",
       "      <td>0</td>\n",
       "      <td>0</td>\n",
       "      <td>0</td>\n",
       "      <td>0</td>\n",
       "      <td>...</td>\n",
       "      <td>0</td>\n",
       "      <td>0</td>\n",
       "      <td>0</td>\n",
       "      <td>0</td>\n",
       "      <td>0</td>\n",
       "      <td>0</td>\n",
       "      <td>0</td>\n",
       "      <td>0</td>\n",
       "      <td>0</td>\n",
       "      <td>0</td>\n",
       "    </tr>\n",
       "    <tr>\n",
       "      <th>3</th>\n",
       "      <td>0</td>\n",
       "      <td>0</td>\n",
       "      <td>0</td>\n",
       "      <td>0</td>\n",
       "      <td>0</td>\n",
       "      <td>0</td>\n",
       "      <td>0</td>\n",
       "      <td>0</td>\n",
       "      <td>0</td>\n",
       "      <td>0</td>\n",
       "      <td>...</td>\n",
       "      <td>0</td>\n",
       "      <td>0</td>\n",
       "      <td>0</td>\n",
       "      <td>0</td>\n",
       "      <td>0</td>\n",
       "      <td>0</td>\n",
       "      <td>0</td>\n",
       "      <td>0</td>\n",
       "      <td>0</td>\n",
       "      <td>0</td>\n",
       "    </tr>\n",
       "    <tr>\n",
       "      <th>4</th>\n",
       "      <td>0</td>\n",
       "      <td>0</td>\n",
       "      <td>0</td>\n",
       "      <td>0</td>\n",
       "      <td>0</td>\n",
       "      <td>0</td>\n",
       "      <td>0</td>\n",
       "      <td>0</td>\n",
       "      <td>0</td>\n",
       "      <td>0</td>\n",
       "      <td>...</td>\n",
       "      <td>0</td>\n",
       "      <td>0</td>\n",
       "      <td>0</td>\n",
       "      <td>0</td>\n",
       "      <td>0</td>\n",
       "      <td>0</td>\n",
       "      <td>0</td>\n",
       "      <td>0</td>\n",
       "      <td>0</td>\n",
       "      <td>0</td>\n",
       "    </tr>\n",
       "    <tr>\n",
       "      <th>...</th>\n",
       "      <td>...</td>\n",
       "      <td>...</td>\n",
       "      <td>...</td>\n",
       "      <td>...</td>\n",
       "      <td>...</td>\n",
       "      <td>...</td>\n",
       "      <td>...</td>\n",
       "      <td>...</td>\n",
       "      <td>...</td>\n",
       "      <td>...</td>\n",
       "      <td>...</td>\n",
       "      <td>...</td>\n",
       "      <td>...</td>\n",
       "      <td>...</td>\n",
       "      <td>...</td>\n",
       "      <td>...</td>\n",
       "      <td>...</td>\n",
       "      <td>...</td>\n",
       "      <td>...</td>\n",
       "      <td>...</td>\n",
       "      <td>...</td>\n",
       "    </tr>\n",
       "    <tr>\n",
       "      <th>31679</th>\n",
       "      <td>0</td>\n",
       "      <td>0</td>\n",
       "      <td>0</td>\n",
       "      <td>0</td>\n",
       "      <td>0</td>\n",
       "      <td>0</td>\n",
       "      <td>0</td>\n",
       "      <td>0</td>\n",
       "      <td>0</td>\n",
       "      <td>0</td>\n",
       "      <td>...</td>\n",
       "      <td>0</td>\n",
       "      <td>0</td>\n",
       "      <td>0</td>\n",
       "      <td>0</td>\n",
       "      <td>0</td>\n",
       "      <td>0</td>\n",
       "      <td>0</td>\n",
       "      <td>0</td>\n",
       "      <td>0</td>\n",
       "      <td>0</td>\n",
       "    </tr>\n",
       "    <tr>\n",
       "      <th>31680</th>\n",
       "      <td>0</td>\n",
       "      <td>0</td>\n",
       "      <td>0</td>\n",
       "      <td>0</td>\n",
       "      <td>0</td>\n",
       "      <td>0</td>\n",
       "      <td>0</td>\n",
       "      <td>0</td>\n",
       "      <td>0</td>\n",
       "      <td>0</td>\n",
       "      <td>...</td>\n",
       "      <td>0</td>\n",
       "      <td>0</td>\n",
       "      <td>0</td>\n",
       "      <td>0</td>\n",
       "      <td>0</td>\n",
       "      <td>0</td>\n",
       "      <td>0</td>\n",
       "      <td>0</td>\n",
       "      <td>0</td>\n",
       "      <td>0</td>\n",
       "    </tr>\n",
       "    <tr>\n",
       "      <th>31681</th>\n",
       "      <td>0</td>\n",
       "      <td>0</td>\n",
       "      <td>0</td>\n",
       "      <td>0</td>\n",
       "      <td>0</td>\n",
       "      <td>0</td>\n",
       "      <td>0</td>\n",
       "      <td>0</td>\n",
       "      <td>0</td>\n",
       "      <td>0</td>\n",
       "      <td>...</td>\n",
       "      <td>0</td>\n",
       "      <td>0</td>\n",
       "      <td>0</td>\n",
       "      <td>0</td>\n",
       "      <td>0</td>\n",
       "      <td>0</td>\n",
       "      <td>0</td>\n",
       "      <td>0</td>\n",
       "      <td>0</td>\n",
       "      <td>0</td>\n",
       "    </tr>\n",
       "    <tr>\n",
       "      <th>31682</th>\n",
       "      <td>0</td>\n",
       "      <td>0</td>\n",
       "      <td>0</td>\n",
       "      <td>0</td>\n",
       "      <td>0</td>\n",
       "      <td>0</td>\n",
       "      <td>0</td>\n",
       "      <td>0</td>\n",
       "      <td>0</td>\n",
       "      <td>0</td>\n",
       "      <td>...</td>\n",
       "      <td>0</td>\n",
       "      <td>0</td>\n",
       "      <td>0</td>\n",
       "      <td>0</td>\n",
       "      <td>0</td>\n",
       "      <td>0</td>\n",
       "      <td>0</td>\n",
       "      <td>0</td>\n",
       "      <td>0</td>\n",
       "      <td>0</td>\n",
       "    </tr>\n",
       "    <tr>\n",
       "      <th>31683</th>\n",
       "      <td>0</td>\n",
       "      <td>0</td>\n",
       "      <td>0</td>\n",
       "      <td>0</td>\n",
       "      <td>0</td>\n",
       "      <td>0</td>\n",
       "      <td>0</td>\n",
       "      <td>0</td>\n",
       "      <td>0</td>\n",
       "      <td>0</td>\n",
       "      <td>...</td>\n",
       "      <td>0</td>\n",
       "      <td>0</td>\n",
       "      <td>0</td>\n",
       "      <td>0</td>\n",
       "      <td>0</td>\n",
       "      <td>0</td>\n",
       "      <td>0</td>\n",
       "      <td>0</td>\n",
       "      <td>0</td>\n",
       "      <td>0</td>\n",
       "    </tr>\n",
       "  </tbody>\n",
       "</table>\n",
       "<p>31684 rows × 1367 columns</p>\n",
       "</div>"
      ],
      "text/plain": [
       "       물품_카테고리_DIY자재/용품  물품_카테고리_PC  물품_카테고리_PC주변기기  물품_카테고리_가공식품  물품_카테고리_가방  \\\n",
       "0                     0           0               0             0           0   \n",
       "1                     0           0               0             0           0   \n",
       "2                     0           0               0             0           0   \n",
       "3                     0           0               0             0           0   \n",
       "4                     0           0               0             0           0   \n",
       "...                 ...         ...             ...           ...         ...   \n",
       "31679                 0           0               0             0           0   \n",
       "31680                 0           0               0             0           0   \n",
       "31681                 0           0               0             0           0   \n",
       "31682                 0           0               0             0           0   \n",
       "31683                 0           0               0             0           0   \n",
       "\n",
       "       물품_카테고리_건강식품  물품_카테고리_건강용품  물품_카테고리_게임기/타이틀  물품_카테고리_계절가전  물품_카테고리_골프  \\\n",
       "0                 0             0                0             0           0   \n",
       "1                 0             0                0             0           0   \n",
       "2                 0             0                0             0           0   \n",
       "3                 0             0                0             0           0   \n",
       "4                 0             0                0             0           0   \n",
       "...             ...           ...              ...           ...         ...   \n",
       "31679             0             0                0             0           0   \n",
       "31680             0             0                0             0           0   \n",
       "31681             0             0                0             0           0   \n",
       "31682             0             0                0             0           0   \n",
       "31683             0             0                0             0           0   \n",
       "\n",
       "       ...  수하인_코드5_098300  수하인_코드5_098400  수하인_코드5_099100  수하인_코드5_099200  \\\n",
       "0      ...               0               0               0               0   \n",
       "1      ...               0               0               0               0   \n",
       "2      ...               0               0               0               0   \n",
       "3      ...               0               0               0               0   \n",
       "4      ...               0               0               0               0   \n",
       "...    ...             ...             ...             ...             ...   \n",
       "31679  ...               0               0               0               0   \n",
       "31680  ...               0               0               0               0   \n",
       "31681  ...               0               0               0               0   \n",
       "31682  ...               0               0               0               0   \n",
       "31683  ...               0               0               0               0   \n",
       "\n",
       "       수하인_코드5_099300  수하인_코드5_099400  수하인_코드5_100100  수하인_코드5_100200  \\\n",
       "0                   0               0               0               0   \n",
       "1                   0               0               0               0   \n",
       "2                   0               0               0               0   \n",
       "3                   0               0               0               0   \n",
       "4                   0               0               0               0   \n",
       "...               ...             ...             ...             ...   \n",
       "31679               0               0               0               0   \n",
       "31680               0               0               0               0   \n",
       "31681               0               0               0               0   \n",
       "31682               0               0               0               0   \n",
       "31683               0               0               0               0   \n",
       "\n",
       "       수하인_코드5_100300  수하인_코드5_100400  \n",
       "0                   0               0  \n",
       "1                   0               0  \n",
       "2                   0               0  \n",
       "3                   0               0  \n",
       "4                   0               0  \n",
       "...               ...             ...  \n",
       "31679               0               0  \n",
       "31680               0               0  \n",
       "31681               0               0  \n",
       "31682               0               0  \n",
       "31683               0               0  \n",
       "\n",
       "[31684 rows x 1367 columns]"
      ]
     },
     "execution_count": 25,
     "metadata": {},
     "output_type": "execute_result"
    }
   ],
   "source": [
    "trainX # sponge"
   ]
  },
  {
   "cell_type": "code",
   "execution_count": 26,
   "metadata": {},
   "outputs": [
    {
     "data": {
      "text/html": [
       "<div>\n",
       "<style scoped>\n",
       "    .dataframe tbody tr th:only-of-type {\n",
       "        vertical-align: middle;\n",
       "    }\n",
       "\n",
       "    .dataframe tbody tr th {\n",
       "        vertical-align: top;\n",
       "    }\n",
       "\n",
       "    .dataframe thead th {\n",
       "        text-align: right;\n",
       "    }\n",
       "</style>\n",
       "<table border=\"1\" class=\"dataframe\">\n",
       "  <thead>\n",
       "    <tr style=\"text-align: right;\">\n",
       "      <th></th>\n",
       "      <th>물품_카테고리_DIY자재/용품</th>\n",
       "      <th>물품_카테고리_PC</th>\n",
       "      <th>물품_카테고리_PC주변기기</th>\n",
       "      <th>물품_카테고리_가공식품</th>\n",
       "      <th>물품_카테고리_가방</th>\n",
       "      <th>물품_카테고리_건강식품</th>\n",
       "      <th>물품_카테고리_건강용품</th>\n",
       "      <th>물품_카테고리_게임기/타이틀</th>\n",
       "      <th>물품_카테고리_계절가전</th>\n",
       "      <th>물품_카테고리_골프</th>\n",
       "      <th>...</th>\n",
       "      <th>수하인_코드5_098300</th>\n",
       "      <th>수하인_코드5_098400</th>\n",
       "      <th>수하인_코드5_099100</th>\n",
       "      <th>수하인_코드5_099200</th>\n",
       "      <th>수하인_코드5_099300</th>\n",
       "      <th>수하인_코드5_099400</th>\n",
       "      <th>수하인_코드5_100100</th>\n",
       "      <th>수하인_코드5_100200</th>\n",
       "      <th>수하인_코드5_100300</th>\n",
       "      <th>수하인_코드5_100400</th>\n",
       "    </tr>\n",
       "  </thead>\n",
       "  <tbody>\n",
       "    <tr>\n",
       "      <th>0</th>\n",
       "      <td>0</td>\n",
       "      <td>0</td>\n",
       "      <td>0</td>\n",
       "      <td>0</td>\n",
       "      <td>0</td>\n",
       "      <td>0</td>\n",
       "      <td>0</td>\n",
       "      <td>0</td>\n",
       "      <td>0</td>\n",
       "      <td>0</td>\n",
       "      <td>...</td>\n",
       "      <td>0</td>\n",
       "      <td>0</td>\n",
       "      <td>0</td>\n",
       "      <td>0</td>\n",
       "      <td>0</td>\n",
       "      <td>0</td>\n",
       "      <td>0</td>\n",
       "      <td>0</td>\n",
       "      <td>0</td>\n",
       "      <td>0</td>\n",
       "    </tr>\n",
       "    <tr>\n",
       "      <th>1</th>\n",
       "      <td>0</td>\n",
       "      <td>0</td>\n",
       "      <td>0</td>\n",
       "      <td>0</td>\n",
       "      <td>0</td>\n",
       "      <td>0</td>\n",
       "      <td>0</td>\n",
       "      <td>0</td>\n",
       "      <td>0</td>\n",
       "      <td>0</td>\n",
       "      <td>...</td>\n",
       "      <td>0</td>\n",
       "      <td>0</td>\n",
       "      <td>0</td>\n",
       "      <td>0</td>\n",
       "      <td>0</td>\n",
       "      <td>0</td>\n",
       "      <td>0</td>\n",
       "      <td>0</td>\n",
       "      <td>0</td>\n",
       "      <td>0</td>\n",
       "    </tr>\n",
       "    <tr>\n",
       "      <th>2</th>\n",
       "      <td>0</td>\n",
       "      <td>0</td>\n",
       "      <td>0</td>\n",
       "      <td>0</td>\n",
       "      <td>0</td>\n",
       "      <td>0</td>\n",
       "      <td>0</td>\n",
       "      <td>0</td>\n",
       "      <td>0</td>\n",
       "      <td>0</td>\n",
       "      <td>...</td>\n",
       "      <td>0</td>\n",
       "      <td>0</td>\n",
       "      <td>0</td>\n",
       "      <td>0</td>\n",
       "      <td>0</td>\n",
       "      <td>0</td>\n",
       "      <td>0</td>\n",
       "      <td>0</td>\n",
       "      <td>0</td>\n",
       "      <td>0</td>\n",
       "    </tr>\n",
       "    <tr>\n",
       "      <th>3</th>\n",
       "      <td>0</td>\n",
       "      <td>0</td>\n",
       "      <td>0</td>\n",
       "      <td>0</td>\n",
       "      <td>0</td>\n",
       "      <td>0</td>\n",
       "      <td>0</td>\n",
       "      <td>0</td>\n",
       "      <td>0</td>\n",
       "      <td>0</td>\n",
       "      <td>...</td>\n",
       "      <td>0</td>\n",
       "      <td>0</td>\n",
       "      <td>0</td>\n",
       "      <td>0</td>\n",
       "      <td>0</td>\n",
       "      <td>0</td>\n",
       "      <td>0</td>\n",
       "      <td>0</td>\n",
       "      <td>0</td>\n",
       "      <td>0</td>\n",
       "    </tr>\n",
       "    <tr>\n",
       "      <th>4</th>\n",
       "      <td>0</td>\n",
       "      <td>0</td>\n",
       "      <td>0</td>\n",
       "      <td>0</td>\n",
       "      <td>0</td>\n",
       "      <td>0</td>\n",
       "      <td>0</td>\n",
       "      <td>0</td>\n",
       "      <td>0</td>\n",
       "      <td>0</td>\n",
       "      <td>...</td>\n",
       "      <td>0</td>\n",
       "      <td>0</td>\n",
       "      <td>0</td>\n",
       "      <td>0</td>\n",
       "      <td>0</td>\n",
       "      <td>0</td>\n",
       "      <td>0</td>\n",
       "      <td>0</td>\n",
       "      <td>0</td>\n",
       "      <td>0</td>\n",
       "    </tr>\n",
       "    <tr>\n",
       "      <th>...</th>\n",
       "      <td>...</td>\n",
       "      <td>...</td>\n",
       "      <td>...</td>\n",
       "      <td>...</td>\n",
       "      <td>...</td>\n",
       "      <td>...</td>\n",
       "      <td>...</td>\n",
       "      <td>...</td>\n",
       "      <td>...</td>\n",
       "      <td>...</td>\n",
       "      <td>...</td>\n",
       "      <td>...</td>\n",
       "      <td>...</td>\n",
       "      <td>...</td>\n",
       "      <td>...</td>\n",
       "      <td>...</td>\n",
       "      <td>...</td>\n",
       "      <td>...</td>\n",
       "      <td>...</td>\n",
       "      <td>...</td>\n",
       "      <td>...</td>\n",
       "    </tr>\n",
       "    <tr>\n",
       "      <th>7915</th>\n",
       "      <td>0</td>\n",
       "      <td>0</td>\n",
       "      <td>0</td>\n",
       "      <td>0</td>\n",
       "      <td>0</td>\n",
       "      <td>0</td>\n",
       "      <td>0</td>\n",
       "      <td>0</td>\n",
       "      <td>0</td>\n",
       "      <td>0</td>\n",
       "      <td>...</td>\n",
       "      <td>0</td>\n",
       "      <td>0</td>\n",
       "      <td>0</td>\n",
       "      <td>0</td>\n",
       "      <td>0</td>\n",
       "      <td>0</td>\n",
       "      <td>0</td>\n",
       "      <td>0</td>\n",
       "      <td>0</td>\n",
       "      <td>0</td>\n",
       "    </tr>\n",
       "    <tr>\n",
       "      <th>7916</th>\n",
       "      <td>0</td>\n",
       "      <td>0</td>\n",
       "      <td>0</td>\n",
       "      <td>0</td>\n",
       "      <td>0</td>\n",
       "      <td>0</td>\n",
       "      <td>0</td>\n",
       "      <td>0</td>\n",
       "      <td>0</td>\n",
       "      <td>0</td>\n",
       "      <td>...</td>\n",
       "      <td>0</td>\n",
       "      <td>0</td>\n",
       "      <td>0</td>\n",
       "      <td>0</td>\n",
       "      <td>0</td>\n",
       "      <td>0</td>\n",
       "      <td>0</td>\n",
       "      <td>0</td>\n",
       "      <td>0</td>\n",
       "      <td>0</td>\n",
       "    </tr>\n",
       "    <tr>\n",
       "      <th>7917</th>\n",
       "      <td>0</td>\n",
       "      <td>0</td>\n",
       "      <td>0</td>\n",
       "      <td>0</td>\n",
       "      <td>0</td>\n",
       "      <td>0</td>\n",
       "      <td>0</td>\n",
       "      <td>0</td>\n",
       "      <td>0</td>\n",
       "      <td>0</td>\n",
       "      <td>...</td>\n",
       "      <td>0</td>\n",
       "      <td>0</td>\n",
       "      <td>0</td>\n",
       "      <td>0</td>\n",
       "      <td>0</td>\n",
       "      <td>0</td>\n",
       "      <td>0</td>\n",
       "      <td>0</td>\n",
       "      <td>0</td>\n",
       "      <td>0</td>\n",
       "    </tr>\n",
       "    <tr>\n",
       "      <th>7918</th>\n",
       "      <td>0</td>\n",
       "      <td>0</td>\n",
       "      <td>0</td>\n",
       "      <td>0</td>\n",
       "      <td>0</td>\n",
       "      <td>0</td>\n",
       "      <td>0</td>\n",
       "      <td>0</td>\n",
       "      <td>0</td>\n",
       "      <td>0</td>\n",
       "      <td>...</td>\n",
       "      <td>0</td>\n",
       "      <td>0</td>\n",
       "      <td>0</td>\n",
       "      <td>0</td>\n",
       "      <td>0</td>\n",
       "      <td>0</td>\n",
       "      <td>0</td>\n",
       "      <td>0</td>\n",
       "      <td>0</td>\n",
       "      <td>0</td>\n",
       "    </tr>\n",
       "    <tr>\n",
       "      <th>7919</th>\n",
       "      <td>0</td>\n",
       "      <td>0</td>\n",
       "      <td>0</td>\n",
       "      <td>0</td>\n",
       "      <td>0</td>\n",
       "      <td>0</td>\n",
       "      <td>0</td>\n",
       "      <td>0</td>\n",
       "      <td>0</td>\n",
       "      <td>0</td>\n",
       "      <td>...</td>\n",
       "      <td>0</td>\n",
       "      <td>0</td>\n",
       "      <td>0</td>\n",
       "      <td>0</td>\n",
       "      <td>0</td>\n",
       "      <td>0</td>\n",
       "      <td>0</td>\n",
       "      <td>0</td>\n",
       "      <td>0</td>\n",
       "      <td>0</td>\n",
       "    </tr>\n",
       "  </tbody>\n",
       "</table>\n",
       "<p>7920 rows × 1367 columns</p>\n",
       "</div>"
      ],
      "text/plain": [
       "      물품_카테고리_DIY자재/용품  물품_카테고리_PC  물품_카테고리_PC주변기기  물품_카테고리_가공식품  물품_카테고리_가방  \\\n",
       "0                    0           0               0             0           0   \n",
       "1                    0           0               0             0           0   \n",
       "2                    0           0               0             0           0   \n",
       "3                    0           0               0             0           0   \n",
       "4                    0           0               0             0           0   \n",
       "...                ...         ...             ...           ...         ...   \n",
       "7915                 0           0               0             0           0   \n",
       "7916                 0           0               0             0           0   \n",
       "7917                 0           0               0             0           0   \n",
       "7918                 0           0               0             0           0   \n",
       "7919                 0           0               0             0           0   \n",
       "\n",
       "      물품_카테고리_건강식품  물품_카테고리_건강용품  물품_카테고리_게임기/타이틀  물품_카테고리_계절가전  물품_카테고리_골프  \\\n",
       "0                0             0                0             0           0   \n",
       "1                0             0                0             0           0   \n",
       "2                0             0                0             0           0   \n",
       "3                0             0                0             0           0   \n",
       "4                0             0                0             0           0   \n",
       "...            ...           ...              ...           ...         ...   \n",
       "7915             0             0                0             0           0   \n",
       "7916             0             0                0             0           0   \n",
       "7917             0             0                0             0           0   \n",
       "7918             0             0                0             0           0   \n",
       "7919             0             0                0             0           0   \n",
       "\n",
       "      ...  수하인_코드5_098300  수하인_코드5_098400  수하인_코드5_099100  수하인_코드5_099200  \\\n",
       "0     ...               0               0               0               0   \n",
       "1     ...               0               0               0               0   \n",
       "2     ...               0               0               0               0   \n",
       "3     ...               0               0               0               0   \n",
       "4     ...               0               0               0               0   \n",
       "...   ...             ...             ...             ...             ...   \n",
       "7915  ...               0               0               0               0   \n",
       "7916  ...               0               0               0               0   \n",
       "7917  ...               0               0               0               0   \n",
       "7918  ...               0               0               0               0   \n",
       "7919  ...               0               0               0               0   \n",
       "\n",
       "      수하인_코드5_099300  수하인_코드5_099400  수하인_코드5_100100  수하인_코드5_100200  \\\n",
       "0                  0               0               0               0   \n",
       "1                  0               0               0               0   \n",
       "2                  0               0               0               0   \n",
       "3                  0               0               0               0   \n",
       "4                  0               0               0               0   \n",
       "...              ...             ...             ...             ...   \n",
       "7915               0               0               0               0   \n",
       "7916               0               0               0               0   \n",
       "7917               0               0               0               0   \n",
       "7918               0               0               0               0   \n",
       "7919               0               0               0               0   \n",
       "\n",
       "      수하인_코드5_100300  수하인_코드5_100400  \n",
       "0                  0               0  \n",
       "1                  0               0  \n",
       "2                  0               0  \n",
       "3                  0               0  \n",
       "4                  0               0  \n",
       "...              ...             ...  \n",
       "7915               0               0  \n",
       "7916               0               0  \n",
       "7917               0               0  \n",
       "7918               0               0  \n",
       "7919               0               0  \n",
       "\n",
       "[7920 rows x 1367 columns]"
      ]
     },
     "execution_count": 26,
     "metadata": {},
     "output_type": "execute_result"
    }
   ],
   "source": [
    "testX"
   ]
  },
  {
   "cell_type": "code",
   "execution_count": 27,
   "metadata": {},
   "outputs": [],
   "source": [
    "# 1. correlation\n",
    "\n",
    "# 중복정보가 있는 column 제거하기 위해 상관계수를 확인해봅니다.\n",
    "def remove_collinearity(X, threshold):\n",
    "    \"\"\"\n",
    "    X : feature matrix\n",
    "    threshold : 다중공선성을 제거할 column을 고르는 기준 값. [0, 1]\n",
    "    \"\"\"\n",
    "    \n",
    "    corr = X.corr()\n",
    "    candidate_cols = []\n",
    "    \n",
    "    for x in corr.iterrows():\n",
    "        idx, row = x[0], x[1] # decoupling tuple\n",
    "        # 해당 row는 이미 처리가 되어서 볼 필요가 없다.\n",
    "        if idx in candidate_cols:\n",
    "            continue\n",
    "        #print(row[row > 0.7].index[1:])\n",
    "        candidates = row[row > threshold].index[1:]\n",
    "\n",
    "        # 자기 자신을 제외하고 threshold를 넘는 column이 있다면,\n",
    "        if len(candidates) != 0:\n",
    "            for col in candidates:\n",
    "                candidate_cols.append(col)           \n",
    "    \n",
    "    return candidate_cols\n",
    "\n",
    "def find_feature_importance(X, model, show_plot):\n",
    "\n",
    "    feat_names = X.columns.values\n",
    "    importances = model.feature_importances_\n",
    "    std = np.std([tree.feature_importances_ for tree in model.estimators_], axis=0)\n",
    "    indices = np.argsort(importances)[::-1][:20]\n",
    "\n",
    "    plt.figure(figsize=(12,12))\n",
    "    plt.title(\"Feature importances\")\n",
    "    plt.bar(range(len(indices)), importances[indices], color=\"r\", align=\"center\")\n",
    "    plt.xticks(range(len(indices)), feat_names[indices], rotation='vertical')\n",
    "    plt.xlim([-1, len(indices)])\n",
    "    plt.show()\n",
    "    \n",
    "    important_features = X.columns[importances >= 0.005]\n",
    "    return important_features\n",
    "    \n",
    "def apply_PCA(X, show_plot):\n",
    "    from sklearn.decomposition import PCA\n",
    "    # training data와 test data를 모두 PCA를 이용하여 차원 감소를 수행합니다.\n",
    "    pca = PCA(n_components=0.90) # 원래 데이터의 90%를 보존하는 차원.\n",
    "    pca_090 = pca.fit(X) # 학습 및 변환\n",
    "    reduced_X = pca_090.transform(X)\n",
    "    print(reduced_X.shape)\n",
    "    \n",
    "    if show_plot:\n",
    "        labels = [f\"PC{x}\" for x in range(1, reduced_X.shape[1]+1)]\n",
    "        pca_090_variance = np.round(pca_090.explained_variance_ratio_.cumsum()*100, decimals=1)\n",
    "        plt.figure(figsize=(25,5))\n",
    "        plt.bar(x=range(1, len(pca_090_variance)+1), height=pca_090_variance, tick_label=labels)\n",
    "\n",
    "        plt.xticks(rotation=90, color='indigo', size=15)\n",
    "        plt.yticks(rotation=0, color='indigo', size=15)\n",
    "        plt.title('Scree Plot',color='tab:orange', fontsize=25)\n",
    "        plt.xlabel('Principal Components', {'color': 'tab:orange', 'fontsize':15})\n",
    "        plt.ylabel('Cumulative percentage of explained variance ', {'color': 'tab:orange', 'fontsize':15})\n",
    "        plt.show()\n",
    "        \n",
    "        X_train_pca_df = pd.DataFrame(reduced_X, columns=labels)\n",
    "        display(X_train_pca_df)\n",
    "\n",
    "    return pca_090, X_train_pca_df"
   ]
  },
  {
   "cell_type": "code",
   "execution_count": 28,
   "metadata": {},
   "outputs": [],
   "source": [
    "# flag setting\n",
    "feature_reducing = \"PCA\" # \"correlation\" / \"feature_importance\" / \"PCA\""
   ]
  },
  {
   "cell_type": "code",
   "execution_count": 29,
   "metadata": {},
   "outputs": [
    {
     "name": "stdout",
     "output_type": "stream",
     "text": [
      "(31684, 600)\n"
     ]
    },
    {
     "data": {
      "image/png": "[encoded data removed]",
      "text/plain": [
       "<Figure size 1800x360 with 1 Axes>"
      ]
     },
     "metadata": {
      "needs_background": "light"
     },
     "output_type": "display_data"
    },
    {
     "data": {
      "text/html": [
       "<div>\n",
       "<style scoped>\n",
       "    .dataframe tbody tr th:only-of-type {\n",
       "        vertical-align: middle;\n",
       "    }\n",
       "\n",
       "    .dataframe tbody tr th {\n",
       "        vertical-align: top;\n",
       "    }\n",
       "\n",
       "    .dataframe thead th {\n",
       "        text-align: right;\n",
       "    }\n",
       "</style>\n",
       "<table border=\"1\" class=\"dataframe\">\n",
       "  <thead>\n",
       "    <tr style=\"text-align: right;\">\n",
       "      <th></th>\n",
       "      <th>PC1</th>\n",
       "      <th>PC2</th>\n",
       "      <th>PC3</th>\n",
       "      <th>PC4</th>\n",
       "      <th>PC5</th>\n",
       "      <th>PC6</th>\n",
       "      <th>PC7</th>\n",
       "      <th>PC8</th>\n",
       "      <th>PC9</th>\n",
       "      <th>PC10</th>\n",
       "      <th>...</th>\n",
       "      <th>PC591</th>\n",
       "      <th>PC592</th>\n",
       "      <th>PC593</th>\n",
       "      <th>PC594</th>\n",
       "      <th>PC595</th>\n",
       "      <th>PC596</th>\n",
       "      <th>PC597</th>\n",
       "      <th>PC598</th>\n",
       "      <th>PC599</th>\n",
       "      <th>PC600</th>\n",
       "    </tr>\n",
       "  </thead>\n",
       "  <tbody>\n",
       "    <tr>\n",
       "      <th>0</th>\n",
       "      <td>-0.009858</td>\n",
       "      <td>0.477805</td>\n",
       "      <td>0.806920</td>\n",
       "      <td>-0.460605</td>\n",
       "      <td>-0.008932</td>\n",
       "      <td>-0.376285</td>\n",
       "      <td>-0.368366</td>\n",
       "      <td>-0.551784</td>\n",
       "      <td>-0.350214</td>\n",
       "      <td>-0.196455</td>\n",
       "      <td>...</td>\n",
       "      <td>0.026411</td>\n",
       "      <td>0.005203</td>\n",
       "      <td>-0.007162</td>\n",
       "      <td>0.020368</td>\n",
       "      <td>-0.024257</td>\n",
       "      <td>-0.037374</td>\n",
       "      <td>0.000111</td>\n",
       "      <td>0.000452</td>\n",
       "      <td>-0.001660</td>\n",
       "      <td>0.001264</td>\n",
       "    </tr>\n",
       "    <tr>\n",
       "      <th>1</th>\n",
       "      <td>1.892558</td>\n",
       "      <td>-0.442629</td>\n",
       "      <td>0.209595</td>\n",
       "      <td>0.463680</td>\n",
       "      <td>0.931256</td>\n",
       "      <td>-0.003160</td>\n",
       "      <td>0.104123</td>\n",
       "      <td>0.426147</td>\n",
       "      <td>-0.541082</td>\n",
       "      <td>-0.793139</td>\n",
       "      <td>...</td>\n",
       "      <td>-0.027845</td>\n",
       "      <td>0.037963</td>\n",
       "      <td>0.021958</td>\n",
       "      <td>-0.033990</td>\n",
       "      <td>0.014638</td>\n",
       "      <td>-0.038212</td>\n",
       "      <td>-0.000540</td>\n",
       "      <td>-0.016687</td>\n",
       "      <td>0.006691</td>\n",
       "      <td>0.015321</td>\n",
       "    </tr>\n",
       "    <tr>\n",
       "      <th>2</th>\n",
       "      <td>-0.870839</td>\n",
       "      <td>1.339358</td>\n",
       "      <td>-0.716104</td>\n",
       "      <td>0.796148</td>\n",
       "      <td>-0.230227</td>\n",
       "      <td>-0.350980</td>\n",
       "      <td>-0.001632</td>\n",
       "      <td>0.033271</td>\n",
       "      <td>-0.067134</td>\n",
       "      <td>-0.031889</td>\n",
       "      <td>...</td>\n",
       "      <td>0.016531</td>\n",
       "      <td>-0.021727</td>\n",
       "      <td>0.012617</td>\n",
       "      <td>-0.001054</td>\n",
       "      <td>-0.016560</td>\n",
       "      <td>0.002001</td>\n",
       "      <td>0.001987</td>\n",
       "      <td>0.011630</td>\n",
       "      <td>0.006948</td>\n",
       "      <td>0.001835</td>\n",
       "    </tr>\n",
       "    <tr>\n",
       "      <th>3</th>\n",
       "      <td>1.797593</td>\n",
       "      <td>0.152652</td>\n",
       "      <td>-0.366415</td>\n",
       "      <td>0.224401</td>\n",
       "      <td>-0.181880</td>\n",
       "      <td>0.176665</td>\n",
       "      <td>-0.025971</td>\n",
       "      <td>-0.028135</td>\n",
       "      <td>0.098604</td>\n",
       "      <td>-0.169076</td>\n",
       "      <td>...</td>\n",
       "      <td>0.031803</td>\n",
       "      <td>0.045233</td>\n",
       "      <td>0.013933</td>\n",
       "      <td>-0.011830</td>\n",
       "      <td>0.022162</td>\n",
       "      <td>-0.007963</td>\n",
       "      <td>-0.007977</td>\n",
       "      <td>0.016892</td>\n",
       "      <td>0.017083</td>\n",
       "      <td>-0.005302</td>\n",
       "    </tr>\n",
       "    <tr>\n",
       "      <th>4</th>\n",
       "      <td>-0.769998</td>\n",
       "      <td>1.346103</td>\n",
       "      <td>-0.794740</td>\n",
       "      <td>0.421177</td>\n",
       "      <td>-0.047480</td>\n",
       "      <td>-0.119300</td>\n",
       "      <td>-0.034892</td>\n",
       "      <td>0.105987</td>\n",
       "      <td>-0.114239</td>\n",
       "      <td>0.067393</td>\n",
       "      <td>...</td>\n",
       "      <td>-0.007192</td>\n",
       "      <td>-0.010914</td>\n",
       "      <td>-0.002918</td>\n",
       "      <td>-0.005521</td>\n",
       "      <td>-0.005322</td>\n",
       "      <td>0.012807</td>\n",
       "      <td>0.014331</td>\n",
       "      <td>-0.023190</td>\n",
       "      <td>0.023133</td>\n",
       "      <td>0.009645</td>\n",
       "    </tr>\n",
       "    <tr>\n",
       "      <th>...</th>\n",
       "      <td>...</td>\n",
       "      <td>...</td>\n",
       "      <td>...</td>\n",
       "      <td>...</td>\n",
       "      <td>...</td>\n",
       "      <td>...</td>\n",
       "      <td>...</td>\n",
       "      <td>...</td>\n",
       "      <td>...</td>\n",
       "      <td>...</td>\n",
       "      <td>...</td>\n",
       "      <td>...</td>\n",
       "      <td>...</td>\n",
       "      <td>...</td>\n",
       "      <td>...</td>\n",
       "      <td>...</td>\n",
       "      <td>...</td>\n",
       "      <td>...</td>\n",
       "      <td>...</td>\n",
       "      <td>...</td>\n",
       "      <td>...</td>\n",
       "    </tr>\n",
       "    <tr>\n",
       "      <th>31679</th>\n",
       "      <td>1.539609</td>\n",
       "      <td>-0.145747</td>\n",
       "      <td>0.254914</td>\n",
       "      <td>-0.075059</td>\n",
       "      <td>-0.040440</td>\n",
       "      <td>0.096006</td>\n",
       "      <td>0.101783</td>\n",
       "      <td>-0.320448</td>\n",
       "      <td>0.096545</td>\n",
       "      <td>-0.817094</td>\n",
       "      <td>...</td>\n",
       "      <td>0.004822</td>\n",
       "      <td>-0.005462</td>\n",
       "      <td>0.046200</td>\n",
       "      <td>0.016076</td>\n",
       "      <td>-0.027957</td>\n",
       "      <td>0.012462</td>\n",
       "      <td>0.001775</td>\n",
       "      <td>-0.015110</td>\n",
       "      <td>0.032851</td>\n",
       "      <td>0.034257</td>\n",
       "    </tr>\n",
       "    <tr>\n",
       "      <th>31680</th>\n",
       "      <td>1.733757</td>\n",
       "      <td>0.205105</td>\n",
       "      <td>-0.526886</td>\n",
       "      <td>0.091672</td>\n",
       "      <td>-0.259832</td>\n",
       "      <td>0.070444</td>\n",
       "      <td>0.514069</td>\n",
       "      <td>-0.541155</td>\n",
       "      <td>0.249785</td>\n",
       "      <td>0.323154</td>\n",
       "      <td>...</td>\n",
       "      <td>0.071341</td>\n",
       "      <td>0.073208</td>\n",
       "      <td>0.048627</td>\n",
       "      <td>0.084643</td>\n",
       "      <td>0.075340</td>\n",
       "      <td>0.005024</td>\n",
       "      <td>-0.043938</td>\n",
       "      <td>-0.137289</td>\n",
       "      <td>0.084853</td>\n",
       "      <td>0.040782</td>\n",
       "    </tr>\n",
       "    <tr>\n",
       "      <th>31681</th>\n",
       "      <td>1.653511</td>\n",
       "      <td>0.212362</td>\n",
       "      <td>-0.523760</td>\n",
       "      <td>0.025188</td>\n",
       "      <td>-0.220642</td>\n",
       "      <td>0.179585</td>\n",
       "      <td>0.003923</td>\n",
       "      <td>-0.455266</td>\n",
       "      <td>0.590354</td>\n",
       "      <td>-0.870691</td>\n",
       "      <td>...</td>\n",
       "      <td>0.023452</td>\n",
       "      <td>-0.006976</td>\n",
       "      <td>-0.032508</td>\n",
       "      <td>0.025069</td>\n",
       "      <td>0.013470</td>\n",
       "      <td>-0.013600</td>\n",
       "      <td>-0.009110</td>\n",
       "      <td>-0.002383</td>\n",
       "      <td>-0.015368</td>\n",
       "      <td>0.000242</td>\n",
       "    </tr>\n",
       "    <tr>\n",
       "      <th>31682</th>\n",
       "      <td>1.847377</td>\n",
       "      <td>0.145054</td>\n",
       "      <td>-0.432200</td>\n",
       "      <td>0.113646</td>\n",
       "      <td>-0.122051</td>\n",
       "      <td>0.220145</td>\n",
       "      <td>0.047331</td>\n",
       "      <td>-0.063591</td>\n",
       "      <td>0.259991</td>\n",
       "      <td>-0.823434</td>\n",
       "      <td>...</td>\n",
       "      <td>-0.016196</td>\n",
       "      <td>-0.009939</td>\n",
       "      <td>-0.010972</td>\n",
       "      <td>0.040088</td>\n",
       "      <td>0.004693</td>\n",
       "      <td>0.004791</td>\n",
       "      <td>-0.004334</td>\n",
       "      <td>0.022164</td>\n",
       "      <td>-0.000340</td>\n",
       "      <td>-0.051259</td>\n",
       "    </tr>\n",
       "    <tr>\n",
       "      <th>31683</th>\n",
       "      <td>1.239225</td>\n",
       "      <td>0.424700</td>\n",
       "      <td>0.624743</td>\n",
       "      <td>-0.119132</td>\n",
       "      <td>-0.114793</td>\n",
       "      <td>-0.030296</td>\n",
       "      <td>0.322700</td>\n",
       "      <td>0.158337</td>\n",
       "      <td>0.376719</td>\n",
       "      <td>-0.244822</td>\n",
       "      <td>...</td>\n",
       "      <td>-0.054635</td>\n",
       "      <td>0.000648</td>\n",
       "      <td>0.012045</td>\n",
       "      <td>0.032566</td>\n",
       "      <td>0.023304</td>\n",
       "      <td>0.009691</td>\n",
       "      <td>0.017808</td>\n",
       "      <td>-0.021783</td>\n",
       "      <td>-0.004151</td>\n",
       "      <td>-0.030126</td>\n",
       "    </tr>\n",
       "  </tbody>\n",
       "</table>\n",
       "<p>31684 rows × 600 columns</p>\n",
       "</div>"
      ],
      "text/plain": [
       "            PC1       PC2       PC3       PC4       PC5       PC6       PC7  \\\n",
       "0     -0.009858  0.477805  0.806920 -0.460605 -0.008932 -0.376285 -0.368366   \n",
       "1      1.892558 -0.442629  0.209595  0.463680  0.931256 -0.003160  0.104123   \n",
       "2     -0.870839  1.339358 -0.716104  0.796148 -0.230227 -0.350980 -0.001632   \n",
       "3      1.797593  0.152652 -0.366415  0.224401 -0.181880  0.176665 -0.025971   \n",
       "4     -0.769998  1.346103 -0.794740  0.421177 -0.047480 -0.119300 -0.034892   \n",
       "...         ...       ...       ...       ...       ...       ...       ...   \n",
       "31679  1.539609 -0.145747  0.254914 -0.075059 -0.040440  0.096006  0.101783   \n",
       "31680  1.733757  0.205105 -0.526886  0.091672 -0.259832  0.070444  0.514069   \n",
       "31681  1.653511  0.212362 -0.523760  0.025188 -0.220642  0.179585  0.003923   \n",
       "31682  1.847377  0.145054 -0.432200  0.113646 -0.122051  0.220145  0.047331   \n",
       "31683  1.239225  0.424700  0.624743 -0.119132 -0.114793 -0.030296  0.322700   \n",
       "\n",
       "            PC8       PC9      PC10  ...     PC591     PC592     PC593  \\\n",
       "0     -0.551784 -0.350214 -0.196455  ...  0.026411  0.005203 -0.007162   \n",
       "1      0.426147 -0.541082 -0.793139  ... -0.027845  0.037963  0.021958   \n",
       "2      0.033271 -0.067134 -0.031889  ...  0.016531 -0.021727  0.012617   \n",
       "3     -0.028135  0.098604 -0.169076  ...  0.031803  0.045233  0.013933   \n",
       "4      0.105987 -0.114239  0.067393  ... -0.007192 -0.010914 -0.002918   \n",
       "...         ...       ...       ...  ...       ...       ...       ...   \n",
       "31679 -0.320448  0.096545 -0.817094  ...  0.004822 -0.005462  0.046200   \n",
       "31680 -0.541155  0.249785  0.323154  ...  0.071341  0.073208  0.048627   \n",
       "31681 -0.455266  0.590354 -0.870691  ...  0.023452 -0.006976 -0.032508   \n",
       "31682 -0.063591  0.259991 -0.823434  ... -0.016196 -0.009939 -0.010972   \n",
       "31683  0.158337  0.376719 -0.244822  ... -0.054635  0.000648  0.012045   \n",
       "\n",
       "          PC594     PC595     PC596     PC597     PC598     PC599     PC600  \n",
       "0      0.020368 -0.024257 -0.037374  0.000111  0.000452 -0.001660  0.001264  \n",
       "1     -0.033990  0.014638 -0.038212 -0.000540 -0.016687  0.006691  0.015321  \n",
       "2     -0.001054 -0.016560  0.002001  0.001987  0.011630  0.006948  0.001835  \n",
       "3     -0.011830  0.022162 -0.007963 -0.007977  0.016892  0.017083 -0.005302  \n",
       "4     -0.005521 -0.005322  0.012807  0.014331 -0.023190  0.023133  0.009645  \n",
       "...         ...       ...       ...       ...       ...       ...       ...  \n",
       "31679  0.016076 -0.027957  0.012462  0.001775 -0.015110  0.032851  0.034257  \n",
       "31680  0.084643  0.075340  0.005024 -0.043938 -0.137289  0.084853  0.040782  \n",
       "31681  0.025069  0.013470 -0.013600 -0.009110 -0.002383 -0.015368  0.000242  \n",
       "31682  0.040088  0.004693  0.004791 -0.004334  0.022164 -0.000340 -0.051259  \n",
       "31683  0.032566  0.023304  0.009691  0.017808 -0.021783 -0.004151 -0.030126  \n",
       "\n",
       "[31684 rows x 600 columns]"
      ]
     },
     "metadata": {},
     "output_type": "display_data"
    },
    {
     "name": "stdout",
     "output_type": "stream",
     "text": [
      "(31684, 600)\n"
     ]
    }
   ],
   "source": [
    "# PCA 적용\n",
    "if feature_reducing == \"correlation\":\n",
    "    threshold = 0.7\n",
    "    correlated_features = remove_collinearity(trainX, threshold)\n",
    "    correlated_features = set(correlated_features) # 중복 제거\n",
    "    print(\"%d Correlation features over %.2f\" % (len(correlated_features), threshold))\n",
    "    \n",
    "    X = trainX.drop(columns=correlated_features)\n",
    "    print(X.shape)\n",
    "    \n",
    "elif feature_reducing == \"feature_importance\":\n",
    "    show_plot = True\n",
    "    model = RandomForestRegressor(max_features=\"sqrt\", n_jobs=-1, random_state=0xC0FFEE)\n",
    "    model.fit(trainX, y)\n",
    "    important_features = find_feature_importance(trainX, model, show_plot)\n",
    "    X = trainX[important_features]\n",
    "    print(X.shape)\n",
    "    \n",
    "elif feature_reducing == \"PCA\":\n",
    "    show_plot = True\n",
    "    pca_model, X = apply_PCA(trainX, show_plot)\n",
    "    print(X.shape)"
   ]
  },
  {
   "cell_type": "code",
   "execution_count": 30,
   "metadata": {},
   "outputs": [
    {
     "name": "stdout",
     "output_type": "stream",
     "text": [
      "(28515, 600) (3169, 600) (28515,) (3169,)\n"
     ]
    }
   ],
   "source": [
    "# 첫번째 테스트용으로 사용하고, 실제 학습시에는 K-Fold CV를 사용합니다.\n",
    "from sklearn.model_selection import train_test_split\n",
    "\n",
    "X_train, X_test, y_train, y_test = train_test_split(X, y, test_size=0.1, random_state=0xC0FFEE)\n",
    "print(X_train.shape, X_test.shape, y_train.shape, y_test.shape)"
   ]
  },
  {
   "cell_type": "code",
   "execution_count": 31,
   "metadata": {},
   "outputs": [
    {
     "name": "stdout",
     "output_type": "stream",
     "text": [
      "\n",
      "Fitting Random Forest...\n"
     ]
    },
    {
     "data": {
      "text/html": [
       "<style>#sk-container-id-1 {color: black;background-color: white;}#sk-container-id-1 pre{padding: 0;}#sk-container-id-1 div.sk-toggleable {background-color: white;}#sk-container-id-1 label.sk-toggleable__label {cursor: pointer;display: block;width: 100%;margin-bottom: 0;padding: 0.3em;box-sizing: border-box;text-align: center;}#sk-container-id-1 label.sk-toggleable__label-arrow:before {content: \"▸\";float: left;margin-right: 0.25em;color: #696969;}#sk-container-id-1 label.sk-toggleable__label-arrow:hover:before {color: black;}#sk-container-id-1 div.sk-estimator:hover label.sk-toggleable__label-arrow:before {color: black;}#sk-container-id-1 div.sk-toggleable__content {max-height: 0;max-width: 0;overflow: hidden;text-align: left;background-color: #f0f8ff;}#sk-container-id-1 div.sk-toggleable__content pre {margin: 0.2em;color: black;border-radius: 0.25em;background-color: #f0f8ff;}#sk-container-id-1 input.sk-toggleable__control:checked~div.sk-toggleable__content {max-height: 200px;max-width: 100%;overflow: auto;}#sk-container-id-1 input.sk-toggleable__control:checked~label.sk-toggleable__label-arrow:before {content: \"▾\";}#sk-container-id-1 div.sk-estimator input.sk-toggleable__control:checked~label.sk-toggleable__label {background-color: #d4ebff;}#sk-container-id-1 div.sk-label input.sk-toggleable__control:checked~label.sk-toggleable__label {background-color: #d4ebff;}#sk-container-id-1 input.sk-hidden--visually {border: 0;clip: rect(1px 1px 1px 1px);clip: rect(1px, 1px, 1px, 1px);height: 1px;margin: -1px;overflow: hidden;padding: 0;position: absolute;width: 1px;}#sk-container-id-1 div.sk-estimator {font-family: monospace;background-color: #f0f8ff;border: 1px dotted black;border-radius: 0.25em;box-sizing: border-box;margin-bottom: 0.5em;}#sk-container-id-1 div.sk-estimator:hover {background-color: #d4ebff;}#sk-container-id-1 div.sk-parallel-item::after {content: \"\";width: 100%;border-bottom: 1px solid gray;flex-grow: 1;}#sk-container-id-1 div.sk-label:hover label.sk-toggleable__label {background-color: #d4ebff;}#sk-container-id-1 div.sk-serial::before {content: \"\";position: absolute;border-left: 1px solid gray;box-sizing: border-box;top: 0;bottom: 0;left: 50%;z-index: 0;}#sk-container-id-1 div.sk-serial {display: flex;flex-direction: column;align-items: center;background-color: white;padding-right: 0.2em;padding-left: 0.2em;position: relative;}#sk-container-id-1 div.sk-item {position: relative;z-index: 1;}#sk-container-id-1 div.sk-parallel {display: flex;align-items: stretch;justify-content: center;background-color: white;position: relative;}#sk-container-id-1 div.sk-item::before, #sk-container-id-1 div.sk-parallel-item::before {content: \"\";position: absolute;border-left: 1px solid gray;box-sizing: border-box;top: 0;bottom: 0;left: 50%;z-index: -1;}#sk-container-id-1 div.sk-parallel-item {display: flex;flex-direction: column;z-index: 1;position: relative;background-color: white;}#sk-container-id-1 div.sk-parallel-item:first-child::after {align-self: flex-end;width: 50%;}#sk-container-id-1 div.sk-parallel-item:last-child::after {align-self: flex-start;width: 50%;}#sk-container-id-1 div.sk-parallel-item:only-child::after {width: 0;}#sk-container-id-1 div.sk-dashed-wrapped {border: 1px dashed gray;margin: 0 0.4em 0.5em 0.4em;box-sizing: border-box;padding-bottom: 0.4em;background-color: white;}#sk-container-id-1 div.sk-label label {font-family: monospace;font-weight: bold;display: inline-block;line-height: 1.2em;}#sk-container-id-1 div.sk-label-container {text-align: center;}#sk-container-id-1 div.sk-container {/* jupyter's `normalize.less` sets `[hidden] { display: none; }` but bootstrap.min.css set `[hidden] { display: none !important; }` so we also need the `!important` here to be able to override the default hidden behavior on the sphinx rendered scikit-learn.org. See: https://github.com/scikit-learn/scikit-learn/issues/21755 */display: inline-block !important;position: relative;}#sk-container-id-1 div.sk-text-repr-fallback {display: none;}</style><div id=\"sk-container-id-1\" class=\"sk-top-container\"><div class=\"sk-text-repr-fallback\"><pre>RandomForestRegressor(max_features=&#x27;sqrt&#x27;, n_jobs=-1)</pre><b>In a Jupyter environment, please rerun this cell to show the HTML representation or trust the notebook. <br />On GitHub, the HTML representation is unable to render, please try loading this page with nbviewer.org.</b></div><div class=\"sk-container\" hidden><div class=\"sk-item\"><div class=\"sk-estimator sk-toggleable\"><input class=\"sk-toggleable__control sk-hidden--visually\" id=\"sk-estimator-id-1\" type=\"checkbox\" checked><label for=\"sk-estimator-id-1\" class=\"sk-toggleable__label sk-toggleable__label-arrow\">RandomForestRegressor</label><div class=\"sk-toggleable__content\"><pre>RandomForestRegressor(max_features=&#x27;sqrt&#x27;, n_jobs=-1)</pre></div></div></div></div></div>"
      ],
      "text/plain": [
       "RandomForestRegressor(max_features='sqrt', n_jobs=-1)"
      ]
     },
     "execution_count": 31,
     "metadata": {},
     "output_type": "execute_result"
    }
   ],
   "source": [
    "print(\"\\nFitting Random Forest...\")\n",
    "model = RandomForestRegressor(max_features='sqrt', n_jobs=-1)\n",
    "model.fit(X_train, y_train)"
   ]
  },
  {
   "cell_type": "code",
   "execution_count": 32,
   "metadata": {},
   "outputs": [],
   "source": [
    "# metric은 그때마다 맞게 바꿔줘야 합니다.\n",
    "from sklearn.metrics import r2_score\n",
    "evaluation_metric = r2_score"
   ]
  },
  {
   "cell_type": "code",
   "execution_count": 33,
   "metadata": {},
   "outputs": [
    {
     "name": "stdout",
     "output_type": "stream",
     "text": [
      "Prediction\n",
      "Train Score : 0.8766\n",
      "Test Score : -0.0078\n"
     ]
    }
   ],
   "source": [
    "print(\"Prediction\")\n",
    "pred_train = model.predict(X_train)\n",
    "pred_test = model.predict(X_test)\n",
    "\n",
    "\n",
    "train_score = evaluation_metric(y_train, pred_train)\n",
    "test_score = evaluation_metric(y_test, pred_test)\n",
    "\n",
    "print(\"Train Score : %.4f\" % train_score)\n",
    "print(\"Test Score : %.4f\" % test_score)"
   ]
  },
  {
   "cell_type": "code",
   "execution_count": 34,
   "metadata": {},
   "outputs": [],
   "source": [
    "# For Regression\n",
    "\n",
    "def optimizer(trial, X, y, K):\n",
    "    # 조절할 hyper-parameter 조합을 적어줍니다.\n",
    "    n_estimators = trial.suggest_int(\"n_estimators\", 50, 200)\n",
    "    max_depth = trial.suggest_int(\"max_depth\", 8, 30)\n",
    "    max_features = trial.suggest_categorical(\"max_features\", ['auto', 'sqrt', 'log2'])\n",
    "    \n",
    "    \n",
    "    # 원하는 모델을 지정합니다, optuna는 시간이 오래걸리기 때문에 저는 보통 RF로 일단 테스트를 해본 뒤에 LGBM을 사용합니다.\n",
    "    model = RandomForestRegressor(n_estimators=n_estimators,\n",
    "                                  max_depth=max_depth,\n",
    "                                  max_features=max_features,\n",
    "                                  n_jobs=-1,\n",
    "                                  random_state=0xC0FFEE)\n",
    "    \n",
    "    \n",
    "    # K-Fold Cross validation을 구현합니다.\n",
    "    folds = KFold(n_splits=K)\n",
    "    scores = []\n",
    "    \n",
    "    for train_idx, val_idx in folds.split(X, y):\n",
    "        X_train = X.iloc[train_idx, :]\n",
    "        y_train = y.iloc[train_idx]\n",
    "        \n",
    "        X_val = X.iloc[val_idx, :]\n",
    "        y_val = y.iloc[val_idx]\n",
    "        \n",
    "        model.fit(X_train, y_train)\n",
    "        preds = model.predict(X_val)\n",
    "        score = evaluation_metric(y_val, preds)\n",
    "        scores.append(score)\n",
    "    \n",
    "    \n",
    "    # K-Fold의 평균 loss값을 돌려줍니다.\n",
    "    return np.mean(scores)"
   ]
  },
  {
   "cell_type": "code",
   "execution_count": 35,
   "metadata": {},
   "outputs": [
    {
     "name": "stderr",
     "output_type": "stream",
     "text": [
      "\u001b[32m[I 2022-06-13 19:09:43,283]\u001b[0m A new study created in memory with name: RF\u001b[0m\n",
      "\u001b[32m[I 2022-06-13 19:11:01,304]\u001b[0m Trial 0 finished with value: 0.12119993912398672 and parameters: {'n_estimators': 152, 'max_depth': 27, 'max_features': 'sqrt'}. Best is trial 0 with value: 0.12119993912398672.\u001b[0m\n",
      "\u001b[32m[I 2022-06-13 19:11:22,183]\u001b[0m Trial 1 finished with value: 0.09910321718136979 and parameters: {'n_estimators': 107, 'max_depth': 9, 'max_features': 'sqrt'}. Best is trial 0 with value: 0.12119993912398672.\u001b[0m\n",
      "\u001b[32m[I 2022-06-13 19:13:01,222]\u001b[0m Trial 2 finished with value: 0.12726673111381515 and parameters: {'n_estimators': 194, 'max_depth': 28, 'max_features': 'sqrt'}. Best is trial 2 with value: 0.12726673111381515.\u001b[0m\n",
      "\u001b[32m[I 2022-06-13 19:13:16,502]\u001b[0m Trial 3 finished with value: 0.09924785625485218 and parameters: {'n_estimators': 192, 'max_depth': 10, 'max_features': 'log2'}. Best is trial 2 with value: 0.12726673111381515.\u001b[0m\n",
      "\u001b[32m[I 2022-06-13 19:13:38,382]\u001b[0m Trial 4 finished with value: 0.11166008731745561 and parameters: {'n_estimators': 186, 'max_depth': 16, 'max_features': 'log2'}. Best is trial 2 with value: 0.12726673111381515.\u001b[0m\n",
      "\u001b[32m[I 2022-06-13 19:13:55,553]\u001b[0m Trial 5 finished with value: 0.10571980715792204 and parameters: {'n_estimators': 58, 'max_depth': 14, 'max_features': 'sqrt'}. Best is trial 2 with value: 0.12726673111381515.\u001b[0m\n",
      "\u001b[32m[I 2022-06-13 19:14:52,563]\u001b[0m Trial 6 finished with value: 0.11524342202877955 and parameters: {'n_estimators': 122, 'max_depth': 25, 'max_features': 'sqrt'}. Best is trial 2 with value: 0.12726673111381515.\u001b[0m\n"
     ]
    },
    {
     "ename": "KeyboardInterrupt",
     "evalue": "",
     "output_type": "error",
     "traceback": [
      "\u001b[0;31m---------------------------------------------------------------------------\u001b[0m",
      "\u001b[0;31mKeyboardInterrupt\u001b[0m                         Traceback (most recent call last)",
      "\u001b[1;32m/Users/krc/Desktop/moon/mini/miniproject/miniproject/3new.ipynb Cell 38'\u001b[0m in \u001b[0;36m<cell line: 5>\u001b[0;34m()\u001b[0m\n\u001b[1;32m      <a href='vscode-notebook-cell:/Users/krc/Desktop/moon/mini/miniproject/miniproject/3new.ipynb#ch0000120?line=1'>2</a>\u001b[0m opt_func \u001b[39m=\u001b[39m partial(optimizer, X\u001b[39m=\u001b[39mX_train, y\u001b[39m=\u001b[39my_train, K\u001b[39m=\u001b[39mK)\n\u001b[1;32m      <a href='vscode-notebook-cell:/Users/krc/Desktop/moon/mini/miniproject/miniproject/3new.ipynb#ch0000120?line=3'>4</a>\u001b[0m rf_study \u001b[39m=\u001b[39m optuna\u001b[39m.\u001b[39mcreate_study(study_name\u001b[39m=\u001b[39m\u001b[39m\"\u001b[39m\u001b[39mRF\u001b[39m\u001b[39m\"\u001b[39m, direction\u001b[39m=\u001b[39m\u001b[39m\"\u001b[39m\u001b[39mmaximize\u001b[39m\u001b[39m\"\u001b[39m) \u001b[39m# regression task에서 R^2를 최대화!\u001b[39;00m\n\u001b[0;32m----> <a href='vscode-notebook-cell:/Users/krc/Desktop/moon/mini/miniproject/miniproject/3new.ipynb#ch0000120?line=4'>5</a>\u001b[0m rf_study\u001b[39m.\u001b[39;49moptimize(opt_func, n_trials\u001b[39m=\u001b[39;49m\u001b[39m30\u001b[39;49m)\n",
      "File \u001b[0;32m~/miniforge3/lib/python3.9/site-packages/optuna/study/study.py:400\u001b[0m, in \u001b[0;36mStudy.optimize\u001b[0;34m(self, func, n_trials, timeout, n_jobs, catch, callbacks, gc_after_trial, show_progress_bar)\u001b[0m\n\u001b[1;32m    392\u001b[0m \u001b[39mif\u001b[39;00m n_jobs \u001b[39m!=\u001b[39m \u001b[39m1\u001b[39m:\n\u001b[1;32m    393\u001b[0m     warnings\u001b[39m.\u001b[39mwarn(\n\u001b[1;32m    394\u001b[0m         \u001b[39m\"\u001b[39m\u001b[39m`n_jobs` argument has been deprecated in v2.7.0. \u001b[39m\u001b[39m\"\u001b[39m\n\u001b[1;32m    395\u001b[0m         \u001b[39m\"\u001b[39m\u001b[39mThis feature will be removed in v4.0.0. \u001b[39m\u001b[39m\"\u001b[39m\n\u001b[1;32m    396\u001b[0m         \u001b[39m\"\u001b[39m\u001b[39mSee https://github.com/optuna/optuna/releases/tag/v2.7.0.\u001b[39m\u001b[39m\"\u001b[39m,\n\u001b[1;32m    397\u001b[0m         \u001b[39mFutureWarning\u001b[39;00m,\n\u001b[1;32m    398\u001b[0m     )\n\u001b[0;32m--> 400\u001b[0m _optimize(\n\u001b[1;32m    401\u001b[0m     study\u001b[39m=\u001b[39;49m\u001b[39mself\u001b[39;49m,\n\u001b[1;32m    402\u001b[0m     func\u001b[39m=\u001b[39;49mfunc,\n\u001b[1;32m    403\u001b[0m     n_trials\u001b[39m=\u001b[39;49mn_trials,\n\u001b[1;32m    404\u001b[0m     timeout\u001b[39m=\u001b[39;49mtimeout,\n\u001b[1;32m    405\u001b[0m     n_jobs\u001b[39m=\u001b[39;49mn_jobs,\n\u001b[1;32m    406\u001b[0m     catch\u001b[39m=\u001b[39;49mcatch,\n\u001b[1;32m    407\u001b[0m     callbacks\u001b[39m=\u001b[39;49mcallbacks,\n\u001b[1;32m    408\u001b[0m     gc_after_trial\u001b[39m=\u001b[39;49mgc_after_trial,\n\u001b[1;32m    409\u001b[0m     show_progress_bar\u001b[39m=\u001b[39;49mshow_progress_bar,\n\u001b[1;32m    410\u001b[0m )\n",
      "File \u001b[0;32m~/miniforge3/lib/python3.9/site-packages/optuna/study/_optimize.py:66\u001b[0m, in \u001b[0;36m_optimize\u001b[0;34m(study, func, n_trials, timeout, n_jobs, catch, callbacks, gc_after_trial, show_progress_bar)\u001b[0m\n\u001b[1;32m     64\u001b[0m \u001b[39mtry\u001b[39;00m:\n\u001b[1;32m     65\u001b[0m     \u001b[39mif\u001b[39;00m n_jobs \u001b[39m==\u001b[39m \u001b[39m1\u001b[39m:\n\u001b[0;32m---> 66\u001b[0m         _optimize_sequential(\n\u001b[1;32m     67\u001b[0m             study,\n\u001b[1;32m     68\u001b[0m             func,\n\u001b[1;32m     69\u001b[0m             n_trials,\n\u001b[1;32m     70\u001b[0m             timeout,\n\u001b[1;32m     71\u001b[0m             catch,\n\u001b[1;32m     72\u001b[0m             callbacks,\n\u001b[1;32m     73\u001b[0m             gc_after_trial,\n\u001b[1;32m     74\u001b[0m             reseed_sampler_rng\u001b[39m=\u001b[39;49m\u001b[39mFalse\u001b[39;49;00m,\n\u001b[1;32m     75\u001b[0m             time_start\u001b[39m=\u001b[39;49m\u001b[39mNone\u001b[39;49;00m,\n\u001b[1;32m     76\u001b[0m             progress_bar\u001b[39m=\u001b[39;49mprogress_bar,\n\u001b[1;32m     77\u001b[0m         )\n\u001b[1;32m     78\u001b[0m     \u001b[39melse\u001b[39;00m:\n\u001b[1;32m     79\u001b[0m         \u001b[39mif\u001b[39;00m show_progress_bar:\n",
      "File \u001b[0;32m~/miniforge3/lib/python3.9/site-packages/optuna/study/_optimize.py:163\u001b[0m, in \u001b[0;36m_optimize_sequential\u001b[0;34m(study, func, n_trials, timeout, catch, callbacks, gc_after_trial, reseed_sampler_rng, time_start, progress_bar)\u001b[0m\n\u001b[1;32m    160\u001b[0m         \u001b[39mbreak\u001b[39;00m\n\u001b[1;32m    162\u001b[0m \u001b[39mtry\u001b[39;00m:\n\u001b[0;32m--> 163\u001b[0m     trial \u001b[39m=\u001b[39m _run_trial(study, func, catch)\n\u001b[1;32m    164\u001b[0m \u001b[39mexcept\u001b[39;00m \u001b[39mException\u001b[39;00m:\n\u001b[1;32m    165\u001b[0m     \u001b[39mraise\u001b[39;00m\n",
      "File \u001b[0;32m~/miniforge3/lib/python3.9/site-packages/optuna/study/_optimize.py:213\u001b[0m, in \u001b[0;36m_run_trial\u001b[0;34m(study, func, catch)\u001b[0m\n\u001b[1;32m    210\u001b[0m     thread\u001b[39m.\u001b[39mstart()\n\u001b[1;32m    212\u001b[0m \u001b[39mtry\u001b[39;00m:\n\u001b[0;32m--> 213\u001b[0m     value_or_values \u001b[39m=\u001b[39m func(trial)\n\u001b[1;32m    214\u001b[0m \u001b[39mexcept\u001b[39;00m exceptions\u001b[39m.\u001b[39mTrialPruned \u001b[39mas\u001b[39;00m e:\n\u001b[1;32m    215\u001b[0m     \u001b[39m# TODO(mamu): Handle multi-objective cases.\u001b[39;00m\n\u001b[1;32m    216\u001b[0m     state \u001b[39m=\u001b[39m TrialState\u001b[39m.\u001b[39mPRUNED\n",
      "\u001b[1;32m/Users/krc/Desktop/moon/mini/miniproject/miniproject/3new.ipynb Cell 37'\u001b[0m in \u001b[0;36moptimizer\u001b[0;34m(trial, X, y, K)\u001b[0m\n\u001b[1;32m     <a href='vscode-notebook-cell:/Users/krc/Desktop/moon/mini/miniproject/miniproject/3new.ipynb#ch0000121?line=25'>26</a>\u001b[0m X_val \u001b[39m=\u001b[39m X\u001b[39m.\u001b[39miloc[val_idx, :]\n\u001b[1;32m     <a href='vscode-notebook-cell:/Users/krc/Desktop/moon/mini/miniproject/miniproject/3new.ipynb#ch0000121?line=26'>27</a>\u001b[0m y_val \u001b[39m=\u001b[39m y\u001b[39m.\u001b[39miloc[val_idx]\n\u001b[0;32m---> <a href='vscode-notebook-cell:/Users/krc/Desktop/moon/mini/miniproject/miniproject/3new.ipynb#ch0000121?line=28'>29</a>\u001b[0m model\u001b[39m.\u001b[39;49mfit(X_train, y_train)\n\u001b[1;32m     <a href='vscode-notebook-cell:/Users/krc/Desktop/moon/mini/miniproject/miniproject/3new.ipynb#ch0000121?line=29'>30</a>\u001b[0m preds \u001b[39m=\u001b[39m model\u001b[39m.\u001b[39mpredict(X_val)\n\u001b[1;32m     <a href='vscode-notebook-cell:/Users/krc/Desktop/moon/mini/miniproject/miniproject/3new.ipynb#ch0000121?line=30'>31</a>\u001b[0m score \u001b[39m=\u001b[39m evaluation_metric(y_val, preds)\n",
      "File \u001b[0;32m~/miniforge3/lib/python3.9/site-packages/sklearn/ensemble/_forest.py:476\u001b[0m, in \u001b[0;36mBaseForest.fit\u001b[0;34m(self, X, y, sample_weight)\u001b[0m\n\u001b[1;32m    465\u001b[0m trees \u001b[39m=\u001b[39m [\n\u001b[1;32m    466\u001b[0m     \u001b[39mself\u001b[39m\u001b[39m.\u001b[39m_make_estimator(append\u001b[39m=\u001b[39m\u001b[39mFalse\u001b[39;00m, random_state\u001b[39m=\u001b[39mrandom_state)\n\u001b[1;32m    467\u001b[0m     \u001b[39mfor\u001b[39;00m i \u001b[39min\u001b[39;00m \u001b[39mrange\u001b[39m(n_more_estimators)\n\u001b[1;32m    468\u001b[0m ]\n\u001b[1;32m    470\u001b[0m \u001b[39m# Parallel loop: we prefer the threading backend as the Cython code\u001b[39;00m\n\u001b[1;32m    471\u001b[0m \u001b[39m# for fitting the trees is internally releasing the Python GIL\u001b[39;00m\n\u001b[1;32m    472\u001b[0m \u001b[39m# making threading more efficient than multiprocessing in\u001b[39;00m\n\u001b[1;32m    473\u001b[0m \u001b[39m# that case. However, for joblib 0.12+ we respect any\u001b[39;00m\n\u001b[1;32m    474\u001b[0m \u001b[39m# parallel_backend contexts set at a higher level,\u001b[39;00m\n\u001b[1;32m    475\u001b[0m \u001b[39m# since correctness does not rely on using threads.\u001b[39;00m\n\u001b[0;32m--> 476\u001b[0m trees \u001b[39m=\u001b[39m Parallel(\n\u001b[1;32m    477\u001b[0m     n_jobs\u001b[39m=\u001b[39;49m\u001b[39mself\u001b[39;49m\u001b[39m.\u001b[39;49mn_jobs,\n\u001b[1;32m    478\u001b[0m     verbose\u001b[39m=\u001b[39;49m\u001b[39mself\u001b[39;49m\u001b[39m.\u001b[39;49mverbose,\n\u001b[1;32m    479\u001b[0m     prefer\u001b[39m=\u001b[39;49m\u001b[39m\"\u001b[39;49m\u001b[39mthreads\u001b[39;49m\u001b[39m\"\u001b[39;49m,\n\u001b[1;32m    480\u001b[0m )(\n\u001b[1;32m    481\u001b[0m     delayed(_parallel_build_trees)(\n\u001b[1;32m    482\u001b[0m         t,\n\u001b[1;32m    483\u001b[0m         \u001b[39mself\u001b[39;49m\u001b[39m.\u001b[39;49mbootstrap,\n\u001b[1;32m    484\u001b[0m         X,\n\u001b[1;32m    485\u001b[0m         y,\n\u001b[1;32m    486\u001b[0m         sample_weight,\n\u001b[1;32m    487\u001b[0m         i,\n\u001b[1;32m    488\u001b[0m         \u001b[39mlen\u001b[39;49m(trees),\n\u001b[1;32m    489\u001b[0m         verbose\u001b[39m=\u001b[39;49m\u001b[39mself\u001b[39;49m\u001b[39m.\u001b[39;49mverbose,\n\u001b[1;32m    490\u001b[0m         class_weight\u001b[39m=\u001b[39;49m\u001b[39mself\u001b[39;49m\u001b[39m.\u001b[39;49mclass_weight,\n\u001b[1;32m    491\u001b[0m         n_samples_bootstrap\u001b[39m=\u001b[39;49mn_samples_bootstrap,\n\u001b[1;32m    492\u001b[0m     )\n\u001b[1;32m    493\u001b[0m     \u001b[39mfor\u001b[39;49;00m i, t \u001b[39min\u001b[39;49;00m \u001b[39menumerate\u001b[39;49m(trees)\n\u001b[1;32m    494\u001b[0m )\n\u001b[1;32m    496\u001b[0m \u001b[39m# Collect newly grown trees\u001b[39;00m\n\u001b[1;32m    497\u001b[0m \u001b[39mself\u001b[39m\u001b[39m.\u001b[39mestimators_\u001b[39m.\u001b[39mextend(trees)\n",
      "File \u001b[0;32m~/miniforge3/lib/python3.9/site-packages/joblib/parallel.py:1056\u001b[0m, in \u001b[0;36mParallel.__call__\u001b[0;34m(self, iterable)\u001b[0m\n\u001b[1;32m   1053\u001b[0m     \u001b[39mself\u001b[39m\u001b[39m.\u001b[39m_iterating \u001b[39m=\u001b[39m \u001b[39mFalse\u001b[39;00m\n\u001b[1;32m   1055\u001b[0m \u001b[39mwith\u001b[39;00m \u001b[39mself\u001b[39m\u001b[39m.\u001b[39m_backend\u001b[39m.\u001b[39mretrieval_context():\n\u001b[0;32m-> 1056\u001b[0m     \u001b[39mself\u001b[39;49m\u001b[39m.\u001b[39;49mretrieve()\n\u001b[1;32m   1057\u001b[0m \u001b[39m# Make sure that we get a last message telling us we are done\u001b[39;00m\n\u001b[1;32m   1058\u001b[0m elapsed_time \u001b[39m=\u001b[39m time\u001b[39m.\u001b[39mtime() \u001b[39m-\u001b[39m \u001b[39mself\u001b[39m\u001b[39m.\u001b[39m_start_time\n",
      "File \u001b[0;32m~/miniforge3/lib/python3.9/site-packages/joblib/parallel.py:935\u001b[0m, in \u001b[0;36mParallel.retrieve\u001b[0;34m(self)\u001b[0m\n\u001b[1;32m    933\u001b[0m \u001b[39mtry\u001b[39;00m:\n\u001b[1;32m    934\u001b[0m     \u001b[39mif\u001b[39;00m \u001b[39mgetattr\u001b[39m(\u001b[39mself\u001b[39m\u001b[39m.\u001b[39m_backend, \u001b[39m'\u001b[39m\u001b[39msupports_timeout\u001b[39m\u001b[39m'\u001b[39m, \u001b[39mFalse\u001b[39;00m):\n\u001b[0;32m--> 935\u001b[0m         \u001b[39mself\u001b[39m\u001b[39m.\u001b[39m_output\u001b[39m.\u001b[39mextend(job\u001b[39m.\u001b[39;49mget(timeout\u001b[39m=\u001b[39;49m\u001b[39mself\u001b[39;49m\u001b[39m.\u001b[39;49mtimeout))\n\u001b[1;32m    936\u001b[0m     \u001b[39melse\u001b[39;00m:\n\u001b[1;32m    937\u001b[0m         \u001b[39mself\u001b[39m\u001b[39m.\u001b[39m_output\u001b[39m.\u001b[39mextend(job\u001b[39m.\u001b[39mget())\n",
      "File \u001b[0;32m~/miniforge3/lib/python3.9/multiprocessing/pool.py:765\u001b[0m, in \u001b[0;36mApplyResult.get\u001b[0;34m(self, timeout)\u001b[0m\n\u001b[1;32m    764\u001b[0m \u001b[39mdef\u001b[39;00m \u001b[39mget\u001b[39m(\u001b[39mself\u001b[39m, timeout\u001b[39m=\u001b[39m\u001b[39mNone\u001b[39;00m):\n\u001b[0;32m--> 765\u001b[0m     \u001b[39mself\u001b[39;49m\u001b[39m.\u001b[39;49mwait(timeout)\n\u001b[1;32m    766\u001b[0m     \u001b[39mif\u001b[39;00m \u001b[39mnot\u001b[39;00m \u001b[39mself\u001b[39m\u001b[39m.\u001b[39mready():\n\u001b[1;32m    767\u001b[0m         \u001b[39mraise\u001b[39;00m \u001b[39mTimeoutError\u001b[39;00m\n",
      "File \u001b[0;32m~/miniforge3/lib/python3.9/multiprocessing/pool.py:762\u001b[0m, in \u001b[0;36mApplyResult.wait\u001b[0;34m(self, timeout)\u001b[0m\n\u001b[1;32m    761\u001b[0m \u001b[39mdef\u001b[39;00m \u001b[39mwait\u001b[39m(\u001b[39mself\u001b[39m, timeout\u001b[39m=\u001b[39m\u001b[39mNone\u001b[39;00m):\n\u001b[0;32m--> 762\u001b[0m     \u001b[39mself\u001b[39;49m\u001b[39m.\u001b[39;49m_event\u001b[39m.\u001b[39;49mwait(timeout)\n",
      "File \u001b[0;32m~/miniforge3/lib/python3.9/threading.py:574\u001b[0m, in \u001b[0;36mEvent.wait\u001b[0;34m(self, timeout)\u001b[0m\n\u001b[1;32m    572\u001b[0m signaled \u001b[39m=\u001b[39m \u001b[39mself\u001b[39m\u001b[39m.\u001b[39m_flag\n\u001b[1;32m    573\u001b[0m \u001b[39mif\u001b[39;00m \u001b[39mnot\u001b[39;00m signaled:\n\u001b[0;32m--> 574\u001b[0m     signaled \u001b[39m=\u001b[39m \u001b[39mself\u001b[39;49m\u001b[39m.\u001b[39;49m_cond\u001b[39m.\u001b[39;49mwait(timeout)\n\u001b[1;32m    575\u001b[0m \u001b[39mreturn\u001b[39;00m signaled\n",
      "File \u001b[0;32m~/miniforge3/lib/python3.9/threading.py:312\u001b[0m, in \u001b[0;36mCondition.wait\u001b[0;34m(self, timeout)\u001b[0m\n\u001b[1;32m    310\u001b[0m \u001b[39mtry\u001b[39;00m:    \u001b[39m# restore state no matter what (e.g., KeyboardInterrupt)\u001b[39;00m\n\u001b[1;32m    311\u001b[0m     \u001b[39mif\u001b[39;00m timeout \u001b[39mis\u001b[39;00m \u001b[39mNone\u001b[39;00m:\n\u001b[0;32m--> 312\u001b[0m         waiter\u001b[39m.\u001b[39;49macquire()\n\u001b[1;32m    313\u001b[0m         gotit \u001b[39m=\u001b[39m \u001b[39mTrue\u001b[39;00m\n\u001b[1;32m    314\u001b[0m     \u001b[39melse\u001b[39;00m:\n",
      "\u001b[0;31mKeyboardInterrupt\u001b[0m: "
     ]
    }
   ],
   "source": [
    "K = 5 # Kfold 수\n",
    "opt_func = partial(optimizer, X=X_train, y=y_train, K=K)\n",
    "\n",
    "rf_study = optuna.create_study(study_name=\"RF\", direction=\"maximize\") # regression task에서 R^2를 최대화!\n",
    "rf_study.optimize(opt_func, n_trials=30)"
   ]
  },
  {
   "cell_type": "code",
   "execution_count": 36,
   "metadata": {},
   "outputs": [
    {
     "data": {
      "text/html": [
       "<div>\n",
       "<style scoped>\n",
       "    .dataframe tbody tr th:only-of-type {\n",
       "        vertical-align: middle;\n",
       "    }\n",
       "\n",
       "    .dataframe tbody tr th {\n",
       "        vertical-align: top;\n",
       "    }\n",
       "\n",
       "    .dataframe thead th {\n",
       "        text-align: right;\n",
       "    }\n",
       "</style>\n",
       "<table border=\"1\" class=\"dataframe\">\n",
       "  <thead>\n",
       "    <tr style=\"text-align: right;\">\n",
       "      <th></th>\n",
       "      <th>number</th>\n",
       "      <th>value</th>\n",
       "      <th>datetime_start</th>\n",
       "      <th>datetime_complete</th>\n",
       "      <th>duration</th>\n",
       "      <th>params_max_depth</th>\n",
       "      <th>params_max_features</th>\n",
       "      <th>params_n_estimators</th>\n",
       "      <th>state</th>\n",
       "    </tr>\n",
       "  </thead>\n",
       "  <tbody>\n",
       "    <tr>\n",
       "      <th>0</th>\n",
       "      <td>0</td>\n",
       "      <td>0.121200</td>\n",
       "      <td>2022-06-13 19:09:43.284855</td>\n",
       "      <td>2022-06-13 19:11:01.303887</td>\n",
       "      <td>0 days 00:01:18.019032</td>\n",
       "      <td>27</td>\n",
       "      <td>sqrt</td>\n",
       "      <td>152</td>\n",
       "      <td>COMPLETE</td>\n",
       "    </tr>\n",
       "    <tr>\n",
       "      <th>1</th>\n",
       "      <td>1</td>\n",
       "      <td>0.099103</td>\n",
       "      <td>2022-06-13 19:11:01.304498</td>\n",
       "      <td>2022-06-13 19:11:22.183433</td>\n",
       "      <td>0 days 00:00:20.878935</td>\n",
       "      <td>9</td>\n",
       "      <td>sqrt</td>\n",
       "      <td>107</td>\n",
       "      <td>COMPLETE</td>\n",
       "    </tr>\n",
       "    <tr>\n",
       "      <th>2</th>\n",
       "      <td>2</td>\n",
       "      <td>0.127267</td>\n",
       "      <td>2022-06-13 19:11:22.184121</td>\n",
       "      <td>2022-06-13 19:13:01.222259</td>\n",
       "      <td>0 days 00:01:39.038138</td>\n",
       "      <td>28</td>\n",
       "      <td>sqrt</td>\n",
       "      <td>194</td>\n",
       "      <td>COMPLETE</td>\n",
       "    </tr>\n",
       "    <tr>\n",
       "      <th>3</th>\n",
       "      <td>3</td>\n",
       "      <td>0.099248</td>\n",
       "      <td>2022-06-13 19:13:01.222760</td>\n",
       "      <td>2022-06-13 19:13:16.502070</td>\n",
       "      <td>0 days 00:00:15.279310</td>\n",
       "      <td>10</td>\n",
       "      <td>log2</td>\n",
       "      <td>192</td>\n",
       "      <td>COMPLETE</td>\n",
       "    </tr>\n",
       "    <tr>\n",
       "      <th>4</th>\n",
       "      <td>4</td>\n",
       "      <td>0.111660</td>\n",
       "      <td>2022-06-13 19:13:16.502582</td>\n",
       "      <td>2022-06-13 19:13:38.382731</td>\n",
       "      <td>0 days 00:00:21.880149</td>\n",
       "      <td>16</td>\n",
       "      <td>log2</td>\n",
       "      <td>186</td>\n",
       "      <td>COMPLETE</td>\n",
       "    </tr>\n",
       "    <tr>\n",
       "      <th>5</th>\n",
       "      <td>5</td>\n",
       "      <td>0.105720</td>\n",
       "      <td>2022-06-13 19:13:38.383240</td>\n",
       "      <td>2022-06-13 19:13:55.552901</td>\n",
       "      <td>0 days 00:00:17.169661</td>\n",
       "      <td>14</td>\n",
       "      <td>sqrt</td>\n",
       "      <td>58</td>\n",
       "      <td>COMPLETE</td>\n",
       "    </tr>\n",
       "    <tr>\n",
       "      <th>6</th>\n",
       "      <td>6</td>\n",
       "      <td>0.115243</td>\n",
       "      <td>2022-06-13 19:13:55.553470</td>\n",
       "      <td>2022-06-13 19:14:52.563710</td>\n",
       "      <td>0 days 00:00:57.010240</td>\n",
       "      <td>25</td>\n",
       "      <td>sqrt</td>\n",
       "      <td>122</td>\n",
       "      <td>COMPLETE</td>\n",
       "    </tr>\n",
       "    <tr>\n",
       "      <th>7</th>\n",
       "      <td>7</td>\n",
       "      <td>NaN</td>\n",
       "      <td>2022-06-13 19:14:52.564247</td>\n",
       "      <td>NaT</td>\n",
       "      <td>NaT</td>\n",
       "      <td>11</td>\n",
       "      <td>auto</td>\n",
       "      <td>188</td>\n",
       "      <td>RUNNING</td>\n",
       "    </tr>\n",
       "  </tbody>\n",
       "</table>\n",
       "</div>"
      ],
      "text/plain": [
       "   number     value             datetime_start          datetime_complete  \\\n",
       "0       0  0.121200 2022-06-13 19:09:43.284855 2022-06-13 19:11:01.303887   \n",
       "1       1  0.099103 2022-06-13 19:11:01.304498 2022-06-13 19:11:22.183433   \n",
       "2       2  0.127267 2022-06-13 19:11:22.184121 2022-06-13 19:13:01.222259   \n",
       "3       3  0.099248 2022-06-13 19:13:01.222760 2022-06-13 19:13:16.502070   \n",
       "4       4  0.111660 2022-06-13 19:13:16.502582 2022-06-13 19:13:38.382731   \n",
       "5       5  0.105720 2022-06-13 19:13:38.383240 2022-06-13 19:13:55.552901   \n",
       "6       6  0.115243 2022-06-13 19:13:55.553470 2022-06-13 19:14:52.563710   \n",
       "7       7       NaN 2022-06-13 19:14:52.564247                        NaT   \n",
       "\n",
       "                duration  params_max_depth params_max_features  \\\n",
       "0 0 days 00:01:18.019032                27                sqrt   \n",
       "1 0 days 00:00:20.878935                 9                sqrt   \n",
       "2 0 days 00:01:39.038138                28                sqrt   \n",
       "3 0 days 00:00:15.279310                10                log2   \n",
       "4 0 days 00:00:21.880149                16                log2   \n",
       "5 0 days 00:00:17.169661                14                sqrt   \n",
       "6 0 days 00:00:57.010240                25                sqrt   \n",
       "7                    NaT                11                auto   \n",
       "\n",
       "   params_n_estimators     state  \n",
       "0                  152  COMPLETE  \n",
       "1                  107  COMPLETE  \n",
       "2                  194  COMPLETE  \n",
       "3                  192  COMPLETE  \n",
       "4                  186  COMPLETE  \n",
       "5                   58  COMPLETE  \n",
       "6                  122  COMPLETE  \n",
       "7                  188   RUNNING  "
      ]
     },
     "execution_count": 36,
     "metadata": {},
     "output_type": "execute_result"
    }
   ],
   "source": [
    "# optuna가 시도했던 모든 실험 관련 데이터\n",
    "rf_study.trials_dataframe()"
   ]
  },
  {
   "cell_type": "code",
   "execution_count": 37,
   "metadata": {},
   "outputs": [
    {
     "name": "stdout",
     "output_type": "stream",
     "text": [
      "Best Score: 0.1273\n",
      "Best params:  {'n_estimators': 194, 'max_depth': 28, 'max_features': 'sqrt'}\n"
     ]
    }
   ],
   "source": [
    "print(\"Best Score: %.4f\" % rf_study.best_value) # best score 출력\n",
    "print(\"Best params: \", rf_study.best_trial.params) # best score일 때의 하이퍼파라미터들"
   ]
  },
  {
   "cell_type": "code",
   "execution_count": 38,
   "metadata": {},
   "outputs": [
    {
     "data": {
      "application/vnd.plotly.v1+json": {
       "config": {
        "plotlyServerURL": "https://plot.ly"
       },
       "data": [
        {
         "mode": "markers",
         "name": "Objective Value",
         "type": "scatter",
         "x": [
          0,
          1,
          2,
          3,
          4,
          5,
          6
         ],
         "y": [
          0.12119993912398672,
          0.09910321718136979,
          0.12726673111381515,
          0.09924785625485218,
          0.11166008731745561,
          0.10571980715792204,
          0.11524342202877955
         ]
        },
        {
         "name": "Best Value",
         "type": "scatter",
         "x": [
          0,
          1,
          2,
          3,
          4,
          5,
          6
         ],
         "y": [
          0.12119993912398672,
          0.12119993912398672,
          0.12726673111381515,
          0.12726673111381515,
          0.12726673111381515,
          0.12726673111381515,
          0.12726673111381515
         ]
        }
       ],
       "layout": {
        "template": {
         "data": {
          "bar": [
           {
            "error_x": {
             "color": "#2a3f5f"
            },
            "error_y": {
             "color": "#2a3f5f"
            },
            "marker": {
             "line": {
              "color": "#E5ECF6",
              "width": 0.5
             },
             "pattern": {
              "fillmode": "overlay",
              "size": 10,
              "solidity": 0.2
             }
            },
            "type": "bar"
           }
          ],
          "barpolar": [
           {
            "marker": {
             "line": {
              "color": "#E5ECF6",
              "width": 0.5
             },
             "pattern": {
              "fillmode": "overlay",
              "size": 10,
              "solidity": 0.2
             }
            },
            "type": "barpolar"
           }
          ],
          "carpet": [
           {
            "aaxis": {
             "endlinecolor": "#2a3f5f",
             "gridcolor": "white",
             "linecolor": "white",
             "minorgridcolor": "white",
             "startlinecolor": "#2a3f5f"
            },
            "baxis": {
             "endlinecolor": "#2a3f5f",
             "gridcolor": "white",
             "linecolor": "white",
             "minorgridcolor": "white",
             "startlinecolor": "#2a3f5f"
            },
            "type": "carpet"
           }
          ],
          "choropleth": [
           {
            "colorbar": {
             "outlinewidth": 0,
             "ticks": ""
            },
            "type": "choropleth"
           }
          ],
          "contour": [
           {
            "colorbar": {
             "outlinewidth": 0,
             "ticks": ""
            },
            "colorscale": [
             [
              0,
              "#0d0887"
             ],
             [
              0.1111111111111111,
              "#46039f"
             ],
             [
              0.2222222222222222,
              "#7201a8"
             ],
             [
              0.3333333333333333,
              "#9c179e"
             ],
             [
              0.4444444444444444,
              "#bd3786"
             ],
             [
              0.5555555555555556,
              "#d8576b"
             ],
             [
              0.6666666666666666,
              "#ed7953"
             ],
             [
              0.7777777777777778,
              "#fb9f3a"
             ],
             [
              0.8888888888888888,
              "#fdca26"
             ],
             [
              1,
              "#f0f921"
             ]
            ],
            "type": "contour"
           }
          ],
          "contourcarpet": [
           {
            "colorbar": {
             "outlinewidth": 0,
             "ticks": ""
            },
            "type": "contourcarpet"
           }
          ],
          "heatmap": [
           {
            "colorbar": {
             "outlinewidth": 0,
             "ticks": ""
            },
            "colorscale": [
             [
              0,
              "#0d0887"
             ],
             [
              0.1111111111111111,
              "#46039f"
             ],
             [
              0.2222222222222222,
              "#7201a8"
             ],
             [
              0.3333333333333333,
              "#9c179e"
             ],
             [
              0.4444444444444444,
              "#bd3786"
             ],
             [
              0.5555555555555556,
              "#d8576b"
             ],
             [
              0.6666666666666666,
              "#ed7953"
             ],
             [
              0.7777777777777778,
              "#fb9f3a"
             ],
             [
              0.8888888888888888,
              "#fdca26"
             ],
             [
              1,
              "#f0f921"
             ]
            ],
            "type": "heatmap"
           }
          ],
          "heatmapgl": [
           {
            "colorbar": {
             "outlinewidth": 0,
             "ticks": ""
            },
            "colorscale": [
             [
              0,
              "#0d0887"
             ],
             [
              0.1111111111111111,
              "#46039f"
             ],
             [
              0.2222222222222222,
              "#7201a8"
             ],
             [
              0.3333333333333333,
              "#9c179e"
             ],
             [
              0.4444444444444444,
              "#bd3786"
             ],
             [
              0.5555555555555556,
              "#d8576b"
             ],
             [
              0.6666666666666666,
              "#ed7953"
             ],
             [
              0.7777777777777778,
              "#fb9f3a"
             ],
             [
              0.8888888888888888,
              "#fdca26"
             ],
             [
              1,
              "#f0f921"
             ]
            ],
            "type": "heatmapgl"
           }
          ],
          "histogram": [
           {
            "marker": {
             "pattern": {
              "fillmode": "overlay",
              "size": 10,
              "solidity": 0.2
             }
            },
            "type": "histogram"
           }
          ],
          "histogram2d": [
           {
            "colorbar": {
             "outlinewidth": 0,
             "ticks": ""
            },
            "colorscale": [
             [
              0,
              "#0d0887"
             ],
             [
              0.1111111111111111,
              "#46039f"
             ],
             [
              0.2222222222222222,
              "#7201a8"
             ],
             [
              0.3333333333333333,
              "#9c179e"
             ],
             [
              0.4444444444444444,
              "#bd3786"
             ],
             [
              0.5555555555555556,
              "#d8576b"
             ],
             [
              0.6666666666666666,
              "#ed7953"
             ],
             [
              0.7777777777777778,
              "#fb9f3a"
             ],
             [
              0.8888888888888888,
              "#fdca26"
             ],
             [
              1,
              "#f0f921"
             ]
            ],
            "type": "histogram2d"
           }
          ],
          "histogram2dcontour": [
           {
            "colorbar": {
             "outlinewidth": 0,
             "ticks": ""
            },
            "colorscale": [
             [
              0,
              "#0d0887"
             ],
             [
              0.1111111111111111,
              "#46039f"
             ],
             [
              0.2222222222222222,
              "#7201a8"
             ],
             [
              0.3333333333333333,
              "#9c179e"
             ],
             [
              0.4444444444444444,
              "#bd3786"
             ],
             [
              0.5555555555555556,
              "#d8576b"
             ],
             [
              0.6666666666666666,
              "#ed7953"
             ],
             [
              0.7777777777777778,
              "#fb9f3a"
             ],
             [
              0.8888888888888888,
              "#fdca26"
             ],
             [
              1,
              "#f0f921"
             ]
            ],
            "type": "histogram2dcontour"
           }
          ],
          "mesh3d": [
           {
            "colorbar": {
             "outlinewidth": 0,
             "ticks": ""
            },
            "type": "mesh3d"
           }
          ],
          "parcoords": [
           {
            "line": {
             "colorbar": {
              "outlinewidth": 0,
              "ticks": ""
             }
            },
            "type": "parcoords"
           }
          ],
          "pie": [
           {
            "automargin": true,
            "type": "pie"
           }
          ],
          "scatter": [
           {
            "fillpattern": {
             "fillmode": "overlay",
             "size": 10,
             "solidity": 0.2
            },
            "type": "scatter"
           }
          ],
          "scatter3d": [
           {
            "line": {
             "colorbar": {
              "outlinewidth": 0,
              "ticks": ""
             }
            },
            "marker": {
             "colorbar": {
              "outlinewidth": 0,
              "ticks": ""
             }
            },
            "type": "scatter3d"
           }
          ],
          "scattercarpet": [
           {
            "marker": {
             "colorbar": {
              "outlinewidth": 0,
              "ticks": ""
             }
            },
            "type": "scattercarpet"
           }
          ],
          "scattergeo": [
           {
            "marker": {
             "colorbar": {
              "outlinewidth": 0,
              "ticks": ""
             }
            },
            "type": "scattergeo"
           }
          ],
          "scattergl": [
           {
            "marker": {
             "colorbar": {
              "outlinewidth": 0,
              "ticks": ""
             }
            },
            "type": "scattergl"
           }
          ],
          "scattermapbox": [
           {
            "marker": {
             "colorbar": {
              "outlinewidth": 0,
              "ticks": ""
             }
            },
            "type": "scattermapbox"
           }
          ],
          "scatterpolar": [
           {
            "marker": {
             "colorbar": {
              "outlinewidth": 0,
              "ticks": ""
             }
            },
            "type": "scatterpolar"
           }
          ],
          "scatterpolargl": [
           {
            "marker": {
             "colorbar": {
              "outlinewidth": 0,
              "ticks": ""
             }
            },
            "type": "scatterpolargl"
           }
          ],
          "scatterternary": [
           {
            "marker": {
             "colorbar": {
              "outlinewidth": 0,
              "ticks": ""
             }
            },
            "type": "scatterternary"
           }
          ],
          "surface": [
           {
            "colorbar": {
             "outlinewidth": 0,
             "ticks": ""
            },
            "colorscale": [
             [
              0,
              "#0d0887"
             ],
             [
              0.1111111111111111,
              "#46039f"
             ],
             [
              0.2222222222222222,
              "#7201a8"
             ],
             [
              0.3333333333333333,
              "#9c179e"
             ],
             [
              0.4444444444444444,
              "#bd3786"
             ],
             [
              0.5555555555555556,
              "#d8576b"
             ],
             [
              0.6666666666666666,
              "#ed7953"
             ],
             [
              0.7777777777777778,
              "#fb9f3a"
             ],
             [
              0.8888888888888888,
              "#fdca26"
             ],
             [
              1,
              "#f0f921"
             ]
            ],
            "type": "surface"
           }
          ],
          "table": [
           {
            "cells": {
             "fill": {
              "color": "#EBF0F8"
             },
             "line": {
              "color": "white"
             }
            },
            "header": {
             "fill": {
              "color": "#C8D4E3"
             },
             "line": {
              "color": "white"
             }
            },
            "type": "table"
           }
          ]
         },
         "layout": {
          "annotationdefaults": {
           "arrowcolor": "#2a3f5f",
           "arrowhead": 0,
           "arrowwidth": 1
          },
          "autotypenumbers": "strict",
          "coloraxis": {
           "colorbar": {
            "outlinewidth": 0,
            "ticks": ""
           }
          },
          "colorscale": {
           "diverging": [
            [
             0,
             "#8e0152"
            ],
            [
             0.1,
             "#c51b7d"
            ],
            [
             0.2,
             "#de77ae"
            ],
            [
             0.3,
             "#f1b6da"
            ],
            [
             0.4,
             "#fde0ef"
            ],
            [
             0.5,
             "#f7f7f7"
            ],
            [
             0.6,
             "#e6f5d0"
            ],
            [
             0.7,
             "#b8e186"
            ],
            [
             0.8,
             "#7fbc41"
            ],
            [
             0.9,
             "#4d9221"
            ],
            [
             1,
             "#276419"
            ]
           ],
           "sequential": [
            [
             0,
             "#0d0887"
            ],
            [
             0.1111111111111111,
             "#46039f"
            ],
            [
             0.2222222222222222,
             "#7201a8"
            ],
            [
             0.3333333333333333,
             "#9c179e"
            ],
            [
             0.4444444444444444,
             "#bd3786"
            ],
            [
             0.5555555555555556,
             "#d8576b"
            ],
            [
             0.6666666666666666,
             "#ed7953"
            ],
            [
             0.7777777777777778,
             "#fb9f3a"
            ],
            [
             0.8888888888888888,
             "#fdca26"
            ],
            [
             1,
             "#f0f921"
            ]
           ],
           "sequentialminus": [
            [
             0,
             "#0d0887"
            ],
            [
             0.1111111111111111,
             "#46039f"
            ],
            [
             0.2222222222222222,
             "#7201a8"
            ],
            [
             0.3333333333333333,
             "#9c179e"
            ],
            [
             0.4444444444444444,
             "#bd3786"
            ],
            [
             0.5555555555555556,
             "#d8576b"
            ],
            [
             0.6666666666666666,
             "#ed7953"
            ],
            [
             0.7777777777777778,
             "#fb9f3a"
            ],
            [
             0.8888888888888888,
             "#fdca26"
            ],
            [
             1,
             "#f0f921"
            ]
           ]
          },
          "colorway": [
           "#636efa",
           "#EF553B",
           "#00cc96",
           "#ab63fa",
           "#FFA15A",
           "#19d3f3",
           "#FF6692",
           "#B6E880",
           "#FF97FF",
           "#FECB52"
          ],
          "font": {
           "color": "#2a3f5f"
          },
          "geo": {
           "bgcolor": "white",
           "lakecolor": "white",
           "landcolor": "#E5ECF6",
           "showlakes": true,
           "showland": true,
           "subunitcolor": "white"
          },
          "hoverlabel": {
           "align": "left"
          },
          "hovermode": "closest",
          "mapbox": {
           "style": "light"
          },
          "paper_bgcolor": "white",
          "plot_bgcolor": "#E5ECF6",
          "polar": {
           "angularaxis": {
            "gridcolor": "white",
            "linecolor": "white",
            "ticks": ""
           },
           "bgcolor": "#E5ECF6",
           "radialaxis": {
            "gridcolor": "white",
            "linecolor": "white",
            "ticks": ""
           }
          },
          "scene": {
           "xaxis": {
            "backgroundcolor": "#E5ECF6",
            "gridcolor": "white",
            "gridwidth": 2,
            "linecolor": "white",
            "showbackground": true,
            "ticks": "",
            "zerolinecolor": "white"
           },
           "yaxis": {
            "backgroundcolor": "#E5ECF6",
            "gridcolor": "white",
            "gridwidth": 2,
            "linecolor": "white",
            "showbackground": true,
            "ticks": "",
            "zerolinecolor": "white"
           },
           "zaxis": {
            "backgroundcolor": "#E5ECF6",
            "gridcolor": "white",
            "gridwidth": 2,
            "linecolor": "white",
            "showbackground": true,
            "ticks": "",
            "zerolinecolor": "white"
           }
          },
          "shapedefaults": {
           "line": {
            "color": "#2a3f5f"
           }
          },
          "ternary": {
           "aaxis": {
            "gridcolor": "white",
            "linecolor": "white",
            "ticks": ""
           },
           "baxis": {
            "gridcolor": "white",
            "linecolor": "white",
            "ticks": ""
           },
           "bgcolor": "#E5ECF6",
           "caxis": {
            "gridcolor": "white",
            "linecolor": "white",
            "ticks": ""
           }
          },
          "title": {
           "x": 0.05
          },
          "xaxis": {
           "automargin": true,
           "gridcolor": "white",
           "linecolor": "white",
           "ticks": "",
           "title": {
            "standoff": 15
           },
           "zerolinecolor": "white",
           "zerolinewidth": 2
          },
          "yaxis": {
           "automargin": true,
           "gridcolor": "white",
           "linecolor": "white",
           "ticks": "",
           "title": {
            "standoff": 15
           },
           "zerolinecolor": "white",
           "zerolinewidth": 2
          }
         }
        },
        "title": {
         "text": "Optimization History Plot"
        },
        "xaxis": {
         "title": {
          "text": "#Trials"
         }
        },
        "yaxis": {
         "title": {
          "text": "Objective Value"
         }
        }
       }
      }
     },
     "metadata": {},
     "output_type": "display_data"
    }
   ],
   "source": [
    "# 실험 기록 시각화\n",
    "optuna.visualization.plot_optimization_history(rf_study)"
   ]
  },
  {
   "cell_type": "code",
   "execution_count": 39,
   "metadata": {},
   "outputs": [
    {
     "data": {
      "application/vnd.plotly.v1+json": {
       "config": {
        "plotlyServerURL": "https://plot.ly"
       },
       "data": [
        {
         "cliponaxis": false,
         "hovertemplate": [
          "max_features (CategoricalDistribution): 0.03487863048518371<extra></extra>",
          "n_estimators (IntUniformDistribution): 0.1215810243170467<extra></extra>",
          "max_depth (IntUniformDistribution): 0.8435403451977697<extra></extra>"
         ],
         "marker": {
          "color": "rgb(66,146,198)"
         },
         "orientation": "h",
         "text": [
          "0.03487863048518371",
          "0.1215810243170467",
          "0.8435403451977697"
         ],
         "textposition": "outside",
         "texttemplate": "%{text:.2f}",
         "type": "bar",
         "x": [
          0.03487863048518371,
          0.1215810243170467,
          0.8435403451977697
         ],
         "y": [
          "max_features",
          "n_estimators",
          "max_depth"
         ]
        }
       ],
       "layout": {
        "showlegend": false,
        "template": {
         "data": {
          "bar": [
           {
            "error_x": {
             "color": "#2a3f5f"
            },
            "error_y": {
             "color": "#2a3f5f"
            },
            "marker": {
             "line": {
              "color": "#E5ECF6",
              "width": 0.5
             },
             "pattern": {
              "fillmode": "overlay",
              "size": 10,
              "solidity": 0.2
             }
            },
            "type": "bar"
           }
          ],
          "barpolar": [
           {
            "marker": {
             "line": {
              "color": "#E5ECF6",
              "width": 0.5
             },
             "pattern": {
              "fillmode": "overlay",
              "size": 10,
              "solidity": 0.2
             }
            },
            "type": "barpolar"
           }
          ],
          "carpet": [
           {
            "aaxis": {
             "endlinecolor": "#2a3f5f",
             "gridcolor": "white",
             "linecolor": "white",
             "minorgridcolor": "white",
             "startlinecolor": "#2a3f5f"
            },
            "baxis": {
             "endlinecolor": "#2a3f5f",
             "gridcolor": "white",
             "linecolor": "white",
             "minorgridcolor": "white",
             "startlinecolor": "#2a3f5f"
            },
            "type": "carpet"
           }
          ],
          "choropleth": [
           {
            "colorbar": {
             "outlinewidth": 0,
             "ticks": ""
            },
            "type": "choropleth"
           }
          ],
          "contour": [
           {
            "colorbar": {
             "outlinewidth": 0,
             "ticks": ""
            },
            "colorscale": [
             [
              0,
              "#0d0887"
             ],
             [
              0.1111111111111111,
              "#46039f"
             ],
             [
              0.2222222222222222,
              "#7201a8"
             ],
             [
              0.3333333333333333,
              "#9c179e"
             ],
             [
              0.4444444444444444,
              "#bd3786"
             ],
             [
              0.5555555555555556,
              "#d8576b"
             ],
             [
              0.6666666666666666,
              "#ed7953"
             ],
             [
              0.7777777777777778,
              "#fb9f3a"
             ],
             [
              0.8888888888888888,
              "#fdca26"
             ],
             [
              1,
              "#f0f921"
             ]
            ],
            "type": "contour"
           }
          ],
          "contourcarpet": [
           {
            "colorbar": {
             "outlinewidth": 0,
             "ticks": ""
            },
            "type": "contourcarpet"
           }
          ],
          "heatmap": [
           {
            "colorbar": {
             "outlinewidth": 0,
             "ticks": ""
            },
            "colorscale": [
             [
              0,
              "#0d0887"
             ],
             [
              0.1111111111111111,
              "#46039f"
             ],
             [
              0.2222222222222222,
              "#7201a8"
             ],
             [
              0.3333333333333333,
              "#9c179e"
             ],
             [
              0.4444444444444444,
              "#bd3786"
             ],
             [
              0.5555555555555556,
              "#d8576b"
             ],
             [
              0.6666666666666666,
              "#ed7953"
             ],
             [
              0.7777777777777778,
              "#fb9f3a"
             ],
             [
              0.8888888888888888,
              "#fdca26"
             ],
             [
              1,
              "#f0f921"
             ]
            ],
            "type": "heatmap"
           }
          ],
          "heatmapgl": [
           {
            "colorbar": {
             "outlinewidth": 0,
             "ticks": ""
            },
            "colorscale": [
             [
              0,
              "#0d0887"
             ],
             [
              0.1111111111111111,
              "#46039f"
             ],
             [
              0.2222222222222222,
              "#7201a8"
             ],
             [
              0.3333333333333333,
              "#9c179e"
             ],
             [
              0.4444444444444444,
              "#bd3786"
             ],
             [
              0.5555555555555556,
              "#d8576b"
             ],
             [
              0.6666666666666666,
              "#ed7953"
             ],
             [
              0.7777777777777778,
              "#fb9f3a"
             ],
             [
              0.8888888888888888,
              "#fdca26"
             ],
             [
              1,
              "#f0f921"
             ]
            ],
            "type": "heatmapgl"
           }
          ],
          "histogram": [
           {
            "marker": {
             "pattern": {
              "fillmode": "overlay",
              "size": 10,
              "solidity": 0.2
             }
            },
            "type": "histogram"
           }
          ],
          "histogram2d": [
           {
            "colorbar": {
             "outlinewidth": 0,
             "ticks": ""
            },
            "colorscale": [
             [
              0,
              "#0d0887"
             ],
             [
              0.1111111111111111,
              "#46039f"
             ],
             [
              0.2222222222222222,
              "#7201a8"
             ],
             [
              0.3333333333333333,
              "#9c179e"
             ],
             [
              0.4444444444444444,
              "#bd3786"
             ],
             [
              0.5555555555555556,
              "#d8576b"
             ],
             [
              0.6666666666666666,
              "#ed7953"
             ],
             [
              0.7777777777777778,
              "#fb9f3a"
             ],
             [
              0.8888888888888888,
              "#fdca26"
             ],
             [
              1,
              "#f0f921"
             ]
            ],
            "type": "histogram2d"
           }
          ],
          "histogram2dcontour": [
           {
            "colorbar": {
             "outlinewidth": 0,
             "ticks": ""
            },
            "colorscale": [
             [
              0,
              "#0d0887"
             ],
             [
              0.1111111111111111,
              "#46039f"
             ],
             [
              0.2222222222222222,
              "#7201a8"
             ],
             [
              0.3333333333333333,
              "#9c179e"
             ],
             [
              0.4444444444444444,
              "#bd3786"
             ],
             [
              0.5555555555555556,
              "#d8576b"
             ],
             [
              0.6666666666666666,
              "#ed7953"
             ],
             [
              0.7777777777777778,
              "#fb9f3a"
             ],
             [
              0.8888888888888888,
              "#fdca26"
             ],
             [
              1,
              "#f0f921"
             ]
            ],
            "type": "histogram2dcontour"
           }
          ],
          "mesh3d": [
           {
            "colorbar": {
             "outlinewidth": 0,
             "ticks": ""
            },
            "type": "mesh3d"
           }
          ],
          "parcoords": [
           {
            "line": {
             "colorbar": {
              "outlinewidth": 0,
              "ticks": ""
             }
            },
            "type": "parcoords"
           }
          ],
          "pie": [
           {
            "automargin": true,
            "type": "pie"
           }
          ],
          "scatter": [
           {
            "fillpattern": {
             "fillmode": "overlay",
             "size": 10,
             "solidity": 0.2
            },
            "type": "scatter"
           }
          ],
          "scatter3d": [
           {
            "line": {
             "colorbar": {
              "outlinewidth": 0,
              "ticks": ""
             }
            },
            "marker": {
             "colorbar": {
              "outlinewidth": 0,
              "ticks": ""
             }
            },
            "type": "scatter3d"
           }
          ],
          "scattercarpet": [
           {
            "marker": {
             "colorbar": {
              "outlinewidth": 0,
              "ticks": ""
             }
            },
            "type": "scattercarpet"
           }
          ],
          "scattergeo": [
           {
            "marker": {
             "colorbar": {
              "outlinewidth": 0,
              "ticks": ""
             }
            },
            "type": "scattergeo"
           }
          ],
          "scattergl": [
           {
            "marker": {
             "colorbar": {
              "outlinewidth": 0,
              "ticks": ""
             }
            },
            "type": "scattergl"
           }
          ],
          "scattermapbox": [
           {
            "marker": {
             "colorbar": {
              "outlinewidth": 0,
              "ticks": ""
             }
            },
            "type": "scattermapbox"
           }
          ],
          "scatterpolar": [
           {
            "marker": {
             "colorbar": {
              "outlinewidth": 0,
              "ticks": ""
             }
            },
            "type": "scatterpolar"
           }
          ],
          "scatterpolargl": [
           {
            "marker": {
             "colorbar": {
              "outlinewidth": 0,
              "ticks": ""
             }
            },
            "type": "scatterpolargl"
           }
          ],
          "scatterternary": [
           {
            "marker": {
             "colorbar": {
              "outlinewidth": 0,
              "ticks": ""
             }
            },
            "type": "scatterternary"
           }
          ],
          "surface": [
           {
            "colorbar": {
             "outlinewidth": 0,
             "ticks": ""
            },
            "colorscale": [
             [
              0,
              "#0d0887"
             ],
             [
              0.1111111111111111,
              "#46039f"
             ],
             [
              0.2222222222222222,
              "#7201a8"
             ],
             [
              0.3333333333333333,
              "#9c179e"
             ],
             [
              0.4444444444444444,
              "#bd3786"
             ],
             [
              0.5555555555555556,
              "#d8576b"
             ],
             [
              0.6666666666666666,
              "#ed7953"
             ],
             [
              0.7777777777777778,
              "#fb9f3a"
             ],
             [
              0.8888888888888888,
              "#fdca26"
             ],
             [
              1,
              "#f0f921"
             ]
            ],
            "type": "surface"
           }
          ],
          "table": [
           {
            "cells": {
             "fill": {
              "color": "#EBF0F8"
             },
             "line": {
              "color": "white"
             }
            },
            "header": {
             "fill": {
              "color": "#C8D4E3"
             },
             "line": {
              "color": "white"
             }
            },
            "type": "table"
           }
          ]
         },
         "layout": {
          "annotationdefaults": {
           "arrowcolor": "#2a3f5f",
           "arrowhead": 0,
           "arrowwidth": 1
          },
          "autotypenumbers": "strict",
          "coloraxis": {
           "colorbar": {
            "outlinewidth": 0,
            "ticks": ""
           }
          },
          "colorscale": {
           "diverging": [
            [
             0,
             "#8e0152"
            ],
            [
             0.1,
             "#c51b7d"
            ],
            [
             0.2,
             "#de77ae"
            ],
            [
             0.3,
             "#f1b6da"
            ],
            [
             0.4,
             "#fde0ef"
            ],
            [
             0.5,
             "#f7f7f7"
            ],
            [
             0.6,
             "#e6f5d0"
            ],
            [
             0.7,
             "#b8e186"
            ],
            [
             0.8,
             "#7fbc41"
            ],
            [
             0.9,
             "#4d9221"
            ],
            [
             1,
             "#276419"
            ]
           ],
           "sequential": [
            [
             0,
             "#0d0887"
            ],
            [
             0.1111111111111111,
             "#46039f"
            ],
            [
             0.2222222222222222,
             "#7201a8"
            ],
            [
             0.3333333333333333,
             "#9c179e"
            ],
            [
             0.4444444444444444,
             "#bd3786"
            ],
            [
             0.5555555555555556,
             "#d8576b"
            ],
            [
             0.6666666666666666,
             "#ed7953"
            ],
            [
             0.7777777777777778,
             "#fb9f3a"
            ],
            [
             0.8888888888888888,
             "#fdca26"
            ],
            [
             1,
             "#f0f921"
            ]
           ],
           "sequentialminus": [
            [
             0,
             "#0d0887"
            ],
            [
             0.1111111111111111,
             "#46039f"
            ],
            [
             0.2222222222222222,
             "#7201a8"
            ],
            [
             0.3333333333333333,
             "#9c179e"
            ],
            [
             0.4444444444444444,
             "#bd3786"
            ],
            [
             0.5555555555555556,
             "#d8576b"
            ],
            [
             0.6666666666666666,
             "#ed7953"
            ],
            [
             0.7777777777777778,
             "#fb9f3a"
            ],
            [
             0.8888888888888888,
             "#fdca26"
            ],
            [
             1,
             "#f0f921"
            ]
           ]
          },
          "colorway": [
           "#636efa",
           "#EF553B",
           "#00cc96",
           "#ab63fa",
           "#FFA15A",
           "#19d3f3",
           "#FF6692",
           "#B6E880",
           "#FF97FF",
           "#FECB52"
          ],
          "font": {
           "color": "#2a3f5f"
          },
          "geo": {
           "bgcolor": "white",
           "lakecolor": "white",
           "landcolor": "#E5ECF6",
           "showlakes": true,
           "showland": true,
           "subunitcolor": "white"
          },
          "hoverlabel": {
           "align": "left"
          },
          "hovermode": "closest",
          "mapbox": {
           "style": "light"
          },
          "paper_bgcolor": "white",
          "plot_bgcolor": "#E5ECF6",
          "polar": {
           "angularaxis": {
            "gridcolor": "white",
            "linecolor": "white",
            "ticks": ""
           },
           "bgcolor": "#E5ECF6",
           "radialaxis": {
            "gridcolor": "white",
            "linecolor": "white",
            "ticks": ""
           }
          },
          "scene": {
           "xaxis": {
            "backgroundcolor": "#E5ECF6",
            "gridcolor": "white",
            "gridwidth": 2,
            "linecolor": "white",
            "showbackground": true,
            "ticks": "",
            "zerolinecolor": "white"
           },
           "yaxis": {
            "backgroundcolor": "#E5ECF6",
            "gridcolor": "white",
            "gridwidth": 2,
            "linecolor": "white",
            "showbackground": true,
            "ticks": "",
            "zerolinecolor": "white"
           },
           "zaxis": {
            "backgroundcolor": "#E5ECF6",
            "gridcolor": "white",
            "gridwidth": 2,
            "linecolor": "white",
            "showbackground": true,
            "ticks": "",
            "zerolinecolor": "white"
           }
          },
          "shapedefaults": {
           "line": {
            "color": "#2a3f5f"
           }
          },
          "ternary": {
           "aaxis": {
            "gridcolor": "white",
            "linecolor": "white",
            "ticks": ""
           },
           "baxis": {
            "gridcolor": "white",
            "linecolor": "white",
            "ticks": ""
           },
           "bgcolor": "#E5ECF6",
           "caxis": {
            "gridcolor": "white",
            "linecolor": "white",
            "ticks": ""
           }
          },
          "title": {
           "x": 0.05
          },
          "xaxis": {
           "automargin": true,
           "gridcolor": "white",
           "linecolor": "white",
           "ticks": "",
           "title": {
            "standoff": 15
           },
           "zerolinecolor": "white",
           "zerolinewidth": 2
          },
          "yaxis": {
           "automargin": true,
           "gridcolor": "white",
           "linecolor": "white",
           "ticks": "",
           "title": {
            "standoff": 15
           },
           "zerolinecolor": "white",
           "zerolinewidth": 2
          }
         }
        },
        "title": {
         "text": "Hyperparameter Importances"
        },
        "xaxis": {
         "title": {
          "text": "Importance for Objective Value"
         }
        },
        "yaxis": {
         "title": {
          "text": "Hyperparameter"
         }
        }
       }
      }
     },
     "metadata": {},
     "output_type": "display_data"
    }
   ],
   "source": [
    "# hyper-parameter들의 중요도\n",
    "optuna.visualization.plot_param_importances(rf_study)"
   ]
  },
  {
   "cell_type": "code",
   "execution_count": null,
   "metadata": {},
   "outputs": [],
   "source": []
  },
  {
   "cell_type": "code",
   "execution_count": 40,
   "metadata": {},
   "outputs": [
    {
     "data": {
      "text/html": [
       "<style>#sk-container-id-2 {color: black;background-color: white;}#sk-container-id-2 pre{padding: 0;}#sk-container-id-2 div.sk-toggleable {background-color: white;}#sk-container-id-2 label.sk-toggleable__label {cursor: pointer;display: block;width: 100%;margin-bottom: 0;padding: 0.3em;box-sizing: border-box;text-align: center;}#sk-container-id-2 label.sk-toggleable__label-arrow:before {content: \"▸\";float: left;margin-right: 0.25em;color: #696969;}#sk-container-id-2 label.sk-toggleable__label-arrow:hover:before {color: black;}#sk-container-id-2 div.sk-estimator:hover label.sk-toggleable__label-arrow:before {color: black;}#sk-container-id-2 div.sk-toggleable__content {max-height: 0;max-width: 0;overflow: hidden;text-align: left;background-color: #f0f8ff;}#sk-container-id-2 div.sk-toggleable__content pre {margin: 0.2em;color: black;border-radius: 0.25em;background-color: #f0f8ff;}#sk-container-id-2 input.sk-toggleable__control:checked~div.sk-toggleable__content {max-height: 200px;max-width: 100%;overflow: auto;}#sk-container-id-2 input.sk-toggleable__control:checked~label.sk-toggleable__label-arrow:before {content: \"▾\";}#sk-container-id-2 div.sk-estimator input.sk-toggleable__control:checked~label.sk-toggleable__label {background-color: #d4ebff;}#sk-container-id-2 div.sk-label input.sk-toggleable__control:checked~label.sk-toggleable__label {background-color: #d4ebff;}#sk-container-id-2 input.sk-hidden--visually {border: 0;clip: rect(1px 1px 1px 1px);clip: rect(1px, 1px, 1px, 1px);height: 1px;margin: -1px;overflow: hidden;padding: 0;position: absolute;width: 1px;}#sk-container-id-2 div.sk-estimator {font-family: monospace;background-color: #f0f8ff;border: 1px dotted black;border-radius: 0.25em;box-sizing: border-box;margin-bottom: 0.5em;}#sk-container-id-2 div.sk-estimator:hover {background-color: #d4ebff;}#sk-container-id-2 div.sk-parallel-item::after {content: \"\";width: 100%;border-bottom: 1px solid gray;flex-grow: 1;}#sk-container-id-2 div.sk-label:hover label.sk-toggleable__label {background-color: #d4ebff;}#sk-container-id-2 div.sk-serial::before {content: \"\";position: absolute;border-left: 1px solid gray;box-sizing: border-box;top: 0;bottom: 0;left: 50%;z-index: 0;}#sk-container-id-2 div.sk-serial {display: flex;flex-direction: column;align-items: center;background-color: white;padding-right: 0.2em;padding-left: 0.2em;position: relative;}#sk-container-id-2 div.sk-item {position: relative;z-index: 1;}#sk-container-id-2 div.sk-parallel {display: flex;align-items: stretch;justify-content: center;background-color: white;position: relative;}#sk-container-id-2 div.sk-item::before, #sk-container-id-2 div.sk-parallel-item::before {content: \"\";position: absolute;border-left: 1px solid gray;box-sizing: border-box;top: 0;bottom: 0;left: 50%;z-index: -1;}#sk-container-id-2 div.sk-parallel-item {display: flex;flex-direction: column;z-index: 1;position: relative;background-color: white;}#sk-container-id-2 div.sk-parallel-item:first-child::after {align-self: flex-end;width: 50%;}#sk-container-id-2 div.sk-parallel-item:last-child::after {align-self: flex-start;width: 50%;}#sk-container-id-2 div.sk-parallel-item:only-child::after {width: 0;}#sk-container-id-2 div.sk-dashed-wrapped {border: 1px dashed gray;margin: 0 0.4em 0.5em 0.4em;box-sizing: border-box;padding-bottom: 0.4em;background-color: white;}#sk-container-id-2 div.sk-label label {font-family: monospace;font-weight: bold;display: inline-block;line-height: 1.2em;}#sk-container-id-2 div.sk-label-container {text-align: center;}#sk-container-id-2 div.sk-container {/* jupyter's `normalize.less` sets `[hidden] { display: none; }` but bootstrap.min.css set `[hidden] { display: none !important; }` so we also need the `!important` here to be able to override the default hidden behavior on the sphinx rendered scikit-learn.org. See: https://github.com/scikit-learn/scikit-learn/issues/21755 */display: inline-block !important;position: relative;}#sk-container-id-2 div.sk-text-repr-fallback {display: none;}</style><div id=\"sk-container-id-2\" class=\"sk-top-container\"><div class=\"sk-text-repr-fallback\"><pre>RandomForestRegressor(max_depth=28, max_features=&#x27;sqrt&#x27;, n_estimators=194)</pre><b>In a Jupyter environment, please rerun this cell to show the HTML representation or trust the notebook. <br />On GitHub, the HTML representation is unable to render, please try loading this page with nbviewer.org.</b></div><div class=\"sk-container\" hidden><div class=\"sk-item\"><div class=\"sk-estimator sk-toggleable\"><input class=\"sk-toggleable__control sk-hidden--visually\" id=\"sk-estimator-id-2\" type=\"checkbox\" checked><label for=\"sk-estimator-id-2\" class=\"sk-toggleable__label sk-toggleable__label-arrow\">RandomForestRegressor</label><div class=\"sk-toggleable__content\"><pre>RandomForestRegressor(max_depth=28, max_features=&#x27;sqrt&#x27;, n_estimators=194)</pre></div></div></div></div></div>"
      ],
      "text/plain": [
       "RandomForestRegressor(max_depth=28, max_features='sqrt', n_estimators=194)"
      ]
     },
     "execution_count": 40,
     "metadata": {},
     "output_type": "execute_result"
    }
   ],
   "source": [
    "final_rf_model = RandomForestRegressor(n_estimators=rf_study.best_trial.params[\"n_estimators\"],\n",
    "                                 max_depth=rf_study.best_trial.params[\"max_depth\"],\n",
    "                                 max_features=rf_study.best_trial.params[\"max_features\"])\n",
    "\n",
    "final_rf_model.fit(X, y) # finalize model"
   ]
  },
  {
   "cell_type": "code",
   "execution_count": 41,
   "metadata": {},
   "outputs": [
    {
     "data": {
      "text/html": [
       "<div>\n",
       "<style scoped>\n",
       "    .dataframe tbody tr th:only-of-type {\n",
       "        vertical-align: middle;\n",
       "    }\n",
       "\n",
       "    .dataframe tbody tr th {\n",
       "        vertical-align: top;\n",
       "    }\n",
       "\n",
       "    .dataframe thead th {\n",
       "        text-align: right;\n",
       "    }\n",
       "</style>\n",
       "<table border=\"1\" class=\"dataframe\">\n",
       "  <thead>\n",
       "    <tr style=\"text-align: right;\">\n",
       "      <th></th>\n",
       "      <th>물품_카테고리_DIY자재/용품</th>\n",
       "      <th>물품_카테고리_PC</th>\n",
       "      <th>물품_카테고리_PC주변기기</th>\n",
       "      <th>물품_카테고리_가공식품</th>\n",
       "      <th>물품_카테고리_가방</th>\n",
       "      <th>물품_카테고리_건강식품</th>\n",
       "      <th>물품_카테고리_건강용품</th>\n",
       "      <th>물품_카테고리_게임기/타이틀</th>\n",
       "      <th>물품_카테고리_계절가전</th>\n",
       "      <th>물품_카테고리_골프</th>\n",
       "      <th>...</th>\n",
       "      <th>수하인_코드5_098300</th>\n",
       "      <th>수하인_코드5_098400</th>\n",
       "      <th>수하인_코드5_099100</th>\n",
       "      <th>수하인_코드5_099200</th>\n",
       "      <th>수하인_코드5_099300</th>\n",
       "      <th>수하인_코드5_099400</th>\n",
       "      <th>수하인_코드5_100100</th>\n",
       "      <th>수하인_코드5_100200</th>\n",
       "      <th>수하인_코드5_100300</th>\n",
       "      <th>수하인_코드5_100400</th>\n",
       "    </tr>\n",
       "  </thead>\n",
       "  <tbody>\n",
       "    <tr>\n",
       "      <th>0</th>\n",
       "      <td>0</td>\n",
       "      <td>0</td>\n",
       "      <td>0</td>\n",
       "      <td>0</td>\n",
       "      <td>0</td>\n",
       "      <td>0</td>\n",
       "      <td>0</td>\n",
       "      <td>0</td>\n",
       "      <td>0</td>\n",
       "      <td>0</td>\n",
       "      <td>...</td>\n",
       "      <td>0</td>\n",
       "      <td>0</td>\n",
       "      <td>0</td>\n",
       "      <td>0</td>\n",
       "      <td>0</td>\n",
       "      <td>0</td>\n",
       "      <td>0</td>\n",
       "      <td>0</td>\n",
       "      <td>0</td>\n",
       "      <td>0</td>\n",
       "    </tr>\n",
       "    <tr>\n",
       "      <th>1</th>\n",
       "      <td>0</td>\n",
       "      <td>0</td>\n",
       "      <td>0</td>\n",
       "      <td>0</td>\n",
       "      <td>0</td>\n",
       "      <td>0</td>\n",
       "      <td>0</td>\n",
       "      <td>0</td>\n",
       "      <td>0</td>\n",
       "      <td>0</td>\n",
       "      <td>...</td>\n",
       "      <td>0</td>\n",
       "      <td>0</td>\n",
       "      <td>0</td>\n",
       "      <td>0</td>\n",
       "      <td>0</td>\n",
       "      <td>0</td>\n",
       "      <td>0</td>\n",
       "      <td>0</td>\n",
       "      <td>0</td>\n",
       "      <td>0</td>\n",
       "    </tr>\n",
       "    <tr>\n",
       "      <th>2</th>\n",
       "      <td>0</td>\n",
       "      <td>0</td>\n",
       "      <td>0</td>\n",
       "      <td>0</td>\n",
       "      <td>0</td>\n",
       "      <td>0</td>\n",
       "      <td>0</td>\n",
       "      <td>0</td>\n",
       "      <td>0</td>\n",
       "      <td>0</td>\n",
       "      <td>...</td>\n",
       "      <td>0</td>\n",
       "      <td>0</td>\n",
       "      <td>0</td>\n",
       "      <td>0</td>\n",
       "      <td>0</td>\n",
       "      <td>0</td>\n",
       "      <td>0</td>\n",
       "      <td>0</td>\n",
       "      <td>0</td>\n",
       "      <td>0</td>\n",
       "    </tr>\n",
       "    <tr>\n",
       "      <th>3</th>\n",
       "      <td>0</td>\n",
       "      <td>0</td>\n",
       "      <td>0</td>\n",
       "      <td>0</td>\n",
       "      <td>0</td>\n",
       "      <td>0</td>\n",
       "      <td>0</td>\n",
       "      <td>0</td>\n",
       "      <td>0</td>\n",
       "      <td>0</td>\n",
       "      <td>...</td>\n",
       "      <td>0</td>\n",
       "      <td>0</td>\n",
       "      <td>0</td>\n",
       "      <td>0</td>\n",
       "      <td>0</td>\n",
       "      <td>0</td>\n",
       "      <td>0</td>\n",
       "      <td>0</td>\n",
       "      <td>0</td>\n",
       "      <td>0</td>\n",
       "    </tr>\n",
       "    <tr>\n",
       "      <th>4</th>\n",
       "      <td>0</td>\n",
       "      <td>0</td>\n",
       "      <td>0</td>\n",
       "      <td>0</td>\n",
       "      <td>0</td>\n",
       "      <td>0</td>\n",
       "      <td>0</td>\n",
       "      <td>0</td>\n",
       "      <td>0</td>\n",
       "      <td>0</td>\n",
       "      <td>...</td>\n",
       "      <td>0</td>\n",
       "      <td>0</td>\n",
       "      <td>0</td>\n",
       "      <td>0</td>\n",
       "      <td>0</td>\n",
       "      <td>0</td>\n",
       "      <td>0</td>\n",
       "      <td>0</td>\n",
       "      <td>0</td>\n",
       "      <td>0</td>\n",
       "    </tr>\n",
       "    <tr>\n",
       "      <th>...</th>\n",
       "      <td>...</td>\n",
       "      <td>...</td>\n",
       "      <td>...</td>\n",
       "      <td>...</td>\n",
       "      <td>...</td>\n",
       "      <td>...</td>\n",
       "      <td>...</td>\n",
       "      <td>...</td>\n",
       "      <td>...</td>\n",
       "      <td>...</td>\n",
       "      <td>...</td>\n",
       "      <td>...</td>\n",
       "      <td>...</td>\n",
       "      <td>...</td>\n",
       "      <td>...</td>\n",
       "      <td>...</td>\n",
       "      <td>...</td>\n",
       "      <td>...</td>\n",
       "      <td>...</td>\n",
       "      <td>...</td>\n",
       "      <td>...</td>\n",
       "    </tr>\n",
       "    <tr>\n",
       "      <th>7915</th>\n",
       "      <td>0</td>\n",
       "      <td>0</td>\n",
       "      <td>0</td>\n",
       "      <td>0</td>\n",
       "      <td>0</td>\n",
       "      <td>0</td>\n",
       "      <td>0</td>\n",
       "      <td>0</td>\n",
       "      <td>0</td>\n",
       "      <td>0</td>\n",
       "      <td>...</td>\n",
       "      <td>0</td>\n",
       "      <td>0</td>\n",
       "      <td>0</td>\n",
       "      <td>0</td>\n",
       "      <td>0</td>\n",
       "      <td>0</td>\n",
       "      <td>0</td>\n",
       "      <td>0</td>\n",
       "      <td>0</td>\n",
       "      <td>0</td>\n",
       "    </tr>\n",
       "    <tr>\n",
       "      <th>7916</th>\n",
       "      <td>0</td>\n",
       "      <td>0</td>\n",
       "      <td>0</td>\n",
       "      <td>0</td>\n",
       "      <td>0</td>\n",
       "      <td>0</td>\n",
       "      <td>0</td>\n",
       "      <td>0</td>\n",
       "      <td>0</td>\n",
       "      <td>0</td>\n",
       "      <td>...</td>\n",
       "      <td>0</td>\n",
       "      <td>0</td>\n",
       "      <td>0</td>\n",
       "      <td>0</td>\n",
       "      <td>0</td>\n",
       "      <td>0</td>\n",
       "      <td>0</td>\n",
       "      <td>0</td>\n",
       "      <td>0</td>\n",
       "      <td>0</td>\n",
       "    </tr>\n",
       "    <tr>\n",
       "      <th>7917</th>\n",
       "      <td>0</td>\n",
       "      <td>0</td>\n",
       "      <td>0</td>\n",
       "      <td>0</td>\n",
       "      <td>0</td>\n",
       "      <td>0</td>\n",
       "      <td>0</td>\n",
       "      <td>0</td>\n",
       "      <td>0</td>\n",
       "      <td>0</td>\n",
       "      <td>...</td>\n",
       "      <td>0</td>\n",
       "      <td>0</td>\n",
       "      <td>0</td>\n",
       "      <td>0</td>\n",
       "      <td>0</td>\n",
       "      <td>0</td>\n",
       "      <td>0</td>\n",
       "      <td>0</td>\n",
       "      <td>0</td>\n",
       "      <td>0</td>\n",
       "    </tr>\n",
       "    <tr>\n",
       "      <th>7918</th>\n",
       "      <td>0</td>\n",
       "      <td>0</td>\n",
       "      <td>0</td>\n",
       "      <td>0</td>\n",
       "      <td>0</td>\n",
       "      <td>0</td>\n",
       "      <td>0</td>\n",
       "      <td>0</td>\n",
       "      <td>0</td>\n",
       "      <td>0</td>\n",
       "      <td>...</td>\n",
       "      <td>0</td>\n",
       "      <td>0</td>\n",
       "      <td>0</td>\n",
       "      <td>0</td>\n",
       "      <td>0</td>\n",
       "      <td>0</td>\n",
       "      <td>0</td>\n",
       "      <td>0</td>\n",
       "      <td>0</td>\n",
       "      <td>0</td>\n",
       "    </tr>\n",
       "    <tr>\n",
       "      <th>7919</th>\n",
       "      <td>0</td>\n",
       "      <td>0</td>\n",
       "      <td>0</td>\n",
       "      <td>0</td>\n",
       "      <td>0</td>\n",
       "      <td>0</td>\n",
       "      <td>0</td>\n",
       "      <td>0</td>\n",
       "      <td>0</td>\n",
       "      <td>0</td>\n",
       "      <td>...</td>\n",
       "      <td>0</td>\n",
       "      <td>0</td>\n",
       "      <td>0</td>\n",
       "      <td>0</td>\n",
       "      <td>0</td>\n",
       "      <td>0</td>\n",
       "      <td>0</td>\n",
       "      <td>0</td>\n",
       "      <td>0</td>\n",
       "      <td>0</td>\n",
       "    </tr>\n",
       "  </tbody>\n",
       "</table>\n",
       "<p>7920 rows × 1367 columns</p>\n",
       "</div>"
      ],
      "text/plain": [
       "      물품_카테고리_DIY자재/용품  물품_카테고리_PC  물품_카테고리_PC주변기기  물품_카테고리_가공식품  물품_카테고리_가방  \\\n",
       "0                    0           0               0             0           0   \n",
       "1                    0           0               0             0           0   \n",
       "2                    0           0               0             0           0   \n",
       "3                    0           0               0             0           0   \n",
       "4                    0           0               0             0           0   \n",
       "...                ...         ...             ...           ...         ...   \n",
       "7915                 0           0               0             0           0   \n",
       "7916                 0           0               0             0           0   \n",
       "7917                 0           0               0             0           0   \n",
       "7918                 0           0               0             0           0   \n",
       "7919                 0           0               0             0           0   \n",
       "\n",
       "      물품_카테고리_건강식품  물품_카테고리_건강용품  물품_카테고리_게임기/타이틀  물품_카테고리_계절가전  물품_카테고리_골프  \\\n",
       "0                0             0                0             0           0   \n",
       "1                0             0                0             0           0   \n",
       "2                0             0                0             0           0   \n",
       "3                0             0                0             0           0   \n",
       "4                0             0                0             0           0   \n",
       "...            ...           ...              ...           ...         ...   \n",
       "7915             0             0                0             0           0   \n",
       "7916             0             0                0             0           0   \n",
       "7917             0             0                0             0           0   \n",
       "7918             0             0                0             0           0   \n",
       "7919             0             0                0             0           0   \n",
       "\n",
       "      ...  수하인_코드5_098300  수하인_코드5_098400  수하인_코드5_099100  수하인_코드5_099200  \\\n",
       "0     ...               0               0               0               0   \n",
       "1     ...               0               0               0               0   \n",
       "2     ...               0               0               0               0   \n",
       "3     ...               0               0               0               0   \n",
       "4     ...               0               0               0               0   \n",
       "...   ...             ...             ...             ...             ...   \n",
       "7915  ...               0               0               0               0   \n",
       "7916  ...               0               0               0               0   \n",
       "7917  ...               0               0               0               0   \n",
       "7918  ...               0               0               0               0   \n",
       "7919  ...               0               0               0               0   \n",
       "\n",
       "      수하인_코드5_099300  수하인_코드5_099400  수하인_코드5_100100  수하인_코드5_100200  \\\n",
       "0                  0               0               0               0   \n",
       "1                  0               0               0               0   \n",
       "2                  0               0               0               0   \n",
       "3                  0               0               0               0   \n",
       "4                  0               0               0               0   \n",
       "...              ...             ...             ...             ...   \n",
       "7915               0               0               0               0   \n",
       "7916               0               0               0               0   \n",
       "7917               0               0               0               0   \n",
       "7918               0               0               0               0   \n",
       "7919               0               0               0               0   \n",
       "\n",
       "      수하인_코드5_100300  수하인_코드5_100400  \n",
       "0                  0               0  \n",
       "1                  0               0  \n",
       "2                  0               0  \n",
       "3                  0               0  \n",
       "4                  0               0  \n",
       "...              ...             ...  \n",
       "7915               0               0  \n",
       "7916               0               0  \n",
       "7917               0               0  \n",
       "7918               0               0  \n",
       "7919               0               0  \n",
       "\n",
       "[7920 rows x 1367 columns]"
      ]
     },
     "execution_count": 41,
     "metadata": {},
     "output_type": "execute_result"
    }
   ],
   "source": [
    "testX"
   ]
  },
  {
   "cell_type": "code",
   "execution_count": 42,
   "metadata": {},
   "outputs": [
    {
     "name": "stdout",
     "output_type": "stream",
     "text": [
      "(31684, 600)\n"
     ]
    }
   ],
   "source": [
    "# PCA 적용\n",
    "if feature_reducing == \"correlation\":\n",
    "    test = testX.drop(columns=correlated_features)\n",
    "    print(X.shape)\n",
    "    \n",
    "elif feature_reducing == \"feature_importance\":\n",
    "    test = testX[important_features]\n",
    "    print(X.shape)\n",
    "    \n",
    "elif feature_reducing == \"PCA\":\n",
    "    test = pca_model.transform(testX)\n",
    "    print(X.shape)"
   ]
  },
  {
   "cell_type": "code",
   "execution_count": 43,
   "metadata": {},
   "outputs": [
    {
     "data": {
      "text/plain": [
       "array([4.36121825, 5.02460628, 6.57719233, ..., 3.62113403, 3.67078146,\n",
       "       4.68544108])"
      ]
     },
     "execution_count": 43,
     "metadata": {},
     "output_type": "execute_result"
    }
   ],
   "source": [
    "prediction = final_rf_model.predict(test)\n",
    "prediction"
   ]
  },
  {
   "cell_type": "code",
   "execution_count": 50,
   "metadata": {},
   "outputs": [
    {
     "data": {
      "text/html": [
       "<div>\n",
       "<style scoped>\n",
       "    .dataframe tbody tr th:only-of-type {\n",
       "        vertical-align: middle;\n",
       "    }\n",
       "\n",
       "    .dataframe tbody tr th {\n",
       "        vertical-align: top;\n",
       "    }\n",
       "\n",
       "    .dataframe thead th {\n",
       "        text-align: right;\n",
       "    }\n",
       "</style>\n",
       "<table border=\"1\" class=\"dataframe\">\n",
       "  <thead>\n",
       "    <tr style=\"text-align: right;\">\n",
       "      <th></th>\n",
       "      <th>index</th>\n",
       "      <th>운송장_건수</th>\n",
       "    </tr>\n",
       "  </thead>\n",
       "  <tbody>\n",
       "    <tr>\n",
       "      <th>0</th>\n",
       "      <td>0</td>\n",
       "      <td>0</td>\n",
       "    </tr>\n",
       "    <tr>\n",
       "      <th>1</th>\n",
       "      <td>1</td>\n",
       "      <td>0</td>\n",
       "    </tr>\n",
       "    <tr>\n",
       "      <th>2</th>\n",
       "      <td>2</td>\n",
       "      <td>0</td>\n",
       "    </tr>\n",
       "    <tr>\n",
       "      <th>3</th>\n",
       "      <td>3</td>\n",
       "      <td>0</td>\n",
       "    </tr>\n",
       "    <tr>\n",
       "      <th>4</th>\n",
       "      <td>4</td>\n",
       "      <td>0</td>\n",
       "    </tr>\n",
       "    <tr>\n",
       "      <th>...</th>\n",
       "      <td>...</td>\n",
       "      <td>...</td>\n",
       "    </tr>\n",
       "    <tr>\n",
       "      <th>7915</th>\n",
       "      <td>7915</td>\n",
       "      <td>0</td>\n",
       "    </tr>\n",
       "    <tr>\n",
       "      <th>7916</th>\n",
       "      <td>7916</td>\n",
       "      <td>0</td>\n",
       "    </tr>\n",
       "    <tr>\n",
       "      <th>7917</th>\n",
       "      <td>7917</td>\n",
       "      <td>0</td>\n",
       "    </tr>\n",
       "    <tr>\n",
       "      <th>7918</th>\n",
       "      <td>7918</td>\n",
       "      <td>0</td>\n",
       "    </tr>\n",
       "    <tr>\n",
       "      <th>7919</th>\n",
       "      <td>7919</td>\n",
       "      <td>0</td>\n",
       "    </tr>\n",
       "  </tbody>\n",
       "</table>\n",
       "<p>7920 rows × 2 columns</p>\n",
       "</div>"
      ],
      "text/plain": [
       "      index  운송장_건수\n",
       "0         0       0\n",
       "1         1       0\n",
       "2         2       0\n",
       "3         3       0\n",
       "4         4       0\n",
       "...     ...     ...\n",
       "7915   7915       0\n",
       "7916   7916       0\n",
       "7917   7917       0\n",
       "7918   7918       0\n",
       "7919   7919       0\n",
       "\n",
       "[7920 rows x 2 columns]"
      ]
     },
     "execution_count": 50,
     "metadata": {},
     "output_type": "execute_result"
    }
   ],
   "source": [
    "submission = pd.read_csv(\"data/sample_submission.csv\")\n",
    "submission"
   ]
  },
  {
   "cell_type": "code",
   "execution_count": 55,
   "metadata": {},
   "outputs": [],
   "source": [
    "submission[\"운송장_건수\"] = prediction\n",
    "submission.drop(columns=[\"y\"], inplace=True)"
   ]
  },
  {
   "cell_type": "code",
   "execution_count": 57,
   "metadata": {},
   "outputs": [
    {
     "data": {
      "text/html": [
       "<div>\n",
       "<style scoped>\n",
       "    .dataframe tbody tr th:only-of-type {\n",
       "        vertical-align: middle;\n",
       "    }\n",
       "\n",
       "    .dataframe tbody tr th {\n",
       "        vertical-align: top;\n",
       "    }\n",
       "\n",
       "    .dataframe thead th {\n",
       "        text-align: right;\n",
       "    }\n",
       "</style>\n",
       "<table border=\"1\" class=\"dataframe\">\n",
       "  <thead>\n",
       "    <tr style=\"text-align: right;\">\n",
       "      <th></th>\n",
       "      <th>index</th>\n",
       "      <th>운송장_건수</th>\n",
       "    </tr>\n",
       "  </thead>\n",
       "  <tbody>\n",
       "    <tr>\n",
       "      <th>0</th>\n",
       "      <td>0</td>\n",
       "      <td>4.361218</td>\n",
       "    </tr>\n",
       "    <tr>\n",
       "      <th>1</th>\n",
       "      <td>1</td>\n",
       "      <td>5.024606</td>\n",
       "    </tr>\n",
       "    <tr>\n",
       "      <th>2</th>\n",
       "      <td>2</td>\n",
       "      <td>6.577192</td>\n",
       "    </tr>\n",
       "    <tr>\n",
       "      <th>3</th>\n",
       "      <td>3</td>\n",
       "      <td>5.930133</td>\n",
       "    </tr>\n",
       "    <tr>\n",
       "      <th>4</th>\n",
       "      <td>4</td>\n",
       "      <td>5.064126</td>\n",
       "    </tr>\n",
       "    <tr>\n",
       "      <th>...</th>\n",
       "      <td>...</td>\n",
       "      <td>...</td>\n",
       "    </tr>\n",
       "    <tr>\n",
       "      <th>7915</th>\n",
       "      <td>7915</td>\n",
       "      <td>4.628316</td>\n",
       "    </tr>\n",
       "    <tr>\n",
       "      <th>7916</th>\n",
       "      <td>7916</td>\n",
       "      <td>4.381519</td>\n",
       "    </tr>\n",
       "    <tr>\n",
       "      <th>7917</th>\n",
       "      <td>7917</td>\n",
       "      <td>3.621134</td>\n",
       "    </tr>\n",
       "    <tr>\n",
       "      <th>7918</th>\n",
       "      <td>7918</td>\n",
       "      <td>3.670781</td>\n",
       "    </tr>\n",
       "    <tr>\n",
       "      <th>7919</th>\n",
       "      <td>7919</td>\n",
       "      <td>4.685441</td>\n",
       "    </tr>\n",
       "  </tbody>\n",
       "</table>\n",
       "<p>7920 rows × 2 columns</p>\n",
       "</div>"
      ],
      "text/plain": [
       "      index    운송장_건수\n",
       "0         0  4.361218\n",
       "1         1  5.024606\n",
       "2         2  6.577192\n",
       "3         3  5.930133\n",
       "4         4  5.064126\n",
       "...     ...       ...\n",
       "7915   7915  4.628316\n",
       "7916   7916  4.381519\n",
       "7917   7917  3.621134\n",
       "7918   7918  3.670781\n",
       "7919   7919  4.685441\n",
       "\n",
       "[7920 rows x 2 columns]"
      ]
     },
     "execution_count": 57,
     "metadata": {},
     "output_type": "execute_result"
    }
   ],
   "source": [
    "submission"
   ]
  },
  {
   "cell_type": "code",
   "execution_count": 56,
   "metadata": {},
   "outputs": [],
   "source": [
    "submission.reset_index(drop=True).to_csv(f\"rf_submission_{feature_reducing}.csv\", index=False)"
   ]
  },
  {
   "cell_type": "code",
   "execution_count": null,
   "metadata": {},
   "outputs": [],
   "source": []
  },
  {
   "cell_type": "code",
   "execution_count": null,
   "metadata": {},
   "outputs": [],
   "source": []
  },
  {
   "cell_type": "code",
   "execution_count": null,
   "metadata": {},
   "outputs": [],
   "source": [
    "### 9. LightGBM으로 변경!\n",
    "\n",
    "Reference : https://lightgbm.readthedocs.io/en/latest/Parameters-Tuning.html\n",
    "\n",
    "# For Regression\n",
    "\n",
    "def optimizer(trial, X, y, K):\n",
    "    \n",
    "    import os\n",
    "    \n",
    "    param = {\n",
    "        'objective': 'regression', # 회귀\n",
    "        'verbose': 0,\n",
    "        'max_depth': trial.suggest_int('max_depth', 8, 20),\n",
    "        'learning_rate': trial.suggest_loguniform(\"learning_rate\", 1e-8, 1e-2),\n",
    "        'n_estimators': trial.suggest_int('n_estimators', 100, 1000),\n",
    "        'min_child_samples': trial.suggest_int('min_child_samples', 5, 100),\n",
    "        'subsample': trial.suggest_loguniform('subsample', 0.4, 1)\n",
    "        #\"device\" : 'gpu'\n",
    "    }\n",
    "\n",
    "    model = LGBMRegressor(**param, n_jobs=os.cpu_count())\n",
    "    \n",
    "    # K-Fold Cross validation을 구현합니다.\n",
    "    folds = KFold(n_splits=K)\n",
    "    scores = []\n",
    "    \n",
    "    for train_idx, val_idx in folds.split(X, y):\n",
    "        X_train = X.iloc[train_idx, :]\n",
    "        y_train = y.iloc[train_idx]\n",
    "        \n",
    "        X_val = X.iloc[val_idx, :]\n",
    "        y_val = y.iloc[val_idx]\n",
    "        \n",
    "        model.fit(X_train, y_train, eval_set=[(X_val, y_val)], early_stopping_rounds=25)\n",
    "        preds = model.predict(X_val)\n",
    "        score = evaluation_metric(y_val, preds)\n",
    "        scores.append(score)\n",
    "    \n",
    "    \n",
    "    # K-Fold의 평균 loss값을 돌려줍니다.\n",
    "    return np.mean(scores)\n"
   ]
  },
  {
   "cell_type": "code",
   "execution_count": null,
   "metadata": {},
   "outputs": [],
   "source": [
    "\n",
    "K = 5 # Kfold 수\n",
    "opt_func = partial(optimizer, X=X_train, y=y_train, K=K)\n",
    "\n",
    "lgbm_study = optuna.create_study(study_name=\"LGBM\", direction=\"maximize\") # regression task에서 R^2를 최대화!\n",
    "lgbm_study.optimize(opt_func, n_trials=50)\n"
   ]
  },
  {
   "cell_type": "code",
   "execution_count": null,
   "metadata": {},
   "outputs": [],
   "source": [
    "\n",
    "# optuna가 시도했던 모든 실험 관련 데이터\n",
    "lgbm_study.trials_dataframe()\n",
    "\n",
    "print(\"Best Score: %.4f\" % lgbm_study.best_value) # best score 출력\n",
    "print(\"Best params: \", lgbm_study.best_trial.params) # best score일 때의 하이퍼파라미터들\n"
   ]
  },
  {
   "cell_type": "code",
   "execution_count": null,
   "metadata": {},
   "outputs": [],
   "source": [
    "\n",
    "# 실험 기록 시각화\n",
    "optuna.visualization.plot_optimization_history(lgbm_study)\n"
   ]
  },
  {
   "cell_type": "code",
   "execution_count": null,
   "metadata": {},
   "outputs": [],
   "source": [
    "\n",
    "# hyper-parameter들의 중요도\n",
    "optuna.visualization.plot_param_importances(lgbm_study)\n"
   ]
  },
  {
   "cell_type": "code",
   "execution_count": null,
   "metadata": {},
   "outputs": [],
   "source": [
    "\n",
    "trial = lgbm_study.best_trial\n",
    "trial_params = trial.params\n",
    "\n",
    "final_lgb_model = LGBMRegressor(**trial_params)\n",
    "final_lgb_model.fit(X, y) # finalize model\n"
   ]
  },
  {
   "cell_type": "code",
   "execution_count": null,
   "metadata": {},
   "outputs": [],
   "source": [
    "\n",
    "# PCA 적용\n",
    "if feature_reducing == \"correlation\":\n",
    "    test = testX.drop(columns=correlated_features)\n",
    "    print(X.shape)\n",
    "    \n",
    "elif feature_reducing == \"feature_importance\":\n",
    "    test = testX[important_features]\n",
    "    print(X.shape)\n",
    "    \n",
    "elif feature_reducing == \"PCA\":\n",
    "    test = pca_model.transform(testX)\n",
    "    print(X.shape)\n",
    "    \n",
    "\n",
    "prediction = final_lgb_model.predict(test)\n",
    "submission[\"y\"] = prediction\n",
    "display(submission)\n",
    "submission.reset_index(drop=True).to_csv(f\"lgbm_submission_{feature_reducing}.csv\", index=False)\n",
    "\n"
   ]
  },
  {
   "cell_type": "code",
   "execution_count": null,
   "metadata": {},
   "outputs": [],
   "source": []
  },
  {
   "cell_type": "code",
   "execution_count": null,
   "metadata": {},
   "outputs": [],
   "source": []
  },
  {
   "cell_type": "code",
   "execution_count": null,
   "metadata": {},
   "outputs": [],
   "source": []
  },
  {
   "cell_type": "code",
   "execution_count": null,
   "metadata": {},
   "outputs": [],
   "source": []
  },
  {
   "cell_type": "code",
   "execution_count": null,
   "metadata": {},
   "outputs": [],
   "source": []
  },
  {
   "cell_type": "code",
   "execution_count": null,
   "metadata": {},
   "outputs": [],
   "source": []
  },
  {
   "cell_type": "code",
   "execution_count": null,
   "metadata": {},
   "outputs": [],
   "source": [
    "ㅁㅇㄹㄴ"
   ]
  },
  {
   "cell_type": "markdown",
   "metadata": {},
   "source": [
    "# 이거 바꾸기"
   ]
  },
  {
   "cell_type": "code",
   "execution_count": null,
   "metadata": {},
   "outputs": [],
   "source": [
    "# 운송장_건수 10건 미만\n",
    "train = train[train.운송장_건수 <10]\n",
    "sns.histplot(data = train, x = '운송장_건수', bins = 50)"
   ]
  },
  {
   "cell_type": "code",
   "execution_count": null,
   "metadata": {},
   "outputs": [],
   "source": [
    "train.운송장_건수.value_counts()\n",
    "# 운송장_건수가 6건 > 7건으로 갈 때 절반으로 줄어든다."
   ]
  },
  {
   "cell_type": "code",
   "execution_count": null,
   "metadata": {},
   "outputs": [],
   "source": [
    "# train 과 test 합치기\n",
    "total = pd.concat([train, test]) # feature engineering 에 train, test 데이터를 모두 담아서 한번에 하기 위해서!\n",
    "split_point = len(train) # 자를 부위 표시"
   ]
  },
  {
   "cell_type": "markdown",
   "metadata": {},
   "source": [
    "# Modeling\n",
    "- train-test split\n",
    "\n",
    "- Standardization\n",
    "\n",
    "- Model training\n",
    "\n",
    "- Hyper-parameter tuning\n",
    "\n",
    "- Evaluation"
   ]
  },
  {
   "cell_type": "code",
   "execution_count": null,
   "metadata": {},
   "outputs": [],
   "source": [
    "X = train.drop(['운송장_건수'],axis=1)\n",
    "y = train['운송장_건수']\n",
    "testX = test.copy()"
   ]
  },
  {
   "cell_type": "code",
   "execution_count": null,
   "metadata": {},
   "outputs": [],
   "source": [
    "from sklearn.model_selection import train_test_split\n",
    "\n",
    "X_train, X_test, y_train, y_test = train_test_split(X, y, test_size = 0.2, random_state = 42)\n",
    "\n",
    "X_train, X_val, y_train, y_val = train_test_split(X_train, y_train, test_size = 0.2, random_state = 42)\n",
    "\n",
    "print(X_train.shape, X_test.shape, y_train.shape, y_test.shape, X_val.shape, y_val.shape)"
   ]
  },
  {
   "cell_type": "code",
   "execution_count": null,
   "metadata": {},
   "outputs": [],
   "source": [
    "# feature scaling\n",
    "from sklearn.preprocessing import StandardScaler\n",
    "scaler = StandardScaler()\n",
    "X_train = scaler.fit_transform(X_train)\n",
    "X_val = scaler.transform(X_val)\n",
    "X_test = scaler.transform(X_test)"
   ]
  },
  {
   "cell_type": "code",
   "execution_count": null,
   "metadata": {},
   "outputs": [],
   "source": [
    "# 학습을 위한 라이브러리 세팅\n",
    "from sklearn.linear_model import LinearRegression  # 1. Linear Regression\n",
    "from sklearn.linear_model import Lasso  # 2. Lasso\n",
    "from sklearn.linear_model import Ridge  # 3. Ridge\n",
    "from xgboost.sklearn import XGBRegressor  # 4. XGBoost\n",
    "from lightgbm.sklearn import LGBMRegressor  # 5. LightGBM\n",
    "\n",
    "from sklearn.metrics import mean_squared_error\n",
    "from sklearn.metrics import r2_score"
   ]
  },
  {
   "cell_type": "code",
   "execution_count": null,
   "metadata": {},
   "outputs": [],
   "source": [
    "reg = LinearRegression()\n",
    "reg2 = Lasso()\n",
    "reg3 = Ridge()\n",
    "reg4 = XGBRegressor()\n",
    "reg5 = LGBMRegressor()\n",
    "\n",
    "reg.fit(X_train, y_train)\n",
    "reg2.fit(X_train, y_train)\n",
    "reg3.fit(X_train, y_train)\n",
    "reg4.fit(X_train, y_train)\n",
    "reg5.fit(X_train, y_train)\n",
    "\n",
    "pred_train = reg.predict(X_train)\n",
    "pred_train2 = reg2.predict(X_train)\n",
    "pred_train3 = reg3.predict(X_train)\n",
    "pred_train4 = reg4.predict(X_train)\n",
    "pred_train5 = reg5.predict(X_train)\n",
    "\n",
    "pred_val = reg.predict(X_val)\n",
    "pred_val2 = reg2.predict(X_val)\n",
    "pred_val3 = reg3.predict(X_val)\n",
    "pred_val4 = reg4.predict(X_val)\n",
    "pred_val5 = reg5.predict(X_val)\n",
    "\n",
    "mse_train = mean_squared_error(y_train, pred_train)\n",
    "mse_train2 = mean_squared_error(y_train, pred_train2)\n",
    "mse_train3 = mean_squared_error(y_train, pred_train3)\n",
    "mse_train4 = mean_squared_error(y_train, pred_train4)\n",
    "mse_train5 = mean_squared_error(y_train, pred_train5)\n",
    "\n",
    "mse_val = mean_squared_error(y_val, pred_val)\n",
    "mse_val2 = mean_squared_error(y_val, pred_val2)\n",
    "mse_val3 = mean_squared_error(y_val, pred_val3)\n",
    "mse_val4 = mean_squared_error(y_val, pred_val4)\n",
    "mse_val5 = mean_squared_error(y_val, pred_val5)\n",
    "\n",
    "r2_train = r2_score(y_train, pred_train)\n",
    "r2_train2 = r2_score(y_train, pred_train2)\n",
    "r2_train3 = r2_score(y_train, pred_train3)\n",
    "r2_train4 = r2_score(y_train, pred_train4)\n",
    "r2_train5 = r2_score(y_train, pred_train5)\n",
    "\n",
    "r2_val = r2_score(y_val, pred_val)\n",
    "r2_val2 = r2_score(y_val, pred_val2)\n",
    "r2_val3 = r2_score(y_val, pred_val3)\n",
    "r2_val4 = r2_score(y_val, pred_val4)\n",
    "r2_val5 = r2_score(y_val, pred_val5)\n",
    "\n",
    "print(\"------- train/val mse -------\")\n",
    "print(\"1. Linear Regression train/val \\t= %.4f, %.4f\" % (mse_train, mse_val))\n",
    "print(\"2. Lasso, train/val \\t\\t = %.4f, %.4f\" % (mse_train2, mse_val2))\n",
    "print(\"3. Ridge, train/val \\t\\t = %.4f, %.4f\" % (mse_train3, mse_val3))\n",
    "print(\"4. XGBoost, train/val \\t\\t = %.4f, %.4f\" % (mse_train4, mse_val4))\n",
    "print(\"5. LightGBM, train/val \\t\\t = %.4f, %.4f\" % (mse_train5, mse_val5))\n",
    "\n",
    "print(\"------- train/val R2 score -------\")\n",
    "print(\"1. Linear Regression train/val \\t= %.4f, %.4f\" % (r2_train, r2_val))\n",
    "print(\"2. Lasso, train/val \\t\\t = %.4f, %.4f\" % (r2_train2, r2_val2))\n",
    "print(\"3. Ridge, train/val \\t\\t = %.4f, %.4f\" % (r2_train3, r2_val3))\n",
    "print(\"4. XGBoost, train/val \\t\\t = %.4f, %.4f\" % (r2_train4, r2_val4))\n",
    "print(\"5. LightGBM, train/val \\t\\t = %.4f, %.4f\" % (r2_train5, r2_val5))"
   ]
  },
  {
   "cell_type": "code",
   "execution_count": null,
   "metadata": {},
   "outputs": [],
   "source": [
    "# Hyperparameter Tuning\n",
    "# 1. Human search\n",
    "# 2. Grid searchCV : 주어진 hp의 조합을 모두 돌려보는 방식.\n",
    "# 3. Random searchCV : 주어진 hp의 조합을 랜덤으로 돌려보는 방식.\n",
    "# 4. Bayesian optimization (optuna) : "
   ]
  },
  {
   "cell_type": "code",
   "execution_count": null,
   "metadata": {},
   "outputs": [],
   "source": [
    "# Grid searchCV\n",
    "from sklearn.model_selection import GridSearchCV\n",
    "\n",
    "param_grid = {                            \n",
    "  \"max_depth\": [1, 3, 5],\n",
    "  \"n_estimators\": [100, 200, 300],\n",
    "  \"learning_rate\": [0.1, 0.3, 0.5]\n",
    "}\n",
    "\n",
    "gcv = GridSearchCV(estimator=reg5, param_grid=param_grid, scoring= 'neg_mean_squared_error', verbose = 1)\n",
    "gcv.fit(X_train, y_train)\n",
    "print(gcv.best_estimator_)\n",
    "print(gcv.best_params_)"
   ]
  },
  {
   "cell_type": "markdown",
   "metadata": {},
   "source": [
    "# Test(Prediction)"
   ]
  },
  {
   "cell_type": "code",
   "execution_count": null,
   "metadata": {},
   "outputs": [],
   "source": [
    "# training set과 같은 전처리 : V\n",
    "final_model = gcv.best_estimator_\n",
    "final_model.fit(X_train, y_train)\n",
    "pred_train = final_model.predict(X_train)\n",
    "pred_val = final_model.predict(X_val)\n",
    "pred_test = final_model.predict(X_test)"
   ]
  },
  {
   "cell_type": "code",
   "execution_count": null,
   "metadata": {},
   "outputs": [],
   "source": [
    "# prediction!\n",
    "result = reg.predict(X_test)\n",
    "result2 = reg2.predict(X_test)\n",
    "result3 = reg3.predict(X_test)\n",
    "result4 = reg4.predict(X_test)\n",
    "result5 = reg5.predict(X_test)"
   ]
  },
  {
   "cell_type": "code",
   "execution_count": null,
   "metadata": {},
   "outputs": [],
   "source": [
    "print (\"------- Linear Regression --------\")\n",
    "print (\"MSE in training: %.4f\" % mean_squared_error(y_test, result))\n",
    "\n",
    "print (\"------- Lasso --------\")\n",
    "print (\"MSE in training: %.4f\" % mean_squared_error(y_test, result2))\n",
    "\n",
    "print (\"------- Ridge --------\")\n",
    "print (\"MSE in training: %.4f\" % mean_squared_error(y_test, result3))\n",
    "\n",
    "print (\"------- XGBoost --------\")\n",
    "print (\"MSE in training: %.4f\" % mean_squared_error(y_test, result4))\n",
    "\n",
    "print (\"------- LightGBM --------\")\n",
    "print (\"MSE in training: %.4f\" % mean_squared_error(y_test, result5))"
   ]
  },
  {
   "cell_type": "code",
   "execution_count": null,
   "metadata": {},
   "outputs": [],
   "source": []
  },
  {
   "cell_type": "code",
   "execution_count": null,
   "metadata": {},
   "outputs": [],
   "source": []
  },
  {
   "cell_type": "code",
   "execution_count": null,
   "metadata": {},
   "outputs": [],
   "source": [
    "from sklearn.pipeline import Pipeline\n",
    "from sklearn.tree import DecisionTreeRegressor\n",
    "\n"
   ]
  },
  {
   "cell_type": "code",
   "execution_count": null,
   "metadata": {},
   "outputs": [],
   "source": [
    "pipe = Pipeline([('regressor', RandomForestRegressor())])\n",
    "search_space = [\n",
    "                {\n",
    "                 'regressor': [RandomForestRegressor(random_state=0)],\n",
    "                 'regressor__n_estimators': [100, 150, 200],\n",
    "                 'regressor__max_depth': [3, 4, 5]\n",
    "                },\n",
    "                \n",
    "                {\n",
    "                 'regressor': [XGBRegressor()],\n",
    "                 'regressor__max_depth': [3],\n",
    "                 'regressor__n_estimators': [300],\n",
    "                 'regressor__eta': [0.02, 0.1],\n",
    "                 'regressor__subsample': [0.5, 0.6],\n",
    "                 'regressor__seed':[0]\n",
    "                },\n",
    "                \n",
    "                {\n",
    "                 'regressor': [DecisionTreeRegressor(random_state=0)],\n",
    "                 'regressor__min_samples_split':[3, 4, 5],\n",
    "                 'regressor__max_depth': [3, 4, 5]\n",
    "                }\n",
    "               ]"
   ]
  },
  {
   "cell_type": "code",
   "execution_count": null,
   "metadata": {},
   "outputs": [],
   "source": [
    "kf = KFold(n_splits=9,random_state=None)\n",
    "grid_search = GridSearchCV(pipe,search_space, cv=kf, scoring='neg_mean_squared_error', n_jobs=-1)\n",
    "grid_search.fit(X_train, y_train.values.ravel())\n",
    "\n",
    "print('best params:', grid_search.best_params_)\n",
    "print('best estimator:', grid_search.best_estimator_)\n",
    "print('best rmse :', sqrt(-(grid_search.best_score_)))"
   ]
  },
  {
   "cell_type": "code",
   "execution_count": null,
   "metadata": {},
   "outputs": [],
   "source": [
    "ㄱ"
   ]
  }
 ],
 "metadata": {
  "kernelspec": {
   "display_name": "Python 3.9.10",
   "language": "python",
   "name": "python3"
  },
  "language_info": {
   "codemirror_mode": {
    "name": "ipython",
    "version": 3
   },
   "file_extension": ".py",
   "mimetype": "text/x-python",
   "name": "python",
   "nbconvert_exporter": "python",
   "pygments_lexer": "ipython3",
   "version": "3.9.10"
  },
  "orig_nbformat": 4,
  "vscode": {
   "interpreter": {
    "hash": "19381dae11859029849bf77a2bf763c10e0e1b48ddfabe634499c3aa535e0678"
   }
  }
 },
 "nbformat": 4,
 "nbformat_minor": 2
}
