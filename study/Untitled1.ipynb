{
 "cells": [
  {
   "cell_type": "code",
   "execution_count": 1,
   "id": "f4be4608",
   "metadata": {},
   "outputs": [],
   "source": [
    "# 반지름 (r=10)을 선언한 뒤, 이를 이용하여 원의 지름, 둘레 (2 X pi X r), 넓이 (pi X r의 2승) 를 각각 출력하는 파이썬 파일을 만들어보자. (pi = 3.1415)"
   ]
  },
  {
   "cell_type": "code",
   "execution_count": 4,
   "id": "4caaecb8",
   "metadata": {},
   "outputs": [
    {
     "name": "stdout",
     "output_type": "stream",
     "text": [
      "지름은 20\n",
      "둘레는 62.830000000000005\n",
      "넓이는 314.15000000000003\n"
     ]
    }
   ],
   "source": [
    "r = 10\n",
    "pi = 3.1415\n",
    "\n",
    "print(\"지름은\", r * 2)\n",
    "print(\"둘레는\", pi * r * 2)\n",
    "print(\"넓이는\", pi * (r **2))"
   ]
  },
  {
   "cell_type": "code",
   "execution_count": null,
   "id": "0b4c0236",
   "metadata": {},
   "outputs": [],
   "source": []
  }
 ],
 "metadata": {
  "kernelspec": {
   "display_name": "Python 3 (ipykernel)",
   "language": "python",
   "name": "python3"
  },
  "language_info": {
   "codemirror_mode": {
    "name": "ipython",
    "version": 3
   },
   "file_extension": ".py",
   "mimetype": "text/x-python",
   "name": "python",
   "nbconvert_exporter": "python",
   "pygments_lexer": "ipython3",
   "version": "3.9.7"
  }
 },
 "nbformat": 4,
 "nbformat_minor": 5
}
