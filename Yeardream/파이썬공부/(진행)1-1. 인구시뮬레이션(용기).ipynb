{
 "cells": [
  {
   "cell_type": "code",
   "execution_count": 17,
   "id": "2f7a3c9c-ba24-458d-aa2b-4ec170d70eb1",
   "metadata": {},
   "outputs": [],
   "source": [
    "import numpy as np\n",
    "import pandas as pd\n",
    "import random\n",
    "\n",
    "import time\n",
    "from IPython.display import clear_output"
   ]
  },
  {
   "cell_type": "code",
   "execution_count": 8,
   "id": "df36568d-32ff-4127-8579-25d891233a60",
   "metadata": {},
   "outputs": [],
   "source": [
    "human =dict()\n",
    "human[\"name\"] = [] \n",
    "human[\"age\"] = []\n",
    "for i in range(100):\n",
    "    \n",
    "    human[\"name\"].append(f\"man_{i}\"), human[\"age\"].append(random.randint(0,100))"
   ]
  },
  {
   "cell_type": "code",
   "execution_count": 29,
   "id": "64236d29-84c8-49f9-9741-27b78d7a05ae",
   "metadata": {},
   "outputs": [],
   "source": [
    "def aging (name,lifes):\n",
    "    \n",
    "    '''\n",
    "    name : target name\n",
    "    lifes : target 수명\n",
    "    '''\n",
    "    record = [] \n",
    "    ages=10000\n",
    "    man_age = 0 \n",
    "    for age in range(ages):\n",
    "        \n",
    "        year = time.sleep(0.1)\n",
    "        man_age = man_age+1\n",
    "        print(f\"{name}가 한살을 먹음 - 현재 {man_age} 살\")\n",
    "        \n",
    "            \n",
    "        if age == (lifes-1):\n",
    "            print(f\"{name}가 {man_age} 살 사망함\")\n",
    "            record.append(f\"{name}가 {man_age} 살 사망함\")\n",
    "            break\n",
    "            \n",
    "            \n",
    "    return record"
   ]
  },
  {
   "cell_type": "code",
   "execution_count": 30,
   "id": "2dc893df-f200-4282-9934-89c9ea3d07da",
   "metadata": {},
   "outputs": [],
   "source": [
    "human =dict()\n",
    "human[\"name\"] = [] \n",
    "human[\"age\"] = []\n",
    "for i in range(100):\n",
    "    \n",
    "    human[\"name\"].append(f\"man_{i}\"), human[\"age\"].append(random.randint(0,100))"
   ]
  },
  {
   "cell_type": "code",
   "execution_count": 31,
   "id": "77e59bd4-02db-409c-8d9f-3bf8e5adf291",
   "metadata": {},
   "outputs": [
    {
     "name": "stdout",
     "output_type": "stream",
     "text": [
      "[['man_0가 38 살 사망함'], ['man_1가 41 살 사망함'], ['man_2가 38 살 사망함'], ['man_3가 37 살 사망함']]\n",
      "man_4가 한살을 먹음 - 현재 1 살\n",
      "man_4가 한살을 먹음 - 현재 2 살\n",
      "man_4가 한살을 먹음 - 현재 3 살\n",
      "man_4가 한살을 먹음 - 현재 4 살\n",
      "man_4가 한살을 먹음 - 현재 5 살\n",
      "man_4가 한살을 먹음 - 현재 6 살\n"
     ]
    },
    {
     "ename": "KeyboardInterrupt",
     "evalue": "",
     "output_type": "error",
     "traceback": [
      "\u001b[1;31m---------------------------------------------------------------------------\u001b[0m",
      "\u001b[1;31mKeyboardInterrupt\u001b[0m                         Traceback (most recent call last)",
      "\u001b[1;32m~\\AppData\\Local\\Temp/ipykernel_32164/1437072894.py\u001b[0m in \u001b[0;36m<module>\u001b[1;34m\u001b[0m\n\u001b[0;32m      3\u001b[0m \u001b[1;32mfor\u001b[0m \u001b[0mi\u001b[0m \u001b[1;32min\u001b[0m \u001b[0mrange\u001b[0m\u001b[1;33m(\u001b[0m\u001b[0mlen\u001b[0m\u001b[1;33m(\u001b[0m\u001b[0mhuman\u001b[0m\u001b[1;33m[\u001b[0m\u001b[1;34m\"name\"\u001b[0m\u001b[1;33m]\u001b[0m\u001b[1;33m)\u001b[0m\u001b[1;33m)\u001b[0m\u001b[1;33m:\u001b[0m\u001b[1;33m\u001b[0m\u001b[1;33m\u001b[0m\u001b[0m\n\u001b[0;32m      4\u001b[0m     \u001b[0mprint\u001b[0m\u001b[1;33m(\u001b[0m\u001b[0mrecords\u001b[0m\u001b[1;33m)\u001b[0m\u001b[1;33m\u001b[0m\u001b[1;33m\u001b[0m\u001b[0m\n\u001b[1;32m----> 5\u001b[1;33m     \u001b[0mrecord\u001b[0m \u001b[1;33m=\u001b[0m \u001b[0maging\u001b[0m\u001b[1;33m(\u001b[0m\u001b[0mhuman\u001b[0m\u001b[1;33m[\u001b[0m\u001b[1;34m\"name\"\u001b[0m\u001b[1;33m]\u001b[0m\u001b[1;33m[\u001b[0m\u001b[0mi\u001b[0m\u001b[1;33m]\u001b[0m\u001b[1;33m,\u001b[0m \u001b[0mhuman\u001b[0m\u001b[1;33m[\u001b[0m\u001b[1;34m\"age\"\u001b[0m\u001b[1;33m]\u001b[0m\u001b[1;33m[\u001b[0m\u001b[0mi\u001b[0m\u001b[1;33m]\u001b[0m\u001b[1;33m)\u001b[0m\u001b[1;33m\u001b[0m\u001b[1;33m\u001b[0m\u001b[0m\n\u001b[0m\u001b[0;32m      6\u001b[0m     \u001b[0mrecords\u001b[0m\u001b[1;33m.\u001b[0m\u001b[0mappend\u001b[0m\u001b[1;33m(\u001b[0m\u001b[0mrecord\u001b[0m\u001b[1;33m)\u001b[0m\u001b[1;33m\u001b[0m\u001b[1;33m\u001b[0m\u001b[0m\n\u001b[0;32m      7\u001b[0m \u001b[1;33m\u001b[0m\u001b[0m\n",
      "\u001b[1;32m~\\AppData\\Local\\Temp/ipykernel_32164/2228010021.py\u001b[0m in \u001b[0;36maging\u001b[1;34m(name, lifes)\u001b[0m\n\u001b[0;32m     10\u001b[0m     \u001b[1;32mfor\u001b[0m \u001b[0mage\u001b[0m \u001b[1;32min\u001b[0m \u001b[0mrange\u001b[0m\u001b[1;33m(\u001b[0m\u001b[0mages\u001b[0m\u001b[1;33m)\u001b[0m\u001b[1;33m:\u001b[0m\u001b[1;33m\u001b[0m\u001b[1;33m\u001b[0m\u001b[0m\n\u001b[0;32m     11\u001b[0m \u001b[1;33m\u001b[0m\u001b[0m\n\u001b[1;32m---> 12\u001b[1;33m         \u001b[0myear\u001b[0m \u001b[1;33m=\u001b[0m \u001b[0mtime\u001b[0m\u001b[1;33m.\u001b[0m\u001b[0msleep\u001b[0m\u001b[1;33m(\u001b[0m\u001b[1;36m0.1\u001b[0m\u001b[1;33m)\u001b[0m\u001b[1;33m\u001b[0m\u001b[1;33m\u001b[0m\u001b[0m\n\u001b[0m\u001b[0;32m     13\u001b[0m         \u001b[0mman_age\u001b[0m \u001b[1;33m=\u001b[0m \u001b[0mman_age\u001b[0m\u001b[1;33m+\u001b[0m\u001b[1;36m1\u001b[0m\u001b[1;33m\u001b[0m\u001b[1;33m\u001b[0m\u001b[0m\n\u001b[0;32m     14\u001b[0m         \u001b[0mprint\u001b[0m\u001b[1;33m(\u001b[0m\u001b[1;34mf\"{name}가 한살을 먹음 - 현재 {man_age} 살\"\u001b[0m\u001b[1;33m)\u001b[0m\u001b[1;33m\u001b[0m\u001b[1;33m\u001b[0m\u001b[0m\n",
      "\u001b[1;31mKeyboardInterrupt\u001b[0m: "
     ]
    }
   ],
   "source": [
    "records = []\n",
    "\n",
    "for i in range(len(human[\"name\"])):\n",
    "    print(records)\n",
    "    record = aging(human[\"name\"][i], human[\"age\"][i])\n",
    "    records.append(record)\n",
    "    \n",
    "    clear_output(wait=True)"
   ]
  },
  {
   "cell_type": "code",
   "execution_count": null,
   "id": "c46e377f-b646-4e32-bcf3-b5d3ac00dcaa",
   "metadata": {},
   "outputs": [],
   "source": []
  }
 ],
 "metadata": {
  "kernelspec": {
   "display_name": "Python 3 (ipykernel)",
   "language": "python",
   "name": "python3"
  },
  "language_info": {
   "codemirror_mode": {
    "name": "ipython",
    "version": 3
   },
   "file_extension": ".py",
   "mimetype": "text/x-python",
   "name": "python",
   "nbconvert_exporter": "python",
   "pygments_lexer": "ipython3",
   "version": "3.9.7"
  }
 },
 "nbformat": 4,
 "nbformat_minor": 5
}
