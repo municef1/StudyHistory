{
 "cells": [
  {
   "cell_type": "code",
   "execution_count": 1,
   "metadata": {},
   "outputs": [
    {
     "name": "stdout",
     "output_type": "stream",
     "text": [
      "0\n",
      "1\n",
      "2\n",
      "3\n",
      "4\n",
      "5\n",
      "6\n",
      "7\n",
      "8\n",
      "9\n",
      "10\n",
      "11\n",
      "12\n",
      "13\n",
      "14\n",
      "15\n",
      "16\n",
      "17\n",
      "18\n",
      "19\n"
     ]
    },
    {
     "data": {
      "text/plain": [
       "'3'"
      ]
     },
     "execution_count": 1,
     "metadata": {},
     "output_type": "execute_result"
    },
    {
     "name": "stdout",
     "output_type": "stream",
     "text": [
      "20\n",
      "21\n",
      "22\n",
      "23\n",
      "24\n",
      "25\n",
      "26\n",
      "27\n",
      "28\n",
      "29\n",
      "30\n",
      "31\n",
      "32\n"
     ]
    }
   ],
   "source": [
    "import time\n",
    "from threading import Thread\n",
    "\n",
    "def func1(off):\n",
    "    while not off:\n",
    "        for i in range(0,100):\n",
    "            print (i)\n",
    "            time.sleep(1)\n",
    "\n",
    "def func2():\n",
    "    total=0\n",
    "    for i in range(0,30) :\n",
    "        total += i\n",
    "        time.sleep(0.5)\n",
    "\n",
    "        if total >= 55 :\n",
    "            return 1\n",
    "\n",
    "off=0\n",
    "t1=Thread(target=func1, args=(off,))\n",
    "t2=Thread(target=func2)\n",
    "t1.daemon=True\n",
    "t2.daemon=True\n",
    "\n",
    "\n",
    "\n",
    "a=t2.start()\n",
    "off=a\n",
    "t1.start()\n",
    "\n",
    "input()"
   ]
  },
  {
   "cell_type": "code",
   "execution_count": null,
   "metadata": {},
   "outputs": [],
   "source": [
    "3"
   ]
  }
 ],
 "metadata": {
  "interpreter": {
   "hash": "dd2804289114bac196bbbccb1f2e22a889e4b2a68389578eea953a8416f9cf52"
  },
  "kernelspec": {
   "display_name": "Python 3.10.1 64-bit",
   "language": "python",
   "name": "python3"
  },
  "language_info": {
   "codemirror_mode": {
    "name": "ipython",
    "version": 3
   },
   "file_extension": ".py",
   "mimetype": "text/x-python",
   "name": "python",
   "nbconvert_exporter": "python",
   "pygments_lexer": "ipython3",
   "version": "3.10.1"
  },
  "orig_nbformat": 4
 },
 "nbformat": 4,
 "nbformat_minor": 2
}
