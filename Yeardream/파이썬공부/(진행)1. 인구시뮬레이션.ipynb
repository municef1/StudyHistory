{
 "cells": [
  {
   "cell_type": "markdown",
   "metadata": {},
   "source": [
    "# 아주 단순한 유전자 인구모델을 만들어볼것이다."
   ]
  },
  {
   "cell_type": "markdown",
   "metadata": {},
   "source": [
    "## 해보고싶은거\n",
    "\n",
    "\n",
    "1. 인구수 모델\n",
    "    1. 100명 여자 50 남자 50 시작\n",
    "    2. 0 1 2 3 개체만큼 번식\n",
    "    3. 수명 제한 (수명 범위 변수 직접 입력 가능하게) 50 ~ 90\n",
    "    4. 번식 가능 기간 제한 (직접 범위 설정) 20 ~ 50 \n",
    "\n",
    "#\n",
    "2. 유전자 모델\n",
    "   1. 100명을 만들고 각 유전적 속성 할당\n",
    "   2. 세대 교체하면서 유전자 교차, 변이\n"
   ]
  },
  {
   "cell_type": "markdown",
   "metadata": {},
   "source": [
    "1. 초기화\n",
    "\n",
    "2. 시각화 옵션 설정\n",
    "\n",
    "3. 내부에 필요한 설정\n",
    "\n",
    "4. 메인 이벤트\n",
    "\n",
    "    4-1. 입력 감지\n",
    "\n",
    "    4-2. 입력, 시간에 따른 변환\n",
    "\n",
    "    4-3 그리기\n",
    "\n",
    "    4-4 업데이트\n",
    "\n",
    "5. 종료"
   ]
  },
  {
   "cell_type": "markdown",
   "metadata": {},
   "source": [
    "# imports"
   ]
  },
  {
   "cell_type": "code",
   "execution_count": null,
   "metadata": {},
   "outputs": [],
   "source": [
    "import numpy as np\n",
    "import pandas as pd\n",
    "import random\n",
    "\n",
    "import time\n",
    "import threading\n",
    "import schedule"
   ]
  },
  {
   "cell_type": "markdown",
   "metadata": {},
   "source": [
    "# Function"
   ]
  },
  {
   "cell_type": "code",
   "execution_count": null,
   "metadata": {},
   "outputs": [],
   "source": [
    "class 속성:\n",
    "    def __init__(self):\n",
    "        self.년차 = 0\n",
    "        self.나이 = random.randint(0,30)        # 시작 수명 설정!\n",
    "        self.수명 = random.randrange(99,100)    # (~~나이부터, ~~나이까지) 랜덤한 수명 설정!\n",
    "\n",
    "    def 시간진행(self):\n",
    "        self.년차 = self.년차 + 1\n",
    "\n",
    "        self.나이 = self.나이 + 1\n",
    "        t = threading.Timer(0.5, self.시간진행)\n",
    "        t.start()        # 1초마다 이 위에 있는 함수들(노화 함수)을 반복 수행\n",
    "\n",
    "        if self.나이 < self.수명: #사망한 경우\n",
    "            print(\"현재 나이\", 변수.나이, \"세, 생존\")\n",
    "            print(self.수명, \"세에 사망예정\")\n",
    "        else :\n",
    "            print(f\"ㅡㅡㅡㅡㅡㅡㅡㅡㅡㅡㅡㅡㅡ \\n 사망. 향년\", self.수명,\"세\")           #사망나이 되면 무한반복 멈춤!\n",
    "            t.cancel()            \n",
    "\n",
    "# 사용하기!\n",
    "변수 = 속성()\n",
    "변수.시간진행()      \n",
    "\n"
   ]
  },
  {
   "cell_type": "markdown",
   "metadata": {},
   "source": [
    "# ㅡㅡㅡㅡㅡㅡㅡㅡㅡㅡㅡㅡㅡㅡㅡㅡㅡ\n",
    "## 4월 17일 새벽 3시 48분 오늘은 여기까지!\n",
    "# ㅡㅡㅡㅡㅡㅡㅡㅡㅡㅡㅡㅡㅡㅡㅡㅡㅡ"
   ]
  },
  {
   "cell_type": "code",
   "execution_count": null,
   "metadata": {},
   "outputs": [],
   "source": [
    "## 인간 딕셔너리 설정. 남자 여자 번호에 나이 달아주기\n",
    "\n",
    "human =dict()\n",
    "human[\"name\"] ,human[\"age\"]= [] ,[]\n",
    "for i in range(100):\n",
    "    human[\"name\"].append(f\"man_{i}\"), human[\"age\"].append(random.randint(0,20))    # 사람\"이름\"에 \"남자 (번호)\"를 추가하고, 사람\"나이\"에 \"0~100사이의 랜덤 숫자\"를 달아줌\n",
    "    human[\"name\"].append(f\"woman_{i}\"), human[\"age\"].append(random.randint(0,20))  # 사람\"이름\"에 \"남자 (번호)\"를 추가하고, 사람\"나이\"에 \"0~100사이의 랜덤 숫자\"를 달아줌"
   ]
  },
  {
   "cell_type": "code",
   "execution_count": null,
   "metadata": {},
   "outputs": [],
   "source": [
    "print(human)"
   ]
  },
  {
   "cell_type": "markdown",
   "metadata": {},
   "source": [
    "## 용기형 코드"
   ]
  },
  {
   "cell_type": "code",
   "execution_count": 1,
   "id": "2f7a3c9c-ba24-458d-aa2b-4ec170d70eb1",
   "metadata": {},
   "outputs": [],
   "source": [
    "import numpy as np\n",
    "import pandas as pd\n",
    "import random\n",
    "\n",
    "import time\n",
    "from IPython.display import clear_output"
   ]
  },
  {
   "cell_type": "code",
   "execution_count": 2,
   "id": "df36568d-32ff-4127-8579-25d891233a60",
   "metadata": {},
   "outputs": [],
   "source": [
    "human =dict()\n",
    "human[\"name\"] = [] \n",
    "human[\"age\"] = []\n",
    "for i in range(100):\n",
    "    \n",
    "    human[\"name\"].append(f\"man_{i}\"), human[\"age\"].append(random.randint(0,100))"
   ]
  },
  {
   "cell_type": "code",
   "execution_count": 3,
   "id": "64236d29-84c8-49f9-9741-27b78d7a05ae",
   "metadata": {},
   "outputs": [],
   "source": [
    "def aging (name,lifes):\n",
    "    \n",
    "    '''\n",
    "    name : target name\n",
    "    lifes : target 수명\n",
    "    '''\n",
    "    record = [] \n",
    "    ages=10000\n",
    "    man_age = 0 \n",
    "    for age in range(ages):\n",
    "        \n",
    "        year = time.sleep(0.1)\n",
    "        man_age = man_age+1\n",
    "        print(f\"{name}가 한살을 먹음 - 현재 {man_age} 살\")\n",
    "        \n",
    "            \n",
    "        if age == (lifes-1):\n",
    "            print(f\"{name}가 {man_age} 살 사망함\")\n",
    "            record.append(f\"{name}가 {man_age} 살 사망함\")\n",
    "            break\n",
    "            \n",
    "            \n",
    "    return record"
   ]
  },
  {
   "cell_type": "code",
   "execution_count": 4,
   "id": "2dc893df-f200-4282-9934-89c9ea3d07da",
   "metadata": {},
   "outputs": [],
   "source": [
    "human =dict()\n",
    "human[\"name\"] = [] \n",
    "human[\"age\"] = []\n",
    "for i in range(100):\n",
    "    \n",
    "    human[\"name\"].append(f\"man_{i}\"), human[\"age\"].append(random.randint(0,100))"
   ]
  },
  {
   "cell_type": "code",
   "execution_count": 5,
   "id": "77e59bd4-02db-409c-8d9f-3bf8e5adf291",
   "metadata": {},
   "outputs": [
    {
     "name": "stdout",
     "output_type": "stream",
     "text": [
      "[['man_0가 97 살 사망함'], ['man_1가 44 살 사망함'], ['man_2가 70 살 사망함'], ['man_3가 46 살 사망함'], ['man_4가 66 살 사망함'], ['man_5가 12 살 사망함'], ['man_6가 23 살 사망함'], ['man_7가 11 살 사망함'], ['man_8가 23 살 사망함'], ['man_9가 78 살 사망함'], ['man_10가 17 살 사망함'], ['man_11가 20 살 사망함'], ['man_12가 71 살 사망함'], ['man_13가 10 살 사망함'], ['man_14가 3 살 사망함'], ['man_15가 25 살 사망함'], ['man_16가 5 살 사망함'], ['man_17가 3 살 사망함'], ['man_18가 92 살 사망함'], ['man_19가 92 살 사망함'], ['man_20가 21 살 사망함'], ['man_21가 100 살 사망함'], ['man_22가 84 살 사망함'], ['man_23가 13 살 사망함'], ['man_24가 72 살 사망함'], ['man_25가 85 살 사망함'], ['man_26가 74 살 사망함'], ['man_27가 65 살 사망함'], ['man_28가 99 살 사망함'], ['man_29가 40 살 사망함'], ['man_30가 18 살 사망함'], ['man_31가 40 살 사망함'], ['man_32가 55 살 사망함'], ['man_33가 61 살 사망함'], ['man_34가 13 살 사망함'], ['man_35가 97 살 사망함'], ['man_36가 74 살 사망함'], ['man_37가 26 살 사망함'], ['man_38가 44 살 사망함'], ['man_39가 41 살 사망함'], ['man_40가 78 살 사망함'], ['man_41가 70 살 사망함'], ['man_42가 90 살 사망함'], ['man_43가 82 살 사망함'], ['man_44가 19 살 사망함'], ['man_45가 36 살 사망함'], ['man_46가 48 살 사망함'], ['man_47가 66 살 사망함'], ['man_48가 25 살 사망함'], ['man_49가 87 살 사망함'], ['man_50가 44 살 사망함'], ['man_51가 35 살 사망함'], ['man_52가 24 살 사망함'], ['man_53가 42 살 사망함'], ['man_54가 84 살 사망함'], ['man_55가 19 살 사망함'], ['man_56가 41 살 사망함'], ['man_57가 63 살 사망함'], ['man_58가 4 살 사망함'], ['man_59가 63 살 사망함'], ['man_60가 32 살 사망함'], ['man_61가 56 살 사망함'], ['man_62가 34 살 사망함'], ['man_63가 31 살 사망함'], ['man_64가 11 살 사망함'], ['man_65가 47 살 사망함'], ['man_66가 54 살 사망함'], ['man_67가 52 살 사망함'], ['man_68가 56 살 사망함'], ['man_69가 2 살 사망함'], ['man_70가 99 살 사망함'], ['man_71가 53 살 사망함'], ['man_72가 55 살 사망함'], ['man_73가 51 살 사망함'], ['man_74가 80 살 사망함'], ['man_75가 68 살 사망함'], ['man_76가 4 살 사망함'], ['man_77가 85 살 사망함'], ['man_78가 63 살 사망함'], ['man_79가 28 살 사망함'], ['man_80가 40 살 사망함'], ['man_81가 19 살 사망함'], ['man_82가 34 살 사망함'], ['man_83가 27 살 사망함'], ['man_84가 17 살 사망함'], ['man_85가 58 살 사망함'], ['man_86가 7 살 사망함'], ['man_87가 63 살 사망함'], ['man_88가 1 살 사망함'], ['man_89가 35 살 사망함'], ['man_90가 81 살 사망함'], ['man_91가 84 살 사망함'], ['man_92가 20 살 사망함'], ['man_93가 96 살 사망함'], ['man_94가 8 살 사망함'], ['man_95가 19 살 사망함'], ['man_96가 32 살 사망함'], ['man_97가 37 살 사망함'], ['man_98가 36 살 사망함']]\n",
      "man_99가 한살을 먹음 - 현재 1 살\n",
      "man_99가 한살을 먹음 - 현재 2 살\n",
      "man_99가 한살을 먹음 - 현재 3 살\n",
      "man_99가 한살을 먹음 - 현재 4 살\n",
      "man_99가 한살을 먹음 - 현재 5 살\n",
      "man_99가 한살을 먹음 - 현재 6 살\n",
      "man_99가 한살을 먹음 - 현재 7 살\n",
      "man_99가 한살을 먹음 - 현재 8 살\n",
      "man_99가 한살을 먹음 - 현재 9 살\n",
      "man_99가 한살을 먹음 - 현재 10 살\n",
      "man_99가 한살을 먹음 - 현재 11 살\n",
      "man_99가 한살을 먹음 - 현재 12 살\n",
      "man_99가 한살을 먹음 - 현재 13 살\n",
      "man_99가 한살을 먹음 - 현재 14 살\n",
      "man_99가 한살을 먹음 - 현재 15 살\n",
      "man_99가 한살을 먹음 - 현재 16 살\n",
      "man_99가 한살을 먹음 - 현재 17 살\n",
      "man_99가 한살을 먹음 - 현재 18 살\n",
      "man_99가 한살을 먹음 - 현재 19 살\n",
      "man_99가 한살을 먹음 - 현재 20 살\n",
      "man_99가 한살을 먹음 - 현재 21 살\n",
      "man_99가 한살을 먹음 - 현재 22 살\n",
      "man_99가 한살을 먹음 - 현재 23 살\n",
      "man_99가 한살을 먹음 - 현재 24 살\n",
      "man_99가 한살을 먹음 - 현재 25 살\n",
      "man_99가 한살을 먹음 - 현재 26 살\n",
      "man_99가 한살을 먹음 - 현재 27 살\n",
      "man_99가 한살을 먹음 - 현재 28 살\n",
      "man_99가 한살을 먹음 - 현재 29 살\n",
      "man_99가 한살을 먹음 - 현재 30 살\n",
      "man_99가 한살을 먹음 - 현재 31 살\n",
      "man_99가 한살을 먹음 - 현재 32 살\n",
      "man_99가 한살을 먹음 - 현재 33 살\n",
      "man_99가 한살을 먹음 - 현재 34 살\n",
      "man_99가 한살을 먹음 - 현재 35 살\n",
      "man_99가 한살을 먹음 - 현재 36 살\n",
      "man_99가 한살을 먹음 - 현재 37 살\n",
      "man_99가 한살을 먹음 - 현재 38 살\n",
      "man_99가 한살을 먹음 - 현재 39 살\n",
      "man_99가 한살을 먹음 - 현재 40 살\n",
      "man_99가 한살을 먹음 - 현재 41 살\n",
      "man_99가 한살을 먹음 - 현재 42 살\n",
      "man_99가 한살을 먹음 - 현재 43 살\n",
      "man_99가 한살을 먹음 - 현재 44 살\n",
      "man_99가 한살을 먹음 - 현재 45 살\n",
      "man_99가 한살을 먹음 - 현재 46 살\n",
      "man_99가 한살을 먹음 - 현재 47 살\n",
      "man_99가 한살을 먹음 - 현재 48 살\n",
      "man_99가 한살을 먹음 - 현재 49 살\n",
      "man_99가 한살을 먹음 - 현재 50 살\n",
      "man_99가 한살을 먹음 - 현재 51 살\n",
      "man_99가 한살을 먹음 - 현재 52 살\n",
      "man_99가 한살을 먹음 - 현재 53 살\n",
      "man_99가 한살을 먹음 - 현재 54 살\n",
      "man_99가 한살을 먹음 - 현재 55 살\n",
      "man_99가 한살을 먹음 - 현재 56 살\n",
      "man_99가 한살을 먹음 - 현재 57 살\n",
      "man_99가 한살을 먹음 - 현재 58 살\n",
      "man_99가 한살을 먹음 - 현재 59 살\n",
      "man_99가 한살을 먹음 - 현재 60 살\n",
      "man_99가 한살을 먹음 - 현재 61 살\n",
      "man_99가 한살을 먹음 - 현재 62 살\n",
      "man_99가 한살을 먹음 - 현재 63 살\n",
      "man_99가 한살을 먹음 - 현재 64 살\n",
      "man_99가 한살을 먹음 - 현재 65 살\n",
      "man_99가 한살을 먹음 - 현재 66 살\n",
      "man_99가 한살을 먹음 - 현재 67 살\n",
      "man_99가 한살을 먹음 - 현재 68 살\n",
      "man_99가 한살을 먹음 - 현재 69 살\n",
      "man_99가 한살을 먹음 - 현재 70 살\n",
      "man_99가 한살을 먹음 - 현재 71 살\n",
      "man_99가 한살을 먹음 - 현재 72 살\n",
      "man_99가 한살을 먹음 - 현재 73 살\n",
      "man_99가 한살을 먹음 - 현재 74 살\n",
      "man_99가 한살을 먹음 - 현재 75 살\n",
      "man_99가 한살을 먹음 - 현재 76 살\n",
      "man_99가 한살을 먹음 - 현재 77 살\n",
      "man_99가 한살을 먹음 - 현재 78 살\n",
      "man_99가 한살을 먹음 - 현재 79 살\n",
      "man_99가 한살을 먹음 - 현재 80 살\n",
      "man_99가 한살을 먹음 - 현재 81 살\n",
      "man_99가 한살을 먹음 - 현재 82 살\n",
      "man_99가 한살을 먹음 - 현재 83 살\n",
      "man_99가 한살을 먹음 - 현재 84 살\n",
      "man_99가 한살을 먹음 - 현재 85 살\n",
      "man_99가 한살을 먹음 - 현재 86 살\n",
      "man_99가 한살을 먹음 - 현재 87 살\n",
      "man_99가 한살을 먹음 - 현재 88 살\n",
      "man_99가 한살을 먹음 - 현재 89 살\n",
      "man_99가 한살을 먹음 - 현재 90 살\n",
      "man_99가 한살을 먹음 - 현재 91 살\n",
      "man_99가 한살을 먹음 - 현재 92 살\n",
      "man_99가 한살을 먹음 - 현재 93 살\n",
      "man_99가 한살을 먹음 - 현재 94 살\n",
      "man_99가 한살을 먹음 - 현재 95 살\n",
      "man_99가 한살을 먹음 - 현재 96 살\n",
      "man_99가 한살을 먹음 - 현재 97 살\n",
      "man_99가 97 살 사망함\n"
     ]
    }
   ],
   "source": [
    "records = []\n",
    "\n",
    "for i in range(len(human[\"name\"])):\n",
    "    print(records)\n",
    "    record = aging(human[\"name\"][i], human[\"age\"][i])\n",
    "    records.append(record)\n",
    "    \n",
    "    clear_output(wait=True)"
   ]
  },
  {
   "cell_type": "code",
   "execution_count": null,
   "metadata": {},
   "outputs": [],
   "source": []
  }
 ],
 "metadata": {
  "interpreter": {
   "hash": "dd2804289114bac196bbbccb1f2e22a889e4b2a68389578eea953a8416f9cf52"
  },
  "kernelspec": {
   "display_name": "Python 3.10.1 64-bit",
   "language": "python",
   "name": "python3"
  },
  "language_info": {
   "codemirror_mode": {
    "name": "ipython",
    "version": 3
   },
   "file_extension": ".py",
   "mimetype": "text/x-python",
   "name": "python",
   "nbconvert_exporter": "python",
   "pygments_lexer": "ipython3",
   "version": "3.10.1"
  },
  "orig_nbformat": 4
 },
 "nbformat": 4,
 "nbformat_minor": 2
}
