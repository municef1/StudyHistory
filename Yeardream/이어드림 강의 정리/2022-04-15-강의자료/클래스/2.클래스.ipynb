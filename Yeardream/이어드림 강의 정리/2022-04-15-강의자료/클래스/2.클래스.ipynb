{
 "cells": [
  {
   "cell_type": "markdown",
   "metadata": {},
   "source": [
    "# 클래스 - 5"
   ]
  },
  {
   "cell_type": "markdown",
   "metadata": {},
   "source": [
    "상속 (inheritance)은 기존 클래스의 작동 방식을 변경함으로써 새로운 클래스를 만드는 매커니즘입니다.   \n",
    "상속 또한 코드를 정리하고 재사용하는 방법입니다. "
   ]
  },
  {
   "cell_type": "markdown",
   "metadata": {},
   "source": [
    "## 상속"
   ]
  },
  {
   "cell_type": "markdown",
   "metadata": {},
   "source": [
    "Parent라는 클래스는 sing() 메서드를 갖고 있습니다. "
   ]
  },
  {
   "cell_type": "code",
   "execution_count": 1,
   "metadata": {},
   "outputs": [
    {
     "name": "stdout",
     "output_type": "stream",
     "text": [
      "가는세월~\n"
     ]
    }
   ],
   "source": [
    "class 부모:\n",
    "    def sing(self):\n",
    "        print(\"가는세월~\")\n",
    "\n",
    "아빠 = 부모()\n",
    "아빠.sing()"
   ]
  },
  {
   "cell_type": "markdown",
   "metadata": {},
   "source": [
    "자식도 부모를 닮아 노래를 잘합니다. "
   ]
  },
  {
   "cell_type": "code",
   "execution_count": 2,
   "metadata": {},
   "outputs": [
    {
     "name": "stdout",
     "output_type": "stream",
     "text": [
      "가는세월~\n"
     ]
    }
   ],
   "source": [
    "class 자식:\n",
    "    def sing(self):\n",
    "        print(\"가는세월~\")\n",
    "\n",
    "사람 = 자식()\n",
    "사람.sing()"
   ]
  },
  {
   "cell_type": "markdown",
   "metadata": {},
   "source": [
    "위와 같은 경우 중복되는 코드가 존재합니다. 부모의 능력을 자식이 그대로 이어받으면 좋겠죠?"
   ]
  },
  {
   "cell_type": "markdown",
   "metadata": {},
   "source": [
    "다음은 노래 잘 부르는 부모의 능력을 물려받은 자식 클래스를 정의합니다. 자식 클래스에는 `sing` 메서드가 정의돼 있지 않지만 부모 클래스의 메서드를 상속받아 사용할 수 있습니다. "
   ]
  },
  {
   "cell_type": "code",
   "execution_count": 3,
   "metadata": {},
   "outputs": [
    {
     "name": "stdout",
     "output_type": "stream",
     "text": [
      "가는세월~\n"
     ]
    }
   ],
   "source": [
    "class 자식(부모):\n",
    "    pass\n",
    "\n",
    "아들 = 자식()\n",
    "아들.sing()"
   ]
  },
  {
   "cell_type": "markdown",
   "metadata": {},
   "source": [
    "상속받지 못한 클래스는 당연하게도 `sing` 메서드를 사용할 수 없습니다. "
   ]
  },
  {
   "cell_type": "code",
   "execution_count": 4,
   "metadata": {},
   "outputs": [
    {
     "ename": "AttributeError",
     "evalue": "'UnLuckyChild' object has no attribute 'sing'",
     "output_type": "error",
     "traceback": [
      "\u001b[1;31m---------------------------------------------------------------------------\u001b[0m",
      "\u001b[1;31mAttributeError\u001b[0m                            Traceback (most recent call last)",
      "\u001b[1;32m<ipython-input-4-4a90dc2bbc57>\u001b[0m in \u001b[0;36m<module>\u001b[1;34m\u001b[0m\n\u001b[0;32m      3\u001b[0m \u001b[1;33m\u001b[0m\u001b[0m\n\u001b[0;32m      4\u001b[0m \u001b[0munluckyboy\u001b[0m \u001b[1;33m=\u001b[0m \u001b[0mUnLuckyChild\u001b[0m\u001b[1;33m(\u001b[0m\u001b[1;33m)\u001b[0m\u001b[1;33m\u001b[0m\u001b[1;33m\u001b[0m\u001b[0m\n\u001b[1;32m----> 5\u001b[1;33m \u001b[0munluckyboy\u001b[0m\u001b[1;33m.\u001b[0m\u001b[0msing\u001b[0m\u001b[1;33m(\u001b[0m\u001b[1;33m)\u001b[0m\u001b[1;33m\u001b[0m\u001b[1;33m\u001b[0m\u001b[0m\n\u001b[0m",
      "\u001b[1;31mAttributeError\u001b[0m: 'UnLuckyChild' object has no attribute 'sing'"
     ]
    }
   ],
   "source": [
    "class UnLuckyChild:\n",
    "    pass\n",
    "\n",
    "unluckyboy = UnLuckyChild()\n",
    "unluckyboy.sing()"
   ]
  },
  {
   "cell_type": "markdown",
   "metadata": {},
   "source": [
    "바람직한 운이 좋은 클래스를 만들어 봅시다. 이 친구는 부모의 능력을 이어 받아 노래도 부를 수있고 춤도 출 수 있습니다. "
   ]
  },
  {
   "cell_type": "code",
   "execution_count": 5,
   "metadata": {},
   "outputs": [
    {
     "name": "stdout",
     "output_type": "stream",
     "text": [
      "가는세월~\n",
      "shuffle dance\n"
     ]
    }
   ],
   "source": [
    "class LuckyChild(부모):\n",
    "    def dance(self):\n",
    "        print(\"shuffle dance\")\n",
    "\n",
    "luckyboy = LuckyChild()\n",
    "luckyboy.sing()\n",
    "luckyboy.dance()"
   ]
  },
  {
   "cell_type": "markdown",
   "metadata": {},
   "source": [
    "###### 연습 문제  - 1\n",
    "다음과 같이 사용할 수 있는 Animal 클래스를 정의하라. \n",
    "```python\n",
    ">> 동물 = Animal(\"Joe\")\n",
    ">> 동물.eat(\"pizza\")\n",
    "Joe가 pizza를 먹었습니다.\n",
    "```\n",
    "\n",
    "```python\n",
    ">> 동물 = Animal(\"뽀삐\")\n",
    ">> 동물.eat(\"사료\")\n",
    "뽀삐가 사료를 먹었습니다.!\n",
    "```"
   ]
  },
  {
   "cell_type": "code",
   "execution_count": null,
   "metadata": {},
   "outputs": [],
   "source": [
    "\n",
    "\n",
    "\n",
    "\n"
   ]
  },
  {
   "cell_type": "markdown",
   "metadata": {},
   "source": [
    "###### 연습 문제 - 2\n",
    "Animal 클래스를 상속받는 Dog 클래스를 정의하라. \n",
    "```python\n",
    ">> 강아지 = Dog(\"Joe\")\n",
    ">> 강아지.eat(\"pizza\")\n",
    "Joe가 pizza를 먹었습니다.\n",
    "```"
   ]
  },
  {
   "cell_type": "code",
   "execution_count": null,
   "metadata": {},
   "outputs": [],
   "source": [
    "\n",
    "\n",
    "\n",
    "\n",
    "\n"
   ]
  },
  {
   "cell_type": "markdown",
   "metadata": {},
   "source": [
    "###### 연습 문제 - 3\n",
    "Animal 클래스를 상속 받은 Dog 클래스에 play 메서드를 추가하라. \n",
    "```python\n",
    ">> 강아지 = Dog(\"Rover\")\n",
    ">> 강아지.play(\"축구공\")\n",
    "Rover가 축구공을 갖고 놉니다.\n",
    "```"
   ]
  },
  {
   "cell_type": "code",
   "execution_count": null,
   "metadata": {},
   "outputs": [],
   "source": [
    "\n",
    "\n",
    "\n"
   ]
  },
  {
   "cell_type": "markdown",
   "metadata": {},
   "source": [
    "## 오버라이딩\n",
    "부모클래스에 정의된 메서드를 재정의하는 것을 오버라이딩 (overriding)이라고 합니다.   \n",
    "같은 이름으로 정의하면 생성한 객체 (`자식`)의 메서드가 실행됩니다. "
   ]
  },
  {
   "cell_type": "code",
   "execution_count": 17,
   "metadata": {},
   "outputs": [],
   "source": [
    "class 부모:\n",
    "    def 안녕(self):\n",
    "        print(\"나는 부모야\")\n",
    "        \n",
    "class 자식:\n",
    "    pass"
   ]
  },
  {
   "cell_type": "markdown",
   "metadata": {},
   "source": [
    "부모에 정의된 메서드와 자식에 정의된 메서드가 다르다면?"
   ]
  },
  {
   "cell_type": "code",
   "execution_count": null,
   "metadata": {},
   "outputs": [],
   "source": [
    "\n",
    "\n",
    "\n",
    "\n",
    "\n"
   ]
  },
  {
   "cell_type": "markdown",
   "metadata": {},
   "source": [
    "자식 클래스의 메서드를 호출하고 부모 클래스의 메서드도 실행하고 싶다면 `super` 키워드를 사용합니다. `super`는 부모 클래스를 가리킵니다. "
   ]
  },
  {
   "cell_type": "code",
   "execution_count": null,
   "metadata": {},
   "outputs": [],
   "source": [
    "\n",
    "\n",
    "\n",
    "\n"
   ]
  },
  {
   "cell_type": "markdown",
   "metadata": {},
   "source": [
    "상속 받은 메서드는 부모 클래스의 것을 사용하는 것이기 때문에 사용 방법을 정확하게 맞춰야 합니다."
   ]
  },
  {
   "cell_type": "code",
   "execution_count": 7,
   "metadata": {},
   "outputs": [],
   "source": [
    "class 부모:\n",
    "    def 안녕(self, name):\n",
    "        print(name)\n",
    "\n",
    "class 자식 (부모):\n",
    "    pass"
   ]
  },
  {
   "cell_type": "code",
   "execution_count": 9,
   "metadata": {},
   "outputs": [
    {
     "name": "stdout",
     "output_type": "stream",
     "text": [
      "종훈\n"
     ]
    }
   ],
   "source": [
    "사람 = 자식()\n",
    "사람.안녕(\"종훈\")"
   ]
  },
  {
   "cell_type": "markdown",
   "metadata": {},
   "source": [
    "객체를 생성할 때 자동으로 호출되는 생성자는 어떨까요?"
   ]
  },
  {
   "cell_type": "code",
   "execution_count": 12,
   "metadata": {},
   "outputs": [
    {
     "name": "stdout",
     "output_type": "stream",
     "text": [
      "종훈\n"
     ]
    }
   ],
   "source": [
    "class 부모:\n",
    "    def __init__(self, name):\n",
    "        self.name = name\n",
    "        \n",
    "class 자식(부모):\n",
    "    pass\n",
    "        \n",
    "test = 자식(\"종훈\")\n",
    "print(test.name)"
   ]
  },
  {
   "cell_type": "markdown",
   "metadata": {},
   "source": [
    "자식 클래스에서 다른 부모 클래스 메서드를 호출하려면?"
   ]
  },
  {
   "cell_type": "code",
   "execution_count": 16,
   "metadata": {},
   "outputs": [],
   "source": [
    "class 부모:\n",
    "    def __init__(self, name):\n",
    "        self.name = name\n",
    "        \n",
    "    def 울기(self):\n",
    "        print(f\"{self.name} 으아앙ㅠ\")        \n",
    "        \n",
    "class 자식(부모):    \n",
    "    def __init__(self, name):\n",
    "        pass\n",
    "        \n",
    "        "
   ]
  },
  {
   "cell_type": "markdown",
   "metadata": {},
   "source": [
    "클래스의 호출한 결과는 어떻게 될까요?"
   ]
  },
  {
   "cell_type": "code",
   "execution_count": 21,
   "metadata": {},
   "outputs": [
    {
     "name": "stdout",
     "output_type": "stream",
     "text": [
      "부모클래스\n",
      "자식클래스\n"
     ]
    }
   ],
   "source": [
    "class 부모:\n",
    "    def __init__(self, name):\n",
    "        print(\"부모클래스\")\n",
    "\n",
    "class 자식(부모):        \n",
    "    def __init__ (self, name):\n",
    "        super().__init__(name)\n",
    "        print(\"자식클래스\")\n",
    "\n",
    "객체 = 자식(\"종훈\")"
   ]
  },
  {
   "cell_type": "code",
   "execution_count": 22,
   "metadata": {},
   "outputs": [
    {
     "name": "stdout",
     "output_type": "stream",
     "text": [
      "자식클래스\n",
      "부모클래스\n"
     ]
    }
   ],
   "source": [
    "class 부모:\n",
    "    def __init__(self, name):\n",
    "        print(\"부모클래스\")\n",
    "\n",
    "class 자식(부모):        \n",
    "    def __init__ (self, name):\n",
    "        print(\"자식클래스\")\n",
    "        super().__init__(name)        \n",
    "\n",
    "객체 = 자식(\"종훈\")"
   ]
  },
  {
   "cell_type": "markdown",
   "metadata": {},
   "source": [
    "## 연습문제 더풀어보기 \n",
    "https://wikidocs.net/41108"
   ]
  }
 ],
 "metadata": {
  "kernelspec": {
   "display_name": "Python 3",
   "language": "python",
   "name": "python3"
  },
  "language_info": {
   "codemirror_mode": {
    "name": "ipython",
    "version": 3
   },
   "file_extension": ".py",
   "mimetype": "text/x-python",
   "name": "python",
   "nbconvert_exporter": "python",
   "pygments_lexer": "ipython3",
   "version": "3.8.8"
  },
  "toc": {
   "base_numbering": 1,
   "nav_menu": {},
   "number_sections": true,
   "sideBar": true,
   "skip_h1_title": false,
   "title_cell": "Table of Contents",
   "title_sidebar": "Contents",
   "toc_cell": false,
   "toc_position": {},
   "toc_section_display": true,
   "toc_window_display": true
  }
 },
 "nbformat": 4,
 "nbformat_minor": 4
}
