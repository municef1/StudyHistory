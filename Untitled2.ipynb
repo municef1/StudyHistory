{
 "cells": [
  {
   "cell_type": "code",
   "execution_count": 1,
   "id": "6b33246f",
   "metadata": {},
   "outputs": [
    {
     "name": "stdout",
     "output_type": "stream",
     "text": [
      "Dave\n"
     ]
    }
   ],
   "source": [
    "#입력\n",
    "name = input()"
   ]
  },
  {
   "cell_type": "code",
   "execution_count": 2,
   "id": "de4707aa",
   "metadata": {},
   "outputs": [
    {
     "name": "stdout",
     "output_type": "stream",
     "text": [
      "What is your name? Dave\n"
     ]
    }
   ],
   "source": [
    "name = input(\"What is your name?\")"
   ]
  },
  {
   "cell_type": "code",
   "execution_count": 3,
   "id": "6343761c",
   "metadata": {},
   "outputs": [
    {
     "data": {
      "text/plain": [
       "' Dave'"
      ]
     },
     "execution_count": 3,
     "metadata": {},
     "output_type": "execute_result"
    }
   ],
   "source": [
    "name"
   ]
  },
  {
   "cell_type": "code",
   "execution_count": 4,
   "id": "75db95c2",
   "metadata": {},
   "outputs": [],
   "source": [
    "# 인풋을 통해 입력할 수 있고, print를 안쓰고도 출력해낼 수 있음"
   ]
  },
  {
   "cell_type": "code",
   "execution_count": 7,
   "id": "c6100522",
   "metadata": {},
   "outputs": [
    {
     "name": "stdout",
     "output_type": "stream",
     "text": [
      "what is your name?dave\n",
      "Hi! dave\n"
     ]
    }
   ],
   "source": [
    "name = input(\"what is your name?\")\n",
    "print (\"Hi!\", name)"
   ]
  },
  {
   "cell_type": "code",
   "execution_count": 8,
   "id": "2de24432",
   "metadata": {},
   "outputs": [
    {
     "name": "stdout",
     "output_type": "stream",
     "text": [
      "1\n"
     ]
    }
   ],
   "source": [
    "digit = input()"
   ]
  },
  {
   "cell_type": "code",
   "execution_count": 9,
   "id": "c4405a7e",
   "metadata": {},
   "outputs": [
    {
     "data": {
      "text/plain": [
       "'1'"
      ]
     },
     "execution_count": 9,
     "metadata": {},
     "output_type": "execute_result"
    }
   ],
   "source": [
    "digit"
   ]
  },
  {
   "cell_type": "code",
   "execution_count": 11,
   "id": "b0a567d3",
   "metadata": {},
   "outputs": [
    {
     "name": "stdout",
     "output_type": "stream",
     "text": [
      "2\n",
      "4\n"
     ]
    },
    {
     "ename": "TypeError",
     "evalue": "can't multiply sequence by non-int of type 'str'",
     "output_type": "error",
     "traceback": [
      "\u001b[1;31m---------------------------------------------------------------------------\u001b[0m",
      "\u001b[1;31mTypeError\u001b[0m                                 Traceback (most recent call last)",
      "\u001b[1;32m~\\AppData\\Local\\Temp/ipykernel_8528/1679221020.py\u001b[0m in \u001b[0;36m<module>\u001b[1;34m\u001b[0m\n\u001b[0;32m      2\u001b[0m \u001b[0mdigit2\u001b[0m \u001b[1;33m=\u001b[0m \u001b[0minput\u001b[0m\u001b[1;33m(\u001b[0m\u001b[1;33m)\u001b[0m\u001b[1;33m\u001b[0m\u001b[1;33m\u001b[0m\u001b[0m\n\u001b[0;32m      3\u001b[0m \u001b[1;33m\u001b[0m\u001b[0m\n\u001b[1;32m----> 4\u001b[1;33m \u001b[0mprint\u001b[0m \u001b[1;33m(\u001b[0m\u001b[0mdigit1\u001b[0m \u001b[1;33m*\u001b[0m \u001b[0mdigit2\u001b[0m\u001b[1;33m)\u001b[0m \u001b[1;31m#문자열로 인식돼서 안됨\u001b[0m\u001b[1;33m\u001b[0m\u001b[1;33m\u001b[0m\u001b[0m\n\u001b[0m",
      "\u001b[1;31mTypeError\u001b[0m: can't multiply sequence by non-int of type 'str'"
     ]
    }
   ],
   "source": [
    "digit1 = input()\n",
    "digit2 = input()\n",
    "\n",
    "print (digit1 * digit2) #문자열로 인식돼서 안됨\n"
   ]
  },
  {
   "cell_type": "code",
   "execution_count": 12,
   "id": "eceaed42",
   "metadata": {},
   "outputs": [
    {
     "data": {
      "text/plain": [
       "3.0"
      ]
     },
     "execution_count": 12,
     "metadata": {},
     "output_type": "execute_result"
    }
   ],
   "source": [
    "float(3)"
   ]
  },
  {
   "cell_type": "code",
   "execution_count": 13,
   "id": "4dafdf28",
   "metadata": {},
   "outputs": [
    {
     "data": {
      "text/plain": [
       "3"
      ]
     },
     "execution_count": 13,
     "metadata": {},
     "output_type": "execute_result"
    }
   ],
   "source": [
    "int(3.6)"
   ]
  },
  {
   "cell_type": "code",
   "execution_count": 15,
   "id": "eef30673",
   "metadata": {},
   "outputs": [
    {
     "data": {
      "text/plain": [
       "'1'"
      ]
     },
     "execution_count": 15,
     "metadata": {},
     "output_type": "execute_result"
    }
   ],
   "source": [
    "str(1)"
   ]
  },
  {
   "cell_type": "code",
   "execution_count": 17,
   "id": "2559ca90",
   "metadata": {},
   "outputs": [
    {
     "name": "stdout",
     "output_type": "stream",
     "text": [
      "<class 'int'>\n"
     ]
    }
   ],
   "source": [
    "digit_str = \"123\"\n",
    "digit_int = int(digit_str)\n",
    "print (type(digit_int)) # 이게 지금 무슨타입인지 알고싶으면 type함수 사용"
   ]
  },
  {
   "cell_type": "markdown",
   "id": "393c977e",
   "metadata": {},
   "source": [
    "# 수학으로 치면 함수 두번으로 바꿔주는 것\n",
    "# y = f(x)\n",
    "# y = f(f(x))\n",
    "# print(type(1))"
   ]
  },
  {
   "cell_type": "markdown",
   "id": "a3fdb0ab",
   "metadata": {},
   "source": [
    "## 공부한 것\n",
    "## 연산\n",
    "## 변수\n",
    "## 변수타입 (type, int float, str, bool)"
   ]
  },
  {
   "cell_type": "code",
   "execution_count": null,
   "id": "00dc3332",
   "metadata": {},
   "outputs": [],
   "source": []
  }
 ],
 "metadata": {
  "kernelspec": {
   "display_name": "Python 3 (ipykernel)",
   "language": "python",
   "name": "python3"
  },
  "language_info": {
   "codemirror_mode": {
    "name": "ipython",
    "version": 3
   },
   "file_extension": ".py",
   "mimetype": "text/x-python",
   "name": "python",
   "nbconvert_exporter": "python",
   "pygments_lexer": "ipython3",
   "version": "3.9.7"
  }
 },
 "nbformat": 4,
 "nbformat_minor": 5
}
