{
 "cells": [
  {
   "cell_type": "code",
   "execution_count": 1,
   "id": "3a9d9a2d",
   "metadata": {},
   "outputs": [
    {
     "name": "stdout",
     "output_type": "stream",
     "text": [
      "hello World!\n"
     ]
    }
   ],
   "source": [
    "print (\"hello World!\")"
   ]
  },
  {
   "cell_type": "code",
   "execution_count": 2,
   "id": "8762d1ec",
   "metadata": {},
   "outputs": [],
   "source": [
    "# 쉬프트 엔터 누르면 실행됨!"
   ]
  },
  {
   "cell_type": "code",
   "execution_count": 3,
   "id": "88884bcb",
   "metadata": {},
   "outputs": [
    {
     "name": "stdout",
     "output_type": "stream",
     "text": [
      "문자열\n"
     ]
    }
   ],
   "source": [
    "print(\"문자열\")"
   ]
  },
  {
   "cell_type": "code",
   "execution_count": 4,
   "id": "c76b5a6c",
   "metadata": {},
   "outputs": [
    {
     "ename": "NameError",
     "evalue": "name '숫자' is not defined",
     "output_type": "error",
     "traceback": [
      "\u001b[1;31m---------------------------------------------------------------------------\u001b[0m",
      "\u001b[1;31mNameError\u001b[0m                                 Traceback (most recent call last)",
      "\u001b[1;32m~\\AppData\\Local\\Temp/ipykernel_8272/1872283276.py\u001b[0m in \u001b[0;36m<module>\u001b[1;34m\u001b[0m\n\u001b[1;32m----> 1\u001b[1;33m \u001b[0mprint\u001b[0m\u001b[1;33m(\u001b[0m\u001b[0m숫자\u001b[0m\u001b[1;33m)\u001b[0m\u001b[1;33m\u001b[0m\u001b[1;33m\u001b[0m\u001b[0m\n\u001b[0m",
      "\u001b[1;31mNameError\u001b[0m: name '숫자' is not defined"
     ]
    }
   ],
   "source": [
    "print(숫자)"
   ]
  },
  {
   "cell_type": "code",
   "execution_count": 5,
   "id": "87c2b8af",
   "metadata": {},
   "outputs": [
    {
     "name": "stdout",
     "output_type": "stream",
     "text": [
      "1\n"
     ]
    }
   ],
   "source": [
    "print(1)"
   ]
  },
  {
   "cell_type": "code",
   "execution_count": 6,
   "id": "895790bc",
   "metadata": {},
   "outputs": [
    {
     "name": "stdout",
     "output_type": "stream",
     "text": [
      "1\n"
     ]
    }
   ],
   "source": [
    "print(\"1\")"
   ]
  },
  {
   "cell_type": "code",
   "execution_count": 7,
   "id": "55f3dc99",
   "metadata": {},
   "outputs": [
    {
     "name": "stdout",
     "output_type": "stream",
     "text": [
      "2\n"
     ]
    }
   ],
   "source": [
    "print(1+1)"
   ]
  },
  {
   "cell_type": "code",
   "execution_count": 8,
   "id": "d6094ac8",
   "metadata": {},
   "outputs": [
    {
     "name": "stdout",
     "output_type": "stream",
     "text": [
      "1+1\n"
     ]
    }
   ],
   "source": [
    "print(\"1+1\")"
   ]
  },
  {
   "cell_type": "code",
   "execution_count": 9,
   "id": "1a915579",
   "metadata": {},
   "outputs": [],
   "source": [
    "#숫자는 계산식을 쓸 수 있다!"
   ]
  },
  {
   "cell_type": "code",
   "execution_count": 11,
   "id": "332e2436",
   "metadata": {},
   "outputs": [
    {
     "name": "stdout",
     "output_type": "stream",
     "text": [
      "6\n"
     ]
    }
   ],
   "source": [
    "print((1 + 2) + 3)"
   ]
  },
  {
   "cell_type": "code",
   "execution_count": 12,
   "id": "3460edfc",
   "metadata": {},
   "outputs": [
    {
     "name": "stdout",
     "output_type": "stream",
     "text": [
      "3\n"
     ]
    }
   ],
   "source": [
    "print ( 15 // 4) # 몫을 나타냄"
   ]
  },
  {
   "cell_type": "code",
   "execution_count": 14,
   "id": "46fc6681",
   "metadata": {},
   "outputs": [
    {
     "name": "stdout",
     "output_type": "stream",
     "text": [
      "3\n"
     ]
    }
   ],
   "source": [
    "print( 19 % 4)"
   ]
  },
  {
   "cell_type": "code",
   "execution_count": 16,
   "id": "0e8fcb5e",
   "metadata": {},
   "outputs": [],
   "source": [
    "# 연습문제"
   ]
  },
  {
   "cell_type": "code",
   "execution_count": 17,
   "id": "a795b97e",
   "metadata": {},
   "outputs": [],
   "source": [
    "## 화면에 \"I don't like C language를 출력하세요\""
   ]
  },
  {
   "cell_type": "code",
   "execution_count": 18,
   "id": "e0f2e993",
   "metadata": {},
   "outputs": [
    {
     "name": "stdout",
     "output_type": "stream",
     "text": [
      "I don't like C language\n"
     ]
    }
   ],
   "source": [
    "print (\"I don't like C language\")"
   ]
  },
  {
   "cell_type": "code",
   "execution_count": 19,
   "id": "00a65b7f",
   "metadata": {},
   "outputs": [],
   "source": [
    "## print 함수를 사용하여 3.1415의 값을 출력, 소수점 아래는 첫번째 자리까지만 표시"
   ]
  },
  {
   "cell_type": "code",
   "execution_count": null,
   "id": "94b20fd4",
   "metadata": {},
   "outputs": [],
   "source": []
  }
 ],
 "metadata": {
  "kernelspec": {
   "display_name": "Python 3 (ipykernel)",
   "language": "python",
   "name": "python3"
  },
  "language_info": {
   "codemirror_mode": {
    "name": "ipython",
    "version": 3
   },
   "file_extension": ".py",
   "mimetype": "text/x-python",
   "name": "python",
   "nbconvert_exporter": "python",
   "pygments_lexer": "ipython3",
   "version": "3.9.7"
  }
 },
 "nbformat": 4,
 "nbformat_minor": 5
}
