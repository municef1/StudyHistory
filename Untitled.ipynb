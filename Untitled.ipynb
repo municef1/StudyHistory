{
 "cells": [
  {
   "cell_type": "code",
   "execution_count": 1,
   "id": "08340fa6",
   "metadata": {},
   "outputs": [],
   "source": [
    "# 변수\n",
    "# 데이터를 기반으로, 컴퓨터에 명령을 내리는 것"
   ]
  },
  {
   "cell_type": "code",
   "execution_count": 2,
   "id": "82fc7419",
   "metadata": {},
   "outputs": [
    {
     "name": "stdout",
     "output_type": "stream",
     "text": [
      "hello python!\n"
     ]
    }
   ],
   "source": [
    "print(\"hello python!\")"
   ]
  },
  {
   "cell_type": "code",
   "execution_count": 9,
   "id": "5ee51ed5",
   "metadata": {},
   "outputs": [],
   "source": [
    "str_data = \"hello\" # 문자열 (string)"
   ]
  },
  {
   "cell_type": "code",
   "execution_count": 4,
   "id": "4d978a1c",
   "metadata": {},
   "outputs": [],
   "source": [
    "int_data = 1 # 숫자 : 정수(integer)"
   ]
  },
  {
   "cell_type": "code",
   "execution_count": 5,
   "id": "f0a2360b",
   "metadata": {},
   "outputs": [],
   "source": [
    "float_data = 1.1 # 숫자 : 부동소숫점 (float)"
   ]
  },
  {
   "cell_type": "code",
   "execution_count": 6,
   "id": "72338b83",
   "metadata": {},
   "outputs": [],
   "source": [
    "bool_data = True # 특별한 타입 : True / False (boolean)"
   ]
  },
  {
   "cell_type": "code",
   "execution_count": 8,
   "id": "500eb84a",
   "metadata": {},
   "outputs": [
    {
     "name": "stdout",
     "output_type": "stream",
     "text": [
      "hello 1 1.1 True\n"
     ]
    }
   ],
   "source": [
    "print(str_data, int_data, float_data, bool_data)"
   ]
  },
  {
   "cell_type": "code",
   "execution_count": 18,
   "id": "652cc7c7",
   "metadata": {},
   "outputs": [],
   "source": [
    "digit1 = 2\n",
    "digit2 = 10\n",
    "age = 24\n",
    "name = \"Dave\""
   ]
  },
  {
   "cell_type": "code",
   "execution_count": 19,
   "id": "d01116ab",
   "metadata": {},
   "outputs": [
    {
     "name": "stdout",
     "output_type": "stream",
     "text": [
      "1\n"
     ]
    }
   ],
   "source": [
    "print (digit)"
   ]
  },
  {
   "cell_type": "code",
   "execution_count": 20,
   "id": "13394f54",
   "metadata": {},
   "outputs": [
    {
     "name": "stdout",
     "output_type": "stream",
     "text": [
      "Dave\n"
     ]
    }
   ],
   "source": [
    "print (name)"
   ]
  },
  {
   "cell_type": "code",
   "execution_count": 21,
   "id": "b425ebed",
   "metadata": {},
   "outputs": [
    {
     "name": "stdout",
     "output_type": "stream",
     "text": [
      "Dave 1\n"
     ]
    }
   ],
   "source": [
    "print (name, digit)"
   ]
  },
  {
   "cell_type": "code",
   "execution_count": 23,
   "id": "260c53bd",
   "metadata": {},
   "outputs": [
    {
     "name": "stdout",
     "output_type": "stream",
     "text": [
      "480\n"
     ]
    }
   ],
   "source": [
    "print (digit1 * digit2 * age)"
   ]
  },
  {
   "cell_type": "code",
   "execution_count": 24,
   "id": "01475065",
   "metadata": {},
   "outputs": [],
   "source": [
    "#불리언"
   ]
  },
  {
   "cell_type": "code",
   "execution_count": 26,
   "id": "5b27fe3e",
   "metadata": {},
   "outputs": [],
   "source": [
    "num = True\n"
   ]
  },
  {
   "cell_type": "code",
   "execution_count": 37,
   "id": "1cfb3d2c",
   "metadata": {},
   "outputs": [
    {
     "name": "stdout",
     "output_type": "stream",
     "text": [
      "True\n",
      "False\n",
      "True\n",
      "False\n",
      "True\n",
      "False\n"
     ]
    }
   ],
   "source": [
    "print(3 < 7)\n",
    "print(10 < 3)\n",
    "print(3 >= 3)\n",
    "print(34 == 100)\n",
    "print(100 == 100)\n",
    "print(34 ==100)\n"
   ]
  },
  {
   "cell_type": "code",
   "execution_count": null,
   "id": "0e947e7b",
   "metadata": {},
   "outputs": [],
   "source": []
  }
 ],
 "metadata": {
  "kernelspec": {
   "display_name": "Python 3 (ipykernel)",
   "language": "python",
   "name": "python3"
  },
  "language_info": {
   "codemirror_mode": {
    "name": "ipython",
    "version": 3
   },
   "file_extension": ".py",
   "mimetype": "text/x-python",
   "name": "python",
   "nbconvert_exporter": "python",
   "pygments_lexer": "ipython3",
   "version": "3.9.7"
  }
 },
 "nbformat": 4,
 "nbformat_minor": 5
}
